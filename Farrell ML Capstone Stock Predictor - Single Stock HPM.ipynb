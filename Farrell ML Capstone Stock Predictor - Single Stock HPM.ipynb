{
 "cells": [
  {
   "cell_type": "code",
   "execution_count": 1,
   "metadata": {},
   "outputs": [
    {
     "name": "stdout",
     "output_type": "stream",
     "text": [
      "Collecting quandl\n",
      "  Downloading Quandl-3.5.2-py2.py3-none-any.whl (25 kB)\n",
      "Requirement already satisfied: numpy>=1.8 in /home/ec2-user/anaconda3/envs/python3/lib/python3.6/site-packages (from quandl) (1.18.1)\n",
      "Requirement already satisfied: six in /home/ec2-user/anaconda3/envs/python3/lib/python3.6/site-packages (from quandl) (1.14.0)\n",
      "Requirement already satisfied: requests>=2.7.0 in /home/ec2-user/anaconda3/envs/python3/lib/python3.6/site-packages (from quandl) (2.23.0)\n",
      "Requirement already satisfied: pandas>=0.14 in /home/ec2-user/anaconda3/envs/python3/lib/python3.6/site-packages (from quandl) (1.0.5)\n",
      "Requirement already satisfied: python-dateutil in /home/ec2-user/anaconda3/envs/python3/lib/python3.6/site-packages (from quandl) (2.8.1)\n",
      "Collecting inflection>=0.3.1\n",
      "  Downloading inflection-0.5.1-py2.py3-none-any.whl (9.5 kB)\n",
      "Requirement already satisfied: more-itertools in /home/ec2-user/anaconda3/envs/python3/lib/python3.6/site-packages (from quandl) (8.2.0)\n",
      "Requirement already satisfied: certifi>=2017.4.17 in /home/ec2-user/anaconda3/envs/python3/lib/python3.6/site-packages (from requests>=2.7.0->quandl) (2020.6.20)\n",
      "Requirement already satisfied: urllib3!=1.25.0,!=1.25.1,<1.26,>=1.21.1 in /home/ec2-user/anaconda3/envs/python3/lib/python3.6/site-packages (from requests>=2.7.0->quandl) (1.25.8)\n",
      "Requirement already satisfied: chardet<4,>=3.0.2 in /home/ec2-user/anaconda3/envs/python3/lib/python3.6/site-packages (from requests>=2.7.0->quandl) (3.0.4)\n",
      "Requirement already satisfied: idna<3,>=2.5 in /home/ec2-user/anaconda3/envs/python3/lib/python3.6/site-packages (from requests>=2.7.0->quandl) (2.9)\n",
      "Requirement already satisfied: pytz>=2017.2 in /home/ec2-user/anaconda3/envs/python3/lib/python3.6/site-packages (from pandas>=0.14->quandl) (2019.3)\n",
      "Installing collected packages: inflection, quandl\n",
      "Successfully installed inflection-0.5.1 quandl-3.5.2\n",
      "\u001b[33mWARNING: You are using pip version 20.0.2; however, version 20.2.3 is available.\n",
      "You should consider upgrading via the '/home/ec2-user/anaconda3/envs/python3/bin/python -m pip install --upgrade pip' command.\u001b[0m\n",
      "Note: you may need to restart the kernel to use updated packages.\n"
     ]
    }
   ],
   "source": [
    "# install quandl library\n",
    "%pip install quandl"
   ]
  },
  {
   "cell_type": "code",
   "execution_count": 2,
   "metadata": {},
   "outputs": [],
   "source": [
    "import pandas as pd\n",
    "import numpy as np\n",
    "import matplotlib.pyplot as plt\n",
    "%matplotlib inline\n",
    "import quandl\n",
    "import json\n",
    "import os\n",
    "import stock_time_series as sts\n",
    "%load_ext autoreload\n",
    "%autoreload 2\n",
    "\n",
    "quandl.ApiConfig.api_key = 'z6KvEMELxCcG-Kb72EYY'"
   ]
  },
  {
   "cell_type": "code",
   "execution_count": 3,
   "metadata": {},
   "outputs": [
    {
     "data": {
      "text/html": [
       "<div>\n",
       "<style scoped>\n",
       "    .dataframe tbody tr th:only-of-type {\n",
       "        vertical-align: middle;\n",
       "    }\n",
       "\n",
       "    .dataframe tbody tr th {\n",
       "        vertical-align: top;\n",
       "    }\n",
       "\n",
       "    .dataframe thead th {\n",
       "        text-align: right;\n",
       "    }\n",
       "</style>\n",
       "<table border=\"1\" class=\"dataframe\">\n",
       "  <thead>\n",
       "    <tr style=\"text-align: right;\">\n",
       "      <th></th>\n",
       "      <th>Open</th>\n",
       "      <th>High</th>\n",
       "      <th>Low</th>\n",
       "      <th>Close</th>\n",
       "      <th>Volume</th>\n",
       "      <th>Ex-Dividend</th>\n",
       "      <th>Split Ratio</th>\n",
       "      <th>Adj. Open</th>\n",
       "      <th>Adj. High</th>\n",
       "      <th>Adj. Low</th>\n",
       "      <th>Adj. Close</th>\n",
       "      <th>Adj. Volume</th>\n",
       "    </tr>\n",
       "    <tr>\n",
       "      <th>Date</th>\n",
       "      <th></th>\n",
       "      <th></th>\n",
       "      <th></th>\n",
       "      <th></th>\n",
       "      <th></th>\n",
       "      <th></th>\n",
       "      <th></th>\n",
       "      <th></th>\n",
       "      <th></th>\n",
       "      <th></th>\n",
       "      <th></th>\n",
       "      <th></th>\n",
       "    </tr>\n",
       "  </thead>\n",
       "  <tbody>\n",
       "    <tr>\n",
       "      <th>1962-01-02</th>\n",
       "      <td>75.00</td>\n",
       "      <td>76.2500</td>\n",
       "      <td>74.25</td>\n",
       "      <td>74.75</td>\n",
       "      <td>21600.0</td>\n",
       "      <td>0.0</td>\n",
       "      <td>1.0</td>\n",
       "      <td>0.329505</td>\n",
       "      <td>0.334997</td>\n",
       "      <td>0.326210</td>\n",
       "      <td>0.328407</td>\n",
       "      <td>2073600.0</td>\n",
       "    </tr>\n",
       "    <tr>\n",
       "      <th>1962-01-03</th>\n",
       "      <td>74.38</td>\n",
       "      <td>74.3800</td>\n",
       "      <td>73.75</td>\n",
       "      <td>74.00</td>\n",
       "      <td>14800.0</td>\n",
       "      <td>0.0</td>\n",
       "      <td>1.0</td>\n",
       "      <td>0.326781</td>\n",
       "      <td>0.326781</td>\n",
       "      <td>0.324014</td>\n",
       "      <td>0.325112</td>\n",
       "      <td>1420800.0</td>\n",
       "    </tr>\n",
       "    <tr>\n",
       "      <th>1962-01-04</th>\n",
       "      <td>74.00</td>\n",
       "      <td>74.6200</td>\n",
       "      <td>72.50</td>\n",
       "      <td>73.13</td>\n",
       "      <td>18400.0</td>\n",
       "      <td>0.0</td>\n",
       "      <td>1.0</td>\n",
       "      <td>0.325112</td>\n",
       "      <td>0.327836</td>\n",
       "      <td>0.318522</td>\n",
       "      <td>0.321290</td>\n",
       "      <td>1766400.0</td>\n",
       "    </tr>\n",
       "    <tr>\n",
       "      <th>1962-01-05</th>\n",
       "      <td>73.13</td>\n",
       "      <td>73.2500</td>\n",
       "      <td>70.00</td>\n",
       "      <td>71.25</td>\n",
       "      <td>27300.0</td>\n",
       "      <td>0.0</td>\n",
       "      <td>1.0</td>\n",
       "      <td>0.321290</td>\n",
       "      <td>0.321817</td>\n",
       "      <td>0.307538</td>\n",
       "      <td>0.313030</td>\n",
       "      <td>2620800.0</td>\n",
       "    </tr>\n",
       "    <tr>\n",
       "      <th>1962-01-08</th>\n",
       "      <td>71.25</td>\n",
       "      <td>71.2500</td>\n",
       "      <td>69.00</td>\n",
       "      <td>71.13</td>\n",
       "      <td>31000.0</td>\n",
       "      <td>0.0</td>\n",
       "      <td>1.0</td>\n",
       "      <td>0.313030</td>\n",
       "      <td>0.313030</td>\n",
       "      <td>0.303145</td>\n",
       "      <td>0.312503</td>\n",
       "      <td>2976000.0</td>\n",
       "    </tr>\n",
       "    <tr>\n",
       "      <th>...</th>\n",
       "      <td>...</td>\n",
       "      <td>...</td>\n",
       "      <td>...</td>\n",
       "      <td>...</td>\n",
       "      <td>...</td>\n",
       "      <td>...</td>\n",
       "      <td>...</td>\n",
       "      <td>...</td>\n",
       "      <td>...</td>\n",
       "      <td>...</td>\n",
       "      <td>...</td>\n",
       "      <td>...</td>\n",
       "    </tr>\n",
       "    <tr>\n",
       "      <th>2018-03-21</th>\n",
       "      <td>13.66</td>\n",
       "      <td>13.9600</td>\n",
       "      <td>13.57</td>\n",
       "      <td>13.88</td>\n",
       "      <td>64989359.0</td>\n",
       "      <td>0.0</td>\n",
       "      <td>1.0</td>\n",
       "      <td>13.660000</td>\n",
       "      <td>13.960000</td>\n",
       "      <td>13.570000</td>\n",
       "      <td>13.880000</td>\n",
       "      <td>64989359.0</td>\n",
       "    </tr>\n",
       "    <tr>\n",
       "      <th>2018-03-22</th>\n",
       "      <td>13.75</td>\n",
       "      <td>13.7900</td>\n",
       "      <td>13.32</td>\n",
       "      <td>13.35</td>\n",
       "      <td>70929333.0</td>\n",
       "      <td>0.0</td>\n",
       "      <td>1.0</td>\n",
       "      <td>13.750000</td>\n",
       "      <td>13.790000</td>\n",
       "      <td>13.320000</td>\n",
       "      <td>13.350000</td>\n",
       "      <td>70929333.0</td>\n",
       "    </tr>\n",
       "    <tr>\n",
       "      <th>2018-03-23</th>\n",
       "      <td>13.40</td>\n",
       "      <td>13.4499</td>\n",
       "      <td>13.02</td>\n",
       "      <td>13.07</td>\n",
       "      <td>82930120.0</td>\n",
       "      <td>0.0</td>\n",
       "      <td>1.0</td>\n",
       "      <td>13.400000</td>\n",
       "      <td>13.449900</td>\n",
       "      <td>13.020000</td>\n",
       "      <td>13.070000</td>\n",
       "      <td>82930120.0</td>\n",
       "    </tr>\n",
       "    <tr>\n",
       "      <th>2018-03-26</th>\n",
       "      <td>13.23</td>\n",
       "      <td>13.2395</td>\n",
       "      <td>12.73</td>\n",
       "      <td>12.89</td>\n",
       "      <td>101095809.0</td>\n",
       "      <td>0.0</td>\n",
       "      <td>1.0</td>\n",
       "      <td>13.230000</td>\n",
       "      <td>13.239500</td>\n",
       "      <td>12.730000</td>\n",
       "      <td>12.890000</td>\n",
       "      <td>101095809.0</td>\n",
       "    </tr>\n",
       "    <tr>\n",
       "      <th>2018-03-27</th>\n",
       "      <td>12.92</td>\n",
       "      <td>13.7200</td>\n",
       "      <td>12.82</td>\n",
       "      <td>13.44</td>\n",
       "      <td>153476613.0</td>\n",
       "      <td>0.0</td>\n",
       "      <td>1.0</td>\n",
       "      <td>12.920000</td>\n",
       "      <td>13.720000</td>\n",
       "      <td>12.820000</td>\n",
       "      <td>13.440000</td>\n",
       "      <td>153476613.0</td>\n",
       "    </tr>\n",
       "  </tbody>\n",
       "</table>\n",
       "<p>14155 rows × 12 columns</p>\n",
       "</div>"
      ],
      "text/plain": [
       "             Open     High    Low  Close       Volume  Ex-Dividend  \\\n",
       "Date                                                                 \n",
       "1962-01-02  75.00  76.2500  74.25  74.75      21600.0          0.0   \n",
       "1962-01-03  74.38  74.3800  73.75  74.00      14800.0          0.0   \n",
       "1962-01-04  74.00  74.6200  72.50  73.13      18400.0          0.0   \n",
       "1962-01-05  73.13  73.2500  70.00  71.25      27300.0          0.0   \n",
       "1962-01-08  71.25  71.2500  69.00  71.13      31000.0          0.0   \n",
       "...           ...      ...    ...    ...          ...          ...   \n",
       "2018-03-21  13.66  13.9600  13.57  13.88   64989359.0          0.0   \n",
       "2018-03-22  13.75  13.7900  13.32  13.35   70929333.0          0.0   \n",
       "2018-03-23  13.40  13.4499  13.02  13.07   82930120.0          0.0   \n",
       "2018-03-26  13.23  13.2395  12.73  12.89  101095809.0          0.0   \n",
       "2018-03-27  12.92  13.7200  12.82  13.44  153476613.0          0.0   \n",
       "\n",
       "            Split Ratio  Adj. Open  Adj. High   Adj. Low  Adj. Close  \\\n",
       "Date                                                                   \n",
       "1962-01-02          1.0   0.329505   0.334997   0.326210    0.328407   \n",
       "1962-01-03          1.0   0.326781   0.326781   0.324014    0.325112   \n",
       "1962-01-04          1.0   0.325112   0.327836   0.318522    0.321290   \n",
       "1962-01-05          1.0   0.321290   0.321817   0.307538    0.313030   \n",
       "1962-01-08          1.0   0.313030   0.313030   0.303145    0.312503   \n",
       "...                 ...        ...        ...        ...         ...   \n",
       "2018-03-21          1.0  13.660000  13.960000  13.570000   13.880000   \n",
       "2018-03-22          1.0  13.750000  13.790000  13.320000   13.350000   \n",
       "2018-03-23          1.0  13.400000  13.449900  13.020000   13.070000   \n",
       "2018-03-26          1.0  13.230000  13.239500  12.730000   12.890000   \n",
       "2018-03-27          1.0  12.920000  13.720000  12.820000   13.440000   \n",
       "\n",
       "            Adj. Volume  \n",
       "Date                     \n",
       "1962-01-02    2073600.0  \n",
       "1962-01-03    1420800.0  \n",
       "1962-01-04    1766400.0  \n",
       "1962-01-05    2620800.0  \n",
       "1962-01-08    2976000.0  \n",
       "...                 ...  \n",
       "2018-03-21   64989359.0  \n",
       "2018-03-22   70929333.0  \n",
       "2018-03-23   82930120.0  \n",
       "2018-03-26  101095809.0  \n",
       "2018-03-27  153476613.0  \n",
       "\n",
       "[14155 rows x 12 columns]"
      ]
     },
     "execution_count": 3,
     "metadata": {},
     "output_type": "execute_result"
    }
   ],
   "source": [
    "# Capture a single stock using quandl API\n",
    "stocks = ['GE']\n",
    "\n",
    "# Define years of interest to model against\n",
    "start_year = '1992'\n",
    "end_year = '1994'\n",
    "data = quandl.get(\"WIKI/\"+stocks[0])\n",
    "data"
   ]
  },
  {
   "cell_type": "code",
   "execution_count": 4,
   "metadata": {},
   "outputs": [
    {
     "data": {
      "text/plain": [
       "[<matplotlib.lines.Line2D at 0x7f54c0c00320>]"
      ]
     },
     "execution_count": 4,
     "metadata": {},
     "output_type": "execute_result"
    },
    {
     "data": {
      "image/png": "[encoded data removed]",
      "text/plain": [
       "<Figure size 432x288 with 1 Axes>"
      ]
     },
     "metadata": {
      "needs_background": "light"
     },
     "output_type": "display_data"
    }
   ],
   "source": [
    "# Plot stock price of individual stock for Adjusted Close price and given years to train against\n",
    "plt.plot(data['Adj. Close'][start_year:end_year])"
   ]
  },
  {
   "cell_type": "markdown",
   "metadata": {},
   "source": [
    "# DeepAR Algorithm\n",
    "\n",
    "We'll be using the DeepAR Algorithm ([DeepAR](https://docs.aws.amazon.com/sagemaker/latest/dg/deepar.html)) to help us predict future stock values.\n",
    "\n",
    "I won't get into DeepAR to in detail as the documentation is provided, but DeepAR works best on a large set of similar time series data. We'll convert adjusted close stock prices of the selected stock(s) into individualized prices by year for each stock. To do so, we'll have to convert the dataframe data into a time series of stock prices per year. We'll do that next."
   ]
  },
  {
   "cell_type": "markdown",
   "metadata": {},
   "source": [
    "# Convert DataFrame into Time Series\n",
    "\n",
    "Using Adjusted Close daily data, we need to create a time series where individual adjusted closing prices are separated by year. This will provide individual time series data per year for the DeepAR model to train with."
   ]
  },
  {
   "cell_type": "code",
   "execution_count": 5,
   "metadata": {},
   "outputs": [],
   "source": [
    "time_series = sts.make_time_series(data, sts.range_to_years(start_year, end_year))"
   ]
  },
  {
   "cell_type": "code",
   "execution_count": 6,
   "metadata": {},
   "outputs": [
    {
     "data": {
      "text/plain": [
       "[Date\n",
       " 1992-01-02    3.098627\n",
       " 1992-01-03    3.083664\n",
       " 1992-01-06    3.068296\n",
       " 1992-01-07    3.053333\n",
       " 1992-01-08    3.048075\n",
       "                 ...   \n",
       " 1992-12-24    3.602457\n",
       " 1992-12-28    3.617866\n",
       " 1992-12-29    3.592045\n",
       " 1992-12-30    3.607454\n",
       " 1992-12-31    3.560810\n",
       " Name: Adj. Close, Length: 254, dtype: float64,\n",
       " Date\n",
       " 1993-01-04    3.560810\n",
       " 1993-01-05    3.602457\n",
       " 1993-01-06    3.586631\n",
       " 1993-01-07    3.576219\n",
       " 1993-01-08    3.571221\n",
       "                 ...   \n",
       " 1993-12-27    4.568347\n",
       " 1993-12-28    4.557649\n",
       " 1993-12-29    4.557649\n",
       " 1993-12-30    4.530688\n",
       " 1993-12-31    4.487893\n",
       " Name: Adj. Close, Length: 253, dtype: float64,\n",
       " Date\n",
       " 1994-01-03    4.450662\n",
       " 1994-01-04    4.434400\n",
       " 1994-01-05    4.407867\n",
       " 1994-01-06    4.445098\n",
       " 1994-01-07    4.466496\n",
       "                 ...   \n",
       " 1994-12-23    4.387175\n",
       " 1994-12-27    4.519452\n",
       " 1994-12-28    4.508870\n",
       " 1994-12-29    4.552962\n",
       " 1994-12-30    4.497406\n",
       " Name: Adj. Close, Length: 252, dtype: float64]"
      ]
     },
     "execution_count": 6,
     "metadata": {},
     "output_type": "execute_result"
    }
   ],
   "source": [
    "time_series"
   ]
  },
  {
   "cell_type": "code",
   "execution_count": 7,
   "metadata": {},
   "outputs": [],
   "source": [
    "# set prediction length\n",
    "prediction_length = 7    # days\n",
    "\n",
    "time_series_training = sts.create_training_series(time_series, prediction_length)"
   ]
  },
  {
   "cell_type": "code",
   "execution_count": 8,
   "metadata": {},
   "outputs": [
    {
     "data": {
      "image/png": "[encoded data removed]",
      "text/plain": [
       "<Figure size 1080x576 with 1 Axes>"
      ]
     },
     "metadata": {
      "needs_background": "light"
     },
     "output_type": "display_data"
    }
   ],
   "source": [
    "# display train/test time series\n",
    "time_series_idx = 0\n",
    "\n",
    "plt.figure(figsize=(15,8))\n",
    "# test data is the whole time series\n",
    "time_series[time_series_idx].plot(label='test', lw=3)\n",
    "# train data is all but the last prediction pts\n",
    "time_series_training[time_series_idx].plot(label='train', ls=':', lw=3)\n",
    "\n",
    "plt.legend()\n",
    "plt.show()"
   ]
  },
  {
   "cell_type": "markdown",
   "metadata": {},
   "source": [
    "# Convert DataFrame/Series to JSON\n",
    "\n",
    "DeepAR algorithm requires JSON object input. Need to convert time series data to JSON object."
   ]
  },
  {
   "cell_type": "code",
   "execution_count": 9,
   "metadata": {},
   "outputs": [
    {
     "name": "stdout",
     "output_type": "stream",
     "text": [
      "{'start': '1992-01-02 00:00:00', 'target': [3.0986272202879, 3.0836638677493, 3.0682961002773, 3.0533327477387, 3.0480753536035, 3.007633860256, 3.0128912543911, 3.0432223744018, 3.0836638677493, 3.1188479669617, 3.1544364811075, 3.2150987211288, 3.2555402144763, 3.1544364811075, 3.2150987211288, 3.194877974455, 3.1693998336461, 3.1645468544444, 3.1592894603092, 3.1289583402986, 3.0937742410862, 3.0432223744018, 3.0735534944124, 3.1087375936248, 3.1342157344337, 3.1342157344337, 3.1241053610968, 3.1289583402986, 3.11399498776, 3.1491790869723, 3.1289583402986, 3.1188479669617, 3.1188479669617, 3.1693998336461, 3.2502828203411, 3.2502828203411, 3.2454298411394, 3.2098413269936, 3.2098413269936, 3.1896205803198, 3.179510206983, 3.2150987211288, 3.1969000491224, 3.1610621886991, 3.1663564180798, 3.1561752077323, 3.1561752077323, 3.1663564180798, 3.1406997680041, 3.1406997680041, 3.1765376284274, 3.1765376284274, 3.2017870300892, 3.1969000491224, 3.1814246093942, 3.2017870300892, 3.1814246093942, 3.1663564180798, 3.1712433990466, 3.1305185576566, 3.099974926614, 3.0950879456472, 3.0849067352996, 3.1101561369615, 3.0645443146046, 3.0490688748764, 3.0796125059189, 3.0185252438338, 2.9676191920962, 3.0441818939096, 3.0950879456472, 3.0645443146046, 3.1256315766897, 3.1765376284274, 3.2172624698175, 3.2070812594699, 3.1663564180798, 3.1459939973848, 3.120337347309, 3.0897937162665, 3.0897937162665, 3.0950879456472, 3.0849067352996, 3.120337347309, 3.0849067352996, 3.1459939973848, 3.1358127870373, 3.1358127870373, 3.1305185576566, 3.1561752077323, 3.2221494507843, 3.2172624698175, 3.1916058197417, 3.1712433990466, 3.1459939973848, 3.1305185576566, 3.1814246093942, 3.1610621886991, 3.1256315766897, 3.120337347309, 3.0592500852239, 3.0897937162665, 3.1406997680041, 3.1101561369615, 3.1101561369615, 3.0971241877167, 3.1176349439267, 3.1278903220317, 3.1791672125569, 3.1278903220317, 3.1225575254171, 3.1123021473121, 3.1484010782418, 3.1278903220317, 3.1381457001368, 3.1738344159422, 3.1176349439267, 3.1176349439267, 3.1176349439267, 3.1278903220317, 3.1328129035222, 3.1328129035222, 3.1689118344518, 3.1996779687669, 3.240699481187, 3.1894225906619, 3.2201887249769, 3.1689118344518, 3.1738344159422, 3.1225575254171, 3.1586564563468, 3.1894225906619, 3.1328129035222, 3.1484010782418, 3.1943451721523, 3.2046005502573, 3.1738344159422, 3.1791672125569, 3.1689118344518, 3.1635790378372, 3.1381457001368, 3.1533236597322, 3.0663580534016, 3.0766134315066, 3.1073795658217, 3.1635790378372, 3.1278903220317, 3.1381457001368, 3.0868688096117, 3.0971241877167, 3.071280634892, 3.1020467692071, 3.0971241877167, 3.1020467692071, 3.1073795658217, 3.081536012997, 3.0868688096117, 3.0971241877167, 3.1176349439267, 3.1430682816272, 3.1225575254171, 3.1225575254171, 3.081536012997, 3.040514500577, 3.0355919190865, 3.0253365409815, 3.0458472971916, 3.0097483662619, 3.0355919190865, 3.0458472971916, 3.0561026752966, 3.0663580534016, 3.061025256787, 3.040514500577, 3.0561026752966, 3.0868688096117, 3.081536012997, 3.1791672125569, 3.1689118344518, 3.1996779687669, 3.240699481187, 3.2661328188874, 3.2443914173048, 3.1927291335897, 3.2080211695694, 3.2183536263124, 3.2183536263124, 3.2753887875338, 3.2286860830554, 3.2340589605618, 3.2183536263124, 3.1307343931317, 3.1150290588823, 3.0790721094166, 3.0480747391876, 3.1204019363887, 3.0997370229027, 3.1150290588823, 3.0943641453963, 3.0997370229027, 3.1046966021393, 3.1513993066177, 3.1563588858544, 3.1617317633607, 3.1410668498747, 3.1563588858544, 3.1356939723683, 3.1770237993404, 3.1666913425974, 3.2133940470758, 3.2030615903328, 3.1720642201037, 3.2443914173048, 3.2286860830554, 3.2390185397984, 3.2340589605618, 3.2030615903328, 3.2237265038188, 3.1927291335897, 3.2390185397984, 3.2547238740478, 3.2596834532844, 3.2237265038188, 3.2237265038188, 3.2547238740478, 3.2286860830554, 3.3063861577628, 3.3940053909436, 3.4146703044296, 3.4250027611726, 3.4250027611726, 3.440708095422, 3.4200431819359, 3.4462807270482, 3.3992197334341, 3.4408666304377, 3.4512783546886, 3.4775158998009, 3.4983393483027, 3.4721018031904, 3.4879276240518, 3.46710417555, 3.5033369759432, 3.4775158998009, 3.5503979695572, 3.6128683150626, 3.6441034878153, 3.6232800393135, 3.5970424942013, 3.6024565908117, 3.6178659427031, 3.5920448665608, 3.6074542184522, 3.5608096938081]}\n"
     ]
    }
   ],
   "source": [
    "# test out the code\n",
    "ts = time_series[0]\n",
    "\n",
    "json_obj = sts.series_to_json_obj(ts)\n",
    "print(json_obj)"
   ]
  },
  {
   "cell_type": "code",
   "execution_count": 10,
   "metadata": {},
   "outputs": [],
   "source": [
    "# save this data to a local directory\n",
    "data_dir = 'json_stock_data'\n",
    "\n",
    "# make data dir, if it does not exist\n",
    "if not os.path.exists(data_dir):\n",
    "    os.makedirs(data_dir)"
   ]
  },
  {
   "cell_type": "code",
   "execution_count": 11,
   "metadata": {},
   "outputs": [
    {
     "name": "stdout",
     "output_type": "stream",
     "text": [
      "json_stock_data/GE_train.json saved.\n",
      "json_stock_data/GE_test.json saved.\n"
     ]
    }
   ],
   "source": [
    "# directories to save train/test data\n",
    "train_key = os.path.join(data_dir, stocks[0] + '_train.json')\n",
    "test_key = os.path.join(data_dir, stocks[0] + '_test.json')\n",
    "\n",
    "# write train/test JSON files\n",
    "sts.write_json_dataset(time_series_training, train_key)        \n",
    "sts.write_json_dataset(time_series, test_key)"
   ]
  },
  {
   "cell_type": "markdown",
   "metadata": {},
   "source": [
    "# Uploading to S3\n",
    "Now we need to upload locally captured data to AWS S3"
   ]
  },
  {
   "cell_type": "code",
   "execution_count": 12,
   "metadata": {},
   "outputs": [],
   "source": [
    "import boto3\n",
    "import sagemaker\n",
    "from sagemaker import get_execution_role"
   ]
  },
  {
   "cell_type": "code",
   "execution_count": 13,
   "metadata": {},
   "outputs": [],
   "source": [
    "sagemaker_session = sagemaker.Session()\n",
    "role = get_execution_role()\n",
    "bucket = sagemaker_session.default_bucket()"
   ]
  },
  {
   "cell_type": "markdown",
   "metadata": {},
   "source": [
    "Specify paths for training and test data in S3"
   ]
  },
  {
   "cell_type": "code",
   "execution_count": 14,
   "metadata": {},
   "outputs": [],
   "source": [
    "prefix = 'deepar_' + stocks[0]\n",
    "\n",
    "# *unique* train/test prefixes\n",
    "train_prefix   = '{}/{}'.format(prefix, 'train')\n",
    "test_prefix    = '{}/{}'.format(prefix, 'test')\n",
    "\n",
    "# uploading data to S3, and saving locations\n",
    "train_path  = sagemaker_session.upload_data(train_key, bucket=bucket, key_prefix=train_prefix)\n",
    "test_path   = sagemaker_session.upload_data(test_key,  bucket=bucket, key_prefix=test_prefix)"
   ]
  },
  {
   "cell_type": "code",
   "execution_count": 15,
   "metadata": {},
   "outputs": [
    {
     "name": "stdout",
     "output_type": "stream",
     "text": [
      "Training data is stored in: s3://sagemaker-us-east-2-019506888477/deepar_GE/train/GE_train.json\n",
      "Test data is stored in: s3://sagemaker-us-east-2-019506888477/deepar_GE/test/GE_test.json\n"
     ]
    }
   ],
   "source": [
    "# check locations\n",
    "print('Training data is stored in: '+ train_path)\n",
    "print('Test data is stored in: '+ test_path)"
   ]
  },
  {
   "cell_type": "markdown",
   "metadata": {},
   "source": [
    "# Training DeepAR Estimator\n",
    "\n",
    "Create/configure a container image for the region I'm using. This container can be passed to a base Estimator that will serve as the estimator for our DeepAR model."
   ]
  },
  {
   "cell_type": "code",
   "execution_count": 16,
   "metadata": {},
   "outputs": [
    {
     "name": "stderr",
     "output_type": "stream",
     "text": [
      "'get_image_uri' method will be deprecated in favor of 'ImageURIProvider' class in SageMaker Python SDK v2.\n"
     ]
    }
   ],
   "source": [
    "from sagemaker.amazon.amazon_estimator import get_image_uri\n",
    "\n",
    "image_name = get_image_uri(boto3.Session().region_name, # get the region\n",
    "                           'forecasting-deepar') # specify image"
   ]
  },
  {
   "cell_type": "code",
   "execution_count": 17,
   "metadata": {},
   "outputs": [
    {
     "name": "stderr",
     "output_type": "stream",
     "text": [
      "Parameter image_name will be renamed to image_uri in SageMaker Python SDK v2.\n"
     ]
    }
   ],
   "source": [
    "from sagemaker.estimator import Estimator\n",
    "\n",
    "# directory to save model artifacts\n",
    "s3_output_path = \"s3://{}/{}/output\".format(bucket, prefix)\n",
    "\n",
    "# instantiate a DeepAR estimator\n",
    "estimator = Estimator(sagemaker_session=sagemaker_session,\n",
    "                      image_name=image_name,\n",
    "                      role=role,\n",
    "                      train_instance_count=1,\n",
    "                      train_instance_type='ml.c4.xlarge',\n",
    "                      output_path=s3_output_path\n",
    "                      )"
   ]
  },
  {
   "cell_type": "markdown",
   "metadata": {},
   "source": [
    "# Hyperparameters"
   ]
  },
  {
   "cell_type": "markdown",
   "metadata": {},
   "source": [
    "## Setting Hyperparameters\n",
    "\n",
    "We'll define some required hyperparameters to build our model.\n",
    "\n",
    "* **epochs**: The maximum number of times to pass over the data when training.\n",
    "* **time_freq**: The granularity of the time series in the dataset ('D' for daily).\n",
    "* **prediction_length**: A string; the number of time steps (based off the unit of frequency) that the model is trained to predict. \n",
    "* **context_length**: The number of time points that the model gets to see *before* making a prediction. \n",
    "\n",
    "### Context Length\n",
    "\n",
    "As per recommendation of the DeepAR algorithm documentation, we'll start with context_length = prediction_length. For our algorithm, we'll start with a 7 day prediction window. DeepAR receives lagged inputs from the provided time series (up to one year in some cases), so we don't have to force context_length to be longer than needed. The documentation provides more information on how DeepAR works.\n",
    "\n",
    "### Optional Hyperparameters\n",
    "\n",
    "Additionally, we can provide optional hyperparameters (e.g. learning_rate, num_cells, num_layers (to customize the RNN)). These are set by default if not provided. Again, reference the documentation for more information on these hyperparameters."
   ]
  },
  {
   "cell_type": "code",
   "execution_count": 20,
   "metadata": {},
   "outputs": [],
   "source": [
    "# need to feed frequency to hyperparameters\n",
    "# set to 'D' for daily\n",
    "freq='D'\n",
    "\n",
    "# assign context_length. Start with it equal to prediction_length\n",
    "context_length = prediction_length\n",
    "\n",
    "# best hyperparameters established from tuning job\n",
    "hyperparameters = {\n",
    "    \"epochs\": \"29\", # started with '25'\n",
    "    \"time_freq\": freq,\n",
    "    \"prediction_length\": str(prediction_length),\n",
    "    \"context_length\": str(context_length),\n",
    "    \"num_cells\": \"50\",\n",
    "    \"num_layers\": \"2\",\n",
    "    \"mini_batch_size\": \"128\",\n",
    "    \"learning_rate\": \"0.011354939080335372\", # started with '0.001'\n",
    "    \"dropout_rate\": \"0.19549901048319465\", # started with '0.1'\n",
    "    \"early_stopping_patience\": \"10\"\n",
    "}"
   ]
  },
  {
   "cell_type": "code",
   "execution_count": 21,
   "metadata": {},
   "outputs": [],
   "source": [
    "# set the hyperparams\n",
    "estimator.set_hyperparameters(**hyperparameters)"
   ]
  },
  {
   "cell_type": "markdown",
   "metadata": {},
   "source": [
    "### Set up the tuning job\n",
    "\n",
    "I've established the hyperparameters for the base estimator. Now I'd like to describe the tuning job that I'll need SageMaker to initiate to determine the \"optimal\" hyperparameters for our time series and model.\n",
    "\n",
    "Here I'll dictate which hyperparameters I'd like to iterate through, and leave those hyperparameters alone from above that I don't need tuned for this particular job."
   ]
  },
  {
   "cell_type": "code",
   "execution_count": 22,
   "metadata": {},
   "outputs": [],
   "source": [
    "# from sagemaker.tuner import IntegerParameter, ContinuousParameter, HyperparameterTuner\n",
    "\n",
    "# hyperparameter_tuner = HyperparameterTuner(estimator = estimator, # The estimator object to use as the basis for the training jobs.\n",
    "#                                                objective_metric_name = 'test:mean_wQuantileLoss', # The metric used to compare trained models.\n",
    "#                                                objective_type = 'Minimize', # Whether we wish to minimize or maximize the metric.\n",
    "#                                                max_jobs = 9, # The total number of models to train\n",
    "#                                                max_parallel_jobs = 3, # The number of models to train in parallel\n",
    "#                                                hyperparameter_ranges = {\n",
    "#                                                     'dropout_rate': ContinuousParameter(0.1, 0.2),\n",
    "#                                                     'learning_rate': ContinuousParameter(0.0005, 0.05),\n",
    "#                                                     'epochs': IntegerParameter(1, 50)\n",
    "#                                                })"
   ]
  },
  {
   "cell_type": "markdown",
   "metadata": {},
   "source": [
    "### Execute the tuning job\n",
    "\n",
    "Now that we have our hyperparameter tuner object completely set up, it is time to train it. To do this we make sure that SageMaker knows our input data is in csv format and then execute the `fit` method."
   ]
  },
  {
   "cell_type": "code",
   "execution_count": 23,
   "metadata": {},
   "outputs": [
    {
     "name": "stderr",
     "output_type": "stream",
     "text": [
      "'s3_input' class will be renamed to 'TrainingInput' in SageMaker Python SDK v2.\n",
      "'s3_input' class will be renamed to 'TrainingInput' in SageMaker Python SDK v2.\n"
     ]
    }
   ],
   "source": [
    "# # tell S3 where the data will be and what type of format to expect\n",
    "# s3_input_train = sagemaker.s3_input(s3_data=train_path, content_type='json')\n",
    "# s3_input_test = sagemaker.s3_input(s3_data=test_path, content_type='json')\n",
    "\n",
    "# # fit\n",
    "# hyperparameter_tuner.fit({'train': s3_input_train, 'test': s3_input_test})"
   ]
  },
  {
   "cell_type": "code",
   "execution_count": 24,
   "metadata": {},
   "outputs": [
    {
     "name": "stdout",
     "output_type": "stream",
     "text": [
      "................................................................................................................................................!\n"
     ]
    }
   ],
   "source": [
    "# # visual to know it's fitting still...\n",
    "# hyperparameter_tuner.wait()"
   ]
  },
  {
   "cell_type": "code",
   "execution_count": 25,
   "metadata": {},
   "outputs": [
    {
     "data": {
      "text/plain": [
       "'forecasting-deepar-200923-0304-008-15bc878e'"
      ]
     },
     "execution_count": 25,
     "metadata": {},
     "output_type": "execute_result"
    }
   ],
   "source": [
    "# # output configuration of best_training_job. Use SageMaker interface to find actual parameters.\n",
    "# hyperparameter_tuner.best_training_job()"
   ]
  },
  {
   "cell_type": "markdown",
   "metadata": {},
   "source": [
    "## Training Job\n",
    "\n",
    "Launch our training job with the new best_training_job!"
   ]
  },
  {
   "cell_type": "code",
   "execution_count": 26,
   "metadata": {},
   "outputs": [
    {
     "name": "stderr",
     "output_type": "stream",
     "text": [
      "Parameter image_name will be renamed to image_uri in SageMaker Python SDK v2.\n"
     ]
    },
    {
     "name": "stdout",
     "output_type": "stream",
     "text": [
      "2020-09-23 03:16:06 Starting - Preparing the instances for training\n",
      "2020-09-23 03:16:06 Downloading - Downloading input data\n",
      "2020-09-23 03:16:06 Training - Training image download completed. Training in progress.\n",
      "2020-09-23 03:16:06 Uploading - Uploading generated training model\n",
      "2020-09-23 03:16:06 Completed - Training job completed\u001b[34mArguments: train\u001b[0m\n",
      "\u001b[34m[09/23/2020 03:15:37 INFO 140617338906432] Reading default configuration from /opt/amazon/lib/python2.7/site-packages/algorithm/resources/default-input.json: {u'num_dynamic_feat': u'auto', u'dropout_rate': u'0.10', u'mini_batch_size': u'128', u'test_quantiles': u'[0.1, 0.2, 0.3, 0.4, 0.5, 0.6, 0.7, 0.8, 0.9]', u'_tuning_objective_metric': u'', u'_num_gpus': u'auto', u'num_eval_samples': u'100', u'learning_rate': u'0.001', u'num_cells': u'40', u'num_layers': u'2', u'embedding_dimension': u'10', u'_kvstore': u'auto', u'_num_kv_servers': u'auto', u'cardinality': u'auto', u'likelihood': u'student-t', u'early_stopping_patience': u''}\u001b[0m\n",
      "\u001b[34m[09/23/2020 03:15:37 INFO 140617338906432] Reading provided configuration from /opt/ml/input/config/hyperparameters.json: {u'dropout_rate': u'0.19549901048319465', u'_tuning_objective_metric': u'test:mean_wQuantileLoss', u'learning_rate': u'0.011354939080335372', u'num_cells': u'50', u'prediction_length': u'7', u'epochs': u'29', u'time_freq': u'D', u'context_length': u'7', u'num_layers': u'2', u'mini_batch_size': u'128', u'early_stopping_patience': u'10'}\u001b[0m\n",
      "\u001b[34m[09/23/2020 03:15:37 INFO 140617338906432] Final configuration: {u'dropout_rate': u'0.19549901048319465', u'test_quantiles': u'[0.1, 0.2, 0.3, 0.4, 0.5, 0.6, 0.7, 0.8, 0.9]', u'_tuning_objective_metric': u'test:mean_wQuantileLoss', u'num_eval_samples': u'100', u'learning_rate': u'0.011354939080335372', u'num_layers': u'2', u'epochs': u'29', u'embedding_dimension': u'10', u'num_cells': u'50', u'_num_kv_servers': u'auto', u'mini_batch_size': u'128', u'likelihood': u'student-t', u'num_dynamic_feat': u'auto', u'cardinality': u'auto', u'_num_gpus': u'auto', u'prediction_length': u'7', u'time_freq': u'D', u'context_length': u'7', u'_kvstore': u'auto', u'early_stopping_patience': u'10'}\u001b[0m\n",
      "\u001b[34mProcess 1 is a worker.\u001b[0m\n",
      "\u001b[34m[09/23/2020 03:15:37 INFO 140617338906432] Detected entry point for worker worker\u001b[0m\n",
      "\u001b[34m[09/23/2020 03:15:37 INFO 140617338906432] Using early stopping with patience 10\u001b[0m\n",
      "\u001b[34m[09/23/2020 03:15:37 INFO 140617338906432] [cardinality=auto] `cat` field was NOT found in the file `/opt/ml/input/data/train/GE_train.json` and will NOT be used for training.\u001b[0m\n",
      "\u001b[34m[09/23/2020 03:15:37 INFO 140617338906432] [num_dynamic_feat=auto] `dynamic_feat` field was NOT found in the file `/opt/ml/input/data/train/GE_train.json` and will NOT be used for training.\u001b[0m\n",
      "\u001b[34m[09/23/2020 03:15:37 INFO 140617338906432] Training set statistics:\u001b[0m\n",
      "\u001b[34m[09/23/2020 03:15:37 INFO 140617338906432] Real time series\u001b[0m\n",
      "\u001b[34m[09/23/2020 03:15:37 INFO 140617338906432] number of time series: 3\u001b[0m\n",
      "\u001b[34m[09/23/2020 03:15:37 INFO 140617338906432] number of observations: 738\u001b[0m\n",
      "\u001b[34m[09/23/2020 03:15:37 INFO 140617338906432] mean target length: 246\u001b[0m\n",
      "\u001b[34m[09/23/2020 03:15:37 INFO 140617338906432] min/mean/max target: 2.96761918068/3.79922576325/4.69673156738\u001b[0m\n",
      "\u001b[34m[09/23/2020 03:15:37 INFO 140617338906432] mean abs(target): 3.79922576325\u001b[0m\n",
      "\u001b[34m[09/23/2020 03:15:37 INFO 140617338906432] contains missing values: no\u001b[0m\n",
      "\u001b[34m[09/23/2020 03:15:37 INFO 140617338906432] Small number of time series. Doing 427 passes over dataset with prob 0.999219359875 per epoch.\u001b[0m\n",
      "\u001b[34m[09/23/2020 03:15:37 INFO 140617338906432] Test set statistics:\u001b[0m\n",
      "\u001b[34m[09/23/2020 03:15:37 INFO 140617338906432] Real time series\u001b[0m\n",
      "\u001b[34m[09/23/2020 03:15:37 INFO 140617338906432] number of time series: 3\u001b[0m\n",
      "\u001b[34m[09/23/2020 03:15:37 INFO 140617338906432] number of observations: 759\u001b[0m\n",
      "\u001b[34m[09/23/2020 03:15:37 INFO 140617338906432] mean target length: 253\u001b[0m\n",
      "\u001b[34m[09/23/2020 03:15:37 INFO 140617338906432] min/mean/max target: 2.96761918068/3.81023341645/4.69673156738\u001b[0m\n",
      "\u001b[34m[09/23/2020 03:15:37 INFO 140617338906432] mean abs(target): 3.81023341645\u001b[0m\n",
      "\u001b[34m[09/23/2020 03:15:37 INFO 140617338906432] contains missing values: no\u001b[0m\n",
      "\u001b[34m[09/23/2020 03:15:37 INFO 140617338906432] nvidia-smi took: 0.0251700878143 secs to identify 0 gpus\u001b[0m\n",
      "\u001b[34m[09/23/2020 03:15:37 INFO 140617338906432] Number of GPUs being used: 0\u001b[0m\n",
      "\u001b[34m[09/23/2020 03:15:37 INFO 140617338906432] Create Store: local\u001b[0m\n",
      "\u001b[34m#metrics {\"Metrics\": {\"get_graph.time\": {\"count\": 1, \"max\": 40.28201103210449, \"sum\": 40.28201103210449, \"min\": 40.28201103210449}}, \"EndTime\": 1600830937.95879, \"Dimensions\": {\"Host\": \"algo-1\", \"Operation\": \"training\", \"Algorithm\": \"AWS/DeepAR\"}, \"StartTime\": 1600830937.917718}\n",
      "\u001b[0m\n",
      "\u001b[34m[09/23/2020 03:15:37 INFO 140617338906432] Number of GPUs being used: 0\u001b[0m\n",
      "\u001b[34m#metrics {\"Metrics\": {\"initialize.time\": {\"count\": 1, \"max\": 108.44898223876953, \"sum\": 108.44898223876953, \"min\": 108.44898223876953}}, \"EndTime\": 1600830938.026281, \"Dimensions\": {\"Host\": \"algo-1\", \"Operation\": \"training\", \"Algorithm\": \"AWS/DeepAR\"}, \"StartTime\": 1600830937.958853}\n",
      "\u001b[0m\n",
      "\u001b[34m[09/23/2020 03:15:38 INFO 140617338906432] Epoch[0] Batch[0] avg_epoch_loss=3.592959\u001b[0m\n",
      "\u001b[34m[09/23/2020 03:15:38 INFO 140617338906432] #quality_metric: host=algo-1, epoch=0, batch=0 train loss <loss>=3.59295940399\u001b[0m\n",
      "\u001b[34m[09/23/2020 03:15:38 INFO 140617338906432] Epoch[0] Batch[5] avg_epoch_loss=2.311539\u001b[0m\n",
      "\u001b[34m[09/23/2020 03:15:38 INFO 140617338906432] #quality_metric: host=algo-1, epoch=0, batch=5 train loss <loss>=2.31153929234\u001b[0m\n",
      "\u001b[34m[09/23/2020 03:15:38 INFO 140617338906432] Epoch[0] Batch [5]#011Speed: 3035.32 samples/sec#011loss=2.311539\u001b[0m\n",
      "\u001b[34m[09/23/2020 03:15:38 INFO 140617338906432] processed a total of 1278 examples\u001b[0m\n",
      "\u001b[34m#metrics {\"Metrics\": {\"epochs\": {\"count\": 1, \"max\": 29, \"sum\": 29.0, \"min\": 29}, \"update.time\": {\"count\": 1, \"max\": 922.7268695831299, \"sum\": 922.7268695831299, \"min\": 922.7268695831299}}, \"EndTime\": 1600830938.949137, \"Dimensions\": {\"Host\": \"algo-1\", \"Operation\": \"training\", \"Algorithm\": \"AWS/DeepAR\"}, \"StartTime\": 1600830938.026338}\n",
      "\u001b[0m\n",
      "\u001b[34m[09/23/2020 03:15:38 INFO 140617338906432] #throughput_metric: host=algo-1, train throughput=1384.84668184 records/second\u001b[0m\n",
      "\u001b[34m[09/23/2020 03:15:38 INFO 140617338906432] #progress_metric: host=algo-1, completed 3 % of epochs\u001b[0m\n",
      "\u001b[34m[09/23/2020 03:15:38 INFO 140617338906432] #quality_metric: host=algo-1, epoch=0, train loss <loss>=1.92135003507\u001b[0m\n",
      "\u001b[34m[09/23/2020 03:15:38 INFO 140617338906432] best epoch loss so far\u001b[0m\n",
      "\u001b[34m[09/23/2020 03:15:38 INFO 140617338906432] Saved checkpoint to \"/opt/ml/model/state_8c53d169-813c-4762-9f47-99552da2685f-0000.params\"\u001b[0m\n",
      "\u001b[34m#metrics {\"Metrics\": {\"state.serialize.time\": {\"count\": 1, \"max\": 13.880014419555664, \"sum\": 13.880014419555664, \"min\": 13.880014419555664}}, \"EndTime\": 1600830938.963645, \"Dimensions\": {\"Host\": \"algo-1\", \"Operation\": \"training\", \"Algorithm\": \"AWS/DeepAR\"}, \"StartTime\": 1600830938.949219}\n",
      "\u001b[0m\n",
      "\u001b[34m[09/23/2020 03:15:39 INFO 140617338906432] Epoch[1] Batch[0] avg_epoch_loss=1.946113\u001b[0m\n",
      "\u001b[34m[09/23/2020 03:15:39 INFO 140617338906432] #quality_metric: host=algo-1, epoch=1, batch=0 train loss <loss>=1.94611251354\u001b[0m\n",
      "\u001b[34m[09/23/2020 03:15:39 INFO 140617338906432] Epoch[1] Batch[5] avg_epoch_loss=1.388137\u001b[0m\n",
      "\u001b[34m[09/23/2020 03:15:39 INFO 140617338906432] #quality_metric: host=algo-1, epoch=1, batch=5 train loss <loss>=1.38813744982\u001b[0m\n",
      "\u001b[34m[09/23/2020 03:15:39 INFO 140617338906432] Epoch[1] Batch [5]#011Speed: 2275.63 samples/sec#011loss=1.388137\u001b[0m\n",
      "\u001b[34m[09/23/2020 03:15:40 INFO 140617338906432] Epoch[1] Batch[10] avg_epoch_loss=1.216640\u001b[0m\n",
      "\u001b[34m[09/23/2020 03:15:40 INFO 140617338906432] #quality_metric: host=algo-1, epoch=1, batch=10 train loss <loss>=1.01084200144\u001b[0m\n",
      "\u001b[34m[09/23/2020 03:15:40 INFO 140617338906432] Epoch[1] Batch [10]#011Speed: 1916.58 samples/sec#011loss=1.010842\u001b[0m\n",
      "\u001b[34m[09/23/2020 03:15:40 INFO 140617338906432] processed a total of 1314 examples\u001b[0m\n",
      "\u001b[34m#metrics {\"Metrics\": {\"update.time\": {\"count\": 1, \"max\": 1153.615951538086, \"sum\": 1153.615951538086, \"min\": 1153.615951538086}}, \"EndTime\": 1600830940.117371, \"Dimensions\": {\"Host\": \"algo-1\", \"Operation\": \"training\", \"Algorithm\": \"AWS/DeepAR\"}, \"StartTime\": 1600830938.9637}\n",
      "\u001b[0m\n",
      "\u001b[34m[09/23/2020 03:15:40 INFO 140617338906432] #throughput_metric: host=algo-1, train throughput=1138.91049763 records/second\u001b[0m\n",
      "\u001b[34m[09/23/2020 03:15:40 INFO 140617338906432] #progress_metric: host=algo-1, completed 6 % of epochs\u001b[0m\n",
      "\u001b[34m[09/23/2020 03:15:40 INFO 140617338906432] #quality_metric: host=algo-1, epoch=1, train loss <loss>=1.21663951874\u001b[0m\n",
      "\u001b[34m[09/23/2020 03:15:40 INFO 140617338906432] best epoch loss so far\u001b[0m\n",
      "\u001b[34m[09/23/2020 03:15:40 INFO 140617338906432] Saved checkpoint to \"/opt/ml/model/state_fa1ed5ac-0e18-40a4-9168-0f6d9ab5bd4b-0000.params\"\u001b[0m\n",
      "\u001b[34m#metrics {\"Metrics\": {\"state.serialize.time\": {\"count\": 1, \"max\": 10.94508171081543, \"sum\": 10.94508171081543, \"min\": 10.94508171081543}}, \"EndTime\": 1600830940.129073, \"Dimensions\": {\"Host\": \"algo-1\", \"Operation\": \"training\", \"Algorithm\": \"AWS/DeepAR\"}, \"StartTime\": 1600830940.117452}\n",
      "\u001b[0m\n",
      "\u001b[34m[09/23/2020 03:15:40 INFO 140617338906432] Epoch[2] Batch[0] avg_epoch_loss=1.020203\u001b[0m\n",
      "\u001b[34m[09/23/2020 03:15:40 INFO 140617338906432] #quality_metric: host=algo-1, epoch=2, batch=0 train loss <loss>=1.02020347118\u001b[0m\n",
      "\u001b[34m[09/23/2020 03:15:40 INFO 140617338906432] Epoch[2] Batch[5] avg_epoch_loss=0.698254\u001b[0m\n",
      "\u001b[34m[09/23/2020 03:15:40 INFO 140617338906432] #quality_metric: host=algo-1, epoch=2, batch=5 train loss <loss>=0.69825365146\u001b[0m\n",
      "\u001b[34m[09/23/2020 03:15:40 INFO 140617338906432] Epoch[2] Batch [5]#011Speed: 2201.32 samples/sec#011loss=0.698254\u001b[0m\n",
      "\u001b[34m[09/23/2020 03:15:41 INFO 140617338906432] processed a total of 1226 examples\u001b[0m\n",
      "\u001b[34m#metrics {\"Metrics\": {\"update.time\": {\"count\": 1, \"max\": 1067.0630931854248, \"sum\": 1067.0630931854248, \"min\": 1067.0630931854248}}, \"EndTime\": 1600830941.196302, \"Dimensions\": {\"Host\": \"algo-1\", \"Operation\": \"training\", \"Algorithm\": \"AWS/DeepAR\"}, \"StartTime\": 1600830940.129182}\n",
      "\u001b[0m\n",
      "\u001b[34m[09/23/2020 03:15:41 INFO 140617338906432] #throughput_metric: host=algo-1, train throughput=1148.83813035 records/second\u001b[0m\n",
      "\u001b[34m[09/23/2020 03:15:41 INFO 140617338906432] #progress_metric: host=algo-1, completed 10 % of epochs\u001b[0m\n",
      "\u001b[34m[09/23/2020 03:15:41 INFO 140617338906432] #quality_metric: host=algo-1, epoch=2, train loss <loss>=0.457434073836\u001b[0m\n",
      "\u001b[34m[09/23/2020 03:15:41 INFO 140617338906432] best epoch loss so far\u001b[0m\n",
      "\u001b[34m[09/23/2020 03:15:41 INFO 140617338906432] Saved checkpoint to \"/opt/ml/model/state_0bb3789b-2609-4c17-980b-d1792dbd7460-0000.params\"\u001b[0m\n",
      "\u001b[34m#metrics {\"Metrics\": {\"state.serialize.time\": {\"count\": 1, \"max\": 11.94000244140625, \"sum\": 11.94000244140625, \"min\": 11.94000244140625}}, \"EndTime\": 1600830941.208769, \"Dimensions\": {\"Host\": \"algo-1\", \"Operation\": \"training\", \"Algorithm\": \"AWS/DeepAR\"}, \"StartTime\": 1600830941.196371}\n",
      "\u001b[0m\n",
      "\u001b[34m[09/23/2020 03:15:41 INFO 140617338906432] Epoch[3] Batch[0] avg_epoch_loss=0.051702\u001b[0m\n",
      "\u001b[34m[09/23/2020 03:15:41 INFO 140617338906432] #quality_metric: host=algo-1, epoch=3, batch=0 train loss <loss>=0.0517015568912\u001b[0m\n",
      "\u001b[34m[09/23/2020 03:15:41 INFO 140617338906432] Epoch[3] Batch[5] avg_epoch_loss=0.243341\u001b[0m\n",
      "\u001b[34m[09/23/2020 03:15:41 INFO 140617338906432] #quality_metric: host=algo-1, epoch=3, batch=5 train loss <loss>=0.243341159696\u001b[0m\n",
      "\u001b[34m[09/23/2020 03:15:41 INFO 140617338906432] Epoch[3] Batch [5]#011Speed: 3088.86 samples/sec#011loss=0.243341\u001b[0m\n",
      "\u001b[34m[09/23/2020 03:15:42 INFO 140617338906432] Epoch[3] Batch[10] avg_epoch_loss=0.222475\u001b[0m\n",
      "\u001b[34m[09/23/2020 03:15:42 INFO 140617338906432] #quality_metric: host=algo-1, epoch=3, batch=10 train loss <loss>=0.197434979677\u001b[0m\n",
      "\u001b[34m[09/23/2020 03:15:42 INFO 140617338906432] Epoch[3] Batch [10]#011Speed: 2848.71 samples/sec#011loss=0.197435\u001b[0m\n",
      "\u001b[34m[09/23/2020 03:15:42 INFO 140617338906432] processed a total of 1295 examples\u001b[0m\n",
      "\u001b[34m#metrics {\"Metrics\": {\"update.time\": {\"count\": 1, \"max\": 830.3179740905762, \"sum\": 830.3179740905762, \"min\": 830.3179740905762}}, \"EndTime\": 1600830942.039189, \"Dimensions\": {\"Host\": \"algo-1\", \"Operation\": \"training\", \"Algorithm\": \"AWS/DeepAR\"}, \"StartTime\": 1600830941.20882}\n",
      "\u001b[0m\n",
      "\u001b[34m[09/23/2020 03:15:42 INFO 140617338906432] #throughput_metric: host=algo-1, train throughput=1559.45942268 records/second\u001b[0m\n",
      "\u001b[34m[09/23/2020 03:15:42 INFO 140617338906432] #progress_metric: host=algo-1, completed 13 % of epochs\u001b[0m\n",
      "\u001b[34m[09/23/2020 03:15:42 INFO 140617338906432] #quality_metric: host=algo-1, epoch=3, train loss <loss>=0.222474714233\u001b[0m\n",
      "\u001b[34m[09/23/2020 03:15:42 INFO 140617338906432] best epoch loss so far\u001b[0m\n",
      "\u001b[34m[09/23/2020 03:15:42 INFO 140617338906432] Saved checkpoint to \"/opt/ml/model/state_da07a965-55c3-4056-9a17-b1dfe82f5a30-0000.params\"\u001b[0m\n",
      "\u001b[34m#metrics {\"Metrics\": {\"state.serialize.time\": {\"count\": 1, \"max\": 8.615970611572266, \"sum\": 8.615970611572266, \"min\": 8.615970611572266}}, \"EndTime\": 1600830942.04838, \"Dimensions\": {\"Host\": \"algo-1\", \"Operation\": \"training\", \"Algorithm\": \"AWS/DeepAR\"}, \"StartTime\": 1600830942.039254}\n",
      "\u001b[0m\n",
      "\u001b[34m[09/23/2020 03:15:42 INFO 140617338906432] Epoch[4] Batch[0] avg_epoch_loss=0.119528\u001b[0m\n",
      "\u001b[34m[09/23/2020 03:15:42 INFO 140617338906432] #quality_metric: host=algo-1, epoch=4, batch=0 train loss <loss>=0.119528315961\u001b[0m\n",
      "\u001b[34m[09/23/2020 03:15:42 INFO 140617338906432] Epoch[4] Batch[5] avg_epoch_loss=-0.105876\u001b[0m\n",
      "\u001b[34m[09/23/2020 03:15:42 INFO 140617338906432] #quality_metric: host=algo-1, epoch=4, batch=5 train loss <loss>=-0.105875621239\u001b[0m\n",
      "\u001b[34m[09/23/2020 03:15:42 INFO 140617338906432] Epoch[4] Batch [5]#011Speed: 2724.46 samples/sec#011loss=-0.105876\u001b[0m\n",
      "\u001b[34m[09/23/2020 03:15:42 INFO 140617338906432] Epoch[4] Batch[10] avg_epoch_loss=-0.171244\u001b[0m\n",
      "\u001b[34m[09/23/2020 03:15:42 INFO 140617338906432] #quality_metric: host=algo-1, epoch=4, batch=10 train loss <loss>=-0.249686279893\u001b[0m\n",
      "\u001b[34m[09/23/2020 03:15:42 INFO 140617338906432] Epoch[4] Batch [10]#011Speed: 2305.33 samples/sec#011loss=-0.249686\u001b[0m\n",
      "\u001b[34m[09/23/2020 03:15:42 INFO 140617338906432] processed a total of 1335 examples\u001b[0m\n",
      "\u001b[34m#metrics {\"Metrics\": {\"update.time\": {\"count\": 1, \"max\": 919.327974319458, \"sum\": 919.327974319458, \"min\": 919.327974319458}}, \"EndTime\": 1600830942.967823, \"Dimensions\": {\"Host\": \"algo-1\", \"Operation\": \"training\", \"Algorithm\": \"AWS/DeepAR\"}, \"StartTime\": 1600830942.048445}\n",
      "\u001b[0m\n",
      "\u001b[34m[09/23/2020 03:15:42 INFO 140617338906432] #throughput_metric: host=algo-1, train throughput=1451.9756104 records/second\u001b[0m\n",
      "\u001b[34m[09/23/2020 03:15:42 INFO 140617338906432] #progress_metric: host=algo-1, completed 17 % of epochs\u001b[0m\n",
      "\u001b[34m[09/23/2020 03:15:42 INFO 140617338906432] #quality_metric: host=algo-1, epoch=4, train loss <loss>=-0.171244102446\u001b[0m\n",
      "\u001b[34m[09/23/2020 03:15:42 INFO 140617338906432] best epoch loss so far\u001b[0m\n",
      "\u001b[34m[09/23/2020 03:15:42 INFO 140617338906432] Saved checkpoint to \"/opt/ml/model/state_d479f0a1-1be6-4d24-9013-1091956cb9e9-0000.params\"\u001b[0m\n",
      "\u001b[34m#metrics {\"Metrics\": {\"state.serialize.time\": {\"count\": 1, \"max\": 11.322975158691406, \"sum\": 11.322975158691406, \"min\": 11.322975158691406}}, \"EndTime\": 1600830942.979783, \"Dimensions\": {\"Host\": \"algo-1\", \"Operation\": \"training\", \"Algorithm\": \"AWS/DeepAR\"}, \"StartTime\": 1600830942.9679}\n",
      "\u001b[0m\n",
      "\u001b[34m[09/23/2020 03:15:43 INFO 140617338906432] Epoch[5] Batch[0] avg_epoch_loss=-0.201126\u001b[0m\n",
      "\u001b[34m[09/23/2020 03:15:43 INFO 140617338906432] #quality_metric: host=algo-1, epoch=5, batch=0 train loss <loss>=-0.201126366854\u001b[0m\n",
      "\u001b[34m[09/23/2020 03:15:43 INFO 140617338906432] Epoch[5] Batch[5] avg_epoch_loss=-0.471274\u001b[0m\n",
      "\u001b[34m[09/23/2020 03:15:43 INFO 140617338906432] #quality_metric: host=algo-1, epoch=5, batch=5 train loss <loss>=-0.471274390817\u001b[0m\n",
      "\u001b[34m[09/23/2020 03:15:43 INFO 140617338906432] Epoch[5] Batch [5]#011Speed: 3052.36 samples/sec#011loss=-0.471274\u001b[0m\n",
      "\u001b[34m[09/23/2020 03:15:43 INFO 140617338906432] processed a total of 1214 examples\u001b[0m\n",
      "\u001b[34m#metrics {\"Metrics\": {\"update.time\": {\"count\": 1, \"max\": 771.9619274139404, \"sum\": 771.9619274139404, \"min\": 771.9619274139404}}, \"EndTime\": 1600830943.751865, \"Dimensions\": {\"Host\": \"algo-1\", \"Operation\": \"training\", \"Algorithm\": \"AWS/DeepAR\"}, \"StartTime\": 1600830942.979847}\n",
      "\u001b[0m\n",
      "\u001b[34m[09/23/2020 03:15:43 INFO 140617338906432] #throughput_metric: host=algo-1, train throughput=1572.40856494 records/second\u001b[0m\n",
      "\u001b[34m[09/23/2020 03:15:43 INFO 140617338906432] #progress_metric: host=algo-1, completed 20 % of epochs\u001b[0m\n",
      "\u001b[34m[09/23/2020 03:15:43 INFO 140617338906432] #quality_metric: host=algo-1, epoch=5, train loss <loss>=-0.571469798684\u001b[0m\n",
      "\u001b[34m[09/23/2020 03:15:43 INFO 140617338906432] best epoch loss so far\u001b[0m\n",
      "\u001b[34m[09/23/2020 03:15:43 INFO 140617338906432] Saved checkpoint to \"/opt/ml/model/state_f8d7bbb5-2c2a-408c-a1b8-74ae7aa07029-0000.params\"\u001b[0m\n",
      "\u001b[34m#metrics {\"Metrics\": {\"state.serialize.time\": {\"count\": 1, \"max\": 8.881807327270508, \"sum\": 8.881807327270508, \"min\": 8.881807327270508}}, \"EndTime\": 1600830943.761387, \"Dimensions\": {\"Host\": \"algo-1\", \"Operation\": \"training\", \"Algorithm\": \"AWS/DeepAR\"}, \"StartTime\": 1600830943.751935}\n",
      "\u001b[0m\n",
      "\u001b[34m[09/23/2020 03:15:44 INFO 140617338906432] Epoch[6] Batch[0] avg_epoch_loss=-1.085962\u001b[0m\n",
      "\u001b[34m[09/23/2020 03:15:44 INFO 140617338906432] #quality_metric: host=algo-1, epoch=6, batch=0 train loss <loss>=-1.08596169949\u001b[0m\n",
      "\u001b[34m[09/23/2020 03:15:44 INFO 140617338906432] Epoch[6] Batch[5] avg_epoch_loss=-0.820933\u001b[0m\n",
      "\u001b[34m[09/23/2020 03:15:44 INFO 140617338906432] #quality_metric: host=algo-1, epoch=6, batch=5 train loss <loss>=-0.820933381716\u001b[0m\n",
      "\u001b[34m[09/23/2020 03:15:44 INFO 140617338906432] Epoch[6] Batch [5]#011Speed: 2624.91 samples/sec#011loss=-0.820933\u001b[0m\n",
      "\u001b[34m[09/23/2020 03:15:44 INFO 140617338906432] processed a total of 1273 examples\u001b[0m\n",
      "\u001b[34m#metrics {\"Metrics\": {\"update.time\": {\"count\": 1, \"max\": 839.5240306854248, \"sum\": 839.5240306854248, \"min\": 839.5240306854248}}, \"EndTime\": 1600830944.601029, \"Dimensions\": {\"Host\": \"algo-1\", \"Operation\": \"training\", \"Algorithm\": \"AWS/DeepAR\"}, \"StartTime\": 1600830943.761447}\n",
      "\u001b[0m\n",
      "\u001b[34m[09/23/2020 03:15:44 INFO 140617338906432] #throughput_metric: host=algo-1, train throughput=1516.11666435 records/second\u001b[0m\n",
      "\u001b[34m[09/23/2020 03:15:44 INFO 140617338906432] #progress_metric: host=algo-1, completed 24 % of epochs\u001b[0m\n",
      "\u001b[34m[09/23/2020 03:15:44 INFO 140617338906432] #quality_metric: host=algo-1, epoch=6, train loss <loss>=-0.797173286974\u001b[0m\n",
      "\u001b[34m[09/23/2020 03:15:44 INFO 140617338906432] best epoch loss so far\u001b[0m\n",
      "\u001b[34m[09/23/2020 03:15:44 INFO 140617338906432] Saved checkpoint to \"/opt/ml/model/state_b955deec-20c0-452a-8359-a2708827a137-0000.params\"\u001b[0m\n",
      "\u001b[34m#metrics {\"Metrics\": {\"state.serialize.time\": {\"count\": 1, \"max\": 12.329816818237305, \"sum\": 12.329816818237305, \"min\": 12.329816818237305}}, \"EndTime\": 1600830944.614, \"Dimensions\": {\"Host\": \"algo-1\", \"Operation\": \"training\", \"Algorithm\": \"AWS/DeepAR\"}, \"StartTime\": 1600830944.601111}\n",
      "\u001b[0m\n",
      "\u001b[34m[09/23/2020 03:15:45 INFO 140617338906432] Epoch[7] Batch[0] avg_epoch_loss=-0.391825\u001b[0m\n",
      "\u001b[34m[09/23/2020 03:15:45 INFO 140617338906432] #quality_metric: host=algo-1, epoch=7, batch=0 train loss <loss>=-0.391824871302\u001b[0m\n",
      "\u001b[34m[09/23/2020 03:15:45 INFO 140617338906432] Epoch[7] Batch[5] avg_epoch_loss=-0.867091\u001b[0m\n",
      "\u001b[34m[09/23/2020 03:15:45 INFO 140617338906432] #quality_metric: host=algo-1, epoch=7, batch=5 train loss <loss>=-0.867091154059\u001b[0m\n",
      "\u001b[34m[09/23/2020 03:15:45 INFO 140617338906432] Epoch[7] Batch [5]#011Speed: 3034.03 samples/sec#011loss=-0.867091\u001b[0m\n",
      "\u001b[34m[09/23/2020 03:15:45 INFO 140617338906432] processed a total of 1264 examples\u001b[0m\n",
      "\u001b[34m#metrics {\"Metrics\": {\"update.time\": {\"count\": 1, \"max\": 794.1370010375977, \"sum\": 794.1370010375977, \"min\": 794.1370010375977}}, \"EndTime\": 1600830945.408242, \"Dimensions\": {\"Host\": \"algo-1\", \"Operation\": \"training\", \"Algorithm\": \"AWS/DeepAR\"}, \"StartTime\": 1600830944.614052}\n",
      "\u001b[0m\n",
      "\u001b[34m[09/23/2020 03:15:45 INFO 140617338906432] #throughput_metric: host=algo-1, train throughput=1591.48239241 records/second\u001b[0m\n",
      "\u001b[34m[09/23/2020 03:15:45 INFO 140617338906432] #progress_metric: host=algo-1, completed 27 % of epochs\u001b[0m\n",
      "\u001b[34m[09/23/2020 03:15:45 INFO 140617338906432] #quality_metric: host=algo-1, epoch=7, train loss <loss>=-0.882695576549\u001b[0m\n",
      "\u001b[34m[09/23/2020 03:15:45 INFO 140617338906432] best epoch loss so far\u001b[0m\n",
      "\u001b[34m[09/23/2020 03:15:45 INFO 140617338906432] Saved checkpoint to \"/opt/ml/model/state_c87f59c9-7336-4fda-b31f-d48abb90c017-0000.params\"\u001b[0m\n",
      "\u001b[34m#metrics {\"Metrics\": {\"state.serialize.time\": {\"count\": 1, \"max\": 9.546995162963867, \"sum\": 9.546995162963867, \"min\": 9.546995162963867}}, \"EndTime\": 1600830945.41841, \"Dimensions\": {\"Host\": \"algo-1\", \"Operation\": \"training\", \"Algorithm\": \"AWS/DeepAR\"}, \"StartTime\": 1600830945.408299}\n",
      "\u001b[0m\n",
      "\u001b[34m[09/23/2020 03:15:45 INFO 140617338906432] Epoch[8] Batch[0] avg_epoch_loss=-0.828466\u001b[0m\n",
      "\u001b[34m[09/23/2020 03:15:45 INFO 140617338906432] #quality_metric: host=algo-1, epoch=8, batch=0 train loss <loss>=-0.82846570015\u001b[0m\n",
      "\u001b[34m[09/23/2020 03:15:46 INFO 140617338906432] Epoch[8] Batch[5] avg_epoch_loss=-0.948074\u001b[0m\n",
      "\u001b[34m[09/23/2020 03:15:46 INFO 140617338906432] #quality_metric: host=algo-1, epoch=8, batch=5 train loss <loss>=-0.948074231545\u001b[0m\n",
      "\u001b[34m[09/23/2020 03:15:46 INFO 140617338906432] Epoch[8] Batch [5]#011Speed: 2647.74 samples/sec#011loss=-0.948074\u001b[0m\n",
      "\u001b[34m[09/23/2020 03:15:46 INFO 140617338906432] processed a total of 1272 examples\u001b[0m\n",
      "\u001b[34m#metrics {\"Metrics\": {\"update.time\": {\"count\": 1, \"max\": 800.5669116973877, \"sum\": 800.5669116973877, \"min\": 800.5669116973877}}, \"EndTime\": 1600830946.219085, \"Dimensions\": {\"Host\": \"algo-1\", \"Operation\": \"training\", \"Algorithm\": \"AWS/DeepAR\"}, \"StartTime\": 1600830945.418461}\n",
      "\u001b[0m\n",
      "\u001b[34m[09/23/2020 03:15:46 INFO 140617338906432] #throughput_metric: host=algo-1, train throughput=1588.65973652 records/second\u001b[0m\n",
      "\u001b[34m[09/23/2020 03:15:46 INFO 140617338906432] #progress_metric: host=algo-1, completed 31 % of epochs\u001b[0m\n",
      "\u001b[34m[09/23/2020 03:15:46 INFO 140617338906432] #quality_metric: host=algo-1, epoch=8, train loss <loss>=-0.950317060947\u001b[0m\n",
      "\u001b[34m[09/23/2020 03:15:46 INFO 140617338906432] best epoch loss so far\u001b[0m\n",
      "\u001b[34m[09/23/2020 03:15:46 INFO 140617338906432] Saved checkpoint to \"/opt/ml/model/state_f0185ea5-ef2d-4cc5-92ac-c5e3d54103e7-0000.params\"\u001b[0m\n",
      "\u001b[34m#metrics {\"Metrics\": {\"state.serialize.time\": {\"count\": 1, \"max\": 12.305974960327148, \"sum\": 12.305974960327148, \"min\": 12.305974960327148}}, \"EndTime\": 1600830946.231927, \"Dimensions\": {\"Host\": \"algo-1\", \"Operation\": \"training\", \"Algorithm\": \"AWS/DeepAR\"}, \"StartTime\": 1600830946.219158}\n",
      "\u001b[0m\n",
      "\u001b[34m[09/23/2020 03:15:46 INFO 140617338906432] Epoch[9] Batch[0] avg_epoch_loss=-1.113422\u001b[0m\n",
      "\u001b[34m[09/23/2020 03:15:46 INFO 140617338906432] #quality_metric: host=algo-1, epoch=9, batch=0 train loss <loss>=-1.11342191696\u001b[0m\n",
      "\u001b[34m[09/23/2020 03:15:46 INFO 140617338906432] Epoch[9] Batch[5] avg_epoch_loss=-0.968986\u001b[0m\n",
      "\u001b[34m[09/23/2020 03:15:46 INFO 140617338906432] #quality_metric: host=algo-1, epoch=9, batch=5 train loss <loss>=-0.968985895316\u001b[0m\n",
      "\u001b[34m[09/23/2020 03:15:46 INFO 140617338906432] Epoch[9] Batch [5]#011Speed: 3110.03 samples/sec#011loss=-0.968986\u001b[0m\n",
      "\u001b[34m[09/23/2020 03:15:46 INFO 140617338906432] processed a total of 1240 examples\u001b[0m\n",
      "\u001b[34m#metrics {\"Metrics\": {\"update.time\": {\"count\": 1, \"max\": 751.3091564178467, \"sum\": 751.3091564178467, \"min\": 751.3091564178467}}, \"EndTime\": 1600830946.983348, \"Dimensions\": {\"Host\": \"algo-1\", \"Operation\": \"training\", \"Algorithm\": \"AWS/DeepAR\"}, \"StartTime\": 1600830946.231983}\n",
      "\u001b[0m\n",
      "\u001b[34m[09/23/2020 03:15:46 INFO 140617338906432] #throughput_metric: host=algo-1, train throughput=1650.18690076 records/second\u001b[0m\n",
      "\u001b[34m[09/23/2020 03:15:46 INFO 140617338906432] #progress_metric: host=algo-1, completed 34 % of epochs\u001b[0m\n",
      "\u001b[34m[09/23/2020 03:15:46 INFO 140617338906432] #quality_metric: host=algo-1, epoch=9, train loss <loss>=-0.9610488832\u001b[0m\n",
      "\u001b[34m[09/23/2020 03:15:46 INFO 140617338906432] best epoch loss so far\u001b[0m\n",
      "\u001b[34m[09/23/2020 03:15:46 INFO 140617338906432] Saved checkpoint to \"/opt/ml/model/state_94336b3b-2c36-47ae-b409-44220f18c319-0000.params\"\u001b[0m\n",
      "\u001b[34m#metrics {\"Metrics\": {\"state.serialize.time\": {\"count\": 1, \"max\": 12.397050857543945, \"sum\": 12.397050857543945, \"min\": 12.397050857543945}}, \"EndTime\": 1600830946.996296, \"Dimensions\": {\"Host\": \"algo-1\", \"Operation\": \"training\", \"Algorithm\": \"AWS/DeepAR\"}, \"StartTime\": 1600830946.983434}\n",
      "\u001b[0m\n",
      "\u001b[34m[09/23/2020 03:15:47 INFO 140617338906432] Epoch[10] Batch[0] avg_epoch_loss=-0.984377\u001b[0m\n",
      "\u001b[34m[09/23/2020 03:15:47 INFO 140617338906432] #quality_metric: host=algo-1, epoch=10, batch=0 train loss <loss>=-0.984377086163\u001b[0m\n",
      "\u001b[34m[09/23/2020 03:15:47 INFO 140617338906432] Epoch[10] Batch[5] avg_epoch_loss=-1.010143\u001b[0m\n",
      "\u001b[34m[09/23/2020 03:15:47 INFO 140617338906432] #quality_metric: host=algo-1, epoch=10, batch=5 train loss <loss>=-1.0101425151\u001b[0m\n",
      "\u001b[34m[09/23/2020 03:15:47 INFO 140617338906432] Epoch[10] Batch [5]#011Speed: 3018.38 samples/sec#011loss=-1.010143\u001b[0m\n",
      "\u001b[34m[09/23/2020 03:15:47 INFO 140617338906432] processed a total of 1219 examples\u001b[0m\n",
      "\u001b[34m#metrics {\"Metrics\": {\"update.time\": {\"count\": 1, \"max\": 782.1869850158691, \"sum\": 782.1869850158691, \"min\": 782.1869850158691}}, \"EndTime\": 1600830947.778594, \"Dimensions\": {\"Host\": \"algo-1\", \"Operation\": \"training\", \"Algorithm\": \"AWS/DeepAR\"}, \"StartTime\": 1600830946.996355}\n",
      "\u001b[0m\n",
      "\u001b[34m[09/23/2020 03:15:47 INFO 140617338906432] #throughput_metric: host=algo-1, train throughput=1558.26184654 records/second\u001b[0m\n",
      "\u001b[34m[09/23/2020 03:15:47 INFO 140617338906432] #progress_metric: host=algo-1, completed 37 % of epochs\u001b[0m\n",
      "\u001b[34m[09/23/2020 03:15:47 INFO 140617338906432] #quality_metric: host=algo-1, epoch=10, train loss <loss>=-0.990957260132\u001b[0m\n",
      "\u001b[34m[09/23/2020 03:15:47 INFO 140617338906432] best epoch loss so far\u001b[0m\n",
      "\u001b[34m[09/23/2020 03:15:47 INFO 140617338906432] Saved checkpoint to \"/opt/ml/model/state_71b9341e-5903-4b72-83b5-45ca0f98004c-0000.params\"\u001b[0m\n",
      "\u001b[34m#metrics {\"Metrics\": {\"state.serialize.time\": {\"count\": 1, \"max\": 9.52291488647461, \"sum\": 9.52291488647461, \"min\": 9.52291488647461}}, \"EndTime\": 1600830947.788794, \"Dimensions\": {\"Host\": \"algo-1\", \"Operation\": \"training\", \"Algorithm\": \"AWS/DeepAR\"}, \"StartTime\": 1600830947.778658}\n",
      "\u001b[0m\n",
      "\u001b[34m[09/23/2020 03:15:48 INFO 140617338906432] Epoch[11] Batch[0] avg_epoch_loss=-1.097034\u001b[0m\n",
      "\u001b[34m[09/23/2020 03:15:48 INFO 140617338906432] #quality_metric: host=algo-1, epoch=11, batch=0 train loss <loss>=-1.0970338583\u001b[0m\n",
      "\u001b[34m[09/23/2020 03:15:48 INFO 140617338906432] Epoch[11] Batch[5] avg_epoch_loss=-0.931688\u001b[0m\n",
      "\u001b[34m[09/23/2020 03:15:48 INFO 140617338906432] #quality_metric: host=algo-1, epoch=11, batch=5 train loss <loss>=-0.931687772274\u001b[0m\n",
      "\u001b[34m[09/23/2020 03:15:48 INFO 140617338906432] Epoch[11] Batch [5]#011Speed: 2967.10 samples/sec#011loss=-0.931688\u001b[0m\n",
      "\u001b[34m[09/23/2020 03:15:48 INFO 140617338906432] processed a total of 1278 examples\u001b[0m\n",
      "\u001b[34m#metrics {\"Metrics\": {\"update.time\": {\"count\": 1, \"max\": 773.7720012664795, \"sum\": 773.7720012664795, \"min\": 773.7720012664795}}, \"EndTime\": 1600830948.562686, \"Dimensions\": {\"Host\": \"algo-1\", \"Operation\": \"training\", \"Algorithm\": \"AWS/DeepAR\"}, \"StartTime\": 1600830947.788854}\n",
      "\u001b[0m\n",
      "\u001b[34m[09/23/2020 03:15:48 INFO 140617338906432] #throughput_metric: host=algo-1, train throughput=1651.395411 records/second\u001b[0m\n",
      "\u001b[34m[09/23/2020 03:15:48 INFO 140617338906432] #progress_metric: host=algo-1, completed 41 % of epochs\u001b[0m\n",
      "\u001b[34m[09/23/2020 03:15:48 INFO 140617338906432] #quality_metric: host=algo-1, epoch=11, train loss <loss>=-0.948975080252\u001b[0m\n",
      "\u001b[34m[09/23/2020 03:15:48 INFO 140617338906432] loss did not improve\u001b[0m\n",
      "\u001b[34m[09/23/2020 03:15:48 INFO 140617338906432] Epoch[12] Batch[0] avg_epoch_loss=-1.078857\u001b[0m\n",
      "\u001b[34m[09/23/2020 03:15:48 INFO 140617338906432] #quality_metric: host=algo-1, epoch=12, batch=0 train loss <loss>=-1.07885742188\u001b[0m\n",
      "\u001b[34m[09/23/2020 03:15:49 INFO 140617338906432] Epoch[12] Batch[5] avg_epoch_loss=-0.960045\u001b[0m\n",
      "\u001b[34m[09/23/2020 03:15:49 INFO 140617338906432] #quality_metric: host=algo-1, epoch=12, batch=5 train loss <loss>=-0.960045168797\u001b[0m\n",
      "\u001b[34m[09/23/2020 03:15:49 INFO 140617338906432] Epoch[12] Batch [5]#011Speed: 3078.26 samples/sec#011loss=-0.960045\u001b[0m\n",
      "\u001b[34m[09/23/2020 03:15:49 INFO 140617338906432] Epoch[12] Batch[10] avg_epoch_loss=-0.996276\u001b[0m\n",
      "\u001b[34m[09/23/2020 03:15:49 INFO 140617338906432] #quality_metric: host=algo-1, epoch=12, batch=10 train loss <loss>=-1.03975274563\u001b[0m\n",
      "\u001b[34m[09/23/2020 03:15:49 INFO 140617338906432] Epoch[12] Batch [10]#011Speed: 2825.18 samples/sec#011loss=-1.039753\u001b[0m\n",
      "\u001b[34m[09/23/2020 03:15:49 INFO 140617338906432] processed a total of 1281 examples\u001b[0m\n",
      "\u001b[34m#metrics {\"Metrics\": {\"update.time\": {\"count\": 1, \"max\": 871.5801239013672, \"sum\": 871.5801239013672, \"min\": 871.5801239013672}}, \"EndTime\": 1600830949.434794, \"Dimensions\": {\"Host\": \"algo-1\", \"Operation\": \"training\", \"Algorithm\": \"AWS/DeepAR\"}, \"StartTime\": 1600830948.562767}\n",
      "\u001b[0m\n",
      "\u001b[34m[09/23/2020 03:15:49 INFO 140617338906432] #throughput_metric: host=algo-1, train throughput=1469.54379978 records/second\u001b[0m\n",
      "\u001b[34m[09/23/2020 03:15:49 INFO 140617338906432] #progress_metric: host=algo-1, completed 44 % of epochs\u001b[0m\n",
      "\u001b[34m[09/23/2020 03:15:49 INFO 140617338906432] #quality_metric: host=algo-1, epoch=12, train loss <loss>=-0.996275885539\u001b[0m\n",
      "\u001b[34m[09/23/2020 03:15:49 INFO 140617338906432] best epoch loss so far\u001b[0m\n",
      "\u001b[34m[09/23/2020 03:15:49 INFO 140617338906432] Saved checkpoint to \"/opt/ml/model/state_4b356e12-36a9-414e-8af3-862068029143-0000.params\"\u001b[0m\n",
      "\u001b[34m#metrics {\"Metrics\": {\"state.serialize.time\": {\"count\": 1, \"max\": 8.942127227783203, \"sum\": 8.942127227783203, \"min\": 8.942127227783203}}, \"EndTime\": 1600830949.444344, \"Dimensions\": {\"Host\": \"algo-1\", \"Operation\": \"training\", \"Algorithm\": \"AWS/DeepAR\"}, \"StartTime\": 1600830949.434875}\n",
      "\u001b[0m\n",
      "\u001b[34m[09/23/2020 03:15:49 INFO 140617338906432] Epoch[13] Batch[0] avg_epoch_loss=-0.123708\u001b[0m\n",
      "\u001b[34m[09/23/2020 03:15:49 INFO 140617338906432] #quality_metric: host=algo-1, epoch=13, batch=0 train loss <loss>=-0.123707942665\u001b[0m\n",
      "\u001b[34m[09/23/2020 03:15:50 INFO 140617338906432] Epoch[13] Batch[5] avg_epoch_loss=-0.492334\u001b[0m\n",
      "\u001b[34m[09/23/2020 03:15:50 INFO 140617338906432] #quality_metric: host=algo-1, epoch=13, batch=5 train loss <loss>=-0.49233436957\u001b[0m\n",
      "\u001b[34m[09/23/2020 03:15:50 INFO 140617338906432] Epoch[13] Batch [5]#011Speed: 2919.87 samples/sec#011loss=-0.492334\u001b[0m\n",
      "\u001b[34m[09/23/2020 03:15:50 INFO 140617338906432] Epoch[13] Batch[10] avg_epoch_loss=-0.492843\u001b[0m\n",
      "\u001b[34m[09/23/2020 03:15:50 INFO 140617338906432] #quality_metric: host=algo-1, epoch=13, batch=10 train loss <loss>=-0.493453158438\u001b[0m\n",
      "\u001b[34m[09/23/2020 03:15:50 INFO 140617338906432] Epoch[13] Batch [10]#011Speed: 2671.12 samples/sec#011loss=-0.493453\u001b[0m\n",
      "\u001b[34m[09/23/2020 03:15:50 INFO 140617338906432] processed a total of 1295 examples\u001b[0m\n",
      "\u001b[34m#metrics {\"Metrics\": {\"update.time\": {\"count\": 1, \"max\": 889.7209167480469, \"sum\": 889.7209167480469, \"min\": 889.7209167480469}}, \"EndTime\": 1600830950.334215, \"Dimensions\": {\"Host\": \"algo-1\", \"Operation\": \"training\", \"Algorithm\": \"AWS/DeepAR\"}, \"StartTime\": 1600830949.444405}\n",
      "\u001b[0m\n",
      "\u001b[34m[09/23/2020 03:15:50 INFO 140617338906432] #throughput_metric: host=algo-1, train throughput=1455.30629595 records/second\u001b[0m\n",
      "\u001b[34m[09/23/2020 03:15:50 INFO 140617338906432] #progress_metric: host=algo-1, completed 48 % of epochs\u001b[0m\n",
      "\u001b[34m[09/23/2020 03:15:50 INFO 140617338906432] #quality_metric: host=algo-1, epoch=13, train loss <loss>=-0.492842909965\u001b[0m\n",
      "\u001b[34m[09/23/2020 03:15:50 INFO 140617338906432] loss did not improve\u001b[0m\n",
      "\u001b[34m[09/23/2020 03:15:50 INFO 140617338906432] Epoch[14] Batch[0] avg_epoch_loss=-0.469625\u001b[0m\n",
      "\u001b[34m[09/23/2020 03:15:50 INFO 140617338906432] #quality_metric: host=algo-1, epoch=14, batch=0 train loss <loss>=-0.469624906778\u001b[0m\n",
      "\u001b[34m[09/23/2020 03:15:50 INFO 140617338906432] Epoch[14] Batch[5] avg_epoch_loss=-0.655345\u001b[0m\n",
      "\u001b[34m[09/23/2020 03:15:50 INFO 140617338906432] #quality_metric: host=algo-1, epoch=14, batch=5 train loss <loss>=-0.655344590545\u001b[0m\n",
      "\u001b[34m[09/23/2020 03:15:50 INFO 140617338906432] Epoch[14] Batch [5]#011Speed: 3020.19 samples/sec#011loss=-0.655345\u001b[0m\n",
      "\u001b[34m[09/23/2020 03:15:51 INFO 140617338906432] Epoch[14] Batch[10] avg_epoch_loss=-0.780662\u001b[0m\n",
      "\u001b[34m[09/23/2020 03:15:51 INFO 140617338906432] #quality_metric: host=algo-1, epoch=14, batch=10 train loss <loss>=-0.93104364872\u001b[0m\n",
      "\u001b[34m[09/23/2020 03:15:51 INFO 140617338906432] Epoch[14] Batch [10]#011Speed: 3028.93 samples/sec#011loss=-0.931044\u001b[0m\n",
      "\u001b[34m[09/23/2020 03:15:51 INFO 140617338906432] processed a total of 1335 examples\u001b[0m\n",
      "\u001b[34m#metrics {\"Metrics\": {\"update.time\": {\"count\": 1, \"max\": 830.1939964294434, \"sum\": 830.1939964294434, \"min\": 830.1939964294434}}, \"EndTime\": 1600830951.164951, \"Dimensions\": {\"Host\": \"algo-1\", \"Operation\": \"training\", \"Algorithm\": \"AWS/DeepAR\"}, \"StartTime\": 1600830950.334275}\n",
      "\u001b[0m\n",
      "\u001b[34m[09/23/2020 03:15:51 INFO 140617338906432] #throughput_metric: host=algo-1, train throughput=1607.84317014 records/second\u001b[0m\n",
      "\u001b[34m[09/23/2020 03:15:51 INFO 140617338906432] #progress_metric: host=algo-1, completed 51 % of epochs\u001b[0m\n",
      "\u001b[34m[09/23/2020 03:15:51 INFO 140617338906432] #quality_metric: host=algo-1, epoch=14, train loss <loss>=-0.780662344261\u001b[0m\n",
      "\u001b[34m[09/23/2020 03:15:51 INFO 140617338906432] loss did not improve\u001b[0m\n",
      "\u001b[34m[09/23/2020 03:15:51 INFO 140617338906432] Epoch[15] Batch[0] avg_epoch_loss=-1.146103\u001b[0m\n",
      "\u001b[34m[09/23/2020 03:15:51 INFO 140617338906432] #quality_metric: host=algo-1, epoch=15, batch=0 train loss <loss>=-1.1461032629\u001b[0m\n",
      "\u001b[34m[09/23/2020 03:15:51 INFO 140617338906432] Epoch[15] Batch[5] avg_epoch_loss=-0.875378\u001b[0m\n",
      "\u001b[34m[09/23/2020 03:15:51 INFO 140617338906432] #quality_metric: host=algo-1, epoch=15, batch=5 train loss <loss>=-0.875378400087\u001b[0m\n",
      "\u001b[34m[09/23/2020 03:15:51 INFO 140617338906432] Epoch[15] Batch [5]#011Speed: 3044.18 samples/sec#011loss=-0.875378\u001b[0m\n",
      "\u001b[34m[09/23/2020 03:15:52 INFO 140617338906432] Epoch[15] Batch[10] avg_epoch_loss=-0.994663\u001b[0m\n",
      "\u001b[34m[09/23/2020 03:15:52 INFO 140617338906432] #quality_metric: host=algo-1, epoch=15, batch=10 train loss <loss>=-1.13780375719\u001b[0m\n",
      "\u001b[34m[09/23/2020 03:15:52 INFO 140617338906432] Epoch[15] Batch [10]#011Speed: 2927.09 samples/sec#011loss=-1.137804\u001b[0m\n",
      "\u001b[34m[09/23/2020 03:15:52 INFO 140617338906432] processed a total of 1304 examples\u001b[0m\n",
      "\u001b[34m#metrics {\"Metrics\": {\"update.time\": {\"count\": 1, \"max\": 850.4338264465332, \"sum\": 850.4338264465332, \"min\": 850.4338264465332}}, \"EndTime\": 1600830952.015903, \"Dimensions\": {\"Host\": \"algo-1\", \"Operation\": \"training\", \"Algorithm\": \"AWS/DeepAR\"}, \"StartTime\": 1600830951.165026}\n",
      "\u001b[0m\n",
      "\u001b[34m[09/23/2020 03:15:52 INFO 140617338906432] #throughput_metric: host=algo-1, train throughput=1533.13433452 records/second\u001b[0m\n",
      "\u001b[34m[09/23/2020 03:15:52 INFO 140617338906432] #progress_metric: host=algo-1, completed 55 % of epochs\u001b[0m\n",
      "\u001b[34m[09/23/2020 03:15:52 INFO 140617338906432] #quality_metric: host=algo-1, epoch=15, train loss <loss>=-0.994662653316\u001b[0m\n",
      "\u001b[34m[09/23/2020 03:15:52 INFO 140617338906432] loss did not improve\u001b[0m\n",
      "\u001b[34m[09/23/2020 03:15:52 INFO 140617338906432] Epoch[16] Batch[0] avg_epoch_loss=0.078702\u001b[0m\n",
      "\u001b[34m[09/23/2020 03:15:52 INFO 140617338906432] #quality_metric: host=algo-1, epoch=16, batch=0 train loss <loss>=0.0787021443248\u001b[0m\n",
      "\u001b[34m[09/23/2020 03:15:52 INFO 140617338906432] Epoch[16] Batch[5] avg_epoch_loss=-0.298742\u001b[0m\n",
      "\u001b[34m[09/23/2020 03:15:52 INFO 140617338906432] #quality_metric: host=algo-1, epoch=16, batch=5 train loss <loss>=-0.298741510759\u001b[0m\n",
      "\u001b[34m[09/23/2020 03:15:52 INFO 140617338906432] Epoch[16] Batch [5]#011Speed: 3089.62 samples/sec#011loss=-0.298742\u001b[0m\n",
      "\u001b[34m[09/23/2020 03:15:52 INFO 140617338906432] processed a total of 1251 examples\u001b[0m\n",
      "\u001b[34m#metrics {\"Metrics\": {\"update.time\": {\"count\": 1, \"max\": 791.0730838775635, \"sum\": 791.0730838775635, \"min\": 791.0730838775635}}, \"EndTime\": 1600830952.807507, \"Dimensions\": {\"Host\": \"algo-1\", \"Operation\": \"training\", \"Algorithm\": \"AWS/DeepAR\"}, \"StartTime\": 1600830952.015979}\n",
      "\u001b[0m\n",
      "\u001b[34m[09/23/2020 03:15:52 INFO 140617338906432] #throughput_metric: host=algo-1, train throughput=1581.06268206 records/second\u001b[0m\n",
      "\u001b[34m[09/23/2020 03:15:52 INFO 140617338906432] #progress_metric: host=algo-1, completed 58 % of epochs\u001b[0m\n",
      "\u001b[34m[09/23/2020 03:15:52 INFO 140617338906432] #quality_metric: host=algo-1, epoch=16, train loss <loss>=-0.356620094925\u001b[0m\n",
      "\u001b[34m[09/23/2020 03:15:52 INFO 140617338906432] loss did not improve\u001b[0m\n",
      "\u001b[34m[09/23/2020 03:15:53 INFO 140617338906432] Epoch[17] Batch[0] avg_epoch_loss=-0.570083\u001b[0m\n",
      "\u001b[34m[09/23/2020 03:15:53 INFO 140617338906432] #quality_metric: host=algo-1, epoch=17, batch=0 train loss <loss>=-0.570082902908\u001b[0m\n",
      "\u001b[34m[09/23/2020 03:15:53 INFO 140617338906432] Epoch[17] Batch[5] avg_epoch_loss=-0.531188\u001b[0m\n",
      "\u001b[34m[09/23/2020 03:15:53 INFO 140617338906432] #quality_metric: host=algo-1, epoch=17, batch=5 train loss <loss>=-0.531188214819\u001b[0m\n",
      "\u001b[34m[09/23/2020 03:15:53 INFO 140617338906432] Epoch[17] Batch [5]#011Speed: 3006.62 samples/sec#011loss=-0.531188\u001b[0m\n",
      "\u001b[34m[09/23/2020 03:15:53 INFO 140617338906432] Epoch[17] Batch[10] avg_epoch_loss=-0.647442\u001b[0m\n",
      "\u001b[34m[09/23/2020 03:15:53 INFO 140617338906432] #quality_metric: host=algo-1, epoch=17, batch=10 train loss <loss>=-0.786945855618\u001b[0m\n",
      "\u001b[34m[09/23/2020 03:15:53 INFO 140617338906432] Epoch[17] Batch [10]#011Speed: 3065.60 samples/sec#011loss=-0.786946\u001b[0m\n",
      "\u001b[34m[09/23/2020 03:15:53 INFO 140617338906432] processed a total of 1342 examples\u001b[0m\n",
      "\u001b[34m#metrics {\"Metrics\": {\"update.time\": {\"count\": 1, \"max\": 808.804988861084, \"sum\": 808.804988861084, \"min\": 808.804988861084}}, \"EndTime\": 1600830953.616996, \"Dimensions\": {\"Host\": \"algo-1\", \"Operation\": \"training\", \"Algorithm\": \"AWS/DeepAR\"}, \"StartTime\": 1600830952.807597}\n",
      "\u001b[0m\n",
      "\u001b[34m[09/23/2020 03:15:53 INFO 140617338906432] #throughput_metric: host=algo-1, train throughput=1659.02285477 records/second\u001b[0m\n",
      "\u001b[34m[09/23/2020 03:15:53 INFO 140617338906432] #progress_metric: host=algo-1, completed 62 % of epochs\u001b[0m\n",
      "\u001b[34m[09/23/2020 03:15:53 INFO 140617338906432] #quality_metric: host=algo-1, epoch=17, train loss <loss>=-0.647441687909\u001b[0m\n",
      "\u001b[34m[09/23/2020 03:15:53 INFO 140617338906432] loss did not improve\u001b[0m\n",
      "\u001b[34m[09/23/2020 03:15:54 INFO 140617338906432] Epoch[18] Batch[0] avg_epoch_loss=-0.845761\u001b[0m\n",
      "\u001b[34m[09/23/2020 03:15:54 INFO 140617338906432] #quality_metric: host=algo-1, epoch=18, batch=0 train loss <loss>=-0.845760524273\u001b[0m\n",
      "\u001b[34m[09/23/2020 03:15:54 INFO 140617338906432] Epoch[18] Batch[5] avg_epoch_loss=-0.654385\u001b[0m\n",
      "\u001b[34m[09/23/2020 03:15:54 INFO 140617338906432] #quality_metric: host=algo-1, epoch=18, batch=5 train loss <loss>=-0.654384668916\u001b[0m\n",
      "\u001b[34m[09/23/2020 03:15:54 INFO 140617338906432] Epoch[18] Batch [5]#011Speed: 2947.26 samples/sec#011loss=-0.654385\u001b[0m\n",
      "\u001b[34m[09/23/2020 03:15:54 INFO 140617338906432] processed a total of 1269 examples\u001b[0m\n",
      "\u001b[34m#metrics {\"Metrics\": {\"update.time\": {\"count\": 1, \"max\": 801.8760681152344, \"sum\": 801.8760681152344, \"min\": 801.8760681152344}}, \"EndTime\": 1600830954.41937, \"Dimensions\": {\"Host\": \"algo-1\", \"Operation\": \"training\", \"Algorithm\": \"AWS/DeepAR\"}, \"StartTime\": 1600830953.617066}\n",
      "\u001b[0m\n",
      "\u001b[34m[09/23/2020 03:15:54 INFO 140617338906432] #throughput_metric: host=algo-1, train throughput=1582.32004559 records/second\u001b[0m\n",
      "\u001b[34m[09/23/2020 03:15:54 INFO 140617338906432] #progress_metric: host=algo-1, completed 65 % of epochs\u001b[0m\n",
      "\u001b[34m[09/23/2020 03:15:54 INFO 140617338906432] #quality_metric: host=algo-1, epoch=18, train loss <loss>=-0.64226019457\u001b[0m\n",
      "\u001b[34m[09/23/2020 03:15:54 INFO 140617338906432] loss did not improve\u001b[0m\n",
      "\u001b[34m[09/23/2020 03:15:54 INFO 140617338906432] Epoch[19] Batch[0] avg_epoch_loss=-1.062225\u001b[0m\n",
      "\u001b[34m[09/23/2020 03:15:54 INFO 140617338906432] #quality_metric: host=algo-1, epoch=19, batch=0 train loss <loss>=-1.06222510338\u001b[0m\n",
      "\u001b[34m[09/23/2020 03:15:55 INFO 140617338906432] Epoch[19] Batch[5] avg_epoch_loss=-0.908038\u001b[0m\n",
      "\u001b[34m[09/23/2020 03:15:55 INFO 140617338906432] #quality_metric: host=algo-1, epoch=19, batch=5 train loss <loss>=-0.908037821452\u001b[0m\n",
      "\u001b[34m[09/23/2020 03:15:55 INFO 140617338906432] Epoch[19] Batch [5]#011Speed: 3055.64 samples/sec#011loss=-0.908038\u001b[0m\n",
      "\u001b[34m[09/23/2020 03:15:55 INFO 140617338906432] Epoch[19] Batch[10] avg_epoch_loss=-0.934659\u001b[0m\n",
      "\u001b[34m[09/23/2020 03:15:55 INFO 140617338906432] #quality_metric: host=algo-1, epoch=19, batch=10 train loss <loss>=-0.966604018211\u001b[0m\n",
      "\u001b[34m[09/23/2020 03:15:55 INFO 140617338906432] Epoch[19] Batch [10]#011Speed: 2992.59 samples/sec#011loss=-0.966604\u001b[0m\n",
      "\u001b[34m[09/23/2020 03:15:55 INFO 140617338906432] processed a total of 1322 examples\u001b[0m\n",
      "\u001b[34m#metrics {\"Metrics\": {\"update.time\": {\"count\": 1, \"max\": 847.6669788360596, \"sum\": 847.6669788360596, \"min\": 847.6669788360596}}, \"EndTime\": 1600830955.267667, \"Dimensions\": {\"Host\": \"algo-1\", \"Operation\": \"training\", \"Algorithm\": \"AWS/DeepAR\"}, \"StartTime\": 1600830954.419442}\n",
      "\u001b[0m\n",
      "\u001b[34m[09/23/2020 03:15:55 INFO 140617338906432] #throughput_metric: host=algo-1, train throughput=1559.32649238 records/second\u001b[0m\n",
      "\u001b[34m[09/23/2020 03:15:55 INFO 140617338906432] #progress_metric: host=algo-1, completed 68 % of epochs\u001b[0m\n",
      "\u001b[34m[09/23/2020 03:15:55 INFO 140617338906432] #quality_metric: host=algo-1, epoch=19, train loss <loss>=-0.934658819979\u001b[0m\n",
      "\u001b[34m[09/23/2020 03:15:55 INFO 140617338906432] loss did not improve\u001b[0m\n",
      "\u001b[34m[09/23/2020 03:15:55 INFO 140617338906432] Epoch[20] Batch[0] avg_epoch_loss=-0.847801\u001b[0m\n",
      "\u001b[34m[09/23/2020 03:15:55 INFO 140617338906432] #quality_metric: host=algo-1, epoch=20, batch=0 train loss <loss>=-0.847800552845\u001b[0m\n",
      "\u001b[34m[09/23/2020 03:15:55 INFO 140617338906432] Epoch[20] Batch[5] avg_epoch_loss=-0.739242\u001b[0m\n",
      "\u001b[34m[09/23/2020 03:15:55 INFO 140617338906432] #quality_metric: host=algo-1, epoch=20, batch=5 train loss <loss>=-0.7392419825\u001b[0m\n",
      "\u001b[34m[09/23/2020 03:15:55 INFO 140617338906432] Epoch[20] Batch [5]#011Speed: 3046.81 samples/sec#011loss=-0.739242\u001b[0m\n",
      "\u001b[34m[09/23/2020 03:15:56 INFO 140617338906432] processed a total of 1197 examples\u001b[0m\n",
      "\u001b[34m#metrics {\"Metrics\": {\"update.time\": {\"count\": 1, \"max\": 771.5961933135986, \"sum\": 771.5961933135986, \"min\": 771.5961933135986}}, \"EndTime\": 1600830956.039747, \"Dimensions\": {\"Host\": \"algo-1\", \"Operation\": \"training\", \"Algorithm\": \"AWS/DeepAR\"}, \"StartTime\": 1600830955.267739}\n",
      "\u001b[0m\n",
      "\u001b[34m[09/23/2020 03:15:56 INFO 140617338906432] #throughput_metric: host=algo-1, train throughput=1551.07029612 records/second\u001b[0m\n",
      "\u001b[34m[09/23/2020 03:15:56 INFO 140617338906432] #progress_metric: host=algo-1, completed 72 % of epochs\u001b[0m\n",
      "\u001b[34m[09/23/2020 03:15:56 INFO 140617338906432] #quality_metric: host=algo-1, epoch=20, train loss <loss>=-0.78030590117\u001b[0m\n",
      "\u001b[34m[09/23/2020 03:15:56 INFO 140617338906432] loss did not improve\u001b[0m\n",
      "\u001b[34m[09/23/2020 03:15:56 INFO 140617338906432] Epoch[21] Batch[0] avg_epoch_loss=-0.806942\u001b[0m\n",
      "\u001b[34m[09/23/2020 03:15:56 INFO 140617338906432] #quality_metric: host=algo-1, epoch=21, batch=0 train loss <loss>=-0.806941986084\u001b[0m\n",
      "\u001b[34m[09/23/2020 03:15:56 INFO 140617338906432] Epoch[21] Batch[5] avg_epoch_loss=-0.922316\u001b[0m\n",
      "\u001b[34m[09/23/2020 03:15:56 INFO 140617338906432] #quality_metric: host=algo-1, epoch=21, batch=5 train loss <loss>=-0.922315547864\u001b[0m\n",
      "\u001b[34m[09/23/2020 03:15:56 INFO 140617338906432] Epoch[21] Batch [5]#011Speed: 3076.06 samples/sec#011loss=-0.922316\u001b[0m\n",
      "\u001b[34m[09/23/2020 03:15:56 INFO 140617338906432] processed a total of 1276 examples\u001b[0m\n",
      "\u001b[34m#metrics {\"Metrics\": {\"update.time\": {\"count\": 1, \"max\": 777.9989242553711, \"sum\": 777.9989242553711, \"min\": 777.9989242553711}}, \"EndTime\": 1600830956.818291, \"Dimensions\": {\"Host\": \"algo-1\", \"Operation\": \"training\", \"Algorithm\": \"AWS/DeepAR\"}, \"StartTime\": 1600830956.039841}\n",
      "\u001b[0m\n",
      "\u001b[34m[09/23/2020 03:15:56 INFO 140617338906432] #throughput_metric: host=algo-1, train throughput=1639.89201578 records/second\u001b[0m\n",
      "\u001b[34m[09/23/2020 03:15:56 INFO 140617338906432] #progress_metric: host=algo-1, completed 75 % of epochs\u001b[0m\n",
      "\u001b[34m[09/23/2020 03:15:56 INFO 140617338906432] #quality_metric: host=algo-1, epoch=21, train loss <loss>=-0.934185421467\u001b[0m\n",
      "\u001b[34m[09/23/2020 03:15:56 INFO 140617338906432] loss did not improve\u001b[0m\n",
      "\u001b[34m[09/23/2020 03:15:57 INFO 140617338906432] Epoch[22] Batch[0] avg_epoch_loss=-0.707799\u001b[0m\n",
      "\u001b[34m[09/23/2020 03:15:57 INFO 140617338906432] #quality_metric: host=algo-1, epoch=22, batch=0 train loss <loss>=-0.707799494267\u001b[0m\n",
      "\u001b[34m[09/23/2020 03:15:57 INFO 140617338906432] Epoch[22] Batch[5] avg_epoch_loss=-0.807506\u001b[0m\n",
      "\u001b[34m[09/23/2020 03:15:57 INFO 140617338906432] #quality_metric: host=algo-1, epoch=22, batch=5 train loss <loss>=-0.807505746682\u001b[0m\n",
      "\u001b[34m[09/23/2020 03:15:57 INFO 140617338906432] Epoch[22] Batch [5]#011Speed: 2867.08 samples/sec#011loss=-0.807506\u001b[0m\n",
      "\u001b[34m[09/23/2020 03:15:57 INFO 140617338906432] Epoch[22] Batch[10] avg_epoch_loss=-0.873363\u001b[0m\n",
      "\u001b[34m[09/23/2020 03:15:57 INFO 140617338906432] #quality_metric: host=algo-1, epoch=22, batch=10 train loss <loss>=-0.952392220497\u001b[0m\n",
      "\u001b[34m[09/23/2020 03:15:57 INFO 140617338906432] Epoch[22] Batch [10]#011Speed: 2441.87 samples/sec#011loss=-0.952392\u001b[0m\n",
      "\u001b[34m[09/23/2020 03:15:57 INFO 140617338906432] processed a total of 1317 examples\u001b[0m\n",
      "\u001b[34m#metrics {\"Metrics\": {\"update.time\": {\"count\": 1, \"max\": 871.6280460357666, \"sum\": 871.6280460357666, \"min\": 871.6280460357666}}, \"EndTime\": 1600830957.690422, \"Dimensions\": {\"Host\": \"algo-1\", \"Operation\": \"training\", \"Algorithm\": \"AWS/DeepAR\"}, \"StartTime\": 1600830956.818359}\n",
      "\u001b[0m\n",
      "\u001b[34m[09/23/2020 03:15:57 INFO 140617338906432] #throughput_metric: host=algo-1, train throughput=1510.77344819 records/second\u001b[0m\n",
      "\u001b[34m[09/23/2020 03:15:57 INFO 140617338906432] #progress_metric: host=algo-1, completed 79 % of epochs\u001b[0m\n",
      "\u001b[34m[09/23/2020 03:15:57 INFO 140617338906432] #quality_metric: host=algo-1, epoch=22, train loss <loss>=-0.87336323478\u001b[0m\n",
      "\u001b[34m[09/23/2020 03:15:57 INFO 140617338906432] loss did not improve\u001b[0m\n",
      "\u001b[34m[09/23/2020 03:15:57 INFO 140617338906432] Loading parameters from best epoch (12)\u001b[0m\n",
      "\u001b[34m#metrics {\"Metrics\": {\"state.deserialize.time\": {\"count\": 1, \"max\": 4.525899887084961, \"sum\": 4.525899887084961, \"min\": 4.525899887084961}}, \"EndTime\": 1600830957.695586, \"Dimensions\": {\"Host\": \"algo-1\", \"Operation\": \"training\", \"Algorithm\": \"AWS/DeepAR\"}, \"StartTime\": 1600830957.690494}\n",
      "\u001b[0m\n",
      "\u001b[34m[09/23/2020 03:15:57 INFO 140617338906432] stopping training now\u001b[0m\n",
      "\u001b[34m[09/23/2020 03:15:57 INFO 140617338906432] #progress_metric: host=algo-1, completed 100 % of epochs\u001b[0m\n",
      "\u001b[34m[09/23/2020 03:15:57 INFO 140617338906432] Final loss: -0.996275885539 (occurred at epoch 12)\u001b[0m\n",
      "\u001b[34m[09/23/2020 03:15:57 INFO 140617338906432] #quality_metric: host=algo-1, train final_loss <loss>=-0.996275885539\u001b[0m\n",
      "\u001b[34m[09/23/2020 03:15:57 INFO 140617338906432] Worker algo-1 finished training.\u001b[0m\n",
      "\u001b[34m[09/23/2020 03:15:57 WARNING 140617338906432] wait_for_all_workers will not sync workers since the kv store is not running distributed\u001b[0m\n",
      "\u001b[34m[09/23/2020 03:15:57 INFO 140617338906432] All workers finished. Serializing model for prediction.\u001b[0m\n",
      "\u001b[34m#metrics {\"Metrics\": {\"get_graph.time\": {\"count\": 1, \"max\": 46.185970306396484, \"sum\": 46.185970306396484, \"min\": 46.185970306396484}}, \"EndTime\": 1600830957.742645, \"Dimensions\": {\"Host\": \"algo-1\", \"Operation\": \"training\", \"Algorithm\": \"AWS/DeepAR\"}, \"StartTime\": 1600830957.695631}\n",
      "\u001b[0m\n",
      "\u001b[34m[09/23/2020 03:15:57 INFO 140617338906432] Number of GPUs being used: 0\u001b[0m\n",
      "\u001b[34m#metrics {\"Metrics\": {\"finalize.time\": {\"count\": 1, \"max\": 65.63282012939453, \"sum\": 65.63282012939453, \"min\": 65.63282012939453}}, \"EndTime\": 1600830957.762057, \"Dimensions\": {\"Host\": \"algo-1\", \"Operation\": \"training\", \"Algorithm\": \"AWS/DeepAR\"}, \"StartTime\": 1600830957.742692}\n",
      "\u001b[0m\n",
      "\u001b[34m[09/23/2020 03:15:57 INFO 140617338906432] Serializing to /opt/ml/model/model_algo-1\u001b[0m\n",
      "\u001b[34m[09/23/2020 03:15:57 INFO 140617338906432] Saved checkpoint to \"/opt/ml/model/model_algo-1-0000.params\"\u001b[0m\n",
      "\u001b[34m#metrics {\"Metrics\": {\"model.serialize.time\": {\"count\": 1, \"max\": 3.674030303955078, \"sum\": 3.674030303955078, \"min\": 3.674030303955078}}, \"EndTime\": 1600830957.765831, \"Dimensions\": {\"Host\": \"algo-1\", \"Operation\": \"training\", \"Algorithm\": \"AWS/DeepAR\"}, \"StartTime\": 1600830957.76212}\n",
      "\u001b[0m\n",
      "\u001b[34m[09/23/2020 03:15:57 INFO 140617338906432] Successfully serialized the model for prediction.\u001b[0m\n",
      "\u001b[34m[09/23/2020 03:15:57 INFO 140617338906432] Evaluating model accuracy on testset using 100 samples\u001b[0m\n",
      "\u001b[34m#metrics {\"Metrics\": {\"model.bind.time\": {\"count\": 1, \"max\": 0.03719329833984375, \"sum\": 0.03719329833984375, \"min\": 0.03719329833984375}}, \"EndTime\": 1600830957.766531, \"Dimensions\": {\"Host\": \"algo-1\", \"Operation\": \"training\", \"Algorithm\": \"AWS/DeepAR\"}, \"StartTime\": 1600830957.765874}\n",
      "\u001b[0m\n",
      "\u001b[34m#metrics {\"Metrics\": {\"model.score.time\": {\"count\": 1, \"max\": 1012.8428936004639, \"sum\": 1012.8428936004639, \"min\": 1012.8428936004639}}, \"EndTime\": 1600830958.779336, \"Dimensions\": {\"Host\": \"algo-1\", \"Operation\": \"training\", \"Algorithm\": \"AWS/DeepAR\"}, \"StartTime\": 1600830957.766592}\n",
      "\u001b[0m\n",
      "\u001b[34m[09/23/2020 03:15:58 INFO 140617338906432] #test_score (algo-1, RMSE): 0.0611821763591\u001b[0m\n",
      "\u001b[34m[09/23/2020 03:15:58 INFO 140617338906432] #test_score (algo-1, mean_absolute_QuantileLoss): 0.8431011623806424\u001b[0m\n",
      "\u001b[34m[09/23/2020 03:15:58 INFO 140617338906432] #test_score (algo-1, mean_wQuantileLoss): 0.009565619704555698\u001b[0m\n",
      "\u001b[34m[09/23/2020 03:15:58 INFO 140617338906432] #test_score (algo-1, wQuantileLoss[0.1]): 0.004630783178449296\u001b[0m\n",
      "\u001b[34m[09/23/2020 03:15:58 INFO 140617338906432] #test_score (algo-1, wQuantileLoss[0.2]): 0.006364212153302735\u001b[0m\n",
      "\u001b[34m[09/23/2020 03:15:58 INFO 140617338906432] #test_score (algo-1, wQuantileLoss[0.3]): 0.008371173040777098\u001b[0m\n",
      "\u001b[34m[09/23/2020 03:15:58 INFO 140617338906432] #test_score (algo-1, wQuantileLoss[0.4]): 0.0105654870879187\u001b[0m\n",
      "\u001b[34m[09/23/2020 03:15:58 INFO 140617338906432] #test_score (algo-1, wQuantileLoss[0.5]): 0.01233134461035927\u001b[0m\n",
      "\u001b[34m[09/23/2020 03:15:58 INFO 140617338906432] #test_score (algo-1, wQuantileLoss[0.6]): 0.013824233409282172\u001b[0m\n",
      "\u001b[34m[09/23/2020 03:15:58 INFO 140617338906432] #test_score (algo-1, wQuantileLoss[0.7]): 0.01308273192744021\u001b[0m\n",
      "\u001b[34m[09/23/2020 03:15:58 INFO 140617338906432] #test_score (algo-1, wQuantileLoss[0.8]): 0.010678422462850942\u001b[0m\n",
      "\u001b[34m[09/23/2020 03:15:58 INFO 140617338906432] #test_score (algo-1, wQuantileLoss[0.9]): 0.006242189470620852\u001b[0m\n",
      "\u001b[34m[09/23/2020 03:15:58 INFO 140617338906432] #quality_metric: host=algo-1, test mean_wQuantileLoss <loss>=0.00956561970456\u001b[0m\n",
      "\u001b[34m[09/23/2020 03:15:58 INFO 140617338906432] #quality_metric: host=algo-1, test RMSE <loss>=0.0611821763591\u001b[0m\n",
      "\u001b[34m#metrics {\"Metrics\": {\"totaltime\": {\"count\": 1, \"max\": 21117.401123046875, \"sum\": 21117.401123046875, \"min\": 21117.401123046875}, \"setuptime\": {\"count\": 1, \"max\": 10.059118270874023, \"sum\": 10.059118270874023, \"min\": 10.059118270874023}}, \"EndTime\": 1600830958.789634, \"Dimensions\": {\"Host\": \"algo-1\", \"Operation\": \"training\", \"Algorithm\": \"AWS/DeepAR\"}, \"StartTime\": 1600830958.779416}\n",
      "\u001b[0m\n",
      "Training seconds: 59\n",
      "Billable seconds: 59\n"
     ]
    }
   ],
   "source": [
    "%%time\n",
    "# train and test channels\n",
    "data_channels = {\n",
    "    \"train\": train_path,\n",
    "    \"test\": test_path\n",
    "}\n",
    "\n",
    "# fit the estimator\n",
    "estimator.fit(inputs=data_channels)\n",
    "\n",
    "# # establish new estimator from best_training_job (commented out previous estimator)\n",
    "# estimator_best = sagemaker.estimator.Estimator.attach(hyperparameter_tuner.best_training_job())"
   ]
  },
  {
   "cell_type": "markdown",
   "metadata": {},
   "source": [
    "## Deploy and Create a Predictor"
   ]
  },
  {
   "cell_type": "code",
   "execution_count": 27,
   "metadata": {},
   "outputs": [
    {
     "name": "stderr",
     "output_type": "stream",
     "text": [
      "Parameter image will be renamed to image_uri in SageMaker Python SDK v2.\n"
     ]
    },
    {
     "name": "stdout",
     "output_type": "stream",
     "text": [
      "-------------------!CPU times: user 348 ms, sys: 22.2 ms, total: 370 ms\n",
      "Wall time: 9min 32s\n"
     ]
    }
   ],
   "source": [
    "%%time\n",
    "\n",
    "# create a predictor\n",
    "predictor = estimator.deploy(\n",
    "    initial_instance_count=1,\n",
    "    instance_type='ml.t2.medium',\n",
    "    content_type=\"application/json\" # specify that it will accept/produce JSON\n",
    ")"
   ]
  },
  {
   "cell_type": "markdown",
   "metadata": {},
   "source": [
    "# Generating Predictions\n",
    "\n",
    "According to the DeepAR documentation, the DeepAR predictor expects to see inputa data in JSON format. We need to convert our time series into a JSON instance in order to obtain predicted prices."
   ]
  },
  {
   "cell_type": "code",
   "execution_count": 28,
   "metadata": {},
   "outputs": [],
   "source": [
    "# get all input and target (test) time series\n",
    "input_ts = time_series_training\n",
    "target_ts = time_series\n",
    "\n",
    "# get formatted input time series\n",
    "json_input_ts = sts.json_predictor_input(input_ts)\n",
    "\n",
    "# get the prediction from the predictor\n",
    "json_prediction = predictor.predict(json_input_ts)"
   ]
  },
  {
   "cell_type": "markdown",
   "metadata": {},
   "source": [
    "## Decoding Predictions\n",
    "\n",
    "The predictor also returns a JSON formatted perdiction. Thus, we need to pull out the predictions from the JSON instance.\n",
    "\n",
    "We have written a function in stock_time_series.py that takes in the predictor output and returns a list of predictions in each quantile of interest (0.1, 0.5, 0.9)."
   ]
  },
  {
   "cell_type": "code",
   "execution_count": 29,
   "metadata": {},
   "outputs": [
    {
     "name": "stdout",
     "output_type": "stream",
     "text": [
      "        0.1       0.9       0.5\n",
      "0  3.541544  3.760749  3.649087\n",
      "1  3.565217  3.730749  3.652630\n",
      "2  3.563092  3.737718  3.656353\n",
      "3  3.565251  3.802029  3.668972\n",
      "4  3.567807  3.718397  3.657089\n",
      "5  3.566381  3.720673  3.653865\n",
      "6  3.571459  3.728199  3.654712\n"
     ]
    }
   ],
   "source": [
    "# get quantiles/predictions\n",
    "prediction_list = sts.decode_prediction(json_prediction)\n",
    "\n",
    "# should get a list of predictions (of length prediction_length)\n",
    "# with corresponding quantile values\n",
    "print(prediction_list[0])"
   ]
  },
  {
   "cell_type": "markdown",
   "metadata": {},
   "source": [
    "## Display the Results\n",
    "\n",
    "The quantile data will give us all we need to see the results of our prediction.\n",
    "* Quantiles 0.1 and 0.9 represent higher and lower bounds for the predicted values.\n",
    "* Quantile 0.5 represents the median of all sample predictions.\n"
   ]
  },
  {
   "cell_type": "code",
   "execution_count": 30,
   "metadata": {},
   "outputs": [
    {
     "data": {
      "image/png": "[encoded data removed]",
      "text/plain": [
       "<Figure size 864x432 with 1 Axes>"
      ]
     },
     "metadata": {
      "needs_background": "light"
     },
     "output_type": "display_data"
    },
    {
     "data": {
      "image/png": "[encoded data removed]",
      "text/plain": [
       "<Figure size 864x432 with 1 Axes>"
      ]
     },
     "metadata": {
      "needs_background": "light"
     },
     "output_type": "display_data"
    },
    {
     "data": {
      "image/png": "[encoded data removed]",
      "text/plain": [
       "<Figure size 864x432 with 1 Axes>"
      ]
     },
     "metadata": {
      "needs_background": "light"
     },
     "output_type": "display_data"
    }
   ],
   "source": [
    "# display predictions (0.1, 0.9, 0.5)\n",
    "sts.display_quantiles(prediction_list, prediction_length, target_ts)"
   ]
  },
  {
   "cell_type": "markdown",
   "metadata": {},
   "source": [
    "## Test Prediction of \"Future\" Data\n",
    "\n",
    "Now let's test our model on data it hasn't actually seen -- thus, no target to compare against."
   ]
  },
  {
   "cell_type": "code",
   "execution_count": 31,
   "metadata": {},
   "outputs": [
    {
     "name": "stdout",
     "output_type": "stream",
     "text": [
      "Requesting prediction for 1995-01-03 00:00:00\n"
     ]
    }
   ],
   "source": [
    "# Starting my prediction on first trading day of 1995\n",
    "start_date = '1995-01-03'\n",
    "timestamp = '00:00:00'\n",
    "\n",
    "# formatting start_date\n",
    "start_time = start_date +' '+ timestamp\n",
    "\n",
    "# formatting request_data\n",
    "# this instance has an empty target!\n",
    "request_data = {\"instances\": [{\"start\": start_time, \"target\": []}],\n",
    "                \"configuration\": {\"num_samples\": 50,\n",
    "                                  \"output_types\": [\"quantiles\"],\n",
    "                                  \"quantiles\": ['0.1', '0.5', '0.9']}\n",
    "                }\n",
    "\n",
    "json_input = json.dumps(request_data).encode('utf-8')\n",
    "\n",
    "print('Requesting prediction for '+start_time)"
   ]
  },
  {
   "cell_type": "markdown",
   "metadata": {},
   "source": [
    "Then get and decode the prediction response, as usual."
   ]
  },
  {
   "cell_type": "code",
   "execution_count": 32,
   "metadata": {},
   "outputs": [
    {
     "name": "stdout",
     "output_type": "stream",
     "text": [
      "[        0.1       0.9       0.5\n",
      "0  3.709368  4.056987  3.877950\n",
      "1  3.699284  3.924221  3.817536\n",
      "2  3.800963  4.013462  3.915304\n",
      "3  3.788308  4.074792  3.914015\n",
      "4  3.778774  3.954488  3.881692\n",
      "5  3.786796  3.967690  3.886782\n",
      "6  3.832978  4.022306  3.933504]\n"
     ]
    }
   ],
   "source": [
    "# get prediction response\n",
    "json_prediction = predictor.predict(json_input)\n",
    "\n",
    "prediction_future = sts.decode_prediction(json_prediction)\n",
    "\n",
    "print(prediction_future)"
   ]
  },
  {
   "cell_type": "markdown",
   "metadata": {},
   "source": [
    "We need to compare these predictions to the actual values from the \"future\"."
   ]
  },
  {
   "cell_type": "code",
   "execution_count": 33,
   "metadata": {},
   "outputs": [
    {
     "data": {
      "text/plain": [
       "[Date\n",
       " 1995-01-03    4.497406\n",
       " 1995-01-04    4.497406\n",
       " 1995-01-05    4.508870\n",
       " 1995-01-06    4.486824\n",
       " 1995-01-09    4.442732\n",
       "                 ...   \n",
       " 1995-12-22    6.451270\n",
       " 1995-12-26    6.496308\n",
       " 1995-12-27    6.504415\n",
       " 1995-12-28    6.447303\n",
       " 1995-12-29    6.527079\n",
       " Length: 252, dtype: float64]"
      ]
     },
     "execution_count": 33,
     "metadata": {},
     "output_type": "execute_result"
    }
   ],
   "source": [
    "# create \"future\" time series\n",
    "ts_future = []\n",
    "\n",
    "# get \"future\" data\n",
    "data_future = data[start_date[:-6]]['Adj. Close']\n",
    "\n",
    "ts_future.append(pd.Series(data=data_future.values, index=data_future.index))\n",
    "ts_future"
   ]
  },
  {
   "cell_type": "code",
   "execution_count": 34,
   "metadata": {},
   "outputs": [
    {
     "data": {
      "image/png": "[encoded data removed]",
      "text/plain": [
       "<Figure size 864x432 with 1 Axes>"
      ]
     },
     "metadata": {
      "needs_background": "light"
     },
     "output_type": "display_data"
    }
   ],
   "source": [
    "# range of actual data to compare\n",
    "start_idx=0 # days since Jan 4th 1995\n",
    "end_idx=start_idx+prediction_length\n",
    "\n",
    "# get target data\n",
    "target_future_ts = [ts_future[0][start_idx:end_idx]]\n",
    "\n",
    "# display predictions\n",
    "sts.display_quantiles(prediction_future, prediction_length, target_future_ts)"
   ]
  },
  {
   "cell_type": "markdown",
   "metadata": {},
   "source": [
    "# Naive Model\n",
    "The Naive model can be used as a benchmark to determine how well our model compares at forecasting a predicted value to a near random walk. The Naive model states that the predicted value will be equal to the most recent observable past data point.\n",
    "\n",
    "$Ŷ(t+h|t) = Y(t)$"
   ]
  },
  {
   "cell_type": "code",
   "execution_count": 87,
   "metadata": {},
   "outputs": [
    {
     "data": {
      "text/html": [
       "<div>\n",
       "<style scoped>\n",
       "    .dataframe tbody tr th:only-of-type {\n",
       "        vertical-align: middle;\n",
       "    }\n",
       "\n",
       "    .dataframe tbody tr th {\n",
       "        vertical-align: top;\n",
       "    }\n",
       "\n",
       "    .dataframe thead th {\n",
       "        text-align: right;\n",
       "    }\n",
       "</style>\n",
       "<table border=\"1\" class=\"dataframe\">\n",
       "  <thead>\n",
       "    <tr style=\"text-align: right;\">\n",
       "      <th></th>\n",
       "      <th>0</th>\n",
       "    </tr>\n",
       "  </thead>\n",
       "  <tbody>\n",
       "    <tr>\n",
       "      <th>0</th>\n",
       "      <td>4.497406</td>\n",
       "    </tr>\n",
       "    <tr>\n",
       "      <th>1</th>\n",
       "      <td>4.497406</td>\n",
       "    </tr>\n",
       "    <tr>\n",
       "      <th>2</th>\n",
       "      <td>4.508870</td>\n",
       "    </tr>\n",
       "    <tr>\n",
       "      <th>3</th>\n",
       "      <td>4.486824</td>\n",
       "    </tr>\n",
       "    <tr>\n",
       "      <th>4</th>\n",
       "      <td>4.442732</td>\n",
       "    </tr>\n",
       "    <tr>\n",
       "      <th>5</th>\n",
       "      <td>4.475360</td>\n",
       "    </tr>\n",
       "    <tr>\n",
       "      <th>6</th>\n",
       "      <td>4.541498</td>\n",
       "    </tr>\n",
       "  </tbody>\n",
       "</table>\n",
       "</div>"
      ],
      "text/plain": [
       "          0\n",
       "0  4.497406\n",
       "1  4.497406\n",
       "2  4.508870\n",
       "3  4.486824\n",
       "4  4.442732\n",
       "5  4.475360\n",
       "6  4.541498"
      ]
     },
     "execution_count": 87,
     "metadata": {},
     "output_type": "execute_result"
    }
   ],
   "source": [
    "target = pd.DataFrame(target_future_ts[0]).reset_index()\n",
    "target = target.drop(columns='Date')\n",
    "target"
   ]
  },
  {
   "cell_type": "code",
   "execution_count": 88,
   "metadata": {},
   "outputs": [
    {
     "data": {
      "text/plain": [
       "<matplotlib.legend.Legend at 0x7f54b31b6908>"
      ]
     },
     "execution_count": 88,
     "metadata": {},
     "output_type": "execute_result"
    },
    {
     "data": {
      "image/png": "[encoded data removed]",
      "text/plain": [
       "<Figure size 432x288 with 1 Axes>"
      ]
     },
     "metadata": {
      "needs_background": "light"
     },
     "output_type": "display_data"
    }
   ],
   "source": [
    "naive_data = data['1994-12-30':'1995-01-10']['Adj. Close']\n",
    "naive_data = naive_data.reset_index()\n",
    "naive_data = naive_data.drop(columns='Date')\n",
    "naive_data\n",
    "plt.plot(naive_data, label='Naive')\n",
    "plt.plot(prediction_future[0]['0.5'], label='Predicted median')\n",
    "plt.plot(target, label='Target')\n",
    "plt.legend()"
   ]
  },
  {
   "cell_type": "markdown",
   "metadata": {},
   "source": [
    "# Accuracy\n",
    "\n",
    "We'll define the accuracy of our model using a percentage difference calculation, or mean average percentage error (MAPE). MAPE provides us with a unitary stastical measure for the accuracy of an entire time series over a given period. We'll calculate per the provided formula.\n",
    "\n",
    "${\\mbox{M}}={\\frac  {1}{n}}\\sum _{{t=1}}^{n}\\left|{\\frac  {A_{t}-F_{t}}{A_{t}}}\\right|$\n",
    "\n",
    "where $n$ is the number of fitted periods, $A_t$ is the actual value and $F_t$ is the forecast value."
   ]
  },
  {
   "cell_type": "code",
   "execution_count": 94,
   "metadata": {},
   "outputs": [
    {
     "data": {
      "text/plain": [
       "13.426961142950972"
      ]
     },
     "execution_count": 94,
     "metadata": {},
     "output_type": "execute_result"
    }
   ],
   "source": [
    "def mape(benchmark, target_future_ts):\n",
    "    mape_ts = [100 * abs(benchmark[i] - target_future_ts[0][i])/target_future_ts[0][i] for i in range(len(target_future_ts[0]))]\n",
    "    return sum(mape_ts)/prediction_length\n",
    "\n",
    "# Calculate MAPE (in PERCENTAGE) for our DeepAR model\n",
    "mape(prediction_future[0]['0.5'], target_future_ts)"
   ]
  },
  {
   "cell_type": "code",
   "execution_count": 105,
   "metadata": {
    "scrolled": true
   },
   "outputs": [],
   "source": [
    "naive_data = pd.Series(naive_data['Adj. Close'].values)"
   ]
  },
  {
   "cell_type": "code",
   "execution_count": 106,
   "metadata": {},
   "outputs": [
    {
     "data": {
      "text/plain": [
       "0.5604911581883982"
      ]
     },
     "execution_count": 106,
     "metadata": {},
     "output_type": "execute_result"
    }
   ],
   "source": [
    "# Calculate MAPE for Naive\n",
    "mape(naive_data, target_future_ts)"
   ]
  },
  {
   "cell_type": "markdown",
   "metadata": {},
   "source": [
    "## Delete the Endpoint"
   ]
  },
  {
   "cell_type": "code",
   "execution_count": 100,
   "metadata": {},
   "outputs": [],
   "source": [
    "## TODO: delete the endpoint\n",
    "predictor.delete_endpoint()"
   ]
  },
  {
   "cell_type": "code",
   "execution_count": null,
   "metadata": {},
   "outputs": [],
   "source": []
  }
 ],
 "metadata": {
  "kernelspec": {
   "display_name": "conda_python3",
   "language": "python",
   "name": "conda_python3"
  },
  "language_info": {
   "codemirror_mode": {
    "name": "ipython",
    "version": 3
   },
   "file_extension": ".py",
   "mimetype": "text/x-python",
   "name": "python",
   "nbconvert_exporter": "python",
   "pygments_lexer": "ipython3",
   "version": "3.6.10"
  }
 },
 "nbformat": 4,
 "nbformat_minor": 4
}
