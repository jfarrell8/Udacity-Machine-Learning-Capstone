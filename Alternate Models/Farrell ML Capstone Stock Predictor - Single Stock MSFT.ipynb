{
 "cells": [
  {
   "cell_type": "code",
   "execution_count": 1,
   "metadata": {},
   "outputs": [
    {
     "name": "stdout",
     "output_type": "stream",
     "text": [
      "Requirement already satisfied: quandl in /home/ec2-user/anaconda3/envs/python3/lib/python3.6/site-packages (3.5.2)\n",
      "Requirement already satisfied: python-dateutil in /home/ec2-user/anaconda3/envs/python3/lib/python3.6/site-packages (from quandl) (2.8.1)\n",
      "Requirement already satisfied: pandas>=0.14 in /home/ec2-user/anaconda3/envs/python3/lib/python3.6/site-packages (from quandl) (1.0.5)\n",
      "Requirement already satisfied: numpy>=1.8 in /home/ec2-user/anaconda3/envs/python3/lib/python3.6/site-packages (from quandl) (1.18.1)\n",
      "Requirement already satisfied: more-itertools in /home/ec2-user/anaconda3/envs/python3/lib/python3.6/site-packages (from quandl) (8.2.0)\n",
      "Requirement already satisfied: requests>=2.7.0 in /home/ec2-user/anaconda3/envs/python3/lib/python3.6/site-packages (from quandl) (2.23.0)\n",
      "Requirement already satisfied: inflection>=0.3.1 in /home/ec2-user/anaconda3/envs/python3/lib/python3.6/site-packages (from quandl) (0.5.1)\n",
      "Requirement already satisfied: six in /home/ec2-user/anaconda3/envs/python3/lib/python3.6/site-packages (from quandl) (1.14.0)\n",
      "Requirement already satisfied: pytz>=2017.2 in /home/ec2-user/anaconda3/envs/python3/lib/python3.6/site-packages (from pandas>=0.14->quandl) (2019.3)\n",
      "Requirement already satisfied: urllib3!=1.25.0,!=1.25.1,<1.26,>=1.21.1 in /home/ec2-user/anaconda3/envs/python3/lib/python3.6/site-packages (from requests>=2.7.0->quandl) (1.25.8)\n",
      "Requirement already satisfied: certifi>=2017.4.17 in /home/ec2-user/anaconda3/envs/python3/lib/python3.6/site-packages (from requests>=2.7.0->quandl) (2020.6.20)\n",
      "Requirement already satisfied: chardet<4,>=3.0.2 in /home/ec2-user/anaconda3/envs/python3/lib/python3.6/site-packages (from requests>=2.7.0->quandl) (3.0.4)\n",
      "Requirement already satisfied: idna<3,>=2.5 in /home/ec2-user/anaconda3/envs/python3/lib/python3.6/site-packages (from requests>=2.7.0->quandl) (2.9)\n",
      "\u001b[33mWARNING: You are using pip version 20.0.2; however, version 20.2.3 is available.\n",
      "You should consider upgrading via the '/home/ec2-user/anaconda3/envs/python3/bin/python -m pip install --upgrade pip' command.\u001b[0m\n",
      "Note: you may need to restart the kernel to use updated packages.\n"
     ]
    }
   ],
   "source": [
    "# install quandl library\n",
    "%pip install quandl"
   ]
  },
  {
   "cell_type": "code",
   "execution_count": 2,
   "metadata": {},
   "outputs": [],
   "source": [
    "import pandas as pd\n",
    "import numpy as np\n",
    "import matplotlib.pyplot as plt\n",
    "%matplotlib inline\n",
    "import quandl\n",
    "import json\n",
    "import os\n",
    "import stock_time_series as sts\n",
    "%load_ext autoreload\n",
    "%autoreload 2\n",
    "\n",
    "quandl.ApiConfig.api_key = 'z6KvEMELxCcG-Kb72EYY'"
   ]
  },
  {
   "cell_type": "code",
   "execution_count": 3,
   "metadata": {},
   "outputs": [
    {
     "data": {
      "text/html": [
       "<div>\n",
       "<style scoped>\n",
       "    .dataframe tbody tr th:only-of-type {\n",
       "        vertical-align: middle;\n",
       "    }\n",
       "\n",
       "    .dataframe tbody tr th {\n",
       "        vertical-align: top;\n",
       "    }\n",
       "\n",
       "    .dataframe thead th {\n",
       "        text-align: right;\n",
       "    }\n",
       "</style>\n",
       "<table border=\"1\" class=\"dataframe\">\n",
       "  <thead>\n",
       "    <tr style=\"text-align: right;\">\n",
       "      <th></th>\n",
       "      <th>Open</th>\n",
       "      <th>High</th>\n",
       "      <th>Low</th>\n",
       "      <th>Close</th>\n",
       "      <th>Volume</th>\n",
       "      <th>Ex-Dividend</th>\n",
       "      <th>Split Ratio</th>\n",
       "      <th>Adj. Open</th>\n",
       "      <th>Adj. High</th>\n",
       "      <th>Adj. Low</th>\n",
       "      <th>Adj. Close</th>\n",
       "      <th>Adj. Volume</th>\n",
       "    </tr>\n",
       "    <tr>\n",
       "      <th>Date</th>\n",
       "      <th></th>\n",
       "      <th></th>\n",
       "      <th></th>\n",
       "      <th></th>\n",
       "      <th></th>\n",
       "      <th></th>\n",
       "      <th></th>\n",
       "      <th></th>\n",
       "      <th></th>\n",
       "      <th></th>\n",
       "      <th></th>\n",
       "      <th></th>\n",
       "    </tr>\n",
       "  </thead>\n",
       "  <tbody>\n",
       "    <tr>\n",
       "      <th>1986-03-13</th>\n",
       "      <td>25.500</td>\n",
       "      <td>29.250</td>\n",
       "      <td>25.50</td>\n",
       "      <td>28.00</td>\n",
       "      <td>3582600.0</td>\n",
       "      <td>0.0</td>\n",
       "      <td>1.0</td>\n",
       "      <td>0.058941</td>\n",
       "      <td>0.067609</td>\n",
       "      <td>0.058941</td>\n",
       "      <td>0.064720</td>\n",
       "      <td>1.031789e+09</td>\n",
       "    </tr>\n",
       "    <tr>\n",
       "      <th>1986-03-14</th>\n",
       "      <td>28.000</td>\n",
       "      <td>29.500</td>\n",
       "      <td>28.00</td>\n",
       "      <td>29.00</td>\n",
       "      <td>1070000.0</td>\n",
       "      <td>0.0</td>\n",
       "      <td>1.0</td>\n",
       "      <td>0.064720</td>\n",
       "      <td>0.068187</td>\n",
       "      <td>0.064720</td>\n",
       "      <td>0.067031</td>\n",
       "      <td>3.081600e+08</td>\n",
       "    </tr>\n",
       "    <tr>\n",
       "      <th>1986-03-17</th>\n",
       "      <td>29.000</td>\n",
       "      <td>29.750</td>\n",
       "      <td>29.00</td>\n",
       "      <td>29.50</td>\n",
       "      <td>462400.0</td>\n",
       "      <td>0.0</td>\n",
       "      <td>1.0</td>\n",
       "      <td>0.067031</td>\n",
       "      <td>0.068765</td>\n",
       "      <td>0.067031</td>\n",
       "      <td>0.068187</td>\n",
       "      <td>1.331712e+08</td>\n",
       "    </tr>\n",
       "    <tr>\n",
       "      <th>1986-03-18</th>\n",
       "      <td>29.500</td>\n",
       "      <td>29.750</td>\n",
       "      <td>28.50</td>\n",
       "      <td>28.75</td>\n",
       "      <td>235300.0</td>\n",
       "      <td>0.0</td>\n",
       "      <td>1.0</td>\n",
       "      <td>0.068187</td>\n",
       "      <td>0.068765</td>\n",
       "      <td>0.065876</td>\n",
       "      <td>0.066454</td>\n",
       "      <td>6.776640e+07</td>\n",
       "    </tr>\n",
       "    <tr>\n",
       "      <th>1986-03-19</th>\n",
       "      <td>28.750</td>\n",
       "      <td>29.000</td>\n",
       "      <td>28.00</td>\n",
       "      <td>28.25</td>\n",
       "      <td>166300.0</td>\n",
       "      <td>0.0</td>\n",
       "      <td>1.0</td>\n",
       "      <td>0.066454</td>\n",
       "      <td>0.067031</td>\n",
       "      <td>0.064720</td>\n",
       "      <td>0.065298</td>\n",
       "      <td>4.789440e+07</td>\n",
       "    </tr>\n",
       "    <tr>\n",
       "      <th>...</th>\n",
       "      <td>...</td>\n",
       "      <td>...</td>\n",
       "      <td>...</td>\n",
       "      <td>...</td>\n",
       "      <td>...</td>\n",
       "      <td>...</td>\n",
       "      <td>...</td>\n",
       "      <td>...</td>\n",
       "      <td>...</td>\n",
       "      <td>...</td>\n",
       "      <td>...</td>\n",
       "      <td>...</td>\n",
       "    </tr>\n",
       "    <tr>\n",
       "      <th>2018-03-21</th>\n",
       "      <td>92.930</td>\n",
       "      <td>94.050</td>\n",
       "      <td>92.21</td>\n",
       "      <td>92.48</td>\n",
       "      <td>23753263.0</td>\n",
       "      <td>0.0</td>\n",
       "      <td>1.0</td>\n",
       "      <td>92.930000</td>\n",
       "      <td>94.050000</td>\n",
       "      <td>92.210000</td>\n",
       "      <td>92.480000</td>\n",
       "      <td>2.375326e+07</td>\n",
       "    </tr>\n",
       "    <tr>\n",
       "      <th>2018-03-22</th>\n",
       "      <td>91.265</td>\n",
       "      <td>91.750</td>\n",
       "      <td>89.66</td>\n",
       "      <td>89.79</td>\n",
       "      <td>37578166.0</td>\n",
       "      <td>0.0</td>\n",
       "      <td>1.0</td>\n",
       "      <td>91.265000</td>\n",
       "      <td>91.750000</td>\n",
       "      <td>89.660000</td>\n",
       "      <td>89.790000</td>\n",
       "      <td>3.757817e+07</td>\n",
       "    </tr>\n",
       "    <tr>\n",
       "      <th>2018-03-23</th>\n",
       "      <td>89.500</td>\n",
       "      <td>90.460</td>\n",
       "      <td>87.08</td>\n",
       "      <td>87.18</td>\n",
       "      <td>42159397.0</td>\n",
       "      <td>0.0</td>\n",
       "      <td>1.0</td>\n",
       "      <td>89.500000</td>\n",
       "      <td>90.460000</td>\n",
       "      <td>87.080000</td>\n",
       "      <td>87.180000</td>\n",
       "      <td>4.215940e+07</td>\n",
       "    </tr>\n",
       "    <tr>\n",
       "      <th>2018-03-26</th>\n",
       "      <td>90.610</td>\n",
       "      <td>94.000</td>\n",
       "      <td>90.40</td>\n",
       "      <td>93.78</td>\n",
       "      <td>55031149.0</td>\n",
       "      <td>0.0</td>\n",
       "      <td>1.0</td>\n",
       "      <td>90.610000</td>\n",
       "      <td>94.000000</td>\n",
       "      <td>90.400000</td>\n",
       "      <td>93.780000</td>\n",
       "      <td>5.503115e+07</td>\n",
       "    </tr>\n",
       "    <tr>\n",
       "      <th>2018-03-27</th>\n",
       "      <td>94.940</td>\n",
       "      <td>95.139</td>\n",
       "      <td>88.51</td>\n",
       "      <td>89.47</td>\n",
       "      <td>53704562.0</td>\n",
       "      <td>0.0</td>\n",
       "      <td>1.0</td>\n",
       "      <td>94.940000</td>\n",
       "      <td>95.139000</td>\n",
       "      <td>88.510000</td>\n",
       "      <td>89.470000</td>\n",
       "      <td>5.370456e+07</td>\n",
       "    </tr>\n",
       "  </tbody>\n",
       "</table>\n",
       "<p>8076 rows × 12 columns</p>\n",
       "</div>"
      ],
      "text/plain": [
       "              Open    High    Low  Close      Volume  Ex-Dividend  \\\n",
       "Date                                                                \n",
       "1986-03-13  25.500  29.250  25.50  28.00   3582600.0          0.0   \n",
       "1986-03-14  28.000  29.500  28.00  29.00   1070000.0          0.0   \n",
       "1986-03-17  29.000  29.750  29.00  29.50    462400.0          0.0   \n",
       "1986-03-18  29.500  29.750  28.50  28.75    235300.0          0.0   \n",
       "1986-03-19  28.750  29.000  28.00  28.25    166300.0          0.0   \n",
       "...            ...     ...    ...    ...         ...          ...   \n",
       "2018-03-21  92.930  94.050  92.21  92.48  23753263.0          0.0   \n",
       "2018-03-22  91.265  91.750  89.66  89.79  37578166.0          0.0   \n",
       "2018-03-23  89.500  90.460  87.08  87.18  42159397.0          0.0   \n",
       "2018-03-26  90.610  94.000  90.40  93.78  55031149.0          0.0   \n",
       "2018-03-27  94.940  95.139  88.51  89.47  53704562.0          0.0   \n",
       "\n",
       "            Split Ratio  Adj. Open  Adj. High   Adj. Low  Adj. Close  \\\n",
       "Date                                                                   \n",
       "1986-03-13          1.0   0.058941   0.067609   0.058941    0.064720   \n",
       "1986-03-14          1.0   0.064720   0.068187   0.064720    0.067031   \n",
       "1986-03-17          1.0   0.067031   0.068765   0.067031    0.068187   \n",
       "1986-03-18          1.0   0.068187   0.068765   0.065876    0.066454   \n",
       "1986-03-19          1.0   0.066454   0.067031   0.064720    0.065298   \n",
       "...                 ...        ...        ...        ...         ...   \n",
       "2018-03-21          1.0  92.930000  94.050000  92.210000   92.480000   \n",
       "2018-03-22          1.0  91.265000  91.750000  89.660000   89.790000   \n",
       "2018-03-23          1.0  89.500000  90.460000  87.080000   87.180000   \n",
       "2018-03-26          1.0  90.610000  94.000000  90.400000   93.780000   \n",
       "2018-03-27          1.0  94.940000  95.139000  88.510000   89.470000   \n",
       "\n",
       "             Adj. Volume  \n",
       "Date                      \n",
       "1986-03-13  1.031789e+09  \n",
       "1986-03-14  3.081600e+08  \n",
       "1986-03-17  1.331712e+08  \n",
       "1986-03-18  6.776640e+07  \n",
       "1986-03-19  4.789440e+07  \n",
       "...                  ...  \n",
       "2018-03-21  2.375326e+07  \n",
       "2018-03-22  3.757817e+07  \n",
       "2018-03-23  4.215940e+07  \n",
       "2018-03-26  5.503115e+07  \n",
       "2018-03-27  5.370456e+07  \n",
       "\n",
       "[8076 rows x 12 columns]"
      ]
     },
     "execution_count": 3,
     "metadata": {},
     "output_type": "execute_result"
    }
   ],
   "source": [
    "# Capture a single stock using quandl API\n",
    "stocks = ['MSFT']\n",
    "\n",
    "# Define years of interest to model against\n",
    "start_year = '1992'\n",
    "end_year = '1994'\n",
    "data = quandl.get(\"WIKI/\"+stocks[0])\n",
    "data"
   ]
  },
  {
   "cell_type": "code",
   "execution_count": 4,
   "metadata": {},
   "outputs": [
    {
     "data": {
      "text/plain": [
       "[<matplotlib.lines.Line2D at 0x7fddc75fa9b0>]"
      ]
     },
     "execution_count": 4,
     "metadata": {},
     "output_type": "execute_result"
    },
    {
     "data": {
      "image/png": "[encoded data removed]",
      "text/plain": [
       "<Figure size 432x288 with 1 Axes>"
      ]
     },
     "metadata": {
      "needs_background": "light"
     },
     "output_type": "display_data"
    }
   ],
   "source": [
    "# Plot stock price of individual stock for Adjusted Close price and given years to train against\n",
    "plt.plot(data['Adj. Close'][start_year:end_year])"
   ]
  },
  {
   "cell_type": "markdown",
   "metadata": {},
   "source": [
    "# DeepAR Algorithm\n",
    "\n",
    "We'll be using the DeepAR Algorithm ([DeepAR](https://docs.aws.amazon.com/sagemaker/latest/dg/deepar.html)) to help us predict future stock values.\n",
    "\n",
    "I won't get into DeepAR to in detail as the documentation is provided, but DeepAR works best on a large set of similar time series data. We'll convert adjusted close stock prices of the selected stock(s) into individualized prices by year for each stock. To do so, we'll have to convert the dataframe data into a time series of stock prices per year. We'll do that next."
   ]
  },
  {
   "cell_type": "markdown",
   "metadata": {},
   "source": [
    "# Convert DataFrame into Time Series\n",
    "\n",
    "Using Adjusted Close daily data, we need to create a time series where individual adjusted closing prices are separated by year. This will provide individual time series data per year for the DeepAR model to train with."
   ]
  },
  {
   "cell_type": "code",
   "execution_count": 5,
   "metadata": {},
   "outputs": [],
   "source": [
    "time_series = sts.make_time_series(data, sts.range_to_years(start_year, end_year))"
   ]
  },
  {
   "cell_type": "code",
   "execution_count": 6,
   "metadata": {},
   "outputs": [
    {
     "data": {
      "text/plain": [
       "[Date\n",
       " 1992-01-02    1.581017\n",
       " 1992-01-03    1.567148\n",
       " 1992-01-06    1.615688\n",
       " 1992-01-07    1.664228\n",
       " 1992-01-08    1.723169\n",
       "                 ...   \n",
       " 1992-12-24    1.815049\n",
       " 1992-12-28    1.820249\n",
       " 1992-12-29    1.799447\n",
       " 1992-12-30    1.786341\n",
       " 1992-12-31    1.775939\n",
       " Name: Adj. Close, Length: 254, dtype: float64,\n",
       " Date\n",
       " 1993-01-04    1.770739\n",
       " 1993-01-05    1.799447\n",
       " 1993-01-06    1.851454\n",
       " 1993-01-07    1.815049\n",
       " 1993-01-08    1.812344\n",
       "                 ...   \n",
       " 1993-12-27    1.674629\n",
       " 1993-12-28    1.721436\n",
       " 1993-12-29    1.695432\n",
       " 1993-12-30    1.690232\n",
       " 1993-12-31    1.677126\n",
       " Name: Adj. Close, Length: 253, dtype: float64,\n",
       " Date\n",
       " 1994-01-03    1.666724\n",
       " 1994-01-04    1.674629\n",
       " 1994-01-05    1.711034\n",
       " 1994-01-06    1.760337\n",
       " 1994-01-07    1.773443\n",
       "                 ...   \n",
       " 1994-12-23    2.532955\n",
       " 1994-12-27    2.527546\n",
       " 1994-12-28    2.537948\n",
       " 1994-12-29    2.571648\n",
       " 1994-12-30    2.543357\n",
       " Name: Adj. Close, Length: 252, dtype: float64]"
      ]
     },
     "execution_count": 6,
     "metadata": {},
     "output_type": "execute_result"
    }
   ],
   "source": [
    "time_series"
   ]
  },
  {
   "cell_type": "code",
   "execution_count": 7,
   "metadata": {},
   "outputs": [],
   "source": [
    "# set prediction length\n",
    "prediction_length = 7    # days\n",
    "\n",
    "time_series_training = sts.create_training_series(time_series, prediction_length)"
   ]
  },
  {
   "cell_type": "code",
   "execution_count": 8,
   "metadata": {},
   "outputs": [
    {
     "data": {
      "image/png": "[encoded data removed]",
      "text/plain": [
       "<Figure size 1080x576 with 1 Axes>"
      ]
     },
     "metadata": {
      "needs_background": "light"
     },
     "output_type": "display_data"
    }
   ],
   "source": [
    "# display train/test time series\n",
    "time_series_idx = 0\n",
    "\n",
    "plt.figure(figsize=(15,8))\n",
    "# test data is the whole time series\n",
    "time_series[time_series_idx].plot(label='test', lw=3)\n",
    "# train data is all but the last prediction pts\n",
    "time_series_training[time_series_idx].plot(label='train', ls=':', lw=3)\n",
    "\n",
    "plt.legend()\n",
    "plt.show()"
   ]
  },
  {
   "cell_type": "markdown",
   "metadata": {},
   "source": [
    "# Convert DataFrame/Series to JSON\n",
    "\n",
    "DeepAR algorithm requires JSON object input. Need to convert time series data to JSON object."
   ]
  },
  {
   "cell_type": "code",
   "execution_count": 9,
   "metadata": {},
   "outputs": [
    {
     "name": "stdout",
     "output_type": "stream",
     "text": [
      "{'start': '1992-01-02 00:00:00', 'target': [1.5810166450517, 1.5671480779899, 1.6156880627064, 1.6642280474229, 1.7231694574358, 1.7647751586213, 1.7370380244976, 1.7629722449033, 1.7786437256832, 1.8237165686342, 1.7717094421523, 1.7543737333249, 1.6988994650775, 1.6554908501739, 1.7405051662631, 1.7335708827321, 1.7283008272486, 1.6728265590012, 1.6746294727193, 1.7266365992012, 1.7127680321394, 1.6676951891883, 1.7335708827321, 1.7266365992012, 1.7647751586213, 1.7509065915595, 1.7439723080285, 1.7266365992012, 1.6988994650775, 1.7439723080285, 1.6988994650775, 1.6434251968301, 1.6399580550646, 1.596549440161, 1.6295566297682, 1.5879509285826, 1.5930822983955, 1.60528663741, 1.6919651815466, 1.7317679690141, 1.7127680321394, 1.7058337486084, 1.7093008903739, 1.6988994650775, 1.6815637562502, 1.6399580550646, 1.650359480361, 1.6884980397811, 1.6676951891883, 1.6797608425321, 1.6780966144847, 1.7231694574358, 1.7751765839177, 1.7525708196069, 1.7682423003868, 1.7821108674486, 1.7821108674486, 1.7682423003868, 1.7821108674486, 1.7335708827321, 1.6815637562502, 1.6642280474229, 1.6434251968301, 1.6711623309538, 1.6226223462373, 1.6295566297682, 1.6815637562502, 1.6087537791754, 1.6260894880028, 1.6642280474229, 1.6087537791754, 1.6295566297682, 1.6226223462373, 1.7873809229322, 1.7699065284342, 1.6381551413466, 1.6104180072229, 1.6312208578156, 1.60528663741, 1.5567466526935, 1.5706152197553, 1.5116738097424, 1.544542313679, 1.5290095185698, 1.5775495032863, 1.5810166450517, 1.6156880627064, 1.6087537791754, 1.5948852121136, 1.5879509285826, 1.5810166450517, 1.5844837868172, 1.5636809362244, 1.5359438021007, 1.5255423768043, 1.5636809362244, 1.5879509285826, 1.6191552044718, 1.6173522907538, 1.60528663741, 1.6018194956445, 1.5948852121136, 1.650359480361, 1.6780966144847, 1.7231694574358, 1.7040308348904, 1.7058337486084, 1.7005636931249, 1.6780966144847, 1.6399580550646, 1.5948852121136, 1.5602137944589, 1.4978052426806, 1.5602137944589, 1.5758159324035, 1.5134073806252, 1.5055022973999, 1.5030059553288, 1.5290095185698, 1.5446116565143, 1.5290095185698, 1.5030059553288, 1.456199541495, 1.3885902770685, 1.5030059553288, 1.456199541495, 1.5003015847517, 1.4534951709179, 1.4457981161986, 1.4145938403094, 1.427491607677, 1.4353966909022, 1.4457981161986, 1.456199541495, 1.4794987341589, 1.4874038173842, 1.5030059553288, 1.4614002541432, 1.4405974035504, 1.4926045300324, 1.456199541495, 1.4770023920878, 1.5134073806252, 1.5186080932734, 1.5394109438661, 1.5394109438661, 1.5211044353445, 1.5134073806252, 1.534210231218, 1.5367065732891, 1.4978052426806, 1.4874038173842, 1.4718016794396, 1.4742980215107, 1.4846994468071, 1.4770023920878, 1.4742980215107, 1.4770023920878, 1.4457981161986, 1.4457981161986, 1.4405974035504, 1.4638965962143, 1.4509988288468, 1.4353966909022, 1.4638965962143, 1.4899001594553, 1.5315058606409, 1.5471079985855, 1.5498123691625, 1.5498123691625, 1.5679108491783, 1.5939144124192, 1.5810166450517, 1.5966187829963, 1.6251186883084, 1.6434251968301, 1.6382244841819, 1.7006330359602, 1.6902316106638, 1.6719251021422, 1.6875272400868, 1.6615236768458, 1.6459215389012, 1.6174216335891, 1.6459215389012, 1.6694287600711, 1.6382244841819, 1.6018194956445, 1.6382244841819, 1.6746294727193, 1.6563229641976, 1.6382244841819, 1.7006330359602, 1.7162351739048, 1.6875272400868, 1.7343336539206, 1.7135308033278, 1.7447350792169, 1.7526401624422, 1.7370380244976, 1.7578408750904, 1.7759393551061, 1.8279464815881, 1.8279464815881, 1.8722565533507, 1.8670558407025, 1.8435486195327, 1.8722565533507, 1.8306508521651, 1.8410522774615, 1.8722565533507, 1.8462529901097, 1.8643514701255, 1.8358515648133, 1.8410522774615, 1.9111578839592, 1.9294643924809, 1.9111578839592, 1.931960734552, 1.9502672430737, 1.9450665304255, 1.9398658177773, 1.9294643924809, 1.8722565533507, 1.9138622545363, 1.9554679557219, 1.9762708063146, 1.8410522774615, 1.9034608292399, 1.8955557460146, 1.9086615418881, 1.9371614472002, 1.9371614472002, 1.8878586912953, 1.905957171311, 1.9086615418881, 1.9423621598484, 1.9242636798327, 1.9138622545363, 1.8514537027579, 1.7967422056989, 1.8123443436435, 1.7967422056989, 1.8098480015724, 1.8722565533507, 1.8722565533507, 1.8826579786471, 1.825450139517, 1.8150487142206, 1.8150487142206, 1.8202494268688, 1.799446576276, 1.7863407804025, 1.7759393551061]}\n"
     ]
    }
   ],
   "source": [
    "# test out the code\n",
    "ts = time_series[0]\n",
    "\n",
    "json_obj = sts.series_to_json_obj(ts)\n",
    "print(json_obj)"
   ]
  },
  {
   "cell_type": "code",
   "execution_count": 10,
   "metadata": {},
   "outputs": [],
   "source": [
    "# save this data to a local directory\n",
    "data_dir = 'json_stock_data'\n",
    "\n",
    "# make data dir, if it does not exist\n",
    "if not os.path.exists(data_dir):\n",
    "    os.makedirs(data_dir)"
   ]
  },
  {
   "cell_type": "code",
   "execution_count": 11,
   "metadata": {},
   "outputs": [
    {
     "name": "stdout",
     "output_type": "stream",
     "text": [
      "json_stock_data/MSFT_train.json saved.\n",
      "json_stock_data/MSFT_test.json saved.\n"
     ]
    }
   ],
   "source": [
    "# directories to save train/test data\n",
    "train_key = os.path.join(data_dir, stocks[0] + '_train.json')\n",
    "test_key = os.path.join(data_dir, stocks[0] + '_test.json')\n",
    "\n",
    "# write train/test JSON files\n",
    "sts.write_json_dataset(time_series_training, train_key)        \n",
    "sts.write_json_dataset(time_series, test_key)"
   ]
  },
  {
   "cell_type": "markdown",
   "metadata": {},
   "source": [
    "# Uploading to S3\n",
    "Now we need to upload locally captured data to AWS S3"
   ]
  },
  {
   "cell_type": "code",
   "execution_count": 12,
   "metadata": {},
   "outputs": [],
   "source": [
    "import boto3\n",
    "import sagemaker\n",
    "from sagemaker import get_execution_role"
   ]
  },
  {
   "cell_type": "code",
   "execution_count": 13,
   "metadata": {},
   "outputs": [],
   "source": [
    "sagemaker_session = sagemaker.Session()\n",
    "role = get_execution_role()\n",
    "bucket = sagemaker_session.default_bucket()"
   ]
  },
  {
   "cell_type": "markdown",
   "metadata": {},
   "source": [
    "Specify paths for training and test data in S3"
   ]
  },
  {
   "cell_type": "code",
   "execution_count": 14,
   "metadata": {},
   "outputs": [],
   "source": [
    "prefix = 'deepar_' + stocks[0]\n",
    "\n",
    "# *unique* train/test prefixes\n",
    "train_prefix   = '{}/{}'.format(prefix, 'train')\n",
    "test_prefix    = '{}/{}'.format(prefix, 'test')\n",
    "\n",
    "# uploading data to S3, and saving locations\n",
    "train_path  = sagemaker_session.upload_data(train_key, bucket=bucket, key_prefix=train_prefix)\n",
    "test_path   = sagemaker_session.upload_data(test_key,  bucket=bucket, key_prefix=test_prefix)"
   ]
  },
  {
   "cell_type": "code",
   "execution_count": 15,
   "metadata": {},
   "outputs": [
    {
     "name": "stdout",
     "output_type": "stream",
     "text": [
      "Training data is stored in: s3://sagemaker-us-east-2-019506888477/deepar_MSFT/train/MSFT_train.json\n",
      "Test data is stored in: s3://sagemaker-us-east-2-019506888477/deepar_MSFT/test/MSFT_test.json\n"
     ]
    }
   ],
   "source": [
    "# check locations\n",
    "print('Training data is stored in: '+ train_path)\n",
    "print('Test data is stored in: '+ test_path)"
   ]
  },
  {
   "cell_type": "markdown",
   "metadata": {},
   "source": [
    "# Training DeepAR Estimator\n",
    "\n",
    "Create/configure a container image for the region I'm using. This container can be passed to a base Estimator that will serve as the estimator for our DeepAR model."
   ]
  },
  {
   "cell_type": "code",
   "execution_count": 16,
   "metadata": {},
   "outputs": [
    {
     "name": "stderr",
     "output_type": "stream",
     "text": [
      "'get_image_uri' method will be deprecated in favor of 'ImageURIProvider' class in SageMaker Python SDK v2.\n"
     ]
    }
   ],
   "source": [
    "from sagemaker.amazon.amazon_estimator import get_image_uri\n",
    "\n",
    "image_name = get_image_uri(boto3.Session().region_name, # get the region\n",
    "                           'forecasting-deepar') # specify image"
   ]
  },
  {
   "cell_type": "code",
   "execution_count": 17,
   "metadata": {},
   "outputs": [
    {
     "name": "stderr",
     "output_type": "stream",
     "text": [
      "Parameter image_name will be renamed to image_uri in SageMaker Python SDK v2.\n"
     ]
    }
   ],
   "source": [
    "from sagemaker.estimator import Estimator\n",
    "\n",
    "# directory to save model artifacts\n",
    "s3_output_path = \"s3://{}/{}/output\".format(bucket, prefix)\n",
    "\n",
    "# instantiate a DeepAR estimator\n",
    "estimator = Estimator(sagemaker_session=sagemaker_session,\n",
    "                      image_name=image_name,\n",
    "                      role=role,\n",
    "                      train_instance_count=1,\n",
    "                      train_instance_type='ml.c4.xlarge',\n",
    "                      output_path=s3_output_path\n",
    "                      )"
   ]
  },
  {
   "cell_type": "markdown",
   "metadata": {},
   "source": [
    "# Hyperparameters"
   ]
  },
  {
   "cell_type": "markdown",
   "metadata": {},
   "source": [
    "## Setting Hyperparameters\n",
    "\n",
    "We'll define some required hyperparameters to build our model.\n",
    "\n",
    "* **epochs**: The maximum number of times to pass over the data when training.\n",
    "* **time_freq**: The granularity of the time series in the dataset ('D' for daily).\n",
    "* **prediction_length**: A string; the number of time steps (based off the unit of frequency) that the model is trained to predict. \n",
    "* **context_length**: The number of time points that the model gets to see *before* making a prediction. \n",
    "\n",
    "### Context Length\n",
    "\n",
    "As per recommendation of the DeepAR algorithm documentation, we'll start with context_length = prediction_length. For our algorithm, we'll start with a 7 day prediction window. DeepAR receives lagged inputs from the provided time series (up to one year in some cases), so we don't have to force context_length to be longer than needed. The documentation provides more information on how DeepAR works.\n",
    "\n",
    "### Optional Hyperparameters\n",
    "\n",
    "Additionally, we can provide optional hyperparameters (e.g. learning_rate, num_cells, num_layers (to customize the RNN)). These are set by default if not provided. Again, reference the documentation for more information on these hyperparameters."
   ]
  },
  {
   "cell_type": "code",
   "execution_count": 18,
   "metadata": {},
   "outputs": [],
   "source": [
    "# need to feed frequency to hyperparameters\n",
    "# set to 'D' for daily\n",
    "freq='D'\n",
    "\n",
    "# assign context_length. Start with it equal to prediction_length\n",
    "context_length = prediction_length\n",
    "\n",
    "# best hyperparameters established from tuning job\n",
    "hyperparameters = {\n",
    "    \"epochs\": \"29\", # started with '25'\n",
    "    \"time_freq\": freq,\n",
    "    \"prediction_length\": str(prediction_length),\n",
    "    \"context_length\": str(context_length),\n",
    "    \"num_cells\": \"50\",\n",
    "    \"num_layers\": \"2\",\n",
    "    \"mini_batch_size\": \"128\",\n",
    "    \"learning_rate\": \"0.011354939080335372\", # started with '0.001'\n",
    "    \"dropout_rate\": \"0.19549901048319465\", # started with '0.1'\n",
    "    \"early_stopping_patience\": \"10\"\n",
    "}"
   ]
  },
  {
   "cell_type": "code",
   "execution_count": 19,
   "metadata": {},
   "outputs": [],
   "source": [
    "# set the hyperparams\n",
    "estimator.set_hyperparameters(**hyperparameters)"
   ]
  },
  {
   "cell_type": "markdown",
   "metadata": {},
   "source": [
    "### Set up the tuning job\n",
    "\n",
    "I've established the hyperparameters for the base estimator. Now I'd like to describe the tuning job that I'll need SageMaker to initiate to determine the \"optimal\" hyperparameters for our time series and model.\n",
    "\n",
    "Here I'll dictate which hyperparameters I'd like to iterate through, and leave those hyperparameters alone from above that I don't need tuned for this particular job."
   ]
  },
  {
   "cell_type": "code",
   "execution_count": 22,
   "metadata": {},
   "outputs": [],
   "source": [
    "# from sagemaker.tuner import IntegerParameter, ContinuousParameter, HyperparameterTuner\n",
    "\n",
    "# hyperparameter_tuner = HyperparameterTuner(estimator = estimator, # The estimator object to use as the basis for the training jobs.\n",
    "#                                                objective_metric_name = 'test:mean_wQuantileLoss', # The metric used to compare trained models.\n",
    "#                                                objective_type = 'Minimize', # Whether we wish to minimize or maximize the metric.\n",
    "#                                                max_jobs = 9, # The total number of models to train\n",
    "#                                                max_parallel_jobs = 3, # The number of models to train in parallel\n",
    "#                                                hyperparameter_ranges = {\n",
    "#                                                     'dropout_rate': ContinuousParameter(0.1, 0.2),\n",
    "#                                                     'learning_rate': ContinuousParameter(0.0005, 0.05),\n",
    "#                                                     'epochs': IntegerParameter(1, 50)\n",
    "#                                                })"
   ]
  },
  {
   "cell_type": "markdown",
   "metadata": {},
   "source": [
    "### Execute the tuning job\n",
    "\n",
    "Now that we have our hyperparameter tuner object completely set up, it is time to train it. To do this we make sure that SageMaker knows our input data is in csv format and then execute the `fit` method."
   ]
  },
  {
   "cell_type": "code",
   "execution_count": 23,
   "metadata": {},
   "outputs": [
    {
     "name": "stderr",
     "output_type": "stream",
     "text": [
      "'s3_input' class will be renamed to 'TrainingInput' in SageMaker Python SDK v2.\n",
      "'s3_input' class will be renamed to 'TrainingInput' in SageMaker Python SDK v2.\n"
     ]
    }
   ],
   "source": [
    "# # tell S3 where the data will be and what type of format to expect\n",
    "# s3_input_train = sagemaker.s3_input(s3_data=train_path, content_type='json')\n",
    "# s3_input_test = sagemaker.s3_input(s3_data=test_path, content_type='json')\n",
    "\n",
    "# # fit\n",
    "# hyperparameter_tuner.fit({'train': s3_input_train, 'test': s3_input_test})"
   ]
  },
  {
   "cell_type": "code",
   "execution_count": 24,
   "metadata": {},
   "outputs": [
    {
     "name": "stdout",
     "output_type": "stream",
     "text": [
      "................................................................................................................................................!\n"
     ]
    }
   ],
   "source": [
    "# # visual to know it's fitting still...\n",
    "# hyperparameter_tuner.wait()"
   ]
  },
  {
   "cell_type": "code",
   "execution_count": 25,
   "metadata": {},
   "outputs": [
    {
     "data": {
      "text/plain": [
       "'forecasting-deepar-200923-0304-008-15bc878e'"
      ]
     },
     "execution_count": 25,
     "metadata": {},
     "output_type": "execute_result"
    }
   ],
   "source": [
    "# # output configuration of best_training_job. Use SageMaker interface to find actual parameters.\n",
    "# hyperparameter_tuner.best_training_job()"
   ]
  },
  {
   "cell_type": "markdown",
   "metadata": {},
   "source": [
    "## Training Job\n",
    "\n",
    "Launch our training job with the new best_training_job!"
   ]
  },
  {
   "cell_type": "code",
   "execution_count": 20,
   "metadata": {},
   "outputs": [
    {
     "name": "stderr",
     "output_type": "stream",
     "text": [
      "'s3_input' class will be renamed to 'TrainingInput' in SageMaker Python SDK v2.\n",
      "'s3_input' class will be renamed to 'TrainingInput' in SageMaker Python SDK v2.\n"
     ]
    },
    {
     "name": "stdout",
     "output_type": "stream",
     "text": [
      "2020-09-24 01:48:15 Starting - Starting the training job...\n",
      "2020-09-24 01:48:17 Starting - Launching requested ML instances......\n",
      "2020-09-24 01:49:23 Starting - Preparing the instances for training......\n",
      "2020-09-24 01:50:33 Downloading - Downloading input data...\n",
      "2020-09-24 01:51:08 Training - Training image download completed. Training in progress.\u001b[34mArguments: train\u001b[0m\n",
      "\u001b[34m[09/24/2020 01:51:11 INFO 140651471685440] Reading default configuration from /opt/amazon/lib/python2.7/site-packages/algorithm/resources/default-input.json: {u'num_dynamic_feat': u'auto', u'dropout_rate': u'0.10', u'mini_batch_size': u'128', u'test_quantiles': u'[0.1, 0.2, 0.3, 0.4, 0.5, 0.6, 0.7, 0.8, 0.9]', u'_tuning_objective_metric': u'', u'_num_gpus': u'auto', u'num_eval_samples': u'100', u'learning_rate': u'0.001', u'num_cells': u'40', u'num_layers': u'2', u'embedding_dimension': u'10', u'_kvstore': u'auto', u'_num_kv_servers': u'auto', u'cardinality': u'auto', u'likelihood': u'student-t', u'early_stopping_patience': u''}\u001b[0m\n",
      "\u001b[34m[09/24/2020 01:51:11 INFO 140651471685440] Reading provided configuration from /opt/ml/input/config/hyperparameters.json: {u'dropout_rate': u'0.19549901048319465', u'learning_rate': u'0.011354939080335372', u'num_cells': u'50', u'prediction_length': u'7', u'epochs': u'29', u'time_freq': u'D', u'context_length': u'7', u'num_layers': u'2', u'mini_batch_size': u'128', u'early_stopping_patience': u'10'}\u001b[0m\n",
      "\u001b[34m[09/24/2020 01:51:11 INFO 140651471685440] Final configuration: {u'dropout_rate': u'0.19549901048319465', u'test_quantiles': u'[0.1, 0.2, 0.3, 0.4, 0.5, 0.6, 0.7, 0.8, 0.9]', u'_tuning_objective_metric': u'', u'num_eval_samples': u'100', u'learning_rate': u'0.011354939080335372', u'num_layers': u'2', u'epochs': u'29', u'embedding_dimension': u'10', u'num_cells': u'50', u'_num_kv_servers': u'auto', u'mini_batch_size': u'128', u'likelihood': u'student-t', u'num_dynamic_feat': u'auto', u'cardinality': u'auto', u'_num_gpus': u'auto', u'prediction_length': u'7', u'time_freq': u'D', u'context_length': u'7', u'_kvstore': u'auto', u'early_stopping_patience': u'10'}\u001b[0m\n",
      "\u001b[34mProcess 1 is a worker.\u001b[0m\n",
      "\u001b[34m[09/24/2020 01:51:11 INFO 140651471685440] Detected entry point for worker worker\u001b[0m\n",
      "\u001b[34m[09/24/2020 01:51:11 INFO 140651471685440] Using early stopping with patience 10\u001b[0m\n",
      "\u001b[34m[09/24/2020 01:51:11 INFO 140651471685440] [cardinality=auto] `cat` field was NOT found in the file `/opt/ml/input/data/train/MSFT_train.json` and will NOT be used for training.\u001b[0m\n",
      "\u001b[34m[09/24/2020 01:51:11 INFO 140651471685440] [num_dynamic_feat=auto] `dynamic_feat` field was NOT found in the file `/opt/ml/input/data/train/MSFT_train.json` and will NOT be used for training.\u001b[0m\n",
      "\u001b[34m[09/24/2020 01:51:11 INFO 140651471685440] Training set statistics:\u001b[0m\n",
      "\u001b[34m[09/24/2020 01:51:11 INFO 140651471685440] Real time series\u001b[0m\n",
      "\u001b[34m[09/24/2020 01:51:11 INFO 140651471685440] number of time series: 3\u001b[0m\n",
      "\u001b[34m[09/24/2020 01:51:11 INFO 140651471685440] number of observations: 738\u001b[0m\n",
      "\u001b[34m[09/24/2020 01:51:11 INFO 140651471685440] mean target length: 246\u001b[0m\n",
      "\u001b[34m[09/24/2020 01:51:11 INFO 140651471685440] min/mean/max target: 1.38859033585/1.84073256412/2.68856048584\u001b[0m\n",
      "\u001b[34m[09/24/2020 01:51:11 INFO 140651471685440] mean abs(target): 1.84073256412\u001b[0m\n",
      "\u001b[34m[09/24/2020 01:51:11 INFO 140651471685440] contains missing values: no\u001b[0m\n",
      "\u001b[34m[09/24/2020 01:51:11 INFO 140651471685440] Small number of time series. Doing 427 passes over dataset with prob 0.999219359875 per epoch.\u001b[0m\n",
      "\u001b[34m[09/24/2020 01:51:11 INFO 140651471685440] Test set statistics:\u001b[0m\n",
      "\u001b[34m[09/24/2020 01:51:11 INFO 140651471685440] Real time series\u001b[0m\n",
      "\u001b[34m[09/24/2020 01:51:11 INFO 140651471685440] number of time series: 3\u001b[0m\n",
      "\u001b[34m[09/24/2020 01:51:11 INFO 140651471685440] number of observations: 759\u001b[0m\n",
      "\u001b[34m[09/24/2020 01:51:11 INFO 140651471685440] mean target length: 253\u001b[0m\n",
      "\u001b[34m[09/24/2020 01:51:11 INFO 140651471685440] min/mean/max target: 1.38859033585/1.84548314915/2.68856048584\u001b[0m\n",
      "\u001b[34m[09/24/2020 01:51:11 INFO 140651471685440] mean abs(target): 1.84548314915\u001b[0m\n",
      "\u001b[34m[09/24/2020 01:51:11 INFO 140651471685440] contains missing values: no\u001b[0m\n",
      "\u001b[34m[09/24/2020 01:51:11 INFO 140651471685440] nvidia-smi took: 0.0252230167389 secs to identify 0 gpus\u001b[0m\n",
      "\u001b[34m[09/24/2020 01:51:11 INFO 140651471685440] Number of GPUs being used: 0\u001b[0m\n",
      "\u001b[34m[09/24/2020 01:51:11 INFO 140651471685440] Create Store: local\u001b[0m\n",
      "\u001b[34m#metrics {\"Metrics\": {\"get_graph.time\": {\"count\": 1, \"max\": 45.25184631347656, \"sum\": 45.25184631347656, \"min\": 45.25184631347656}}, \"EndTime\": 1600912271.926035, \"Dimensions\": {\"Host\": \"algo-1\", \"Operation\": \"training\", \"Algorithm\": \"AWS/DeepAR\"}, \"StartTime\": 1600912271.879795}\n",
      "\u001b[0m\n",
      "\u001b[34m[09/24/2020 01:51:11 INFO 140651471685440] Number of GPUs being used: 0\u001b[0m\n",
      "\u001b[34m#metrics {\"Metrics\": {\"initialize.time\": {\"count\": 1, \"max\": 115.07606506347656, \"sum\": 115.07606506347656, \"min\": 115.07606506347656}}, \"EndTime\": 1600912271.995012, \"Dimensions\": {\"Host\": \"algo-1\", \"Operation\": \"training\", \"Algorithm\": \"AWS/DeepAR\"}, \"StartTime\": 1600912271.926113}\n",
      "\u001b[0m\n",
      "\u001b[34m[09/24/2020 01:51:12 INFO 140651471685440] Epoch[0] Batch[0] avg_epoch_loss=2.720592\u001b[0m\n",
      "\u001b[34m[09/24/2020 01:51:12 INFO 140651471685440] #quality_metric: host=algo-1, epoch=0, batch=0 train loss <loss>=2.72059202194\u001b[0m\n",
      "\u001b[34m[09/24/2020 01:51:12 INFO 140651471685440] Epoch[0] Batch[5] avg_epoch_loss=1.563747\u001b[0m\n",
      "\u001b[34m[09/24/2020 01:51:12 INFO 140651471685440] #quality_metric: host=algo-1, epoch=0, batch=5 train loss <loss>=1.56374671062\u001b[0m\n",
      "\u001b[34m[09/24/2020 01:51:12 INFO 140651471685440] Epoch[0] Batch [5]#011Speed: 2779.36 samples/sec#011loss=1.563747\u001b[0m\n",
      "\u001b[34m[09/24/2020 01:51:12 INFO 140651471685440] processed a total of 1250 examples\u001b[0m\n",
      "\u001b[34m#metrics {\"Metrics\": {\"epochs\": {\"count\": 1, \"max\": 29, \"sum\": 29.0, \"min\": 29}, \"update.time\": {\"count\": 1, \"max\": 984.3671321868896, \"sum\": 984.3671321868896, \"min\": 984.3671321868896}}, \"EndTime\": 1600912272.979616, \"Dimensions\": {\"Host\": \"algo-1\", \"Operation\": \"training\", \"Algorithm\": \"AWS/DeepAR\"}, \"StartTime\": 1600912271.995078}\n",
      "\u001b[0m\n",
      "\u001b[34m[09/24/2020 01:51:12 INFO 140651471685440] #throughput_metric: host=algo-1, train throughput=1269.5780536 records/second\u001b[0m\n",
      "\u001b[34m[09/24/2020 01:51:12 INFO 140651471685440] #progress_metric: host=algo-1, completed 3 % of epochs\u001b[0m\n",
      "\u001b[34m[09/24/2020 01:51:12 INFO 140651471685440] #quality_metric: host=algo-1, epoch=0, train loss <loss>=1.15543875992\u001b[0m\n",
      "\u001b[34m[09/24/2020 01:51:12 INFO 140651471685440] best epoch loss so far\u001b[0m\n",
      "\u001b[34m[09/24/2020 01:51:12 INFO 140651471685440] Saved checkpoint to \"/opt/ml/model/state_4aa524a8-a15b-4498-8842-9e093fab7709-0000.params\"\u001b[0m\n",
      "\u001b[34m#metrics {\"Metrics\": {\"state.serialize.time\": {\"count\": 1, \"max\": 14.757871627807617, \"sum\": 14.757871627807617, \"min\": 14.757871627807617}}, \"EndTime\": 1600912272.99525, \"Dimensions\": {\"Host\": \"algo-1\", \"Operation\": \"training\", \"Algorithm\": \"AWS/DeepAR\"}, \"StartTime\": 1600912272.979702}\n",
      "\u001b[0m\n",
      "\u001b[34m[09/24/2020 01:51:13 INFO 140651471685440] Epoch[1] Batch[0] avg_epoch_loss=0.795719\u001b[0m\n",
      "\u001b[34m[09/24/2020 01:51:13 INFO 140651471685440] #quality_metric: host=algo-1, epoch=1, batch=0 train loss <loss>=0.795719146729\u001b[0m\n",
      "\u001b[34m[09/24/2020 01:51:13 INFO 140651471685440] Epoch[1] Batch[5] avg_epoch_loss=0.236690\u001b[0m\n",
      "\u001b[34m[09/24/2020 01:51:13 INFO 140651471685440] #quality_metric: host=algo-1, epoch=1, batch=5 train loss <loss>=0.236689562599\u001b[0m\n",
      "\u001b[34m[09/24/2020 01:51:13 INFO 140651471685440] Epoch[1] Batch [5]#011Speed: 1852.10 samples/sec#011loss=0.236690\u001b[0m\n",
      "\u001b[34m[09/24/2020 01:51:14 INFO 140651471685440] Epoch[1] Batch[10] avg_epoch_loss=0.096071\u001b[0m\n",
      "\u001b[34m[09/24/2020 01:51:14 INFO 140651471685440] #quality_metric: host=algo-1, epoch=1, batch=10 train loss <loss>=-0.0726715326309\u001b[0m\n",
      "\u001b[34m[09/24/2020 01:51:14 INFO 140651471685440] Epoch[1] Batch [10]#011Speed: 2153.24 samples/sec#011loss=-0.072672\u001b[0m\n",
      "\u001b[34m[09/24/2020 01:51:14 INFO 140651471685440] processed a total of 1301 examples\u001b[0m\n",
      "\u001b[34m#metrics {\"Metrics\": {\"update.time\": {\"count\": 1, \"max\": 1186.9289875030518, \"sum\": 1186.9289875030518, \"min\": 1186.9289875030518}}, \"EndTime\": 1600912274.182465, \"Dimensions\": {\"Host\": \"algo-1\", \"Operation\": \"training\", \"Algorithm\": \"AWS/DeepAR\"}, \"StartTime\": 1600912272.995397}\n",
      "\u001b[0m\n",
      "\u001b[34m[09/24/2020 01:51:14 INFO 140651471685440] #throughput_metric: host=algo-1, train throughput=1095.99329484 records/second\u001b[0m\n",
      "\u001b[34m[09/24/2020 01:51:14 INFO 140651471685440] #progress_metric: host=algo-1, completed 6 % of epochs\u001b[0m\n",
      "\u001b[34m[09/24/2020 01:51:14 INFO 140651471685440] #quality_metric: host=algo-1, epoch=1, train loss <loss>=0.096070882949\u001b[0m\n",
      "\u001b[34m[09/24/2020 01:51:14 INFO 140651471685440] best epoch loss so far\u001b[0m\n",
      "\u001b[34m[09/24/2020 01:51:14 INFO 140651471685440] Saved checkpoint to \"/opt/ml/model/state_e14526a3-bc14-484d-b100-64b38394de0e-0000.params\"\u001b[0m\n",
      "\u001b[34m#metrics {\"Metrics\": {\"state.serialize.time\": {\"count\": 1, \"max\": 13.955116271972656, \"sum\": 13.955116271972656, \"min\": 13.955116271972656}}, \"EndTime\": 1600912274.196964, \"Dimensions\": {\"Host\": \"algo-1\", \"Operation\": \"training\", \"Algorithm\": \"AWS/DeepAR\"}, \"StartTime\": 1600912274.182545}\n",
      "\u001b[0m\n",
      "\u001b[34m[09/24/2020 01:51:14 INFO 140651471685440] Epoch[2] Batch[0] avg_epoch_loss=-0.186856\u001b[0m\n",
      "\u001b[34m[09/24/2020 01:51:14 INFO 140651471685440] #quality_metric: host=algo-1, epoch=2, batch=0 train loss <loss>=-0.186856389046\u001b[0m\n",
      "\u001b[34m[09/24/2020 01:51:14 INFO 140651471685440] Epoch[2] Batch[5] avg_epoch_loss=-0.567327\u001b[0m\n",
      "\u001b[34m[09/24/2020 01:51:14 INFO 140651471685440] #quality_metric: host=algo-1, epoch=2, batch=5 train loss <loss>=-0.567327151696\u001b[0m\n",
      "\u001b[34m[09/24/2020 01:51:14 INFO 140651471685440] Epoch[2] Batch [5]#011Speed: 2398.39 samples/sec#011loss=-0.567327\u001b[0m\n",
      "\u001b[34m[09/24/2020 01:51:15 INFO 140651471685440] processed a total of 1246 examples\u001b[0m\n",
      "\u001b[34m#metrics {\"Metrics\": {\"update.time\": {\"count\": 1, \"max\": 971.3189601898193, \"sum\": 971.3189601898193, \"min\": 971.3189601898193}}, \"EndTime\": 1600912275.168428, \"Dimensions\": {\"Host\": \"algo-1\", \"Operation\": \"training\", \"Algorithm\": \"AWS/DeepAR\"}, \"StartTime\": 1600912274.197035}\n",
      "\u001b[0m\n",
      "\u001b[34m[09/24/2020 01:51:15 INFO 140651471685440] #throughput_metric: host=algo-1, train throughput=1282.58842753 records/second\u001b[0m\n",
      "\u001b[34m[09/24/2020 01:51:15 INFO 140651471685440] #progress_metric: host=algo-1, completed 10 % of epochs\u001b[0m\n",
      "\u001b[34m[09/24/2020 01:51:15 INFO 140651471685440] #quality_metric: host=algo-1, epoch=2, train loss <loss>=-0.679490444064\u001b[0m\n",
      "\u001b[34m[09/24/2020 01:51:15 INFO 140651471685440] best epoch loss so far\u001b[0m\n",
      "\u001b[34m[09/24/2020 01:51:15 INFO 140651471685440] Saved checkpoint to \"/opt/ml/model/state_b81b14cd-8b82-4189-a488-41c2d4b202a1-0000.params\"\u001b[0m\n",
      "\u001b[34m#metrics {\"Metrics\": {\"state.serialize.time\": {\"count\": 1, \"max\": 12.408018112182617, \"sum\": 12.408018112182617, \"min\": 12.408018112182617}}, \"EndTime\": 1600912275.181662, \"Dimensions\": {\"Host\": \"algo-1\", \"Operation\": \"training\", \"Algorithm\": \"AWS/DeepAR\"}, \"StartTime\": 1600912275.168536}\n",
      "\u001b[0m\n",
      "\u001b[34m[09/24/2020 01:51:15 INFO 140651471685440] Epoch[3] Batch[0] avg_epoch_loss=-0.824562\u001b[0m\n",
      "\u001b[34m[09/24/2020 01:51:15 INFO 140651471685440] #quality_metric: host=algo-1, epoch=3, batch=0 train loss <loss>=-0.824561834335\u001b[0m\n",
      "\u001b[34m[09/24/2020 01:51:15 INFO 140651471685440] Epoch[3] Batch[5] avg_epoch_loss=-1.013141\u001b[0m\n",
      "\u001b[34m[09/24/2020 01:51:15 INFO 140651471685440] #quality_metric: host=algo-1, epoch=3, batch=5 train loss <loss>=-1.01314079762\u001b[0m\n",
      "\u001b[34m[09/24/2020 01:51:15 INFO 140651471685440] Epoch[3] Batch [5]#011Speed: 2895.53 samples/sec#011loss=-1.013141\u001b[0m\n",
      "\u001b[34m[09/24/2020 01:51:15 INFO 140651471685440] processed a total of 1276 examples\u001b[0m\n",
      "\u001b[34m#metrics {\"Metrics\": {\"update.time\": {\"count\": 1, \"max\": 818.1369304656982, \"sum\": 818.1369304656982, \"min\": 818.1369304656982}}, \"EndTime\": 1600912275.999932, \"Dimensions\": {\"Host\": \"algo-1\", \"Operation\": \"training\", \"Algorithm\": \"AWS/DeepAR\"}, \"StartTime\": 1600912275.181729}\n",
      "\u001b[0m\n",
      "\u001b[34m[09/24/2020 01:51:16 INFO 140651471685440] #throughput_metric: host=algo-1, train throughput=1559.40481493 records/second\u001b[0m\n",
      "\u001b[34m[09/24/2020 01:51:16 INFO 140651471685440] #progress_metric: host=algo-1, completed 13 % of epochs\u001b[0m\n",
      "\u001b[34m[09/24/2020 01:51:16 INFO 140651471685440] #quality_metric: host=algo-1, epoch=3, train loss <loss>=-1.10277886391\u001b[0m\n",
      "\u001b[34m[09/24/2020 01:51:16 INFO 140651471685440] best epoch loss so far\u001b[0m\n",
      "\u001b[34m[09/24/2020 01:51:16 INFO 140651471685440] Saved checkpoint to \"/opt/ml/model/state_03cee295-4f28-4d69-9476-62571be510da-0000.params\"\u001b[0m\n",
      "\u001b[34m#metrics {\"Metrics\": {\"state.serialize.time\": {\"count\": 1, \"max\": 13.030052185058594, \"sum\": 13.030052185058594, \"min\": 13.030052185058594}}, \"EndTime\": 1600912276.013566, \"Dimensions\": {\"Host\": \"algo-1\", \"Operation\": \"training\", \"Algorithm\": \"AWS/DeepAR\"}, \"StartTime\": 1600912276.000014}\n",
      "\u001b[0m\n",
      "\u001b[34m[09/24/2020 01:51:16 INFO 140651471685440] Epoch[4] Batch[0] avg_epoch_loss=-1.244973\u001b[0m\n",
      "\u001b[34m[09/24/2020 01:51:16 INFO 140651471685440] #quality_metric: host=algo-1, epoch=4, batch=0 train loss <loss>=-1.24497282505\u001b[0m\n",
      "\u001b[34m[09/24/2020 01:51:16 INFO 140651471685440] Epoch[4] Batch[5] avg_epoch_loss=-1.229107\u001b[0m\n",
      "\u001b[34m[09/24/2020 01:51:16 INFO 140651471685440] #quality_metric: host=algo-1, epoch=4, batch=5 train loss <loss>=-1.22910730044\u001b[0m\n",
      "\u001b[34m[09/24/2020 01:51:16 INFO 140651471685440] Epoch[4] Batch [5]#011Speed: 2995.43 samples/sec#011loss=-1.229107\u001b[0m\n",
      "\u001b[34m[09/24/2020 01:51:16 INFO 140651471685440] Epoch[4] Batch[10] avg_epoch_loss=-1.134529\u001b[0m\n",
      "\u001b[34m[09/24/2020 01:51:16 INFO 140651471685440] #quality_metric: host=algo-1, epoch=4, batch=10 train loss <loss>=-1.02103408054\u001b[0m\n",
      "\u001b[34m[09/24/2020 01:51:16 INFO 140651471685440] Epoch[4] Batch [10]#011Speed: 3016.74 samples/sec#011loss=-1.021034\u001b[0m\n",
      "\u001b[34m[09/24/2020 01:51:16 INFO 140651471685440] processed a total of 1328 examples\u001b[0m\n",
      "\u001b[34m#metrics {\"Metrics\": {\"update.time\": {\"count\": 1, \"max\": 877.4869441986084, \"sum\": 877.4869441986084, \"min\": 877.4869441986084}}, \"EndTime\": 1600912276.891177, \"Dimensions\": {\"Host\": \"algo-1\", \"Operation\": \"training\", \"Algorithm\": \"AWS/DeepAR\"}, \"StartTime\": 1600912276.013624}\n",
      "\u001b[0m\n",
      "\u001b[34m[09/24/2020 01:51:16 INFO 140651471685440] #throughput_metric: host=algo-1, train throughput=1513.19862384 records/second\u001b[0m\n",
      "\u001b[34m[09/24/2020 01:51:16 INFO 140651471685440] #progress_metric: host=algo-1, completed 17 % of epochs\u001b[0m\n",
      "\u001b[34m[09/24/2020 01:51:16 INFO 140651471685440] #quality_metric: host=algo-1, epoch=4, train loss <loss>=-1.13452856412\u001b[0m\n",
      "\u001b[34m[09/24/2020 01:51:16 INFO 140651471685440] best epoch loss so far\u001b[0m\n",
      "\u001b[34m[09/24/2020 01:51:16 INFO 140651471685440] Saved checkpoint to \"/opt/ml/model/state_6e2e6c98-e131-4fb0-98d6-e011e2d13d5b-0000.params\"\u001b[0m\n",
      "\u001b[34m#metrics {\"Metrics\": {\"state.serialize.time\": {\"count\": 1, \"max\": 10.333061218261719, \"sum\": 10.333061218261719, \"min\": 10.333061218261719}}, \"EndTime\": 1600912276.902233, \"Dimensions\": {\"Host\": \"algo-1\", \"Operation\": \"training\", \"Algorithm\": \"AWS/DeepAR\"}, \"StartTime\": 1600912276.891259}\n",
      "\u001b[0m\n",
      "\u001b[34m[09/24/2020 01:51:17 INFO 140651471685440] Epoch[5] Batch[0] avg_epoch_loss=-0.850001\u001b[0m\n",
      "\u001b[34m[09/24/2020 01:51:17 INFO 140651471685440] #quality_metric: host=algo-1, epoch=5, batch=0 train loss <loss>=-0.850000977516\u001b[0m\n",
      "\u001b[34m[09/24/2020 01:51:17 INFO 140651471685440] Epoch[5] Batch[5] avg_epoch_loss=-1.138107\u001b[0m\n",
      "\u001b[34m[09/24/2020 01:51:17 INFO 140651471685440] #quality_metric: host=algo-1, epoch=5, batch=5 train loss <loss>=-1.13810708125\u001b[0m\n",
      "\u001b[34m[09/24/2020 01:51:17 INFO 140651471685440] Epoch[5] Batch [5]#011Speed: 3048.58 samples/sec#011loss=-1.138107\u001b[0m\n",
      "\u001b[34m[09/24/2020 01:51:17 INFO 140651471685440] processed a total of 1244 examples\u001b[0m\n",
      "\u001b[34m#metrics {\"Metrics\": {\"update.time\": {\"count\": 1, \"max\": 765.470027923584, \"sum\": 765.470027923584, \"min\": 765.470027923584}}, \"EndTime\": 1600912277.667818, \"Dimensions\": {\"Host\": \"algo-1\", \"Operation\": \"training\", \"Algorithm\": \"AWS/DeepAR\"}, \"StartTime\": 1600912276.902287}\n",
      "\u001b[0m\n",
      "\u001b[34m[09/24/2020 01:51:17 INFO 140651471685440] #throughput_metric: host=algo-1, train throughput=1624.88868405 records/second\u001b[0m\n",
      "\u001b[34m[09/24/2020 01:51:17 INFO 140651471685440] #progress_metric: host=algo-1, completed 20 % of epochs\u001b[0m\n",
      "\u001b[34m[09/24/2020 01:51:17 INFO 140651471685440] #quality_metric: host=algo-1, epoch=5, train loss <loss>=-1.14153760672\u001b[0m\n",
      "\u001b[34m[09/24/2020 01:51:17 INFO 140651471685440] best epoch loss so far\u001b[0m\n",
      "\u001b[34m[09/24/2020 01:51:17 INFO 140651471685440] Saved checkpoint to \"/opt/ml/model/state_45883126-7110-42ea-8ae1-92d6ba3e9ecd-0000.params\"\u001b[0m\n",
      "\u001b[34m#metrics {\"Metrics\": {\"state.serialize.time\": {\"count\": 1, \"max\": 9.347915649414062, \"sum\": 9.347915649414062, \"min\": 9.347915649414062}}, \"EndTime\": 1600912277.67787, \"Dimensions\": {\"Host\": \"algo-1\", \"Operation\": \"training\", \"Algorithm\": \"AWS/DeepAR\"}, \"StartTime\": 1600912277.667903}\n",
      "\u001b[0m\n",
      "\u001b[34m[09/24/2020 01:51:18 INFO 140651471685440] Epoch[6] Batch[0] avg_epoch_loss=-1.294584\u001b[0m\n",
      "\u001b[34m[09/24/2020 01:51:18 INFO 140651471685440] #quality_metric: host=algo-1, epoch=6, batch=0 train loss <loss>=-1.29458415508\u001b[0m\n",
      "\u001b[34m[09/24/2020 01:51:18 INFO 140651471685440] Epoch[6] Batch[5] avg_epoch_loss=-1.214543\u001b[0m\n",
      "\u001b[34m[09/24/2020 01:51:18 INFO 140651471685440] #quality_metric: host=algo-1, epoch=6, batch=5 train loss <loss>=-1.21454333266\u001b[0m\n",
      "\u001b[34m[09/24/2020 01:51:18 INFO 140651471685440] Epoch[6] Batch [5]#011Speed: 2697.55 samples/sec#011loss=-1.214543\u001b[0m\n",
      "\u001b[34m[09/24/2020 01:51:18 INFO 140651471685440] processed a total of 1231 examples\u001b[0m\n",
      "\u001b[34m#metrics {\"Metrics\": {\"update.time\": {\"count\": 1, \"max\": 866.9519424438477, \"sum\": 866.9519424438477, \"min\": 866.9519424438477}}, \"EndTime\": 1600912278.544964, \"Dimensions\": {\"Host\": \"algo-1\", \"Operation\": \"training\", \"Algorithm\": \"AWS/DeepAR\"}, \"StartTime\": 1600912277.677941}\n",
      "\u001b[0m\n",
      "\u001b[34m[09/24/2020 01:51:18 INFO 140651471685440] #throughput_metric: host=algo-1, train throughput=1419.71069094 records/second\u001b[0m\n",
      "\u001b[34m[09/24/2020 01:51:18 INFO 140651471685440] #progress_metric: host=algo-1, completed 24 % of epochs\u001b[0m\n",
      "\u001b[34m[09/24/2020 01:51:18 INFO 140651471685440] #quality_metric: host=algo-1, epoch=6, train loss <loss>=-1.21323960423\u001b[0m\n",
      "\u001b[34m[09/24/2020 01:51:18 INFO 140651471685440] best epoch loss so far\u001b[0m\n",
      "\u001b[34m[09/24/2020 01:51:18 INFO 140651471685440] Saved checkpoint to \"/opt/ml/model/state_d02b273e-b952-438b-be5a-9b30afa997cb-0000.params\"\u001b[0m\n",
      "\u001b[34m#metrics {\"Metrics\": {\"state.serialize.time\": {\"count\": 1, \"max\": 12.879133224487305, \"sum\": 12.879133224487305, \"min\": 12.879133224487305}}, \"EndTime\": 1600912278.558425, \"Dimensions\": {\"Host\": \"algo-1\", \"Operation\": \"training\", \"Algorithm\": \"AWS/DeepAR\"}, \"StartTime\": 1600912278.545047}\n",
      "\u001b[0m\n",
      "\u001b[34m[09/24/2020 01:51:18 INFO 140651471685440] Epoch[7] Batch[0] avg_epoch_loss=-1.073421\u001b[0m\n",
      "\u001b[34m[09/24/2020 01:51:18 INFO 140651471685440] #quality_metric: host=algo-1, epoch=7, batch=0 train loss <loss>=-1.07342135906\u001b[0m\n",
      "\u001b[34m[09/24/2020 01:51:19 INFO 140651471685440] Epoch[7] Batch[5] avg_epoch_loss=-1.274566\u001b[0m\n",
      "\u001b[34m[09/24/2020 01:51:19 INFO 140651471685440] #quality_metric: host=algo-1, epoch=7, batch=5 train loss <loss>=-1.27456553777\u001b[0m\n",
      "\u001b[34m[09/24/2020 01:51:19 INFO 140651471685440] Epoch[7] Batch [5]#011Speed: 2871.19 samples/sec#011loss=-1.274566\u001b[0m\n",
      "\u001b[34m[09/24/2020 01:51:19 INFO 140651471685440] Epoch[7] Batch[10] avg_epoch_loss=-1.290545\u001b[0m\n",
      "\u001b[34m[09/24/2020 01:51:19 INFO 140651471685440] #quality_metric: host=algo-1, epoch=7, batch=10 train loss <loss>=-1.30972046852\u001b[0m\n",
      "\u001b[34m[09/24/2020 01:51:19 INFO 140651471685440] Epoch[7] Batch [10]#011Speed: 2976.07 samples/sec#011loss=-1.309720\u001b[0m\n",
      "\u001b[34m[09/24/2020 01:51:19 INFO 140651471685440] processed a total of 1314 examples\u001b[0m\n",
      "\u001b[34m#metrics {\"Metrics\": {\"update.time\": {\"count\": 1, \"max\": 846.8809127807617, \"sum\": 846.8809127807617, \"min\": 846.8809127807617}}, \"EndTime\": 1600912279.405419, \"Dimensions\": {\"Host\": \"algo-1\", \"Operation\": \"training\", \"Algorithm\": \"AWS/DeepAR\"}, \"StartTime\": 1600912278.558479}\n",
      "\u001b[0m\n",
      "\u001b[34m[09/24/2020 01:51:19 INFO 140651471685440] #throughput_metric: host=algo-1, train throughput=1551.35226939 records/second\u001b[0m\n",
      "\u001b[34m[09/24/2020 01:51:19 INFO 140651471685440] #progress_metric: host=algo-1, completed 27 % of epochs\u001b[0m\n",
      "\u001b[34m[09/24/2020 01:51:19 INFO 140651471685440] #quality_metric: host=algo-1, epoch=7, train loss <loss>=-1.29054505175\u001b[0m\n",
      "\u001b[34m[09/24/2020 01:51:19 INFO 140651471685440] best epoch loss so far\u001b[0m\n",
      "\u001b[34m[09/24/2020 01:51:19 INFO 140651471685440] Saved checkpoint to \"/opt/ml/model/state_d8370a68-a85a-4921-9b34-fec7911ea992-0000.params\"\u001b[0m\n",
      "\u001b[34m#metrics {\"Metrics\": {\"state.serialize.time\": {\"count\": 1, \"max\": 13.403892517089844, \"sum\": 13.403892517089844, \"min\": 13.403892517089844}}, \"EndTime\": 1600912279.419379, \"Dimensions\": {\"Host\": \"algo-1\", \"Operation\": \"training\", \"Algorithm\": \"AWS/DeepAR\"}, \"StartTime\": 1600912279.405503}\n",
      "\u001b[0m\n",
      "\u001b[34m[09/24/2020 01:51:19 INFO 140651471685440] Epoch[8] Batch[0] avg_epoch_loss=-1.063982\u001b[0m\n",
      "\u001b[34m[09/24/2020 01:51:19 INFO 140651471685440] #quality_metric: host=algo-1, epoch=8, batch=0 train loss <loss>=-1.06398189068\u001b[0m\n",
      "\u001b[34m[09/24/2020 01:51:20 INFO 140651471685440] Epoch[8] Batch[5] avg_epoch_loss=-1.298717\u001b[0m\n",
      "\u001b[34m[09/24/2020 01:51:20 INFO 140651471685440] #quality_metric: host=algo-1, epoch=8, batch=5 train loss <loss>=-1.29871720076\u001b[0m\n",
      "\u001b[34m[09/24/2020 01:51:20 INFO 140651471685440] Epoch[8] Batch [5]#011Speed: 2932.82 samples/sec#011loss=-1.298717\u001b[0m\n",
      "\u001b[34m[09/24/2020 01:51:20 INFO 140651471685440] Epoch[8] Batch[10] avg_epoch_loss=-1.346571\u001b[0m\n",
      "\u001b[34m[09/24/2020 01:51:20 INFO 140651471685440] #quality_metric: host=algo-1, epoch=8, batch=10 train loss <loss>=-1.40399577618\u001b[0m\n",
      "\u001b[34m[09/24/2020 01:51:20 INFO 140651471685440] Epoch[8] Batch [10]#011Speed: 2874.39 samples/sec#011loss=-1.403996\u001b[0m\n",
      "\u001b[34m[09/24/2020 01:51:20 INFO 140651471685440] processed a total of 1288 examples\u001b[0m\n",
      "\u001b[34m#metrics {\"Metrics\": {\"update.time\": {\"count\": 1, \"max\": 888.1700038909912, \"sum\": 888.1700038909912, \"min\": 888.1700038909912}}, \"EndTime\": 1600912280.30767, \"Dimensions\": {\"Host\": \"algo-1\", \"Operation\": \"training\", \"Algorithm\": \"AWS/DeepAR\"}, \"StartTime\": 1600912279.419441}\n",
      "\u001b[0m\n",
      "\u001b[34m[09/24/2020 01:51:20 INFO 140651471685440] #throughput_metric: host=algo-1, train throughput=1449.9704228 records/second\u001b[0m\n",
      "\u001b[34m[09/24/2020 01:51:20 INFO 140651471685440] #progress_metric: host=algo-1, completed 31 % of epochs\u001b[0m\n",
      "\u001b[34m[09/24/2020 01:51:20 INFO 140651471685440] #quality_metric: host=algo-1, epoch=8, train loss <loss>=-1.34657109867\u001b[0m\n",
      "\u001b[34m[09/24/2020 01:51:20 INFO 140651471685440] best epoch loss so far\u001b[0m\n",
      "\u001b[34m[09/24/2020 01:51:20 INFO 140651471685440] Saved checkpoint to \"/opt/ml/model/state_538daefb-e766-4bcd-9fad-d95d3c0c9c3d-0000.params\"\u001b[0m\n",
      "\u001b[34m#metrics {\"Metrics\": {\"state.serialize.time\": {\"count\": 1, \"max\": 10.246038436889648, \"sum\": 10.246038436889648, \"min\": 10.246038436889648}}, \"EndTime\": 1600912280.3186, \"Dimensions\": {\"Host\": \"algo-1\", \"Operation\": \"training\", \"Algorithm\": \"AWS/DeepAR\"}, \"StartTime\": 1600912280.307759}\n",
      "\u001b[0m\n",
      "\u001b[34m[09/24/2020 01:51:20 INFO 140651471685440] Epoch[9] Batch[0] avg_epoch_loss=-1.424766\u001b[0m\n",
      "\u001b[34m[09/24/2020 01:51:20 INFO 140651471685440] #quality_metric: host=algo-1, epoch=9, batch=0 train loss <loss>=-1.42476642132\u001b[0m\n",
      "\u001b[34m[09/24/2020 01:51:20 INFO 140651471685440] Epoch[9] Batch[5] avg_epoch_loss=-1.263480\u001b[0m\n",
      "\u001b[34m[09/24/2020 01:51:20 INFO 140651471685440] #quality_metric: host=algo-1, epoch=9, batch=5 train loss <loss>=-1.26347993811\u001b[0m\n",
      "\u001b[34m[09/24/2020 01:51:20 INFO 140651471685440] Epoch[9] Batch [5]#011Speed: 2937.99 samples/sec#011loss=-1.263480\u001b[0m\n",
      "\u001b[34m[09/24/2020 01:51:21 INFO 140651471685440] processed a total of 1254 examples\u001b[0m\n",
      "\u001b[34m#metrics {\"Metrics\": {\"update.time\": {\"count\": 1, \"max\": 775.5072116851807, \"sum\": 775.5072116851807, \"min\": 775.5072116851807}}, \"EndTime\": 1600912281.094236, \"Dimensions\": {\"Host\": \"algo-1\", \"Operation\": \"training\", \"Algorithm\": \"AWS/DeepAR\"}, \"StartTime\": 1600912280.318662}\n",
      "\u001b[0m\n",
      "\u001b[34m[09/24/2020 01:51:21 INFO 140651471685440] #throughput_metric: host=algo-1, train throughput=1616.72740015 records/second\u001b[0m\n",
      "\u001b[34m[09/24/2020 01:51:21 INFO 140651471685440] #progress_metric: host=algo-1, completed 34 % of epochs\u001b[0m\n",
      "\u001b[34m[09/24/2020 01:51:21 INFO 140651471685440] #quality_metric: host=algo-1, epoch=9, train loss <loss>=-1.27305354476\u001b[0m\n",
      "\u001b[34m[09/24/2020 01:51:21 INFO 140651471685440] loss did not improve\u001b[0m\n",
      "\u001b[34m[09/24/2020 01:51:21 INFO 140651471685440] Epoch[10] Batch[0] avg_epoch_loss=-1.247995\u001b[0m\n",
      "\u001b[34m[09/24/2020 01:51:21 INFO 140651471685440] #quality_metric: host=algo-1, epoch=10, batch=0 train loss <loss>=-1.24799466133\u001b[0m\n",
      "\u001b[34m[09/24/2020 01:51:21 INFO 140651471685440] Epoch[10] Batch[5] avg_epoch_loss=-1.325060\u001b[0m\n",
      "\u001b[34m[09/24/2020 01:51:21 INFO 140651471685440] #quality_metric: host=algo-1, epoch=10, batch=5 train loss <loss>=-1.32505989075\u001b[0m\n",
      "\u001b[34m[09/24/2020 01:51:21 INFO 140651471685440] Epoch[10] Batch [5]#011Speed: 2921.76 samples/sec#011loss=-1.325060\u001b[0m\n",
      "\u001b[34m[09/24/2020 01:51:21 INFO 140651471685440] processed a total of 1220 examples\u001b[0m\n",
      "\u001b[34m#metrics {\"Metrics\": {\"update.time\": {\"count\": 1, \"max\": 789.1671657562256, \"sum\": 789.1671657562256, \"min\": 789.1671657562256}}, \"EndTime\": 1600912281.883985, \"Dimensions\": {\"Host\": \"algo-1\", \"Operation\": \"training\", \"Algorithm\": \"AWS/DeepAR\"}, \"StartTime\": 1600912281.094327}\n",
      "\u001b[0m\n",
      "\u001b[34m[09/24/2020 01:51:21 INFO 140651471685440] #throughput_metric: host=algo-1, train throughput=1545.66784753 records/second\u001b[0m\n",
      "\u001b[34m[09/24/2020 01:51:21 INFO 140651471685440] #progress_metric: host=algo-1, completed 37 % of epochs\u001b[0m\n",
      "\u001b[34m[09/24/2020 01:51:21 INFO 140651471685440] #quality_metric: host=algo-1, epoch=10, train loss <loss>=-1.30306382179\u001b[0m\n",
      "\u001b[34m[09/24/2020 01:51:21 INFO 140651471685440] loss did not improve\u001b[0m\n",
      "\u001b[34m[09/24/2020 01:51:22 INFO 140651471685440] Epoch[11] Batch[0] avg_epoch_loss=-1.286817\u001b[0m\n",
      "\u001b[34m[09/24/2020 01:51:22 INFO 140651471685440] #quality_metric: host=algo-1, epoch=11, batch=0 train loss <loss>=-1.28681671619\u001b[0m\n",
      "\u001b[34m[09/24/2020 01:51:22 INFO 140651471685440] Epoch[11] Batch[5] avg_epoch_loss=-1.362407\u001b[0m\n",
      "\u001b[34m[09/24/2020 01:51:22 INFO 140651471685440] #quality_metric: host=algo-1, epoch=11, batch=5 train loss <loss>=-1.36240698894\u001b[0m\n",
      "\u001b[34m[09/24/2020 01:51:22 INFO 140651471685440] Epoch[11] Batch [5]#011Speed: 2668.27 samples/sec#011loss=-1.362407\u001b[0m\n",
      "\u001b[34m[09/24/2020 01:51:22 INFO 140651471685440] processed a total of 1262 examples\u001b[0m\n",
      "\u001b[34m#metrics {\"Metrics\": {\"update.time\": {\"count\": 1, \"max\": 814.1880035400391, \"sum\": 814.1880035400391, \"min\": 814.1880035400391}}, \"EndTime\": 1600912282.698796, \"Dimensions\": {\"Host\": \"algo-1\", \"Operation\": \"training\", \"Algorithm\": \"AWS/DeepAR\"}, \"StartTime\": 1600912281.884073}\n",
      "\u001b[0m\n",
      "\u001b[34m[09/24/2020 01:51:22 INFO 140651471685440] #throughput_metric: host=algo-1, train throughput=1549.78182942 records/second\u001b[0m\n",
      "\u001b[34m[09/24/2020 01:51:22 INFO 140651471685440] #progress_metric: host=algo-1, completed 41 % of epochs\u001b[0m\n",
      "\u001b[34m[09/24/2020 01:51:22 INFO 140651471685440] #quality_metric: host=algo-1, epoch=11, train loss <loss>=-1.37352341413\u001b[0m\n",
      "\u001b[34m[09/24/2020 01:51:22 INFO 140651471685440] best epoch loss so far\u001b[0m\n",
      "\u001b[34m[09/24/2020 01:51:22 INFO 140651471685440] Saved checkpoint to \"/opt/ml/model/state_c12f0170-30ed-4fa5-b044-80a1f52badfb-0000.params\"\u001b[0m\n",
      "\u001b[34m#metrics {\"Metrics\": {\"state.serialize.time\": {\"count\": 1, \"max\": 8.93712043762207, \"sum\": 8.93712043762207, \"min\": 8.93712043762207}}, \"EndTime\": 1600912282.70838, \"Dimensions\": {\"Host\": \"algo-1\", \"Operation\": \"training\", \"Algorithm\": \"AWS/DeepAR\"}, \"StartTime\": 1600912282.698869}\n",
      "\u001b[0m\n",
      "\u001b[34m[09/24/2020 01:51:23 INFO 140651471685440] Epoch[12] Batch[0] avg_epoch_loss=-1.482527\u001b[0m\n",
      "\u001b[34m[09/24/2020 01:51:23 INFO 140651471685440] #quality_metric: host=algo-1, epoch=12, batch=0 train loss <loss>=-1.48252737522\u001b[0m\n",
      "\u001b[34m[09/24/2020 01:51:23 INFO 140651471685440] Epoch[12] Batch[5] avg_epoch_loss=-1.354468\u001b[0m\n",
      "\u001b[34m[09/24/2020 01:51:23 INFO 140651471685440] #quality_metric: host=algo-1, epoch=12, batch=5 train loss <loss>=-1.35446842511\u001b[0m\n",
      "\u001b[34m[09/24/2020 01:51:23 INFO 140651471685440] Epoch[12] Batch [5]#011Speed: 2981.87 samples/sec#011loss=-1.354468\u001b[0m\n",
      "\u001b[34m[09/24/2020 01:51:23 INFO 140651471685440] processed a total of 1276 examples\u001b[0m\n",
      "\u001b[34m#metrics {\"Metrics\": {\"update.time\": {\"count\": 1, \"max\": 816.8540000915527, \"sum\": 816.8540000915527, \"min\": 816.8540000915527}}, \"EndTime\": 1600912283.525376, \"Dimensions\": {\"Host\": \"algo-1\", \"Operation\": \"training\", \"Algorithm\": \"AWS/DeepAR\"}, \"StartTime\": 1600912282.708451}\n",
      "\u001b[0m\n",
      "\u001b[34m[09/24/2020 01:51:23 INFO 140651471685440] #throughput_metric: host=algo-1, train throughput=1561.82671382 records/second\u001b[0m\n",
      "\u001b[34m[09/24/2020 01:51:23 INFO 140651471685440] #progress_metric: host=algo-1, completed 44 % of epochs\u001b[0m\n",
      "\u001b[34m[09/24/2020 01:51:23 INFO 140651471685440] #quality_metric: host=algo-1, epoch=12, train loss <loss>=-1.36927908659\u001b[0m\n",
      "\u001b[34m[09/24/2020 01:51:23 INFO 140651471685440] loss did not improve\u001b[0m\n",
      "\u001b[34m[09/24/2020 01:51:23 INFO 140651471685440] Epoch[13] Batch[0] avg_epoch_loss=-1.375715\u001b[0m\n",
      "\u001b[34m[09/24/2020 01:51:23 INFO 140651471685440] #quality_metric: host=algo-1, epoch=13, batch=0 train loss <loss>=-1.37571549416\u001b[0m\n",
      "\u001b[34m[09/24/2020 01:51:24 INFO 140651471685440] Epoch[13] Batch[5] avg_epoch_loss=-1.445860\u001b[0m\n",
      "\u001b[34m[09/24/2020 01:51:24 INFO 140651471685440] #quality_metric: host=algo-1, epoch=13, batch=5 train loss <loss>=-1.44586046537\u001b[0m\n",
      "\u001b[34m[09/24/2020 01:51:24 INFO 140651471685440] Epoch[13] Batch [5]#011Speed: 3068.48 samples/sec#011loss=-1.445860\u001b[0m\n",
      "\u001b[34m[09/24/2020 01:51:24 INFO 140651471685440] processed a total of 1264 examples\u001b[0m\n",
      "\u001b[34m#metrics {\"Metrics\": {\"update.time\": {\"count\": 1, \"max\": 775.0101089477539, \"sum\": 775.0101089477539, \"min\": 775.0101089477539}}, \"EndTime\": 1600912284.301279, \"Dimensions\": {\"Host\": \"algo-1\", \"Operation\": \"training\", \"Algorithm\": \"AWS/DeepAR\"}, \"StartTime\": 1600912283.525469}\n",
      "\u001b[0m\n",
      "\u001b[34m[09/24/2020 01:51:24 INFO 140651471685440] #throughput_metric: host=algo-1, train throughput=1630.70717679 records/second\u001b[0m\n",
      "\u001b[34m[09/24/2020 01:51:24 INFO 140651471685440] #progress_metric: host=algo-1, completed 48 % of epochs\u001b[0m\n",
      "\u001b[34m[09/24/2020 01:51:24 INFO 140651471685440] #quality_metric: host=algo-1, epoch=13, train loss <loss>=-1.35100442767\u001b[0m\n",
      "\u001b[34m[09/24/2020 01:51:24 INFO 140651471685440] loss did not improve\u001b[0m\n",
      "\u001b[34m[09/24/2020 01:51:24 INFO 140651471685440] Epoch[14] Batch[0] avg_epoch_loss=-1.198145\u001b[0m\n",
      "\u001b[34m[09/24/2020 01:51:24 INFO 140651471685440] #quality_metric: host=algo-1, epoch=14, batch=0 train loss <loss>=-1.19814455509\u001b[0m\n",
      "\u001b[34m[09/24/2020 01:51:24 INFO 140651471685440] Epoch[14] Batch[5] avg_epoch_loss=-1.215506\u001b[0m\n",
      "\u001b[34m[09/24/2020 01:51:24 INFO 140651471685440] #quality_metric: host=algo-1, epoch=14, batch=5 train loss <loss>=-1.21550611655\u001b[0m\n",
      "\u001b[34m[09/24/2020 01:51:24 INFO 140651471685440] Epoch[14] Batch [5]#011Speed: 2997.15 samples/sec#011loss=-1.215506\u001b[0m\n",
      "\u001b[34m[09/24/2020 01:51:25 INFO 140651471685440] processed a total of 1254 examples\u001b[0m\n",
      "\u001b[34m#metrics {\"Metrics\": {\"update.time\": {\"count\": 1, \"max\": 781.5299034118652, \"sum\": 781.5299034118652, \"min\": 781.5299034118652}}, \"EndTime\": 1600912285.083461, \"Dimensions\": {\"Host\": \"algo-1\", \"Operation\": \"training\", \"Algorithm\": \"AWS/DeepAR\"}, \"StartTime\": 1600912284.301354}\n",
      "\u001b[0m\n",
      "\u001b[34m[09/24/2020 01:51:25 INFO 140651471685440] #throughput_metric: host=algo-1, train throughput=1604.20206821 records/second\u001b[0m\n",
      "\u001b[34m[09/24/2020 01:51:25 INFO 140651471685440] #progress_metric: host=algo-1, completed 51 % of epochs\u001b[0m\n",
      "\u001b[34m[09/24/2020 01:51:25 INFO 140651471685440] #quality_metric: host=algo-1, epoch=14, train loss <loss>=-1.26821923256\u001b[0m\n",
      "\u001b[34m[09/24/2020 01:51:25 INFO 140651471685440] loss did not improve\u001b[0m\n",
      "\u001b[34m[09/24/2020 01:51:25 INFO 140651471685440] Epoch[15] Batch[0] avg_epoch_loss=-1.064029\u001b[0m\n",
      "\u001b[34m[09/24/2020 01:51:25 INFO 140651471685440] #quality_metric: host=algo-1, epoch=15, batch=0 train loss <loss>=-1.06402921677\u001b[0m\n",
      "\u001b[34m[09/24/2020 01:51:25 INFO 140651471685440] Epoch[15] Batch[5] avg_epoch_loss=-1.320094\u001b[0m\n",
      "\u001b[34m[09/24/2020 01:51:25 INFO 140651471685440] #quality_metric: host=algo-1, epoch=15, batch=5 train loss <loss>=-1.32009400924\u001b[0m\n",
      "\u001b[34m[09/24/2020 01:51:25 INFO 140651471685440] Epoch[15] Batch [5]#011Speed: 3009.24 samples/sec#011loss=-1.320094\u001b[0m\n",
      "\u001b[34m[09/24/2020 01:51:25 INFO 140651471685440] processed a total of 1264 examples\u001b[0m\n",
      "\u001b[34m#metrics {\"Metrics\": {\"update.time\": {\"count\": 1, \"max\": 775.5188941955566, \"sum\": 775.5188941955566, \"min\": 775.5188941955566}}, \"EndTime\": 1600912285.859694, \"Dimensions\": {\"Host\": \"algo-1\", \"Operation\": \"training\", \"Algorithm\": \"AWS/DeepAR\"}, \"StartTime\": 1600912285.083586}\n",
      "\u001b[0m\n",
      "\u001b[34m[09/24/2020 01:51:25 INFO 140651471685440] #throughput_metric: host=algo-1, train throughput=1629.61345126 records/second\u001b[0m\n",
      "\u001b[34m[09/24/2020 01:51:25 INFO 140651471685440] #progress_metric: host=algo-1, completed 55 % of epochs\u001b[0m\n",
      "\u001b[34m[09/24/2020 01:51:25 INFO 140651471685440] #quality_metric: host=algo-1, epoch=15, train loss <loss>=-1.34234349728\u001b[0m\n",
      "\u001b[34m[09/24/2020 01:51:25 INFO 140651471685440] loss did not improve\u001b[0m\n",
      "\u001b[34m[09/24/2020 01:51:26 INFO 140651471685440] Epoch[16] Batch[0] avg_epoch_loss=-1.419286\u001b[0m\n",
      "\u001b[34m[09/24/2020 01:51:26 INFO 140651471685440] #quality_metric: host=algo-1, epoch=16, batch=0 train loss <loss>=-1.41928625107\u001b[0m\n",
      "\u001b[34m[09/24/2020 01:51:26 INFO 140651471685440] Epoch[16] Batch[5] avg_epoch_loss=-1.415579\u001b[0m\n",
      "\u001b[34m[09/24/2020 01:51:26 INFO 140651471685440] #quality_metric: host=algo-1, epoch=16, batch=5 train loss <loss>=-1.415579319\u001b[0m\n",
      "\u001b[34m[09/24/2020 01:51:26 INFO 140651471685440] Epoch[16] Batch [5]#011Speed: 3025.06 samples/sec#011loss=-1.415579\u001b[0m\n",
      "\u001b[34m[09/24/2020 01:51:26 INFO 140651471685440] Epoch[16] Batch[10] avg_epoch_loss=-1.375751\u001b[0m\n",
      "\u001b[34m[09/24/2020 01:51:26 INFO 140651471685440] #quality_metric: host=algo-1, epoch=16, batch=10 train loss <loss>=-1.32795774937\u001b[0m\n",
      "\u001b[34m[09/24/2020 01:51:26 INFO 140651471685440] Epoch[16] Batch [10]#011Speed: 3013.54 samples/sec#011loss=-1.327958\u001b[0m\n",
      "\u001b[34m[09/24/2020 01:51:26 INFO 140651471685440] processed a total of 1348 examples\u001b[0m\n",
      "\u001b[34m#metrics {\"Metrics\": {\"update.time\": {\"count\": 1, \"max\": 887.8488540649414, \"sum\": 887.8488540649414, \"min\": 887.8488540649414}}, \"EndTime\": 1600912286.748108, \"Dimensions\": {\"Host\": \"algo-1\", \"Operation\": \"training\", \"Algorithm\": \"AWS/DeepAR\"}, \"StartTime\": 1600912285.859775}\n",
      "\u001b[0m\n",
      "\u001b[34m[09/24/2020 01:51:26 INFO 140651471685440] #throughput_metric: host=algo-1, train throughput=1518.06242507 records/second\u001b[0m\n",
      "\u001b[34m[09/24/2020 01:51:26 INFO 140651471685440] #progress_metric: host=algo-1, completed 58 % of epochs\u001b[0m\n",
      "\u001b[34m[09/24/2020 01:51:26 INFO 140651471685440] #quality_metric: host=algo-1, epoch=16, train loss <loss>=-1.3757513328\u001b[0m\n",
      "\u001b[34m[09/24/2020 01:51:26 INFO 140651471685440] best epoch loss so far\u001b[0m\n",
      "\u001b[34m[09/24/2020 01:51:26 INFO 140651471685440] Saved checkpoint to \"/opt/ml/model/state_2bb09b4c-3c8d-432f-9954-f2f3b03acb5e-0000.params\"\u001b[0m\n",
      "\u001b[34m#metrics {\"Metrics\": {\"state.serialize.time\": {\"count\": 1, \"max\": 12.796878814697266, \"sum\": 12.796878814697266, \"min\": 12.796878814697266}}, \"EndTime\": 1600912286.761459, \"Dimensions\": {\"Host\": \"algo-1\", \"Operation\": \"training\", \"Algorithm\": \"AWS/DeepAR\"}, \"StartTime\": 1600912286.748194}\n",
      "\u001b[0m\n",
      "\u001b[34m[09/24/2020 01:51:27 INFO 140651471685440] Epoch[17] Batch[0] avg_epoch_loss=-1.077064\u001b[0m\n",
      "\u001b[34m[09/24/2020 01:51:27 INFO 140651471685440] #quality_metric: host=algo-1, epoch=17, batch=0 train loss <loss>=-1.07706439495\u001b[0m\n",
      "\u001b[34m[09/24/2020 01:51:27 INFO 140651471685440] Epoch[17] Batch[5] avg_epoch_loss=-1.247947\u001b[0m\n",
      "\u001b[34m[09/24/2020 01:51:27 INFO 140651471685440] #quality_metric: host=algo-1, epoch=17, batch=5 train loss <loss>=-1.24794654051\u001b[0m\n",
      "\u001b[34m[09/24/2020 01:51:27 INFO 140651471685440] Epoch[17] Batch [5]#011Speed: 3044.45 samples/sec#011loss=-1.247947\u001b[0m\n",
      "\u001b[34m[09/24/2020 01:51:27 INFO 140651471685440] Epoch[17] Batch[10] avg_epoch_loss=-1.294153\u001b[0m\n",
      "\u001b[34m[09/24/2020 01:51:27 INFO 140651471685440] #quality_metric: host=algo-1, epoch=17, batch=10 train loss <loss>=-1.34960169792\u001b[0m\n",
      "\u001b[34m[09/24/2020 01:51:27 INFO 140651471685440] Epoch[17] Batch [10]#011Speed: 2897.76 samples/sec#011loss=-1.349602\u001b[0m\n",
      "\u001b[34m[09/24/2020 01:51:27 INFO 140651471685440] processed a total of 1286 examples\u001b[0m\n",
      "\u001b[34m#metrics {\"Metrics\": {\"update.time\": {\"count\": 1, \"max\": 827.578067779541, \"sum\": 827.578067779541, \"min\": 827.578067779541}}, \"EndTime\": 1600912287.589158, \"Dimensions\": {\"Host\": \"algo-1\", \"Operation\": \"training\", \"Algorithm\": \"AWS/DeepAR\"}, \"StartTime\": 1600912286.761519}\n",
      "\u001b[0m\n",
      "\u001b[34m[09/24/2020 01:51:27 INFO 140651471685440] #throughput_metric: host=algo-1, train throughput=1553.70322083 records/second\u001b[0m\n",
      "\u001b[34m[09/24/2020 01:51:27 INFO 140651471685440] #progress_metric: host=algo-1, completed 62 % of epochs\u001b[0m\n",
      "\u001b[34m[09/24/2020 01:51:27 INFO 140651471685440] #quality_metric: host=algo-1, epoch=17, train loss <loss>=-1.29415343025\u001b[0m\n",
      "\u001b[34m[09/24/2020 01:51:27 INFO 140651471685440] loss did not improve\u001b[0m\n",
      "\u001b[34m[09/24/2020 01:51:28 INFO 140651471685440] Epoch[18] Batch[0] avg_epoch_loss=-1.439237\u001b[0m\n",
      "\u001b[34m[09/24/2020 01:51:28 INFO 140651471685440] #quality_metric: host=algo-1, epoch=18, batch=0 train loss <loss>=-1.43923652172\u001b[0m\n",
      "\u001b[34m[09/24/2020 01:51:28 INFO 140651471685440] Epoch[18] Batch[5] avg_epoch_loss=-1.370185\u001b[0m\n",
      "\u001b[34m[09/24/2020 01:51:28 INFO 140651471685440] #quality_metric: host=algo-1, epoch=18, batch=5 train loss <loss>=-1.37018483877\u001b[0m\n",
      "\u001b[34m[09/24/2020 01:51:28 INFO 140651471685440] Epoch[18] Batch [5]#011Speed: 3070.17 samples/sec#011loss=-1.370185\u001b[0m\n",
      "\u001b[34m[09/24/2020 01:51:28 INFO 140651471685440] Epoch[18] Batch[10] avg_epoch_loss=-1.413840\u001b[0m\n",
      "\u001b[34m[09/24/2020 01:51:28 INFO 140651471685440] #quality_metric: host=algo-1, epoch=18, batch=10 train loss <loss>=-1.46622726917\u001b[0m\n",
      "\u001b[34m[09/24/2020 01:51:28 INFO 140651471685440] Epoch[18] Batch [10]#011Speed: 2977.81 samples/sec#011loss=-1.466227\u001b[0m\n",
      "\u001b[34m[09/24/2020 01:51:28 INFO 140651471685440] processed a total of 1290 examples\u001b[0m\n",
      "\u001b[34m#metrics {\"Metrics\": {\"update.time\": {\"count\": 1, \"max\": 880.1300525665283, \"sum\": 880.1300525665283, \"min\": 880.1300525665283}}, \"EndTime\": 1600912288.469816, \"Dimensions\": {\"Host\": \"algo-1\", \"Operation\": \"training\", \"Algorithm\": \"AWS/DeepAR\"}, \"StartTime\": 1600912287.589241}\n",
      "\u001b[0m\n",
      "\u001b[34m[09/24/2020 01:51:28 INFO 140651471685440] #throughput_metric: host=algo-1, train throughput=1465.48287257 records/second\u001b[0m\n",
      "\u001b[34m[09/24/2020 01:51:28 INFO 140651471685440] #progress_metric: host=algo-1, completed 65 % of epochs\u001b[0m\n",
      "\u001b[34m[09/24/2020 01:51:28 INFO 140651471685440] #quality_metric: host=algo-1, epoch=18, train loss <loss>=-1.41384048895\u001b[0m\n",
      "\u001b[34m[09/24/2020 01:51:28 INFO 140651471685440] best epoch loss so far\u001b[0m\n",
      "\u001b[34m[09/24/2020 01:51:28 INFO 140651471685440] Saved checkpoint to \"/opt/ml/model/state_100beb02-aec0-4311-9402-312ecbef258b-0000.params\"\u001b[0m\n",
      "\u001b[34m#metrics {\"Metrics\": {\"state.serialize.time\": {\"count\": 1, \"max\": 12.81285285949707, \"sum\": 12.81285285949707, \"min\": 12.81285285949707}}, \"EndTime\": 1600912288.483183, \"Dimensions\": {\"Host\": \"algo-1\", \"Operation\": \"training\", \"Algorithm\": \"AWS/DeepAR\"}, \"StartTime\": 1600912288.469901}\n",
      "\u001b[0m\n",
      "\u001b[34m[09/24/2020 01:51:28 INFO 140651471685440] Epoch[19] Batch[0] avg_epoch_loss=-1.220794\u001b[0m\n",
      "\u001b[34m[09/24/2020 01:51:28 INFO 140651471685440] #quality_metric: host=algo-1, epoch=19, batch=0 train loss <loss>=-1.22079396248\u001b[0m\n",
      "\u001b[34m[09/24/2020 01:51:29 INFO 140651471685440] Epoch[19] Batch[5] avg_epoch_loss=-1.196396\u001b[0m\n",
      "\u001b[34m[09/24/2020 01:51:29 INFO 140651471685440] #quality_metric: host=algo-1, epoch=19, batch=5 train loss <loss>=-1.19639611244\u001b[0m\n",
      "\u001b[34m[09/24/2020 01:51:29 INFO 140651471685440] Epoch[19] Batch [5]#011Speed: 2736.28 samples/sec#011loss=-1.196396\u001b[0m\n",
      "\u001b[34m[09/24/2020 01:51:29 INFO 140651471685440] Epoch[19] Batch[10] avg_epoch_loss=-1.212803\u001b[0m\n",
      "\u001b[34m[09/24/2020 01:51:29 INFO 140651471685440] #quality_metric: host=algo-1, epoch=19, batch=10 train loss <loss>=-1.23249208927\u001b[0m\n",
      "\u001b[34m[09/24/2020 01:51:29 INFO 140651471685440] Epoch[19] Batch [10]#011Speed: 2974.49 samples/sec#011loss=-1.232492\u001b[0m\n",
      "\u001b[34m[09/24/2020 01:51:29 INFO 140651471685440] processed a total of 1295 examples\u001b[0m\n",
      "\u001b[34m#metrics {\"Metrics\": {\"update.time\": {\"count\": 1, \"max\": 898.0581760406494, \"sum\": 898.0581760406494, \"min\": 898.0581760406494}}, \"EndTime\": 1600912289.381362, \"Dimensions\": {\"Host\": \"algo-1\", \"Operation\": \"training\", \"Algorithm\": \"AWS/DeepAR\"}, \"StartTime\": 1600912288.483242}\n",
      "\u001b[0m\n",
      "\u001b[34m[09/24/2020 01:51:29 INFO 140651471685440] #throughput_metric: host=algo-1, train throughput=1441.79801909 records/second\u001b[0m\n",
      "\u001b[34m[09/24/2020 01:51:29 INFO 140651471685440] #progress_metric: host=algo-1, completed 68 % of epochs\u001b[0m\n",
      "\u001b[34m[09/24/2020 01:51:29 INFO 140651471685440] #quality_metric: host=algo-1, epoch=19, train loss <loss>=-1.21280337464\u001b[0m\n",
      "\u001b[34m[09/24/2020 01:51:29 INFO 140651471685440] loss did not improve\u001b[0m\n",
      "\u001b[34m[09/24/2020 01:51:29 INFO 140651471685440] Epoch[20] Batch[0] avg_epoch_loss=-1.401763\u001b[0m\n",
      "\u001b[34m[09/24/2020 01:51:29 INFO 140651471685440] #quality_metric: host=algo-1, epoch=20, batch=0 train loss <loss>=-1.40176343918\u001b[0m\n",
      "\u001b[34m[09/24/2020 01:51:29 INFO 140651471685440] Epoch[20] Batch[5] avg_epoch_loss=-1.457318\u001b[0m\n",
      "\u001b[34m[09/24/2020 01:51:29 INFO 140651471685440] #quality_metric: host=algo-1, epoch=20, batch=5 train loss <loss>=-1.45731794834\u001b[0m\n",
      "\u001b[34m[09/24/2020 01:51:29 INFO 140651471685440] Epoch[20] Batch [5]#011Speed: 3037.02 samples/sec#011loss=-1.457318\u001b[0m\n",
      "\u001b[34m[09/24/2020 01:51:30 INFO 140651471685440] Epoch[20] Batch[10] avg_epoch_loss=-1.375117\u001b[0m\n",
      "\u001b[34m[09/24/2020 01:51:30 INFO 140651471685440] #quality_metric: host=algo-1, epoch=20, batch=10 train loss <loss>=-1.27647645473\u001b[0m\n",
      "\u001b[34m[09/24/2020 01:51:30 INFO 140651471685440] Epoch[20] Batch [10]#011Speed: 2957.79 samples/sec#011loss=-1.276476\u001b[0m\n",
      "\u001b[34m[09/24/2020 01:51:30 INFO 140651471685440] processed a total of 1285 examples\u001b[0m\n",
      "\u001b[34m#metrics {\"Metrics\": {\"update.time\": {\"count\": 1, \"max\": 833.9290618896484, \"sum\": 833.9290618896484, \"min\": 833.9290618896484}}, \"EndTime\": 1600912290.216115, \"Dimensions\": {\"Host\": \"algo-1\", \"Operation\": \"training\", \"Algorithm\": \"AWS/DeepAR\"}, \"StartTime\": 1600912289.381448}\n",
      "\u001b[0m\n",
      "\u001b[34m[09/24/2020 01:51:30 INFO 140651471685440] #throughput_metric: host=algo-1, train throughput=1540.68041508 records/second\u001b[0m\n",
      "\u001b[34m[09/24/2020 01:51:30 INFO 140651471685440] #progress_metric: host=algo-1, completed 72 % of epochs\u001b[0m\n",
      "\u001b[34m[09/24/2020 01:51:30 INFO 140651471685440] #quality_metric: host=algo-1, epoch=20, train loss <loss>=-1.37511726943\u001b[0m\n",
      "\u001b[34m[09/24/2020 01:51:30 INFO 140651471685440] loss did not improve\u001b[0m\n",
      "\u001b[34m[09/24/2020 01:51:30 INFO 140651471685440] Epoch[21] Batch[0] avg_epoch_loss=-0.511651\u001b[0m\n",
      "\u001b[34m[09/24/2020 01:51:30 INFO 140651471685440] #quality_metric: host=algo-1, epoch=21, batch=0 train loss <loss>=-0.511650562286\u001b[0m\n",
      "\u001b[34m[09/24/2020 01:51:30 INFO 140651471685440] Epoch[21] Batch[5] avg_epoch_loss=-0.919857\u001b[0m\n",
      "\u001b[34m[09/24/2020 01:51:30 INFO 140651471685440] #quality_metric: host=algo-1, epoch=21, batch=5 train loss <loss>=-0.91985732317\u001b[0m\n",
      "\u001b[34m[09/24/2020 01:51:30 INFO 140651471685440] Epoch[21] Batch [5]#011Speed: 3024.13 samples/sec#011loss=-0.919857\u001b[0m\n",
      "\u001b[34m[09/24/2020 01:51:31 INFO 140651471685440] Epoch[21] Batch[10] avg_epoch_loss=-0.942135\u001b[0m\n",
      "\u001b[34m[09/24/2020 01:51:31 INFO 140651471685440] #quality_metric: host=algo-1, epoch=21, batch=10 train loss <loss>=-0.968868136406\u001b[0m\n",
      "\u001b[34m[09/24/2020 01:51:31 INFO 140651471685440] Epoch[21] Batch [10]#011Speed: 2996.03 samples/sec#011loss=-0.968868\u001b[0m\n",
      "\u001b[34m[09/24/2020 01:51:31 INFO 140651471685440] processed a total of 1338 examples\u001b[0m\n",
      "\u001b[34m#metrics {\"Metrics\": {\"update.time\": {\"count\": 1, \"max\": 840.2068614959717, \"sum\": 840.2068614959717, \"min\": 840.2068614959717}}, \"EndTime\": 1600912291.056832, \"Dimensions\": {\"Host\": \"algo-1\", \"Operation\": \"training\", \"Algorithm\": \"AWS/DeepAR\"}, \"StartTime\": 1600912290.216191}\n",
      "\u001b[0m\n",
      "\u001b[34m[09/24/2020 01:51:31 INFO 140651471685440] #throughput_metric: host=algo-1, train throughput=1592.22596757 records/second\u001b[0m\n",
      "\u001b[34m[09/24/2020 01:51:31 INFO 140651471685440] #progress_metric: host=algo-1, completed 75 % of epochs\u001b[0m\n",
      "\u001b[34m[09/24/2020 01:51:31 INFO 140651471685440] #quality_metric: host=algo-1, epoch=21, train loss <loss>=-0.94213496555\u001b[0m\n",
      "\u001b[34m[09/24/2020 01:51:31 INFO 140651471685440] loss did not improve\u001b[0m\n",
      "\u001b[34m[09/24/2020 01:51:31 INFO 140651471685440] Epoch[22] Batch[0] avg_epoch_loss=-1.196190\u001b[0m\n",
      "\u001b[34m[09/24/2020 01:51:31 INFO 140651471685440] #quality_metric: host=algo-1, epoch=22, batch=0 train loss <loss>=-1.19619011879\u001b[0m\n",
      "\u001b[34m[09/24/2020 01:51:31 INFO 140651471685440] Epoch[22] Batch[5] avg_epoch_loss=-1.290098\u001b[0m\n",
      "\u001b[34m[09/24/2020 01:51:31 INFO 140651471685440] #quality_metric: host=algo-1, epoch=22, batch=5 train loss <loss>=-1.29009819031\u001b[0m\n",
      "\u001b[34m[09/24/2020 01:51:31 INFO 140651471685440] Epoch[22] Batch [5]#011Speed: 2961.15 samples/sec#011loss=-1.290098\u001b[0m\n",
      "\u001b[34m[09/24/2020 01:51:31 INFO 140651471685440] processed a total of 1236 examples\u001b[0m\n",
      "\u001b[34m#metrics {\"Metrics\": {\"update.time\": {\"count\": 1, \"max\": 800.5001544952393, \"sum\": 800.5001544952393, \"min\": 800.5001544952393}}, \"EndTime\": 1600912291.857848, \"Dimensions\": {\"Host\": \"algo-1\", \"Operation\": \"training\", \"Algorithm\": \"AWS/DeepAR\"}, \"StartTime\": 1600912291.056917}\n",
      "\u001b[0m\n",
      "\u001b[34m[09/24/2020 01:51:31 INFO 140651471685440] #throughput_metric: host=algo-1, train throughput=1543.79374551 records/second\u001b[0m\n",
      "\u001b[34m[09/24/2020 01:51:31 INFO 140651471685440] #progress_metric: host=algo-1, completed 79 % of epochs\u001b[0m\n",
      "\u001b[34m[09/24/2020 01:51:31 INFO 140651471685440] #quality_metric: host=algo-1, epoch=22, train loss <loss>=-1.27912083268\u001b[0m\n",
      "\u001b[34m[09/24/2020 01:51:31 INFO 140651471685440] loss did not improve\u001b[0m\n",
      "\u001b[34m[09/24/2020 01:51:32 INFO 140651471685440] Epoch[23] Batch[0] avg_epoch_loss=-1.209364\u001b[0m\n",
      "\u001b[34m[09/24/2020 01:51:32 INFO 140651471685440] #quality_metric: host=algo-1, epoch=23, batch=0 train loss <loss>=-1.20936393738\u001b[0m\n",
      "\u001b[34m[09/24/2020 01:51:32 INFO 140651471685440] Epoch[23] Batch[5] avg_epoch_loss=-1.333562\u001b[0m\n",
      "\u001b[34m[09/24/2020 01:51:32 INFO 140651471685440] #quality_metric: host=algo-1, epoch=23, batch=5 train loss <loss>=-1.3335617582\u001b[0m\n",
      "\u001b[34m[09/24/2020 01:51:32 INFO 140651471685440] Epoch[23] Batch [5]#011Speed: 2944.91 samples/sec#011loss=-1.333562\u001b[0m\n",
      "\u001b[34m[09/24/2020 01:51:32 INFO 140651471685440] Epoch[23] Batch[10] avg_epoch_loss=-1.335557\u001b[0m\n",
      "\u001b[34m[09/24/2020 01:51:32 INFO 140651471685440] #quality_metric: host=algo-1, epoch=23, batch=10 train loss <loss>=-1.33795154095\u001b[0m\n",
      "\u001b[34m[09/24/2020 01:51:32 INFO 140651471685440] Epoch[23] Batch [10]#011Speed: 3012.46 samples/sec#011loss=-1.337952\u001b[0m\n",
      "\u001b[34m[09/24/2020 01:51:32 INFO 140651471685440] processed a total of 1311 examples\u001b[0m\n",
      "\u001b[34m#metrics {\"Metrics\": {\"update.time\": {\"count\": 1, \"max\": 877.3829936981201, \"sum\": 877.3829936981201, \"min\": 877.3829936981201}}, \"EndTime\": 1600912292.735799, \"Dimensions\": {\"Host\": \"algo-1\", \"Operation\": \"training\", \"Algorithm\": \"AWS/DeepAR\"}, \"StartTime\": 1600912291.85793}\n",
      "\u001b[0m\n",
      "\u001b[34m[09/24/2020 01:51:32 INFO 140651471685440] #throughput_metric: host=algo-1, train throughput=1493.91511574 records/second\u001b[0m\n",
      "\u001b[34m[09/24/2020 01:51:32 INFO 140651471685440] #progress_metric: host=algo-1, completed 82 % of epochs\u001b[0m\n",
      "\u001b[34m[09/24/2020 01:51:32 INFO 140651471685440] #quality_metric: host=algo-1, epoch=23, train loss <loss>=-1.33555711399\u001b[0m\n",
      "\u001b[34m[09/24/2020 01:51:32 INFO 140651471685440] loss did not improve\u001b[0m\n",
      "\u001b[34m[09/24/2020 01:51:33 INFO 140651471685440] Epoch[24] Batch[0] avg_epoch_loss=-1.297999\u001b[0m\n",
      "\u001b[34m[09/24/2020 01:51:33 INFO 140651471685440] #quality_metric: host=algo-1, epoch=24, batch=0 train loss <loss>=-1.2979991436\u001b[0m\n",
      "\u001b[34m[09/24/2020 01:51:33 INFO 140651471685440] Epoch[24] Batch[5] avg_epoch_loss=-1.391281\u001b[0m\n",
      "\u001b[34m[09/24/2020 01:51:33 INFO 140651471685440] #quality_metric: host=algo-1, epoch=24, batch=5 train loss <loss>=-1.39128100872\u001b[0m\n",
      "\u001b[34m[09/24/2020 01:51:33 INFO 140651471685440] Epoch[24] Batch [5]#011Speed: 3063.40 samples/sec#011loss=-1.391281\u001b[0m\n",
      "\u001b[34m[09/24/2020 01:51:33 INFO 140651471685440] Epoch[24] Batch[10] avg_epoch_loss=-1.416880\u001b[0m\n",
      "\u001b[34m[09/24/2020 01:51:33 INFO 140651471685440] #quality_metric: host=algo-1, epoch=24, batch=10 train loss <loss>=-1.44759986401\u001b[0m\n",
      "\u001b[34m[09/24/2020 01:51:33 INFO 140651471685440] Epoch[24] Batch [10]#011Speed: 2859.58 samples/sec#011loss=-1.447600\u001b[0m\n",
      "\u001b[34m[09/24/2020 01:51:33 INFO 140651471685440] processed a total of 1295 examples\u001b[0m\n",
      "\u001b[34m#metrics {\"Metrics\": {\"update.time\": {\"count\": 1, \"max\": 877.1450519561768, \"sum\": 877.1450519561768, \"min\": 877.1450519561768}}, \"EndTime\": 1600912293.613498, \"Dimensions\": {\"Host\": \"algo-1\", \"Operation\": \"training\", \"Algorithm\": \"AWS/DeepAR\"}, \"StartTime\": 1600912292.735935}\n",
      "\u001b[0m\n",
      "\u001b[34m[09/24/2020 01:51:33 INFO 140651471685440] #throughput_metric: host=algo-1, train throughput=1476.18045002 records/second\u001b[0m\n",
      "\u001b[34m[09/24/2020 01:51:33 INFO 140651471685440] #progress_metric: host=algo-1, completed 86 % of epochs\u001b[0m\n",
      "\u001b[34m[09/24/2020 01:51:33 INFO 140651471685440] #quality_metric: host=algo-1, epoch=24, train loss <loss>=-1.4168804884\u001b[0m\n",
      "\u001b[34m[09/24/2020 01:51:33 INFO 140651471685440] best epoch loss so far\u001b[0m\n",
      "\u001b[34m[09/24/2020 01:51:33 INFO 140651471685440] Saved checkpoint to \"/opt/ml/model/state_21c8ad1c-5bef-46e8-bcbd-0378e6c79600-0000.params\"\u001b[0m\n",
      "\u001b[34m#metrics {\"Metrics\": {\"state.serialize.time\": {\"count\": 1, \"max\": 19.36483383178711, \"sum\": 19.36483383178711, \"min\": 19.36483383178711}}, \"EndTime\": 1600912293.633535, \"Dimensions\": {\"Host\": \"algo-1\", \"Operation\": \"training\", \"Algorithm\": \"AWS/DeepAR\"}, \"StartTime\": 1600912293.613578}\n",
      "\u001b[0m\n",
      "\n",
      "2020-09-24 01:51:45 Uploading - Uploading generated training model\n",
      "2020-09-24 01:51:45 Completed - Training job completed\n",
      "\u001b[34m[09/24/2020 01:51:34 INFO 140651471685440] Epoch[25] Batch[0] avg_epoch_loss=-1.446212\u001b[0m\n",
      "\u001b[34m[09/24/2020 01:51:34 INFO 140651471685440] #quality_metric: host=algo-1, epoch=25, batch=0 train loss <loss>=-1.44621229172\u001b[0m\n",
      "\u001b[34m[09/24/2020 01:51:34 INFO 140651471685440] Epoch[25] Batch[5] avg_epoch_loss=-1.417443\u001b[0m\n",
      "\u001b[34m[09/24/2020 01:51:34 INFO 140651471685440] #quality_metric: host=algo-1, epoch=25, batch=5 train loss <loss>=-1.41744287809\u001b[0m\n",
      "\u001b[34m[09/24/2020 01:51:34 INFO 140651471685440] Epoch[25] Batch [5]#011Speed: 3061.03 samples/sec#011loss=-1.417443\u001b[0m\n",
      "\u001b[34m[09/24/2020 01:51:34 INFO 140651471685440] processed a total of 1244 examples\u001b[0m\n",
      "\u001b[34m#metrics {\"Metrics\": {\"update.time\": {\"count\": 1, \"max\": 789.1058921813965, \"sum\": 789.1058921813965, \"min\": 789.1058921813965}}, \"EndTime\": 1600912294.422818, \"Dimensions\": {\"Host\": \"algo-1\", \"Operation\": \"training\", \"Algorithm\": \"AWS/DeepAR\"}, \"StartTime\": 1600912293.633601}\n",
      "\u001b[0m\n",
      "\u001b[34m[09/24/2020 01:51:34 INFO 140651471685440] #throughput_metric: host=algo-1, train throughput=1576.1663155 records/second\u001b[0m\n",
      "\u001b[34m[09/24/2020 01:51:34 INFO 140651471685440] #progress_metric: host=algo-1, completed 89 % of epochs\u001b[0m\n",
      "\u001b[34m[09/24/2020 01:51:34 INFO 140651471685440] #quality_metric: host=algo-1, epoch=25, train loss <loss>=-1.44120875597\u001b[0m\n",
      "\u001b[34m[09/24/2020 01:51:34 INFO 140651471685440] best epoch loss so far\u001b[0m\n",
      "\u001b[34m[09/24/2020 01:51:34 INFO 140651471685440] Saved checkpoint to \"/opt/ml/model/state_eb486f98-4b12-4813-91ac-b409d4143e25-0000.params\"\u001b[0m\n",
      "\u001b[34m#metrics {\"Metrics\": {\"state.serialize.time\": {\"count\": 1, \"max\": 10.608911514282227, \"sum\": 10.608911514282227, \"min\": 10.608911514282227}}, \"EndTime\": 1600912294.434185, \"Dimensions\": {\"Host\": \"algo-1\", \"Operation\": \"training\", \"Algorithm\": \"AWS/DeepAR\"}, \"StartTime\": 1600912294.42289}\n",
      "\u001b[0m\n",
      "\u001b[34m[09/24/2020 01:51:34 INFO 140651471685440] Epoch[26] Batch[0] avg_epoch_loss=-1.522137\u001b[0m\n",
      "\u001b[34m[09/24/2020 01:51:34 INFO 140651471685440] #quality_metric: host=algo-1, epoch=26, batch=0 train loss <loss>=-1.52213704586\u001b[0m\n",
      "\u001b[34m[09/24/2020 01:51:35 INFO 140651471685440] Epoch[26] Batch[5] avg_epoch_loss=-1.496032\u001b[0m\n",
      "\u001b[34m[09/24/2020 01:51:35 INFO 140651471685440] #quality_metric: host=algo-1, epoch=26, batch=5 train loss <loss>=-1.49603199959\u001b[0m\n",
      "\u001b[34m[09/24/2020 01:51:35 INFO 140651471685440] Epoch[26] Batch [5]#011Speed: 3014.67 samples/sec#011loss=-1.496032\u001b[0m\n",
      "\u001b[34m[09/24/2020 01:51:35 INFO 140651471685440] processed a total of 1277 examples\u001b[0m\n",
      "\u001b[34m#metrics {\"Metrics\": {\"update.time\": {\"count\": 1, \"max\": 793.6029434204102, \"sum\": 793.6029434204102, \"min\": 793.6029434204102}}, \"EndTime\": 1600912295.227918, \"Dimensions\": {\"Host\": \"algo-1\", \"Operation\": \"training\", \"Algorithm\": \"AWS/DeepAR\"}, \"StartTime\": 1600912294.434248}\n",
      "\u001b[0m\n",
      "\u001b[34m[09/24/2020 01:51:35 INFO 140651471685440] #throughput_metric: host=algo-1, train throughput=1608.84344664 records/second\u001b[0m\n",
      "\u001b[34m[09/24/2020 01:51:35 INFO 140651471685440] #progress_metric: host=algo-1, completed 93 % of epochs\u001b[0m\n",
      "\u001b[34m[09/24/2020 01:51:35 INFO 140651471685440] #quality_metric: host=algo-1, epoch=26, train loss <loss>=-1.49824182987\u001b[0m\n",
      "\u001b[34m[09/24/2020 01:51:35 INFO 140651471685440] best epoch loss so far\u001b[0m\n",
      "\u001b[34m[09/24/2020 01:51:35 INFO 140651471685440] Saved checkpoint to \"/opt/ml/model/state_9d419db8-a8d2-468a-a007-75cab3fce939-0000.params\"\u001b[0m\n",
      "\u001b[34m#metrics {\"Metrics\": {\"state.serialize.time\": {\"count\": 1, \"max\": 8.479833602905273, \"sum\": 8.479833602905273, \"min\": 8.479833602905273}}, \"EndTime\": 1600912295.237061, \"Dimensions\": {\"Host\": \"algo-1\", \"Operation\": \"training\", \"Algorithm\": \"AWS/DeepAR\"}, \"StartTime\": 1600912295.228009}\n",
      "\u001b[0m\n",
      "\u001b[34m[09/24/2020 01:51:35 INFO 140651471685440] Epoch[27] Batch[0] avg_epoch_loss=-1.505099\u001b[0m\n",
      "\u001b[34m[09/24/2020 01:51:35 INFO 140651471685440] #quality_metric: host=algo-1, epoch=27, batch=0 train loss <loss>=-1.50509858131\u001b[0m\n",
      "\u001b[34m[09/24/2020 01:51:35 INFO 140651471685440] Epoch[27] Batch[5] avg_epoch_loss=-1.466803\u001b[0m\n",
      "\u001b[34m[09/24/2020 01:51:35 INFO 140651471685440] #quality_metric: host=algo-1, epoch=27, batch=5 train loss <loss>=-1.46680291494\u001b[0m\n",
      "\u001b[34m[09/24/2020 01:51:35 INFO 140651471685440] Epoch[27] Batch [5]#011Speed: 3012.93 samples/sec#011loss=-1.466803\u001b[0m\n",
      "\u001b[34m[09/24/2020 01:51:36 INFO 140651471685440] Epoch[27] Batch[10] avg_epoch_loss=-1.450541\u001b[0m\n",
      "\u001b[34m[09/24/2020 01:51:36 INFO 140651471685440] #quality_metric: host=algo-1, epoch=27, batch=10 train loss <loss>=-1.43102655411\u001b[0m\n",
      "\u001b[34m[09/24/2020 01:51:36 INFO 140651471685440] Epoch[27] Batch [10]#011Speed: 2913.36 samples/sec#011loss=-1.431027\u001b[0m\n",
      "\u001b[34m[09/24/2020 01:51:36 INFO 140651471685440] processed a total of 1332 examples\u001b[0m\n",
      "\u001b[34m#metrics {\"Metrics\": {\"update.time\": {\"count\": 1, \"max\": 851.0351181030273, \"sum\": 851.0351181030273, \"min\": 851.0351181030273}}, \"EndTime\": 1600912296.088293, \"Dimensions\": {\"Host\": \"algo-1\", \"Operation\": \"training\", \"Algorithm\": \"AWS/DeepAR\"}, \"StartTime\": 1600912295.23719}\n",
      "\u001b[0m\n",
      "\u001b[34m[09/24/2020 01:51:36 INFO 140651471685440] #throughput_metric: host=algo-1, train throughput=1564.91386747 records/second\u001b[0m\n",
      "\u001b[34m[09/24/2020 01:51:36 INFO 140651471685440] #progress_metric: host=algo-1, completed 96 % of epochs\u001b[0m\n",
      "\u001b[34m[09/24/2020 01:51:36 INFO 140651471685440] #quality_metric: host=algo-1, epoch=27, train loss <loss>=-1.45054093274\u001b[0m\n",
      "\u001b[34m[09/24/2020 01:51:36 INFO 140651471685440] loss did not improve\u001b[0m\n",
      "\u001b[34m[09/24/2020 01:51:36 INFO 140651471685440] Epoch[28] Batch[0] avg_epoch_loss=-0.948558\u001b[0m\n",
      "\u001b[34m[09/24/2020 01:51:36 INFO 140651471685440] #quality_metric: host=algo-1, epoch=28, batch=0 train loss <loss>=-0.948558390141\u001b[0m\n",
      "\u001b[34m[09/24/2020 01:51:36 INFO 140651471685440] Epoch[28] Batch[5] avg_epoch_loss=-1.290792\u001b[0m\n",
      "\u001b[34m[09/24/2020 01:51:36 INFO 140651471685440] #quality_metric: host=algo-1, epoch=28, batch=5 train loss <loss>=-1.29079249501\u001b[0m\n",
      "\u001b[34m[09/24/2020 01:51:36 INFO 140651471685440] Epoch[28] Batch [5]#011Speed: 3025.80 samples/sec#011loss=-1.290792\u001b[0m\n",
      "\u001b[34m[09/24/2020 01:51:36 INFO 140651471685440] processed a total of 1276 examples\u001b[0m\n",
      "\u001b[34m#metrics {\"Metrics\": {\"update.time\": {\"count\": 1, \"max\": 804.9929141998291, \"sum\": 804.9929141998291, \"min\": 804.9929141998291}}, \"EndTime\": 1600912296.893837, \"Dimensions\": {\"Host\": \"algo-1\", \"Operation\": \"training\", \"Algorithm\": \"AWS/DeepAR\"}, \"StartTime\": 1600912296.08838}\n",
      "\u001b[0m\n",
      "\u001b[34m[09/24/2020 01:51:36 INFO 140651471685440] #throughput_metric: host=algo-1, train throughput=1584.86303405 records/second\u001b[0m\n",
      "\u001b[34m[09/24/2020 01:51:36 INFO 140651471685440] #progress_metric: host=algo-1, completed 100 % of epochs\u001b[0m\n",
      "\u001b[34m[09/24/2020 01:51:36 INFO 140651471685440] #quality_metric: host=algo-1, epoch=28, train loss <loss>=-1.33357898593\u001b[0m\n",
      "\u001b[34m[09/24/2020 01:51:36 INFO 140651471685440] loss did not improve\u001b[0m\n",
      "\u001b[34m[09/24/2020 01:51:36 INFO 140651471685440] Final loss: -1.49824182987 (occurred at epoch 26)\u001b[0m\n",
      "\u001b[34m[09/24/2020 01:51:36 INFO 140651471685440] #quality_metric: host=algo-1, train final_loss <loss>=-1.49824182987\u001b[0m\n",
      "\u001b[34m[09/24/2020 01:51:36 INFO 140651471685440] Worker algo-1 finished training.\u001b[0m\n",
      "\u001b[34m[09/24/2020 01:51:36 WARNING 140651471685440] wait_for_all_workers will not sync workers since the kv store is not running distributed\u001b[0m\n",
      "\u001b[34m[09/24/2020 01:51:36 INFO 140651471685440] All workers finished. Serializing model for prediction.\u001b[0m\n",
      "\u001b[34m#metrics {\"Metrics\": {\"get_graph.time\": {\"count\": 1, \"max\": 51.54609680175781, \"sum\": 51.54609680175781, \"min\": 51.54609680175781}}, \"EndTime\": 1600912296.946323, \"Dimensions\": {\"Host\": \"algo-1\", \"Operation\": \"training\", \"Algorithm\": \"AWS/DeepAR\"}, \"StartTime\": 1600912296.893919}\n",
      "\u001b[0m\n",
      "\u001b[34m[09/24/2020 01:51:36 INFO 140651471685440] Number of GPUs being used: 0\u001b[0m\n",
      "\u001b[34m#metrics {\"Metrics\": {\"finalize.time\": {\"count\": 1, \"max\": 75.1490592956543, \"sum\": 75.1490592956543, \"min\": 75.1490592956543}}, \"EndTime\": 1600912296.969882, \"Dimensions\": {\"Host\": \"algo-1\", \"Operation\": \"training\", \"Algorithm\": \"AWS/DeepAR\"}, \"StartTime\": 1600912296.946383}\n",
      "\u001b[0m\n",
      "\u001b[34m[09/24/2020 01:51:36 INFO 140651471685440] Serializing to /opt/ml/model/model_algo-1\u001b[0m\n",
      "\u001b[34m[09/24/2020 01:51:36 INFO 140651471685440] Saved checkpoint to \"/opt/ml/model/model_algo-1-0000.params\"\u001b[0m\n",
      "\u001b[34m#metrics {\"Metrics\": {\"model.serialize.time\": {\"count\": 1, \"max\": 3.7288665771484375, \"sum\": 3.7288665771484375, \"min\": 3.7288665771484375}}, \"EndTime\": 1600912296.973711, \"Dimensions\": {\"Host\": \"algo-1\", \"Operation\": \"training\", \"Algorithm\": \"AWS/DeepAR\"}, \"StartTime\": 1600912296.969941}\n",
      "\u001b[0m\n",
      "\u001b[34m[09/24/2020 01:51:36 INFO 140651471685440] Successfully serialized the model for prediction.\u001b[0m\n",
      "\u001b[34m[09/24/2020 01:51:36 INFO 140651471685440] Evaluating model accuracy on testset using 100 samples\u001b[0m\n",
      "\u001b[34m#metrics {\"Metrics\": {\"model.bind.time\": {\"count\": 1, \"max\": 0.03981590270996094, \"sum\": 0.03981590270996094, \"min\": 0.03981590270996094}}, \"EndTime\": 1600912296.974503, \"Dimensions\": {\"Host\": \"algo-1\", \"Operation\": \"training\", \"Algorithm\": \"AWS/DeepAR\"}, \"StartTime\": 1600912296.973756}\n",
      "\u001b[0m\n",
      "\u001b[34m#metrics {\"Metrics\": {\"model.score.time\": {\"count\": 1, \"max\": 1005.1178932189941, \"sum\": 1005.1178932189941, \"min\": 1005.1178932189941}}, \"EndTime\": 1600912297.979577, \"Dimensions\": {\"Host\": \"algo-1\", \"Operation\": \"training\", \"Algorithm\": \"AWS/DeepAR\"}, \"StartTime\": 1600912296.974562}\n",
      "\u001b[0m\n",
      "\u001b[34m[09/24/2020 01:51:37 INFO 140651471685440] #test_score (algo-1, RMSE): 0.0912023192495\u001b[0m\n",
      "\u001b[34m[09/24/2020 01:51:37 INFO 140651471685440] #test_score (algo-1, mean_absolute_QuantileLoss): 1.1991514762242634\u001b[0m\n",
      "\u001b[34m[09/24/2020 01:51:37 INFO 140651471685440] #test_score (algo-1, mean_wQuantileLoss): 0.0283749025323755\u001b[0m\n",
      "\u001b[34m[09/24/2020 01:51:37 INFO 140651471685440] #test_score (algo-1, wQuantileLoss[0.1]): 0.006207449542874398\u001b[0m\n",
      "\u001b[34m[09/24/2020 01:51:37 INFO 140651471685440] #test_score (algo-1, wQuantileLoss[0.2]): 0.01907871938937389\u001b[0m\n",
      "\u001b[34m[09/24/2020 01:51:37 INFO 140651471685440] #test_score (algo-1, wQuantileLoss[0.3]): 0.030302609048275187\u001b[0m\n",
      "\u001b[34m[09/24/2020 01:51:37 INFO 140651471685440] #test_score (algo-1, wQuantileLoss[0.4]): 0.03722485922011759\u001b[0m\n",
      "\u001b[34m[09/24/2020 01:51:37 INFO 140651471685440] #test_score (algo-1, wQuantileLoss[0.5]): 0.04031549892065372\u001b[0m\n",
      "\u001b[34m[09/24/2020 01:51:37 INFO 140651471685440] #test_score (algo-1, wQuantileLoss[0.6]): 0.039466753742508555\u001b[0m\n",
      "\u001b[34m[09/24/2020 01:51:37 INFO 140651471685440] #test_score (algo-1, wQuantileLoss[0.7]): 0.035721529336419804\u001b[0m\n",
      "\u001b[34m[09/24/2020 01:51:37 INFO 140651471685440] #test_score (algo-1, wQuantileLoss[0.8]): 0.028570542038089203\u001b[0m\n",
      "\u001b[34m[09/24/2020 01:51:37 INFO 140651471685440] #test_score (algo-1, wQuantileLoss[0.9]): 0.01848616155306714\u001b[0m\n",
      "\u001b[34m[09/24/2020 01:51:37 INFO 140651471685440] #quality_metric: host=algo-1, test mean_wQuantileLoss <loss>=0.0283749025324\u001b[0m\n",
      "\u001b[34m[09/24/2020 01:51:37 INFO 140651471685440] #quality_metric: host=algo-1, test RMSE <loss>=0.0912023192495\u001b[0m\n",
      "\u001b[34m#metrics {\"Metrics\": {\"totaltime\": {\"count\": 1, \"max\": 26356.224060058594, \"sum\": 26356.224060058594, \"min\": 26356.224060058594}, \"setuptime\": {\"count\": 1, \"max\": 10.684967041015625, \"sum\": 10.684967041015625, \"min\": 10.684967041015625}}, \"EndTime\": 1600912297.987845, \"Dimensions\": {\"Host\": \"algo-1\", \"Operation\": \"training\", \"Algorithm\": \"AWS/DeepAR\"}, \"StartTime\": 1600912297.979644}\n",
      "\u001b[0m\n",
      "Training seconds: 72\n",
      "Billable seconds: 72\n",
      "CPU times: user 494 ms, sys: 35.1 ms, total: 530 ms\n",
      "Wall time: 3min 41s\n"
     ]
    }
   ],
   "source": [
    "%%time\n",
    "# train and test channels\n",
    "data_channels = {\n",
    "    \"train\": train_path,\n",
    "    \"test\": test_path\n",
    "}\n",
    "\n",
    "# fit the estimator\n",
    "estimator.fit(inputs=data_channels)\n",
    "\n",
    "# # establish new estimator from best_training_job (commented out previous estimator)\n",
    "# estimator_best = sagemaker.estimator.Estimator.attach(hyperparameter_tuner.best_training_job())"
   ]
  },
  {
   "cell_type": "markdown",
   "metadata": {},
   "source": [
    "## Deploy and Create a Predictor"
   ]
  },
  {
   "cell_type": "code",
   "execution_count": 21,
   "metadata": {},
   "outputs": [
    {
     "name": "stderr",
     "output_type": "stream",
     "text": [
      "Parameter image will be renamed to image_uri in SageMaker Python SDK v2.\n"
     ]
    },
    {
     "name": "stdout",
     "output_type": "stream",
     "text": [
      "---------------!CPU times: user 274 ms, sys: 2.73 ms, total: 277 ms\n",
      "Wall time: 7min 32s\n"
     ]
    }
   ],
   "source": [
    "%%time\n",
    "\n",
    "# create a predictor\n",
    "predictor = estimator.deploy(\n",
    "    initial_instance_count=1,\n",
    "    instance_type='ml.t2.medium',\n",
    "    content_type=\"application/json\" # specify that it will accept/produce JSON\n",
    ")"
   ]
  },
  {
   "cell_type": "markdown",
   "metadata": {},
   "source": [
    "# Generating Predictions\n",
    "\n",
    "According to the DeepAR documentation, the DeepAR predictor expects to see inputa data in JSON format. We need to convert our time series into a JSON instance in order to obtain predicted prices."
   ]
  },
  {
   "cell_type": "code",
   "execution_count": 22,
   "metadata": {},
   "outputs": [],
   "source": [
    "# get all input and target (test) time series\n",
    "input_ts = time_series_training\n",
    "target_ts = time_series\n",
    "\n",
    "# get formatted input time series\n",
    "json_input_ts = sts.json_predictor_input(input_ts)\n",
    "\n",
    "# get the prediction from the predictor\n",
    "json_prediction = predictor.predict(json_input_ts)"
   ]
  },
  {
   "cell_type": "markdown",
   "metadata": {},
   "source": [
    "## Decoding Predictions\n",
    "\n",
    "The predictor also returns a JSON formatted perdiction. Thus, we need to pull out the predictions from the JSON instance.\n",
    "\n",
    "We have written a function in stock_time_series.py that takes in the predictor output and returns a list of predictions in each quantile of interest (0.1, 0.5, 0.9)."
   ]
  },
  {
   "cell_type": "code",
   "execution_count": 23,
   "metadata": {},
   "outputs": [
    {
     "name": "stdout",
     "output_type": "stream",
     "text": [
      "        0.1       0.9       0.5\n",
      "0  1.773268  1.976572  1.873417\n",
      "1  1.795396  1.956256  1.877727\n",
      "2  1.799155  1.956705  1.881243\n",
      "3  1.792670  2.009346  1.891957\n",
      "4  1.800344  1.946372  1.885009\n",
      "5  1.793254  1.940436  1.878083\n",
      "6  1.797405  1.952623  1.878088\n"
     ]
    }
   ],
   "source": [
    "# get quantiles/predictions\n",
    "prediction_list = sts.decode_prediction(json_prediction)\n",
    "\n",
    "# should get a list of predictions (of length prediction_length)\n",
    "# with corresponding quantile values\n",
    "print(prediction_list[0])"
   ]
  },
  {
   "cell_type": "markdown",
   "metadata": {},
   "source": [
    "## Display the Results\n",
    "\n",
    "The quantile data will give us all we need to see the results of our prediction.\n",
    "* Quantiles 0.1 and 0.9 represent higher and lower bounds for the predicted values.\n",
    "* Quantile 0.5 represents the median of all sample predictions.\n"
   ]
  },
  {
   "cell_type": "code",
   "execution_count": 24,
   "metadata": {},
   "outputs": [
    {
     "data": {
      "image/png": "[encoded data removed]",
      "text/plain": [
       "<Figure size 864x432 with 1 Axes>"
      ]
     },
     "metadata": {
      "needs_background": "light"
     },
     "output_type": "display_data"
    },
    {
     "data": {
      "image/png": "[encoded data removed]",
      "text/plain": [
       "<Figure size 864x432 with 1 Axes>"
      ]
     },
     "metadata": {
      "needs_background": "light"
     },
     "output_type": "display_data"
    },
    {
     "data": {
      "image/png": "[encoded data removed]",
      "text/plain": [
       "<Figure size 864x432 with 1 Axes>"
      ]
     },
     "metadata": {
      "needs_background": "light"
     },
     "output_type": "display_data"
    }
   ],
   "source": [
    "# display predictions (0.1, 0.9, 0.5)\n",
    "sts.display_quantiles(prediction_list, prediction_length, target_ts)"
   ]
  },
  {
   "cell_type": "markdown",
   "metadata": {},
   "source": [
    "## Test Prediction of \"Future\" Data\n",
    "\n",
    "Now let's test our model on data it hasn't actually seen -- thus, no target to compare against."
   ]
  },
  {
   "cell_type": "code",
   "execution_count": 25,
   "metadata": {},
   "outputs": [
    {
     "name": "stdout",
     "output_type": "stream",
     "text": [
      "Requesting prediction for 1995-01-03 00:00:00\n"
     ]
    }
   ],
   "source": [
    "# Starting my prediction on first trading day of 1995\n",
    "start_date = '1995-01-03'\n",
    "timestamp = '00:00:00'\n",
    "\n",
    "# formatting start_date\n",
    "start_time = start_date +' '+ timestamp\n",
    "\n",
    "# formatting request_data\n",
    "# this instance has an empty target!\n",
    "request_data = {\"instances\": [{\"start\": start_time, \"target\": []}],\n",
    "                \"configuration\": {\"num_samples\": 50,\n",
    "                                  \"output_types\": [\"quantiles\"],\n",
    "                                  \"quantiles\": ['0.1', '0.5', '0.9']}\n",
    "                }\n",
    "\n",
    "json_input = json.dumps(request_data).encode('utf-8')\n",
    "\n",
    "print('Requesting prediction for '+start_time)"
   ]
  },
  {
   "cell_type": "markdown",
   "metadata": {},
   "source": [
    "Then get and decode the prediction response, as usual."
   ]
  },
  {
   "cell_type": "code",
   "execution_count": 26,
   "metadata": {},
   "outputs": [
    {
     "name": "stdout",
     "output_type": "stream",
     "text": [
      "[        0.1       0.9       0.5\n",
      "0  1.667725  1.846145  1.755588\n",
      "1  1.731586  1.863697  1.799149\n",
      "2  1.797096  1.922891  1.862165\n",
      "3  1.821709  1.999512  1.902655\n",
      "4  1.833524  1.951883  1.901045\n",
      "5  1.860099  1.980434  1.929240\n",
      "6  1.891173  2.010568  1.953242]\n"
     ]
    }
   ],
   "source": [
    "# get prediction response\n",
    "json_prediction = predictor.predict(json_input)\n",
    "\n",
    "prediction_future = sts.decode_prediction(json_prediction)\n",
    "\n",
    "print(prediction_future)"
   ]
  },
  {
   "cell_type": "markdown",
   "metadata": {},
   "source": [
    "We need to compare these predictions to the actual values from the \"future\"."
   ]
  },
  {
   "cell_type": "code",
   "execution_count": 27,
   "metadata": {},
   "outputs": [
    {
     "data": {
      "text/plain": [
       "[Date\n",
       " 1995-01-03    2.504247\n",
       " 1995-01-04    2.522554\n",
       " 1995-01-05    2.480948\n",
       " 1995-01-06    2.522554\n",
       " 1995-01-09    2.506743\n",
       "                 ...   \n",
       " 1995-12-22    3.765316\n",
       " 1995-12-26    3.754915\n",
       " 1995-12-27    3.697499\n",
       " 1995-12-28    3.635090\n",
       " 1995-12-29    3.650900\n",
       " Length: 252, dtype: float64]"
      ]
     },
     "execution_count": 27,
     "metadata": {},
     "output_type": "execute_result"
    }
   ],
   "source": [
    "# create \"future\" time series\n",
    "ts_future = []\n",
    "\n",
    "# get \"future\" data\n",
    "data_future = data[start_date[:-6]]['Adj. Close']\n",
    "\n",
    "ts_future.append(pd.Series(data=data_future.values, index=data_future.index))\n",
    "ts_future"
   ]
  },
  {
   "cell_type": "code",
   "execution_count": 28,
   "metadata": {},
   "outputs": [
    {
     "data": {
      "image/png": "[encoded data removed]",
      "text/plain": [
       "<Figure size 864x432 with 1 Axes>"
      ]
     },
     "metadata": {
      "needs_background": "light"
     },
     "output_type": "display_data"
    }
   ],
   "source": [
    "# range of actual data to compare\n",
    "start_idx=0 # days since Jan 4th 1995\n",
    "end_idx=start_idx+prediction_length\n",
    "\n",
    "# get target data\n",
    "target_future_ts = [ts_future[0][start_idx:end_idx]]\n",
    "\n",
    "# display predictions\n",
    "sts.display_quantiles(prediction_future, prediction_length, target_future_ts)"
   ]
  },
  {
   "cell_type": "markdown",
   "metadata": {},
   "source": [
    "# Naive Model\n",
    "The Naive model can be used as a benchmark to determine how well our model compares at forecasting a predicted value to a near random walk. The Naive model states that the predicted value will be equal to the most recent observable past data point.\n",
    "\n",
    "$Ŷ(t+h|t) = Y(t)$"
   ]
  },
  {
   "cell_type": "code",
   "execution_count": 29,
   "metadata": {},
   "outputs": [
    {
     "data": {
      "text/html": [
       "<div>\n",
       "<style scoped>\n",
       "    .dataframe tbody tr th:only-of-type {\n",
       "        vertical-align: middle;\n",
       "    }\n",
       "\n",
       "    .dataframe tbody tr th {\n",
       "        vertical-align: top;\n",
       "    }\n",
       "\n",
       "    .dataframe thead th {\n",
       "        text-align: right;\n",
       "    }\n",
       "</style>\n",
       "<table border=\"1\" class=\"dataframe\">\n",
       "  <thead>\n",
       "    <tr style=\"text-align: right;\">\n",
       "      <th></th>\n",
       "      <th>0</th>\n",
       "    </tr>\n",
       "  </thead>\n",
       "  <tbody>\n",
       "    <tr>\n",
       "      <th>0</th>\n",
       "      <td>2.504247</td>\n",
       "    </tr>\n",
       "    <tr>\n",
       "      <th>1</th>\n",
       "      <td>2.522554</td>\n",
       "    </tr>\n",
       "    <tr>\n",
       "      <th>2</th>\n",
       "      <td>2.480948</td>\n",
       "    </tr>\n",
       "    <tr>\n",
       "      <th>3</th>\n",
       "      <td>2.522554</td>\n",
       "    </tr>\n",
       "    <tr>\n",
       "      <th>4</th>\n",
       "      <td>2.506743</td>\n",
       "    </tr>\n",
       "    <tr>\n",
       "      <th>5</th>\n",
       "      <td>2.537948</td>\n",
       "    </tr>\n",
       "    <tr>\n",
       "      <th>6</th>\n",
       "      <td>2.553758</td>\n",
       "    </tr>\n",
       "  </tbody>\n",
       "</table>\n",
       "</div>"
      ],
      "text/plain": [
       "          0\n",
       "0  2.504247\n",
       "1  2.522554\n",
       "2  2.480948\n",
       "3  2.522554\n",
       "4  2.506743\n",
       "5  2.537948\n",
       "6  2.553758"
      ]
     },
     "execution_count": 29,
     "metadata": {},
     "output_type": "execute_result"
    }
   ],
   "source": [
    "target = pd.DataFrame(target_future_ts[0]).reset_index()\n",
    "target = target.drop(columns='Date')\n",
    "target"
   ]
  },
  {
   "cell_type": "code",
   "execution_count": 30,
   "metadata": {},
   "outputs": [
    {
     "data": {
      "text/plain": [
       "<matplotlib.legend.Legend at 0x7fddbf865e10>"
      ]
     },
     "execution_count": 30,
     "metadata": {},
     "output_type": "execute_result"
    },
    {
     "data": {
      "image/png": "[encoded data removed]",
      "text/plain": [
       "<Figure size 432x288 with 1 Axes>"
      ]
     },
     "metadata": {
      "needs_background": "light"
     },
     "output_type": "display_data"
    }
   ],
   "source": [
    "naive_data = data['1994-12-30':'1995-01-10']['Adj. Close']\n",
    "naive_data = naive_data.reset_index()\n",
    "naive_data = naive_data.drop(columns='Date')\n",
    "naive_data\n",
    "plt.plot(naive_data, label='Naive')\n",
    "plt.plot(prediction_future[0]['0.5'], label='Predicted median')\n",
    "plt.plot(target, label='Target')\n",
    "plt.legend()"
   ]
  },
  {
   "cell_type": "markdown",
   "metadata": {},
   "source": [
    "# Accuracy\n",
    "\n",
    "We'll define the accuracy of our model using a percentage difference calculation, or mean average percentage error (MAPE). MAPE provides us with a unitary stastical measure for the accuracy of an entire time series over a given period. We'll calculate per the provided formula.\n",
    "\n",
    "${\\mbox{M}}={\\frac  {1}{n}}\\sum _{{t=1}}^{n}\\left|{\\frac  {A_{t}-F_{t}}{A_{t}}}\\right|$\n",
    "\n",
    "where $n$ is the number of fitted periods, $A_t$ is the actual value and $F_t$ is the forecast value."
   ]
  },
  {
   "cell_type": "code",
   "execution_count": 31,
   "metadata": {},
   "outputs": [
    {
     "data": {
      "text/plain": [
       "25.678666796535655"
      ]
     },
     "execution_count": 31,
     "metadata": {},
     "output_type": "execute_result"
    }
   ],
   "source": [
    "def mape(benchmark, target_future_ts):\n",
    "    mape_ts = [100 * abs(benchmark[i] - target_future_ts[0][i])/target_future_ts[0][i] for i in range(len(target_future_ts[0]))]\n",
    "    return sum(mape_ts)/prediction_length\n",
    "\n",
    "# Calculate MAPE (in PERCENTAGE) for our DeepAR model\n",
    "mape(prediction_future[0]['0.5'], target_future_ts)"
   ]
  },
  {
   "cell_type": "code",
   "execution_count": 32,
   "metadata": {
    "scrolled": true
   },
   "outputs": [],
   "source": [
    "naive_data = pd.Series(naive_data['Adj. Close'].values)"
   ]
  },
  {
   "cell_type": "code",
   "execution_count": 33,
   "metadata": {},
   "outputs": [
    {
     "data": {
      "text/plain": [
       "1.1561570060642568"
      ]
     },
     "execution_count": 33,
     "metadata": {},
     "output_type": "execute_result"
    }
   ],
   "source": [
    "# Calculate MAPE for Naive\n",
    "mape(naive_data, target_future_ts)"
   ]
  },
  {
   "cell_type": "markdown",
   "metadata": {},
   "source": [
    "## Delete the Endpoint"
   ]
  },
  {
   "cell_type": "code",
   "execution_count": 34,
   "metadata": {},
   "outputs": [],
   "source": [
    "## TODO: delete the endpoint\n",
    "predictor.delete_endpoint()"
   ]
  },
  {
   "cell_type": "code",
   "execution_count": null,
   "metadata": {},
   "outputs": [],
   "source": []
  }
 ],
 "metadata": {
  "kernelspec": {
   "display_name": "conda_python3",
   "language": "python",
   "name": "conda_python3"
  },
  "language_info": {
   "codemirror_mode": {
    "name": "ipython",
    "version": 3
   },
   "file_extension": ".py",
   "mimetype": "text/x-python",
   "name": "python",
   "nbconvert_exporter": "python",
   "pygments_lexer": "ipython3",
   "version": "3.6.10"
  }
 },
 "nbformat": 4,
 "nbformat_minor": 4
}
