{
 "cells": [
  {
   "cell_type": "code",
   "execution_count": 1,
   "metadata": {},
   "outputs": [
    {
     "name": "stdout",
     "output_type": "stream",
     "text": [
      "Collecting quandl\n",
      "  Downloading Quandl-3.5.2-py2.py3-none-any.whl (25 kB)\n",
      "Requirement already satisfied: six in /home/ec2-user/anaconda3/envs/python3/lib/python3.6/site-packages (from quandl) (1.14.0)\n",
      "Requirement already satisfied: pandas>=0.14 in /home/ec2-user/anaconda3/envs/python3/lib/python3.6/site-packages (from quandl) (1.0.5)\n",
      "Requirement already satisfied: requests>=2.7.0 in /home/ec2-user/anaconda3/envs/python3/lib/python3.6/site-packages (from quandl) (2.23.0)\n",
      "Requirement already satisfied: python-dateutil in /home/ec2-user/anaconda3/envs/python3/lib/python3.6/site-packages (from quandl) (2.8.1)\n",
      "Requirement already satisfied: more-itertools in /home/ec2-user/anaconda3/envs/python3/lib/python3.6/site-packages (from quandl) (8.2.0)\n",
      "Collecting inflection>=0.3.1\n",
      "  Downloading inflection-0.5.1-py2.py3-none-any.whl (9.5 kB)\n",
      "Requirement already satisfied: numpy>=1.8 in /home/ec2-user/anaconda3/envs/python3/lib/python3.6/site-packages (from quandl) (1.18.1)\n",
      "Requirement already satisfied: pytz>=2017.2 in /home/ec2-user/anaconda3/envs/python3/lib/python3.6/site-packages (from pandas>=0.14->quandl) (2019.3)\n",
      "Requirement already satisfied: certifi>=2017.4.17 in /home/ec2-user/anaconda3/envs/python3/lib/python3.6/site-packages (from requests>=2.7.0->quandl) (2020.6.20)\n",
      "Requirement already satisfied: chardet<4,>=3.0.2 in /home/ec2-user/anaconda3/envs/python3/lib/python3.6/site-packages (from requests>=2.7.0->quandl) (3.0.4)\n",
      "Requirement already satisfied: idna<3,>=2.5 in /home/ec2-user/anaconda3/envs/python3/lib/python3.6/site-packages (from requests>=2.7.0->quandl) (2.9)\n",
      "Requirement already satisfied: urllib3!=1.25.0,!=1.25.1,<1.26,>=1.21.1 in /home/ec2-user/anaconda3/envs/python3/lib/python3.6/site-packages (from requests>=2.7.0->quandl) (1.25.8)\n",
      "Installing collected packages: inflection, quandl\n",
      "Successfully installed inflection-0.5.1 quandl-3.5.2\n",
      "\u001b[33mWARNING: You are using pip version 20.0.2; however, version 20.2.3 is available.\n",
      "You should consider upgrading via the '/home/ec2-user/anaconda3/envs/python3/bin/python -m pip install --upgrade pip' command.\u001b[0m\n",
      "Note: you may need to restart the kernel to use updated packages.\n"
     ]
    }
   ],
   "source": [
    "# install quandl library\n",
    "%pip install quandl"
   ]
  },
  {
   "cell_type": "code",
   "execution_count": 2,
   "metadata": {},
   "outputs": [],
   "source": [
    "import pandas as pd\n",
    "import numpy as np\n",
    "import matplotlib.pyplot as plt\n",
    "%matplotlib inline\n",
    "import quandl\n",
    "import json\n",
    "import os\n",
    "import stock_time_series as sts\n",
    "%load_ext autoreload\n",
    "%autoreload 2\n",
    "\n",
    "quandl.ApiConfig.api_key = 'z6KvEMELxCcG-Kb72EYY'"
   ]
  },
  {
   "cell_type": "code",
   "execution_count": 3,
   "metadata": {},
   "outputs": [
    {
     "data": {
      "text/html": [
       "<div>\n",
       "<style scoped>\n",
       "    .dataframe tbody tr th:only-of-type {\n",
       "        vertical-align: middle;\n",
       "    }\n",
       "\n",
       "    .dataframe tbody tr th {\n",
       "        vertical-align: top;\n",
       "    }\n",
       "\n",
       "    .dataframe thead th {\n",
       "        text-align: right;\n",
       "    }\n",
       "</style>\n",
       "<table border=\"1\" class=\"dataframe\">\n",
       "  <thead>\n",
       "    <tr style=\"text-align: right;\">\n",
       "      <th></th>\n",
       "      <th>Open</th>\n",
       "      <th>High</th>\n",
       "      <th>Low</th>\n",
       "      <th>Close</th>\n",
       "      <th>Volume</th>\n",
       "      <th>Ex-Dividend</th>\n",
       "      <th>Split Ratio</th>\n",
       "      <th>Adj. Open</th>\n",
       "      <th>Adj. High</th>\n",
       "      <th>Adj. Low</th>\n",
       "      <th>Adj. Close</th>\n",
       "      <th>Adj. Volume</th>\n",
       "    </tr>\n",
       "    <tr>\n",
       "      <th>Date</th>\n",
       "      <th></th>\n",
       "      <th></th>\n",
       "      <th></th>\n",
       "      <th></th>\n",
       "      <th></th>\n",
       "      <th></th>\n",
       "      <th></th>\n",
       "      <th></th>\n",
       "      <th></th>\n",
       "      <th></th>\n",
       "      <th></th>\n",
       "      <th></th>\n",
       "    </tr>\n",
       "  </thead>\n",
       "  <tbody>\n",
       "    <tr>\n",
       "      <th>1962-01-02</th>\n",
       "      <td>75.00</td>\n",
       "      <td>76.2500</td>\n",
       "      <td>74.25</td>\n",
       "      <td>74.75</td>\n",
       "      <td>21600.0</td>\n",
       "      <td>0.0</td>\n",
       "      <td>1.0</td>\n",
       "      <td>0.329505</td>\n",
       "      <td>0.334997</td>\n",
       "      <td>0.326210</td>\n",
       "      <td>0.328407</td>\n",
       "      <td>2073600.0</td>\n",
       "    </tr>\n",
       "    <tr>\n",
       "      <th>1962-01-03</th>\n",
       "      <td>74.38</td>\n",
       "      <td>74.3800</td>\n",
       "      <td>73.75</td>\n",
       "      <td>74.00</td>\n",
       "      <td>14800.0</td>\n",
       "      <td>0.0</td>\n",
       "      <td>1.0</td>\n",
       "      <td>0.326781</td>\n",
       "      <td>0.326781</td>\n",
       "      <td>0.324014</td>\n",
       "      <td>0.325112</td>\n",
       "      <td>1420800.0</td>\n",
       "    </tr>\n",
       "    <tr>\n",
       "      <th>1962-01-04</th>\n",
       "      <td>74.00</td>\n",
       "      <td>74.6200</td>\n",
       "      <td>72.50</td>\n",
       "      <td>73.13</td>\n",
       "      <td>18400.0</td>\n",
       "      <td>0.0</td>\n",
       "      <td>1.0</td>\n",
       "      <td>0.325112</td>\n",
       "      <td>0.327836</td>\n",
       "      <td>0.318522</td>\n",
       "      <td>0.321290</td>\n",
       "      <td>1766400.0</td>\n",
       "    </tr>\n",
       "    <tr>\n",
       "      <th>1962-01-05</th>\n",
       "      <td>73.13</td>\n",
       "      <td>73.2500</td>\n",
       "      <td>70.00</td>\n",
       "      <td>71.25</td>\n",
       "      <td>27300.0</td>\n",
       "      <td>0.0</td>\n",
       "      <td>1.0</td>\n",
       "      <td>0.321290</td>\n",
       "      <td>0.321817</td>\n",
       "      <td>0.307538</td>\n",
       "      <td>0.313030</td>\n",
       "      <td>2620800.0</td>\n",
       "    </tr>\n",
       "    <tr>\n",
       "      <th>1962-01-08</th>\n",
       "      <td>71.25</td>\n",
       "      <td>71.2500</td>\n",
       "      <td>69.00</td>\n",
       "      <td>71.13</td>\n",
       "      <td>31000.0</td>\n",
       "      <td>0.0</td>\n",
       "      <td>1.0</td>\n",
       "      <td>0.313030</td>\n",
       "      <td>0.313030</td>\n",
       "      <td>0.303145</td>\n",
       "      <td>0.312503</td>\n",
       "      <td>2976000.0</td>\n",
       "    </tr>\n",
       "    <tr>\n",
       "      <th>...</th>\n",
       "      <td>...</td>\n",
       "      <td>...</td>\n",
       "      <td>...</td>\n",
       "      <td>...</td>\n",
       "      <td>...</td>\n",
       "      <td>...</td>\n",
       "      <td>...</td>\n",
       "      <td>...</td>\n",
       "      <td>...</td>\n",
       "      <td>...</td>\n",
       "      <td>...</td>\n",
       "      <td>...</td>\n",
       "    </tr>\n",
       "    <tr>\n",
       "      <th>2018-03-21</th>\n",
       "      <td>13.66</td>\n",
       "      <td>13.9600</td>\n",
       "      <td>13.57</td>\n",
       "      <td>13.88</td>\n",
       "      <td>64989359.0</td>\n",
       "      <td>0.0</td>\n",
       "      <td>1.0</td>\n",
       "      <td>13.660000</td>\n",
       "      <td>13.960000</td>\n",
       "      <td>13.570000</td>\n",
       "      <td>13.880000</td>\n",
       "      <td>64989359.0</td>\n",
       "    </tr>\n",
       "    <tr>\n",
       "      <th>2018-03-22</th>\n",
       "      <td>13.75</td>\n",
       "      <td>13.7900</td>\n",
       "      <td>13.32</td>\n",
       "      <td>13.35</td>\n",
       "      <td>70929333.0</td>\n",
       "      <td>0.0</td>\n",
       "      <td>1.0</td>\n",
       "      <td>13.750000</td>\n",
       "      <td>13.790000</td>\n",
       "      <td>13.320000</td>\n",
       "      <td>13.350000</td>\n",
       "      <td>70929333.0</td>\n",
       "    </tr>\n",
       "    <tr>\n",
       "      <th>2018-03-23</th>\n",
       "      <td>13.40</td>\n",
       "      <td>13.4499</td>\n",
       "      <td>13.02</td>\n",
       "      <td>13.07</td>\n",
       "      <td>82930120.0</td>\n",
       "      <td>0.0</td>\n",
       "      <td>1.0</td>\n",
       "      <td>13.400000</td>\n",
       "      <td>13.449900</td>\n",
       "      <td>13.020000</td>\n",
       "      <td>13.070000</td>\n",
       "      <td>82930120.0</td>\n",
       "    </tr>\n",
       "    <tr>\n",
       "      <th>2018-03-26</th>\n",
       "      <td>13.23</td>\n",
       "      <td>13.2395</td>\n",
       "      <td>12.73</td>\n",
       "      <td>12.89</td>\n",
       "      <td>101095809.0</td>\n",
       "      <td>0.0</td>\n",
       "      <td>1.0</td>\n",
       "      <td>13.230000</td>\n",
       "      <td>13.239500</td>\n",
       "      <td>12.730000</td>\n",
       "      <td>12.890000</td>\n",
       "      <td>101095809.0</td>\n",
       "    </tr>\n",
       "    <tr>\n",
       "      <th>2018-03-27</th>\n",
       "      <td>12.92</td>\n",
       "      <td>13.7200</td>\n",
       "      <td>12.82</td>\n",
       "      <td>13.44</td>\n",
       "      <td>153476613.0</td>\n",
       "      <td>0.0</td>\n",
       "      <td>1.0</td>\n",
       "      <td>12.920000</td>\n",
       "      <td>13.720000</td>\n",
       "      <td>12.820000</td>\n",
       "      <td>13.440000</td>\n",
       "      <td>153476613.0</td>\n",
       "    </tr>\n",
       "  </tbody>\n",
       "</table>\n",
       "<p>14155 rows × 12 columns</p>\n",
       "</div>"
      ],
      "text/plain": [
       "             Open     High    Low  Close       Volume  Ex-Dividend  \\\n",
       "Date                                                                 \n",
       "1962-01-02  75.00  76.2500  74.25  74.75      21600.0          0.0   \n",
       "1962-01-03  74.38  74.3800  73.75  74.00      14800.0          0.0   \n",
       "1962-01-04  74.00  74.6200  72.50  73.13      18400.0          0.0   \n",
       "1962-01-05  73.13  73.2500  70.00  71.25      27300.0          0.0   \n",
       "1962-01-08  71.25  71.2500  69.00  71.13      31000.0          0.0   \n",
       "...           ...      ...    ...    ...          ...          ...   \n",
       "2018-03-21  13.66  13.9600  13.57  13.88   64989359.0          0.0   \n",
       "2018-03-22  13.75  13.7900  13.32  13.35   70929333.0          0.0   \n",
       "2018-03-23  13.40  13.4499  13.02  13.07   82930120.0          0.0   \n",
       "2018-03-26  13.23  13.2395  12.73  12.89  101095809.0          0.0   \n",
       "2018-03-27  12.92  13.7200  12.82  13.44  153476613.0          0.0   \n",
       "\n",
       "            Split Ratio  Adj. Open  Adj. High   Adj. Low  Adj. Close  \\\n",
       "Date                                                                   \n",
       "1962-01-02          1.0   0.329505   0.334997   0.326210    0.328407   \n",
       "1962-01-03          1.0   0.326781   0.326781   0.324014    0.325112   \n",
       "1962-01-04          1.0   0.325112   0.327836   0.318522    0.321290   \n",
       "1962-01-05          1.0   0.321290   0.321817   0.307538    0.313030   \n",
       "1962-01-08          1.0   0.313030   0.313030   0.303145    0.312503   \n",
       "...                 ...        ...        ...        ...         ...   \n",
       "2018-03-21          1.0  13.660000  13.960000  13.570000   13.880000   \n",
       "2018-03-22          1.0  13.750000  13.790000  13.320000   13.350000   \n",
       "2018-03-23          1.0  13.400000  13.449900  13.020000   13.070000   \n",
       "2018-03-26          1.0  13.230000  13.239500  12.730000   12.890000   \n",
       "2018-03-27          1.0  12.920000  13.720000  12.820000   13.440000   \n",
       "\n",
       "            Adj. Volume  \n",
       "Date                     \n",
       "1962-01-02    2073600.0  \n",
       "1962-01-03    1420800.0  \n",
       "1962-01-04    1766400.0  \n",
       "1962-01-05    2620800.0  \n",
       "1962-01-08    2976000.0  \n",
       "...                 ...  \n",
       "2018-03-21   64989359.0  \n",
       "2018-03-22   70929333.0  \n",
       "2018-03-23   82930120.0  \n",
       "2018-03-26  101095809.0  \n",
       "2018-03-27  153476613.0  \n",
       "\n",
       "[14155 rows x 12 columns]"
      ]
     },
     "execution_count": 3,
     "metadata": {},
     "output_type": "execute_result"
    }
   ],
   "source": [
    "# Capture a single stock using quandl API\n",
    "stocks = ['GE']\n",
    "\n",
    "# Define years of interest to model against\n",
    "start_year = '1992'\n",
    "end_year = '1994'\n",
    "data = quandl.get(\"WIKI/\"+stocks[0])\n",
    "data"
   ]
  },
  {
   "cell_type": "code",
   "execution_count": 4,
   "metadata": {},
   "outputs": [
    {
     "data": {
      "text/plain": [
       "[<matplotlib.lines.Line2D at 0x7f943ecd4198>]"
      ]
     },
     "execution_count": 4,
     "metadata": {},
     "output_type": "execute_result"
    },
    {
     "data": {
      "image/png": "[encoded data removed]",
      "text/plain": [
       "<Figure size 432x288 with 1 Axes>"
      ]
     },
     "metadata": {
      "needs_background": "light"
     },
     "output_type": "display_data"
    }
   ],
   "source": [
    "# Plot stock price of individual stock for Adjusted Close price and given years to train against\n",
    "plt.plot(data['Adj. Close'][start_year:end_year])"
   ]
  },
  {
   "cell_type": "markdown",
   "metadata": {},
   "source": [
    "# DeepAR Algorithm\n",
    "\n",
    "We'll be using the DeepAR Algorithm ([DeepAR](https://docs.aws.amazon.com/sagemaker/latest/dg/deepar.html)) to help us predict future stock values.\n",
    "\n",
    "I won't get into DeepAR to in detail as the documentation is provided, but DeepAR works best on a large set of similar time series data. We'll convert adjusted close stock prices of the selected stock(s) into individualized prices by year for each stock. To do so, we'll have to convert the dataframe data into a time series of stock prices per year. We'll do that next."
   ]
  },
  {
   "cell_type": "markdown",
   "metadata": {},
   "source": [
    "# Convert DataFrame into Time Series\n",
    "\n",
    "Using Adjusted Close daily data, we need to create a time series where individual adjusted closing prices are separated by year. This will provide individual time series data per year for the DeepAR model to train with."
   ]
  },
  {
   "cell_type": "code",
   "execution_count": 5,
   "metadata": {},
   "outputs": [],
   "source": [
    "time_series = sts.make_time_series(data, sts.range_to_years(start_year, end_year))"
   ]
  },
  {
   "cell_type": "code",
   "execution_count": 6,
   "metadata": {},
   "outputs": [
    {
     "data": {
      "text/plain": [
       "[Date\n",
       " 1992-01-02    3.098627\n",
       " 1992-01-03    3.083664\n",
       " 1992-01-06    3.068296\n",
       " 1992-01-07    3.053333\n",
       " 1992-01-08    3.048075\n",
       "                 ...   \n",
       " 1992-12-24    3.602457\n",
       " 1992-12-28    3.617866\n",
       " 1992-12-29    3.592045\n",
       " 1992-12-30    3.607454\n",
       " 1992-12-31    3.560810\n",
       " Name: Adj. Close, Length: 254, dtype: float64,\n",
       " Date\n",
       " 1993-01-04    3.560810\n",
       " 1993-01-05    3.602457\n",
       " 1993-01-06    3.586631\n",
       " 1993-01-07    3.576219\n",
       " 1993-01-08    3.571221\n",
       "                 ...   \n",
       " 1993-12-27    4.568347\n",
       " 1993-12-28    4.557649\n",
       " 1993-12-29    4.557649\n",
       " 1993-12-30    4.530688\n",
       " 1993-12-31    4.487893\n",
       " Name: Adj. Close, Length: 253, dtype: float64,\n",
       " Date\n",
       " 1994-01-03    4.450662\n",
       " 1994-01-04    4.434400\n",
       " 1994-01-05    4.407867\n",
       " 1994-01-06    4.445098\n",
       " 1994-01-07    4.466496\n",
       "                 ...   \n",
       " 1994-12-23    4.387175\n",
       " 1994-12-27    4.519452\n",
       " 1994-12-28    4.508870\n",
       " 1994-12-29    4.552962\n",
       " 1994-12-30    4.497406\n",
       " Name: Adj. Close, Length: 252, dtype: float64]"
      ]
     },
     "execution_count": 6,
     "metadata": {},
     "output_type": "execute_result"
    }
   ],
   "source": [
    "time_series"
   ]
  },
  {
   "cell_type": "code",
   "execution_count": 7,
   "metadata": {},
   "outputs": [],
   "source": [
    "# set prediction length\n",
    "prediction_length = 5    # days\n",
    "\n",
    "time_series_training = sts.create_training_series(time_series, prediction_length)"
   ]
  },
  {
   "cell_type": "code",
   "execution_count": 8,
   "metadata": {},
   "outputs": [
    {
     "data": {
      "image/png": "[encoded data removed]",
      "text/plain": [
       "<Figure size 1080x576 with 1 Axes>"
      ]
     },
     "metadata": {
      "needs_background": "light"
     },
     "output_type": "display_data"
    }
   ],
   "source": [
    "# display train/test time series\n",
    "time_series_idx = 0\n",
    "\n",
    "plt.figure(figsize=(15,8))\n",
    "# test data is the whole time series\n",
    "time_series[time_series_idx].plot(label='test', lw=3)\n",
    "# train data is all but the last prediction pts\n",
    "time_series_training[time_series_idx].plot(label='train', ls=':', lw=3)\n",
    "\n",
    "plt.legend()\n",
    "plt.show()"
   ]
  },
  {
   "cell_type": "markdown",
   "metadata": {},
   "source": [
    "# Convert DataFrame/Series to JSON\n",
    "\n",
    "DeepAR algorithm requires JSON object input. Need to convert time series data to JSON object."
   ]
  },
  {
   "cell_type": "code",
   "execution_count": 9,
   "metadata": {},
   "outputs": [
    {
     "name": "stdout",
     "output_type": "stream",
     "text": [
      "{'start': '1992-01-02 00:00:00', 'target': [3.0986272202879, 3.0836638677493, 3.0682961002773, 3.0533327477387, 3.0480753536035, 3.007633860256, 3.0128912543911, 3.0432223744018, 3.0836638677493, 3.1188479669617, 3.1544364811075, 3.2150987211288, 3.2555402144763, 3.1544364811075, 3.2150987211288, 3.194877974455, 3.1693998336461, 3.1645468544444, 3.1592894603092, 3.1289583402986, 3.0937742410862, 3.0432223744018, 3.0735534944124, 3.1087375936248, 3.1342157344337, 3.1342157344337, 3.1241053610968, 3.1289583402986, 3.11399498776, 3.1491790869723, 3.1289583402986, 3.1188479669617, 3.1188479669617, 3.1693998336461, 3.2502828203411, 3.2502828203411, 3.2454298411394, 3.2098413269936, 3.2098413269936, 3.1896205803198, 3.179510206983, 3.2150987211288, 3.1969000491224, 3.1610621886991, 3.1663564180798, 3.1561752077323, 3.1561752077323, 3.1663564180798, 3.1406997680041, 3.1406997680041, 3.1765376284274, 3.1765376284274, 3.2017870300892, 3.1969000491224, 3.1814246093942, 3.2017870300892, 3.1814246093942, 3.1663564180798, 3.1712433990466, 3.1305185576566, 3.099974926614, 3.0950879456472, 3.0849067352996, 3.1101561369615, 3.0645443146046, 3.0490688748764, 3.0796125059189, 3.0185252438338, 2.9676191920962, 3.0441818939096, 3.0950879456472, 3.0645443146046, 3.1256315766897, 3.1765376284274, 3.2172624698175, 3.2070812594699, 3.1663564180798, 3.1459939973848, 3.120337347309, 3.0897937162665, 3.0897937162665, 3.0950879456472, 3.0849067352996, 3.120337347309, 3.0849067352996, 3.1459939973848, 3.1358127870373, 3.1358127870373, 3.1305185576566, 3.1561752077323, 3.2221494507843, 3.2172624698175, 3.1916058197417, 3.1712433990466, 3.1459939973848, 3.1305185576566, 3.1814246093942, 3.1610621886991, 3.1256315766897, 3.120337347309, 3.0592500852239, 3.0897937162665, 3.1406997680041, 3.1101561369615, 3.1101561369615, 3.0971241877167, 3.1176349439267, 3.1278903220317, 3.1791672125569, 3.1278903220317, 3.1225575254171, 3.1123021473121, 3.1484010782418, 3.1278903220317, 3.1381457001368, 3.1738344159422, 3.1176349439267, 3.1176349439267, 3.1176349439267, 3.1278903220317, 3.1328129035222, 3.1328129035222, 3.1689118344518, 3.1996779687669, 3.240699481187, 3.1894225906619, 3.2201887249769, 3.1689118344518, 3.1738344159422, 3.1225575254171, 3.1586564563468, 3.1894225906619, 3.1328129035222, 3.1484010782418, 3.1943451721523, 3.2046005502573, 3.1738344159422, 3.1791672125569, 3.1689118344518, 3.1635790378372, 3.1381457001368, 3.1533236597322, 3.0663580534016, 3.0766134315066, 3.1073795658217, 3.1635790378372, 3.1278903220317, 3.1381457001368, 3.0868688096117, 3.0971241877167, 3.071280634892, 3.1020467692071, 3.0971241877167, 3.1020467692071, 3.1073795658217, 3.081536012997, 3.0868688096117, 3.0971241877167, 3.1176349439267, 3.1430682816272, 3.1225575254171, 3.1225575254171, 3.081536012997, 3.040514500577, 3.0355919190865, 3.0253365409815, 3.0458472971916, 3.0097483662619, 3.0355919190865, 3.0458472971916, 3.0561026752966, 3.0663580534016, 3.061025256787, 3.040514500577, 3.0561026752966, 3.0868688096117, 3.081536012997, 3.1791672125569, 3.1689118344518, 3.1996779687669, 3.240699481187, 3.2661328188874, 3.2443914173048, 3.1927291335897, 3.2080211695694, 3.2183536263124, 3.2183536263124, 3.2753887875338, 3.2286860830554, 3.2340589605618, 3.2183536263124, 3.1307343931317, 3.1150290588823, 3.0790721094166, 3.0480747391876, 3.1204019363887, 3.0997370229027, 3.1150290588823, 3.0943641453963, 3.0997370229027, 3.1046966021393, 3.1513993066177, 3.1563588858544, 3.1617317633607, 3.1410668498747, 3.1563588858544, 3.1356939723683, 3.1770237993404, 3.1666913425974, 3.2133940470758, 3.2030615903328, 3.1720642201037, 3.2443914173048, 3.2286860830554, 3.2390185397984, 3.2340589605618, 3.2030615903328, 3.2237265038188, 3.1927291335897, 3.2390185397984, 3.2547238740478, 3.2596834532844, 3.2237265038188, 3.2237265038188, 3.2547238740478, 3.2286860830554, 3.3063861577628, 3.3940053909436, 3.4146703044296, 3.4250027611726, 3.4250027611726, 3.440708095422, 3.4200431819359, 3.4462807270482, 3.3992197334341, 3.4408666304377, 3.4512783546886, 3.4775158998009, 3.4983393483027, 3.4721018031904, 3.4879276240518, 3.46710417555, 3.5033369759432, 3.4775158998009, 3.5503979695572, 3.6128683150626, 3.6441034878153, 3.6232800393135, 3.5970424942013, 3.6024565908117, 3.6178659427031, 3.5920448665608, 3.6074542184522, 3.5608096938081]}\n"
     ]
    }
   ],
   "source": [
    "# test out the code\n",
    "ts = time_series[0]\n",
    "\n",
    "json_obj = sts.series_to_json_obj(ts)\n",
    "print(json_obj)"
   ]
  },
  {
   "cell_type": "code",
   "execution_count": 10,
   "metadata": {},
   "outputs": [],
   "source": [
    "# save this data to a local directory\n",
    "data_dir = 'json_stock_data'\n",
    "\n",
    "# make data dir, if it does not exist\n",
    "if not os.path.exists(data_dir):\n",
    "    os.makedirs(data_dir)"
   ]
  },
  {
   "cell_type": "code",
   "execution_count": 11,
   "metadata": {},
   "outputs": [
    {
     "name": "stdout",
     "output_type": "stream",
     "text": [
      "json_stock_data/GE_train.json saved.\n",
      "json_stock_data/GE_test.json saved.\n"
     ]
    }
   ],
   "source": [
    "# directories to save train/test data\n",
    "train_key = os.path.join(data_dir, stocks[0] + '_train.json')\n",
    "test_key = os.path.join(data_dir, stocks[0] + '_test.json')\n",
    "\n",
    "# write train/test JSON files\n",
    "sts.write_json_dataset(time_series_training, train_key)        \n",
    "sts.write_json_dataset(time_series, test_key)"
   ]
  },
  {
   "cell_type": "markdown",
   "metadata": {},
   "source": [
    "# Uploading to S3\n",
    "Now we need to upload locally captured data to AWS S3"
   ]
  },
  {
   "cell_type": "code",
   "execution_count": 12,
   "metadata": {},
   "outputs": [],
   "source": [
    "import boto3\n",
    "import sagemaker\n",
    "from sagemaker import get_execution_role"
   ]
  },
  {
   "cell_type": "code",
   "execution_count": 13,
   "metadata": {},
   "outputs": [],
   "source": [
    "sagemaker_session = sagemaker.Session()\n",
    "role = get_execution_role()\n",
    "bucket = sagemaker_session.default_bucket()"
   ]
  },
  {
   "cell_type": "markdown",
   "metadata": {},
   "source": [
    "Specify paths for training and test data in S3"
   ]
  },
  {
   "cell_type": "code",
   "execution_count": 14,
   "metadata": {},
   "outputs": [],
   "source": [
    "prefix = 'deepar_' + stocks[0]\n",
    "\n",
    "# *unique* train/test prefixes\n",
    "train_prefix   = '{}/{}'.format(prefix, 'train')\n",
    "test_prefix    = '{}/{}'.format(prefix, 'test')\n",
    "\n",
    "# uploading data to S3, and saving locations\n",
    "train_path  = sagemaker_session.upload_data(train_key, bucket=bucket, key_prefix=train_prefix)\n",
    "test_path   = sagemaker_session.upload_data(test_key,  bucket=bucket, key_prefix=test_prefix)"
   ]
  },
  {
   "cell_type": "code",
   "execution_count": 15,
   "metadata": {},
   "outputs": [
    {
     "name": "stdout",
     "output_type": "stream",
     "text": [
      "Training data is stored in: s3://sagemaker-us-east-2-019506888477/deepar_GE/train/GE_train.json\n",
      "Test data is stored in: s3://sagemaker-us-east-2-019506888477/deepar_GE/test/GE_test.json\n"
     ]
    }
   ],
   "source": [
    "# check locations\n",
    "print('Training data is stored in: '+ train_path)\n",
    "print('Test data is stored in: '+ test_path)"
   ]
  },
  {
   "cell_type": "markdown",
   "metadata": {},
   "source": [
    "# Training DeepAR Estimator\n",
    "\n",
    "Create/configure a container image for the region I'm using. This container can be passed to a base Estimator that will serve as the estimator for our DeepAR model."
   ]
  },
  {
   "cell_type": "code",
   "execution_count": 16,
   "metadata": {},
   "outputs": [
    {
     "name": "stderr",
     "output_type": "stream",
     "text": [
      "'get_image_uri' method will be deprecated in favor of 'ImageURIProvider' class in SageMaker Python SDK v2.\n"
     ]
    }
   ],
   "source": [
    "from sagemaker.amazon.amazon_estimator import get_image_uri\n",
    "\n",
    "image_name = get_image_uri(boto3.Session().region_name, # get the region\n",
    "                           'forecasting-deepar') # specify image"
   ]
  },
  {
   "cell_type": "code",
   "execution_count": 17,
   "metadata": {},
   "outputs": [
    {
     "name": "stderr",
     "output_type": "stream",
     "text": [
      "Parameter image_name will be renamed to image_uri in SageMaker Python SDK v2.\n"
     ]
    }
   ],
   "source": [
    "from sagemaker.estimator import Estimator\n",
    "\n",
    "# directory to save model artifacts\n",
    "s3_output_path = \"s3://{}/{}/output\".format(bucket, prefix)\n",
    "\n",
    "# instantiate a DeepAR estimator\n",
    "estimator = Estimator(sagemaker_session=sagemaker_session,\n",
    "                      image_name=image_name,\n",
    "                      role=role,\n",
    "                      train_instance_count=1,\n",
    "                      train_instance_type='ml.c4.xlarge',\n",
    "                      output_path=s3_output_path\n",
    "                      )"
   ]
  },
  {
   "cell_type": "markdown",
   "metadata": {},
   "source": [
    "# Hyperparameters"
   ]
  },
  {
   "cell_type": "markdown",
   "metadata": {},
   "source": [
    "## Setting Hyperparameters\n",
    "\n",
    "We'll define some required hyperparameters to build our model.\n",
    "\n",
    "* **epochs**: The maximum number of times to pass over the data when training.\n",
    "* **time_freq**: The granularity of the time series in the dataset ('D' for daily).\n",
    "* **prediction_length**: A string; the number of time steps (based off the unit of frequency) that the model is trained to predict. \n",
    "* **context_length**: The number of time points that the model gets to see *before* making a prediction. \n",
    "\n",
    "### Context Length\n",
    "\n",
    "As per recommendation of the DeepAR algorithm documentation, we'll start with context_length = prediction_length. For our algorithm, we'll start with a 7 day prediction window. DeepAR receives lagged inputs from the provided time series (up to one year in some cases), so we don't have to force context_length to be longer than needed. The documentation provides more information on how DeepAR works.\n",
    "\n",
    "### Optional Hyperparameters\n",
    "\n",
    "Additionally, we can provide optional hyperparameters (e.g. learning_rate, num_cells, num_layers (to customize the RNN)). These are set by default if not provided. Again, reference the documentation for more information on these hyperparameters."
   ]
  },
  {
   "cell_type": "code",
   "execution_count": 18,
   "metadata": {},
   "outputs": [],
   "source": [
    "# need to feed frequency to hyperparameters\n",
    "# set to 'D' for daily\n",
    "freq='D'\n",
    "\n",
    "# assign context_length. Start with it equal to prediction_length\n",
    "context_length = prediction_length\n",
    "\n",
    "# best hyperparameters established from tuning job\n",
    "hyperparameters = {\n",
    "    \"epochs\": \"29\", # started with '25'\n",
    "    \"time_freq\": freq,\n",
    "    \"prediction_length\": str(prediction_length),\n",
    "    \"context_length\": str(context_length),\n",
    "    \"num_cells\": \"50\",\n",
    "    \"num_layers\": \"2\",\n",
    "    \"mini_batch_size\": \"128\",\n",
    "    \"learning_rate\": \"0.011354939080335372\", # started with '0.001'\n",
    "    \"dropout_rate\": \"0.19549901048319465\", # started with '0.1'\n",
    "    \"early_stopping_patience\": \"10\"\n",
    "}"
   ]
  },
  {
   "cell_type": "code",
   "execution_count": 19,
   "metadata": {},
   "outputs": [],
   "source": [
    "# set the hyperparams\n",
    "estimator.set_hyperparameters(**hyperparameters)"
   ]
  },
  {
   "cell_type": "markdown",
   "metadata": {},
   "source": [
    "### Set up the tuning job\n",
    "\n",
    "I've established the hyperparameters for the base estimator. Now I'd like to describe the tuning job that I'll need SageMaker to initiate to determine the \"optimal\" hyperparameters for our time series and model.\n",
    "\n",
    "Here I'll dictate which hyperparameters I'd like to iterate through, and leave those hyperparameters alone from above that I don't need tuned for this particular job."
   ]
  },
  {
   "cell_type": "code",
   "execution_count": 22,
   "metadata": {},
   "outputs": [],
   "source": [
    "# from sagemaker.tuner import IntegerParameter, ContinuousParameter, HyperparameterTuner\n",
    "\n",
    "# hyperparameter_tuner = HyperparameterTuner(estimator = estimator, # The estimator object to use as the basis for the training jobs.\n",
    "#                                                objective_metric_name = 'test:mean_wQuantileLoss', # The metric used to compare trained models.\n",
    "#                                                objective_type = 'Minimize', # Whether we wish to minimize or maximize the metric.\n",
    "#                                                max_jobs = 9, # The total number of models to train\n",
    "#                                                max_parallel_jobs = 3, # The number of models to train in parallel\n",
    "#                                                hyperparameter_ranges = {\n",
    "#                                                     'dropout_rate': ContinuousParameter(0.1, 0.2),\n",
    "#                                                     'learning_rate': ContinuousParameter(0.0005, 0.05),\n",
    "#                                                     'epochs': IntegerParameter(1, 50)\n",
    "#                                                })"
   ]
  },
  {
   "cell_type": "markdown",
   "metadata": {},
   "source": [
    "### Execute the tuning job\n",
    "\n",
    "Now that we have our hyperparameter tuner object completely set up, it is time to train it. To do this we make sure that SageMaker knows our input data is in csv format and then execute the `fit` method."
   ]
  },
  {
   "cell_type": "code",
   "execution_count": 23,
   "metadata": {},
   "outputs": [
    {
     "name": "stderr",
     "output_type": "stream",
     "text": [
      "'s3_input' class will be renamed to 'TrainingInput' in SageMaker Python SDK v2.\n",
      "'s3_input' class will be renamed to 'TrainingInput' in SageMaker Python SDK v2.\n"
     ]
    }
   ],
   "source": [
    "# # tell S3 where the data will be and what type of format to expect\n",
    "# s3_input_train = sagemaker.s3_input(s3_data=train_path, content_type='json')\n",
    "# s3_input_test = sagemaker.s3_input(s3_data=test_path, content_type='json')\n",
    "\n",
    "# # fit\n",
    "# hyperparameter_tuner.fit({'train': s3_input_train, 'test': s3_input_test})"
   ]
  },
  {
   "cell_type": "code",
   "execution_count": 24,
   "metadata": {},
   "outputs": [
    {
     "name": "stdout",
     "output_type": "stream",
     "text": [
      "................................................................................................................................................!\n"
     ]
    }
   ],
   "source": [
    "# # visual to know it's fitting still...\n",
    "# hyperparameter_tuner.wait()"
   ]
  },
  {
   "cell_type": "code",
   "execution_count": 25,
   "metadata": {},
   "outputs": [
    {
     "data": {
      "text/plain": [
       "'forecasting-deepar-200923-0304-008-15bc878e'"
      ]
     },
     "execution_count": 25,
     "metadata": {},
     "output_type": "execute_result"
    }
   ],
   "source": [
    "# # output configuration of best_training_job. Use SageMaker interface to find actual parameters.\n",
    "# hyperparameter_tuner.best_training_job()"
   ]
  },
  {
   "cell_type": "markdown",
   "metadata": {},
   "source": [
    "## Training Job\n",
    "\n",
    "Launch our training job with the new best_training_job!"
   ]
  },
  {
   "cell_type": "code",
   "execution_count": 20,
   "metadata": {},
   "outputs": [
    {
     "name": "stderr",
     "output_type": "stream",
     "text": [
      "'s3_input' class will be renamed to 'TrainingInput' in SageMaker Python SDK v2.\n",
      "'s3_input' class will be renamed to 'TrainingInput' in SageMaker Python SDK v2.\n"
     ]
    },
    {
     "name": "stdout",
     "output_type": "stream",
     "text": [
      "2020-09-23 21:34:11 Starting - Starting the training job...\n",
      "2020-09-23 21:34:13 Starting - Launching requested ML instances......\n",
      "2020-09-23 21:35:19 Starting - Preparing the instances for training......\n",
      "2020-09-23 21:36:23 Downloading - Downloading input data...\n",
      "2020-09-23 21:37:02 Training - Downloading the training image..\u001b[34mArguments: train\u001b[0m\n",
      "\u001b[34m[09/23/2020 21:37:26 INFO 139722915780416] Reading default configuration from /opt/amazon/lib/python2.7/site-packages/algorithm/resources/default-input.json: {u'num_dynamic_feat': u'auto', u'dropout_rate': u'0.10', u'mini_batch_size': u'128', u'test_quantiles': u'[0.1, 0.2, 0.3, 0.4, 0.5, 0.6, 0.7, 0.8, 0.9]', u'_tuning_objective_metric': u'', u'_num_gpus': u'auto', u'num_eval_samples': u'100', u'learning_rate': u'0.001', u'num_cells': u'40', u'num_layers': u'2', u'embedding_dimension': u'10', u'_kvstore': u'auto', u'_num_kv_servers': u'auto', u'cardinality': u'auto', u'likelihood': u'student-t', u'early_stopping_patience': u''}\u001b[0m\n",
      "\u001b[34m[09/23/2020 21:37:26 INFO 139722915780416] Reading provided configuration from /opt/ml/input/config/hyperparameters.json: {u'dropout_rate': u'0.19549901048319465', u'learning_rate': u'0.011354939080335372', u'num_cells': u'50', u'prediction_length': u'5', u'epochs': u'29', u'time_freq': u'D', u'context_length': u'5', u'num_layers': u'2', u'mini_batch_size': u'128', u'early_stopping_patience': u'10'}\u001b[0m\n",
      "\u001b[34m[09/23/2020 21:37:26 INFO 139722915780416] Final configuration: {u'dropout_rate': u'0.19549901048319465', u'test_quantiles': u'[0.1, 0.2, 0.3, 0.4, 0.5, 0.6, 0.7, 0.8, 0.9]', u'_tuning_objective_metric': u'', u'num_eval_samples': u'100', u'learning_rate': u'0.011354939080335372', u'num_layers': u'2', u'epochs': u'29', u'embedding_dimension': u'10', u'num_cells': u'50', u'_num_kv_servers': u'auto', u'mini_batch_size': u'128', u'likelihood': u'student-t', u'num_dynamic_feat': u'auto', u'cardinality': u'auto', u'_num_gpus': u'auto', u'prediction_length': u'5', u'time_freq': u'D', u'context_length': u'5', u'_kvstore': u'auto', u'early_stopping_patience': u'10'}\u001b[0m\n",
      "\u001b[34mProcess 1 is a worker.\u001b[0m\n",
      "\u001b[34m[09/23/2020 21:37:26 INFO 139722915780416] Detected entry point for worker worker\u001b[0m\n",
      "\u001b[34m[09/23/2020 21:37:26 INFO 139722915780416] Using early stopping with patience 10\u001b[0m\n",
      "\u001b[34m[09/23/2020 21:37:26 INFO 139722915780416] [cardinality=auto] `cat` field was NOT found in the file `/opt/ml/input/data/train/GE_train.json` and will NOT be used for training.\u001b[0m\n",
      "\u001b[34m[09/23/2020 21:37:26 INFO 139722915780416] [num_dynamic_feat=auto] `dynamic_feat` field was NOT found in the file `/opt/ml/input/data/train/GE_train.json` and will NOT be used for training.\u001b[0m\n",
      "\u001b[34m[09/23/2020 21:37:26 INFO 139722915780416] Training set statistics:\u001b[0m\n",
      "\u001b[34m[09/23/2020 21:37:26 INFO 139722915780416] Real time series\u001b[0m\n",
      "\u001b[34m[09/23/2020 21:37:26 INFO 139722915780416] number of time series: 3\u001b[0m\n",
      "\u001b[34m[09/23/2020 21:37:26 INFO 139722915780416] number of observations: 744\u001b[0m\n",
      "\u001b[34m[09/23/2020 21:37:26 INFO 139722915780416] mean target length: 248\u001b[0m\n",
      "\u001b[34m[09/23/2020 21:37:26 INFO 139722915780416] min/mean/max target: 2.96761918068/3.80217546032/4.69673156738\u001b[0m\n",
      "\u001b[34m[09/23/2020 21:37:26 INFO 139722915780416] mean abs(target): 3.80217546032\u001b[0m\n",
      "\u001b[34m[09/23/2020 21:37:26 INFO 139722915780416] contains missing values: no\u001b[0m\n",
      "\u001b[34m[09/23/2020 21:37:26 INFO 139722915780416] Small number of time series. Doing 427 passes over dataset with prob 0.999219359875 per epoch.\u001b[0m\n",
      "\u001b[34m[09/23/2020 21:37:26 INFO 139722915780416] Test set statistics:\u001b[0m\n",
      "\u001b[34m[09/23/2020 21:37:26 INFO 139722915780416] Real time series\u001b[0m\n",
      "\u001b[34m[09/23/2020 21:37:26 INFO 139722915780416] number of time series: 3\u001b[0m\n",
      "\u001b[34m[09/23/2020 21:37:26 INFO 139722915780416] number of observations: 759\u001b[0m\n",
      "\u001b[34m[09/23/2020 21:37:26 INFO 139722915780416] mean target length: 253\u001b[0m\n",
      "\u001b[34m[09/23/2020 21:37:26 INFO 139722915780416] min/mean/max target: 2.96761918068/3.81023341645/4.69673156738\u001b[0m\n",
      "\u001b[34m[09/23/2020 21:37:26 INFO 139722915780416] mean abs(target): 3.81023341645\u001b[0m\n",
      "\u001b[34m[09/23/2020 21:37:26 INFO 139722915780416] contains missing values: no\u001b[0m\n",
      "\u001b[34m[09/23/2020 21:37:26 INFO 139722915780416] nvidia-smi took: 0.025249004364 secs to identify 0 gpus\u001b[0m\n",
      "\u001b[34m[09/23/2020 21:37:26 INFO 139722915780416] Number of GPUs being used: 0\u001b[0m\n",
      "\u001b[34m[09/23/2020 21:37:26 INFO 139722915780416] Create Store: local\u001b[0m\n",
      "\u001b[34m#metrics {\"Metrics\": {\"get_graph.time\": {\"count\": 1, \"max\": 32.904863357543945, \"sum\": 32.904863357543945, \"min\": 32.904863357543945}}, \"EndTime\": 1600897046.563044, \"Dimensions\": {\"Host\": \"algo-1\", \"Operation\": \"training\", \"Algorithm\": \"AWS/DeepAR\"}, \"StartTime\": 1600897046.529094}\n",
      "\u001b[0m\n",
      "\u001b[34m[09/23/2020 21:37:26 INFO 139722915780416] Number of GPUs being used: 0\u001b[0m\n",
      "\u001b[34m#metrics {\"Metrics\": {\"initialize.time\": {\"count\": 1, \"max\": 93.12891960144043, \"sum\": 93.12891960144043, \"min\": 93.12891960144043}}, \"EndTime\": 1600897046.622379, \"Dimensions\": {\"Host\": \"algo-1\", \"Operation\": \"training\", \"Algorithm\": \"AWS/DeepAR\"}, \"StartTime\": 1600897046.563171}\n",
      "\u001b[0m\n",
      "\u001b[34m[09/23/2020 21:37:27 INFO 139722915780416] Epoch[0] Batch[0] avg_epoch_loss=3.551655\u001b[0m\n",
      "\u001b[34m[09/23/2020 21:37:27 INFO 139722915780416] #quality_metric: host=algo-1, epoch=0, batch=0 train loss <loss>=3.55165529251\u001b[0m\n",
      "\u001b[34m[09/23/2020 21:37:27 INFO 139722915780416] Epoch[0] Batch[5] avg_epoch_loss=2.294854\u001b[0m\n",
      "\u001b[34m[09/23/2020 21:37:27 INFO 139722915780416] #quality_metric: host=algo-1, epoch=0, batch=5 train loss <loss>=2.29485366742\u001b[0m\n",
      "\u001b[34m[09/23/2020 21:37:27 INFO 139722915780416] Epoch[0] Batch [5]#011Speed: 3489.03 samples/sec#011loss=2.294854\u001b[0m\n",
      "\u001b[34m[09/23/2020 21:37:27 INFO 139722915780416] processed a total of 1209 examples\u001b[0m\n",
      "\u001b[34m#metrics {\"Metrics\": {\"epochs\": {\"count\": 1, \"max\": 29, \"sum\": 29.0, \"min\": 29}, \"update.time\": {\"count\": 1, \"max\": 820.7261562347412, \"sum\": 820.7261562347412, \"min\": 820.7261562347412}}, \"EndTime\": 1600897047.443252, \"Dimensions\": {\"Host\": \"algo-1\", \"Operation\": \"training\", \"Algorithm\": \"AWS/DeepAR\"}, \"StartTime\": 1600897046.622445}\n",
      "\u001b[0m\n",
      "\u001b[34m[09/23/2020 21:37:27 INFO 139722915780416] #throughput_metric: host=algo-1, train throughput=1472.84742655 records/second\u001b[0m\n",
      "\u001b[34m[09/23/2020 21:37:27 INFO 139722915780416] #progress_metric: host=algo-1, completed 3 % of epochs\u001b[0m\n",
      "\u001b[34m[09/23/2020 21:37:27 INFO 139722915780416] #quality_metric: host=algo-1, epoch=0, train loss <loss>=1.79004466534\u001b[0m\n",
      "\u001b[34m[09/23/2020 21:37:27 INFO 139722915780416] best epoch loss so far\u001b[0m\n",
      "\u001b[34m[09/23/2020 21:37:27 INFO 139722915780416] Saved checkpoint to \"/opt/ml/model/state_411ae800-1554-435a-8c12-a7988af41226-0000.params\"\u001b[0m\n",
      "\u001b[34m#metrics {\"Metrics\": {\"state.serialize.time\": {\"count\": 1, \"max\": 11.746883392333984, \"sum\": 11.746883392333984, \"min\": 11.746883392333984}}, \"EndTime\": 1600897047.45573, \"Dimensions\": {\"Host\": \"algo-1\", \"Operation\": \"training\", \"Algorithm\": \"AWS/DeepAR\"}, \"StartTime\": 1600897047.443344}\n",
      "\u001b[0m\n",
      "\u001b[34m[09/23/2020 21:37:27 INFO 139722915780416] Epoch[1] Batch[0] avg_epoch_loss=0.145635\u001b[0m\n",
      "\u001b[34m[09/23/2020 21:37:27 INFO 139722915780416] #quality_metric: host=algo-1, epoch=1, batch=0 train loss <loss>=0.145635485649\u001b[0m\n",
      "\u001b[34m[09/23/2020 21:37:28 INFO 139722915780416] Epoch[1] Batch[5] avg_epoch_loss=0.273776\u001b[0m\n",
      "\u001b[34m[09/23/2020 21:37:28 INFO 139722915780416] #quality_metric: host=algo-1, epoch=1, batch=5 train loss <loss>=0.273776495208\u001b[0m\n",
      "\u001b[34m[09/23/2020 21:37:28 INFO 139722915780416] Epoch[1] Batch [5]#011Speed: 2890.41 samples/sec#011loss=0.273776\u001b[0m\n",
      "\u001b[34m[09/23/2020 21:37:28 INFO 139722915780416] Epoch[1] Batch[10] avg_epoch_loss=0.126070\u001b[0m\n",
      "\u001b[34m[09/23/2020 21:37:28 INFO 139722915780416] #quality_metric: host=algo-1, epoch=1, batch=10 train loss <loss>=-0.0511786788702\u001b[0m\n",
      "\u001b[34m[09/23/2020 21:37:28 INFO 139722915780416] Epoch[1] Batch [10]#011Speed: 2992.84 samples/sec#011loss=-0.051179\u001b[0m\n",
      "\u001b[34m[09/23/2020 21:37:28 INFO 139722915780416] processed a total of 1323 examples\u001b[0m\n",
      "\u001b[34m#metrics {\"Metrics\": {\"update.time\": {\"count\": 1, \"max\": 880.047082901001, \"sum\": 880.047082901001, \"min\": 880.047082901001}}, \"EndTime\": 1600897048.335959, \"Dimensions\": {\"Host\": \"algo-1\", \"Operation\": \"training\", \"Algorithm\": \"AWS/DeepAR\"}, \"StartTime\": 1600897047.455792}\n",
      "\u001b[0m\n",
      "\u001b[34m[09/23/2020 21:37:28 INFO 139722915780416] #throughput_metric: host=algo-1, train throughput=1502.99435916 records/second\u001b[0m\n",
      "\u001b[34m[09/23/2020 21:37:28 INFO 139722915780416] #progress_metric: host=algo-1, completed 6 % of epochs\u001b[0m\n",
      "\u001b[34m[09/23/2020 21:37:28 INFO 139722915780416] #quality_metric: host=algo-1, epoch=1, train loss <loss>=0.1260695979\u001b[0m\n",
      "\u001b[34m[09/23/2020 21:37:28 INFO 139722915780416] best epoch loss so far\u001b[0m\n",
      "\u001b[34m[09/23/2020 21:37:28 INFO 139722915780416] Saved checkpoint to \"/opt/ml/model/state_3d4cfa3d-c4ec-43b9-ad99-29eb44f49053-0000.params\"\u001b[0m\n",
      "\u001b[34m#metrics {\"Metrics\": {\"state.serialize.time\": {\"count\": 1, \"max\": 10.237932205200195, \"sum\": 10.237932205200195, \"min\": 10.237932205200195}}, \"EndTime\": 1600897048.347008, \"Dimensions\": {\"Host\": \"algo-1\", \"Operation\": \"training\", \"Algorithm\": \"AWS/DeepAR\"}, \"StartTime\": 1600897048.336061}\n",
      "\u001b[0m\n",
      "\u001b[34m[09/23/2020 21:37:28 INFO 139722915780416] Epoch[2] Batch[0] avg_epoch_loss=-0.463124\u001b[0m\n",
      "\u001b[34m[09/23/2020 21:37:28 INFO 139722915780416] #quality_metric: host=algo-1, epoch=2, batch=0 train loss <loss>=-0.463123589754\u001b[0m\n",
      "\u001b[34m[09/23/2020 21:37:29 INFO 139722915780416] Epoch[2] Batch[5] avg_epoch_loss=-0.464354\u001b[0m\n",
      "\u001b[34m[09/23/2020 21:37:29 INFO 139722915780416] #quality_metric: host=algo-1, epoch=2, batch=5 train loss <loss>=-0.464353544017\u001b[0m\n",
      "\u001b[34m[09/23/2020 21:37:29 INFO 139722915780416] Epoch[2] Batch [5]#011Speed: 2974.26 samples/sec#011loss=-0.464354\u001b[0m\n",
      "\n",
      "2020-09-23 21:37:23 Training - Training image download completed. Training in progress.\u001b[34m[09/23/2020 21:37:29 INFO 139722915780416] Epoch[2] Batch[10] avg_epoch_loss=-0.336205\u001b[0m\n",
      "\u001b[34m[09/23/2020 21:37:29 INFO 139722915780416] #quality_metric: host=algo-1, epoch=2, batch=10 train loss <loss>=-0.182427558303\u001b[0m\n",
      "\u001b[34m[09/23/2020 21:37:29 INFO 139722915780416] Epoch[2] Batch [10]#011Speed: 3236.16 samples/sec#011loss=-0.182428\u001b[0m\n",
      "\u001b[34m[09/23/2020 21:37:29 INFO 139722915780416] processed a total of 1307 examples\u001b[0m\n",
      "\u001b[34m#metrics {\"Metrics\": {\"update.time\": {\"count\": 1, \"max\": 949.9821662902832, \"sum\": 949.9821662902832, \"min\": 949.9821662902832}}, \"EndTime\": 1600897049.297165, \"Dimensions\": {\"Host\": \"algo-1\", \"Operation\": \"training\", \"Algorithm\": \"AWS/DeepAR\"}, \"StartTime\": 1600897048.347097}\n",
      "\u001b[0m\n",
      "\u001b[34m[09/23/2020 21:37:29 INFO 139722915780416] #throughput_metric: host=algo-1, train throughput=1375.57812718 records/second\u001b[0m\n",
      "\u001b[34m[09/23/2020 21:37:29 INFO 139722915780416] #progress_metric: host=algo-1, completed 10 % of epochs\u001b[0m\n",
      "\u001b[34m[09/23/2020 21:37:29 INFO 139722915780416] #quality_metric: host=algo-1, epoch=2, train loss <loss>=-0.336205368692\u001b[0m\n",
      "\u001b[34m[09/23/2020 21:37:29 INFO 139722915780416] best epoch loss so far\u001b[0m\n",
      "\u001b[34m[09/23/2020 21:37:29 INFO 139722915780416] Saved checkpoint to \"/opt/ml/model/state_dfb62bc0-3294-4f95-a814-e827d986f6d0-0000.params\"\u001b[0m\n",
      "\u001b[34m#metrics {\"Metrics\": {\"state.serialize.time\": {\"count\": 1, \"max\": 9.54580307006836, \"sum\": 9.54580307006836, \"min\": 9.54580307006836}}, \"EndTime\": 1600897049.307756, \"Dimensions\": {\"Host\": \"algo-1\", \"Operation\": \"training\", \"Algorithm\": \"AWS/DeepAR\"}, \"StartTime\": 1600897049.297274}\n",
      "\u001b[0m\n",
      "\u001b[34m[09/23/2020 21:37:29 INFO 139722915780416] Epoch[3] Batch[0] avg_epoch_loss=-0.756714\u001b[0m\n",
      "\u001b[34m[09/23/2020 21:37:29 INFO 139722915780416] #quality_metric: host=algo-1, epoch=3, batch=0 train loss <loss>=-0.756714165211\u001b[0m\n",
      "\u001b[34m[09/23/2020 21:37:29 INFO 139722915780416] Epoch[3] Batch[5] avg_epoch_loss=-0.443049\u001b[0m\n",
      "\u001b[34m[09/23/2020 21:37:29 INFO 139722915780416] #quality_metric: host=algo-1, epoch=3, batch=5 train loss <loss>=-0.443048724284\u001b[0m\n",
      "\u001b[34m[09/23/2020 21:37:29 INFO 139722915780416] Epoch[3] Batch [5]#011Speed: 3814.09 samples/sec#011loss=-0.443049\u001b[0m\n",
      "\u001b[34m[09/23/2020 21:37:30 INFO 139722915780416] processed a total of 1258 examples\u001b[0m\n",
      "\u001b[34m#metrics {\"Metrics\": {\"update.time\": {\"count\": 1, \"max\": 741.6250705718994, \"sum\": 741.6250705718994, \"min\": 741.6250705718994}}, \"EndTime\": 1600897050.049527, \"Dimensions\": {\"Host\": \"algo-1\", \"Operation\": \"training\", \"Algorithm\": \"AWS/DeepAR\"}, \"StartTime\": 1600897049.307825}\n",
      "\u001b[0m\n",
      "\u001b[34m[09/23/2020 21:37:30 INFO 139722915780416] #throughput_metric: host=algo-1, train throughput=1695.96849538 records/second\u001b[0m\n",
      "\u001b[34m[09/23/2020 21:37:30 INFO 139722915780416] #progress_metric: host=algo-1, completed 13 % of epochs\u001b[0m\n",
      "\u001b[34m[09/23/2020 21:37:30 INFO 139722915780416] #quality_metric: host=algo-1, epoch=3, train loss <loss>=-0.484593360871\u001b[0m\n",
      "\u001b[34m[09/23/2020 21:37:30 INFO 139722915780416] best epoch loss so far\u001b[0m\n",
      "\u001b[34m[09/23/2020 21:37:30 INFO 139722915780416] Saved checkpoint to \"/opt/ml/model/state_d2704e37-c874-455f-b9bd-28499724ea34-0000.params\"\u001b[0m\n",
      "\u001b[34m#metrics {\"Metrics\": {\"state.serialize.time\": {\"count\": 1, \"max\": 11.020183563232422, \"sum\": 11.020183563232422, \"min\": 11.020183563232422}}, \"EndTime\": 1600897050.061183, \"Dimensions\": {\"Host\": \"algo-1\", \"Operation\": \"training\", \"Algorithm\": \"AWS/DeepAR\"}, \"StartTime\": 1600897050.049614}\n",
      "\u001b[0m\n",
      "\u001b[34m[09/23/2020 21:37:30 INFO 139722915780416] Epoch[4] Batch[0] avg_epoch_loss=-0.789717\u001b[0m\n",
      "\u001b[34m[09/23/2020 21:37:30 INFO 139722915780416] #quality_metric: host=algo-1, epoch=4, batch=0 train loss <loss>=-0.789717376232\u001b[0m\n",
      "\u001b[34m[09/23/2020 21:37:30 INFO 139722915780416] Epoch[4] Batch[5] avg_epoch_loss=-0.733524\u001b[0m\n",
      "\u001b[34m[09/23/2020 21:37:30 INFO 139722915780416] #quality_metric: host=algo-1, epoch=4, batch=5 train loss <loss>=-0.733524302642\u001b[0m\n",
      "\u001b[34m[09/23/2020 21:37:30 INFO 139722915780416] Epoch[4] Batch [5]#011Speed: 4002.60 samples/sec#011loss=-0.733524\u001b[0m\n",
      "\u001b[34m[09/23/2020 21:37:30 INFO 139722915780416] Epoch[4] Batch[10] avg_epoch_loss=-0.708056\u001b[0m\n",
      "\u001b[34m[09/23/2020 21:37:30 INFO 139722915780416] #quality_metric: host=algo-1, epoch=4, batch=10 train loss <loss>=-0.6774945952\u001b[0m\n",
      "\u001b[34m[09/23/2020 21:37:30 INFO 139722915780416] Epoch[4] Batch [10]#011Speed: 3770.78 samples/sec#011loss=-0.677495\u001b[0m\n",
      "\u001b[34m[09/23/2020 21:37:30 INFO 139722915780416] processed a total of 1319 examples\u001b[0m\n",
      "\u001b[34m#metrics {\"Metrics\": {\"update.time\": {\"count\": 1, \"max\": 816.4842128753662, \"sum\": 816.4842128753662, \"min\": 816.4842128753662}}, \"EndTime\": 1600897050.877784, \"Dimensions\": {\"Host\": \"algo-1\", \"Operation\": \"training\", \"Algorithm\": \"AWS/DeepAR\"}, \"StartTime\": 1600897050.061237}\n",
      "\u001b[0m\n",
      "\u001b[34m[09/23/2020 21:37:30 INFO 139722915780416] #throughput_metric: host=algo-1, train throughput=1615.21580961 records/second\u001b[0m\n",
      "\u001b[34m[09/23/2020 21:37:30 INFO 139722915780416] #progress_metric: host=algo-1, completed 17 % of epochs\u001b[0m\n",
      "\u001b[34m[09/23/2020 21:37:30 INFO 139722915780416] #quality_metric: host=algo-1, epoch=4, train loss <loss>=-0.708056253804\u001b[0m\n",
      "\u001b[34m[09/23/2020 21:37:30 INFO 139722915780416] best epoch loss so far\u001b[0m\n",
      "\u001b[34m[09/23/2020 21:37:30 INFO 139722915780416] Saved checkpoint to \"/opt/ml/model/state_aa0a723a-477d-4e9a-b500-ae47ec9bb198-0000.params\"\u001b[0m\n",
      "\u001b[34m#metrics {\"Metrics\": {\"state.serialize.time\": {\"count\": 1, \"max\": 11.906147003173828, \"sum\": 11.906147003173828, \"min\": 11.906147003173828}}, \"EndTime\": 1600897050.890261, \"Dimensions\": {\"Host\": \"algo-1\", \"Operation\": \"training\", \"Algorithm\": \"AWS/DeepAR\"}, \"StartTime\": 1600897050.87787}\n",
      "\u001b[0m\n",
      "\u001b[34m[09/23/2020 21:37:31 INFO 139722915780416] Epoch[5] Batch[0] avg_epoch_loss=0.233521\u001b[0m\n",
      "\u001b[34m[09/23/2020 21:37:31 INFO 139722915780416] #quality_metric: host=algo-1, epoch=5, batch=0 train loss <loss>=0.233520820737\u001b[0m\n",
      "\u001b[34m[09/23/2020 21:37:31 INFO 139722915780416] Epoch[5] Batch[5] avg_epoch_loss=-0.482179\u001b[0m\n",
      "\u001b[34m[09/23/2020 21:37:31 INFO 139722915780416] #quality_metric: host=algo-1, epoch=5, batch=5 train loss <loss>=-0.482179087897\u001b[0m\n",
      "\u001b[34m[09/23/2020 21:37:31 INFO 139722915780416] Epoch[5] Batch [5]#011Speed: 3657.20 samples/sec#011loss=-0.482179\u001b[0m\n",
      "\u001b[34m[09/23/2020 21:37:31 INFO 139722915780416] Epoch[5] Batch[10] avg_epoch_loss=-0.554230\u001b[0m\n",
      "\u001b[34m[09/23/2020 21:37:31 INFO 139722915780416] #quality_metric: host=algo-1, epoch=5, batch=10 train loss <loss>=-0.640691947937\u001b[0m\n",
      "\u001b[34m[09/23/2020 21:37:31 INFO 139722915780416] Epoch[5] Batch [10]#011Speed: 4048.79 samples/sec#011loss=-0.640692\u001b[0m\n",
      "\u001b[34m[09/23/2020 21:37:31 INFO 139722915780416] processed a total of 1326 examples\u001b[0m\n",
      "\u001b[34m#metrics {\"Metrics\": {\"update.time\": {\"count\": 1, \"max\": 780.8399200439453, \"sum\": 780.8399200439453, \"min\": 780.8399200439453}}, \"EndTime\": 1600897051.67124, \"Dimensions\": {\"Host\": \"algo-1\", \"Operation\": \"training\", \"Algorithm\": \"AWS/DeepAR\"}, \"StartTime\": 1600897050.890333}\n",
      "\u001b[0m\n",
      "\u001b[34m[09/23/2020 21:37:31 INFO 139722915780416] #throughput_metric: host=algo-1, train throughput=1697.9038636 records/second\u001b[0m\n",
      "\u001b[34m[09/23/2020 21:37:31 INFO 139722915780416] #progress_metric: host=algo-1, completed 20 % of epochs\u001b[0m\n",
      "\u001b[34m[09/23/2020 21:37:31 INFO 139722915780416] #quality_metric: host=algo-1, epoch=5, train loss <loss>=-0.554230387915\u001b[0m\n",
      "\u001b[34m[09/23/2020 21:37:31 INFO 139722915780416] loss did not improve\u001b[0m\n",
      "\u001b[34m[09/23/2020 21:37:32 INFO 139722915780416] Epoch[6] Batch[0] avg_epoch_loss=-0.749314\u001b[0m\n",
      "\u001b[34m[09/23/2020 21:37:32 INFO 139722915780416] #quality_metric: host=algo-1, epoch=6, batch=0 train loss <loss>=-0.749314010143\u001b[0m\n",
      "\u001b[34m[09/23/2020 21:37:32 INFO 139722915780416] Epoch[6] Batch[5] avg_epoch_loss=-0.831696\u001b[0m\n",
      "\u001b[34m[09/23/2020 21:37:32 INFO 139722915780416] #quality_metric: host=algo-1, epoch=6, batch=5 train loss <loss>=-0.831696410974\u001b[0m\n",
      "\u001b[34m[09/23/2020 21:37:32 INFO 139722915780416] Epoch[6] Batch [5]#011Speed: 3670.74 samples/sec#011loss=-0.831696\u001b[0m\n",
      "\u001b[34m[09/23/2020 21:37:32 INFO 139722915780416] Epoch[6] Batch[10] avg_epoch_loss=-0.908673\u001b[0m\n",
      "\u001b[34m[09/23/2020 21:37:32 INFO 139722915780416] #quality_metric: host=algo-1, epoch=6, batch=10 train loss <loss>=-1.00104595423\u001b[0m\n",
      "\u001b[34m[09/23/2020 21:37:32 INFO 139722915780416] Epoch[6] Batch [10]#011Speed: 3867.28 samples/sec#011loss=-1.001046\u001b[0m\n",
      "\u001b[34m[09/23/2020 21:37:32 INFO 139722915780416] processed a total of 1295 examples\u001b[0m\n",
      "\u001b[34m#metrics {\"Metrics\": {\"update.time\": {\"count\": 1, \"max\": 788.9471054077148, \"sum\": 788.9471054077148, \"min\": 788.9471054077148}}, \"EndTime\": 1600897052.460713, \"Dimensions\": {\"Host\": \"algo-1\", \"Operation\": \"training\", \"Algorithm\": \"AWS/DeepAR\"}, \"StartTime\": 1600897051.671323}\n",
      "\u001b[0m\n",
      "\u001b[34m[09/23/2020 21:37:32 INFO 139722915780416] #throughput_metric: host=algo-1, train throughput=1641.14299389 records/second\u001b[0m\n",
      "\u001b[34m[09/23/2020 21:37:32 INFO 139722915780416] #progress_metric: host=algo-1, completed 24 % of epochs\u001b[0m\n",
      "\u001b[34m[09/23/2020 21:37:32 INFO 139722915780416] #quality_metric: host=algo-1, epoch=6, train loss <loss>=-0.908673476089\u001b[0m\n",
      "\u001b[34m[09/23/2020 21:37:32 INFO 139722915780416] best epoch loss so far\u001b[0m\n",
      "\u001b[34m[09/23/2020 21:37:32 INFO 139722915780416] Saved checkpoint to \"/opt/ml/model/state_d94de3c0-0ca7-42f6-8147-6f3dcb3aab5a-0000.params\"\u001b[0m\n",
      "\u001b[34m#metrics {\"Metrics\": {\"state.serialize.time\": {\"count\": 1, \"max\": 12.938976287841797, \"sum\": 12.938976287841797, \"min\": 12.938976287841797}}, \"EndTime\": 1600897052.474223, \"Dimensions\": {\"Host\": \"algo-1\", \"Operation\": \"training\", \"Algorithm\": \"AWS/DeepAR\"}, \"StartTime\": 1600897052.460805}\n",
      "\u001b[0m\n",
      "\u001b[34m[09/23/2020 21:37:32 INFO 139722915780416] Epoch[7] Batch[0] avg_epoch_loss=-1.081755\u001b[0m\n",
      "\u001b[34m[09/23/2020 21:37:32 INFO 139722915780416] #quality_metric: host=algo-1, epoch=7, batch=0 train loss <loss>=-1.08175492287\u001b[0m\n",
      "\u001b[34m[09/23/2020 21:37:33 INFO 139722915780416] Epoch[7] Batch[5] avg_epoch_loss=-0.614923\u001b[0m\n",
      "\u001b[34m[09/23/2020 21:37:33 INFO 139722915780416] #quality_metric: host=algo-1, epoch=7, batch=5 train loss <loss>=-0.614922950665\u001b[0m\n",
      "\u001b[34m[09/23/2020 21:37:33 INFO 139722915780416] Epoch[7] Batch [5]#011Speed: 4137.73 samples/sec#011loss=-0.614923\u001b[0m\n",
      "\u001b[34m[09/23/2020 21:37:33 INFO 139722915780416] processed a total of 1247 examples\u001b[0m\n",
      "\u001b[34m#metrics {\"Metrics\": {\"update.time\": {\"count\": 1, \"max\": 725.3210544586182, \"sum\": 725.3210544586182, \"min\": 725.3210544586182}}, \"EndTime\": 1600897053.199708, \"Dimensions\": {\"Host\": \"algo-1\", \"Operation\": \"training\", \"Algorithm\": \"AWS/DeepAR\"}, \"StartTime\": 1600897052.474307}\n",
      "\u001b[0m\n",
      "\u001b[34m[09/23/2020 21:37:33 INFO 139722915780416] #throughput_metric: host=algo-1, train throughput=1718.93806817 records/second\u001b[0m\n",
      "\u001b[34m[09/23/2020 21:37:33 INFO 139722915780416] #progress_metric: host=algo-1, completed 27 % of epochs\u001b[0m\n",
      "\u001b[34m[09/23/2020 21:37:33 INFO 139722915780416] #quality_metric: host=algo-1, epoch=7, train loss <loss>=-0.768628126383\u001b[0m\n",
      "\u001b[34m[09/23/2020 21:37:33 INFO 139722915780416] loss did not improve\u001b[0m\n",
      "\u001b[34m[09/23/2020 21:37:33 INFO 139722915780416] Epoch[8] Batch[0] avg_epoch_loss=-0.987917\u001b[0m\n",
      "\u001b[34m[09/23/2020 21:37:33 INFO 139722915780416] #quality_metric: host=algo-1, epoch=8, batch=0 train loss <loss>=-0.987917363644\u001b[0m\n",
      "\u001b[34m[09/23/2020 21:37:33 INFO 139722915780416] Epoch[8] Batch[5] avg_epoch_loss=-0.966922\u001b[0m\n",
      "\u001b[34m[09/23/2020 21:37:33 INFO 139722915780416] #quality_metric: host=algo-1, epoch=8, batch=5 train loss <loss>=-0.966921836138\u001b[0m\n",
      "\u001b[34m[09/23/2020 21:37:33 INFO 139722915780416] Epoch[8] Batch [5]#011Speed: 4126.69 samples/sec#011loss=-0.966922\u001b[0m\n",
      "\u001b[34m[09/23/2020 21:37:33 INFO 139722915780416] processed a total of 1259 examples\u001b[0m\n",
      "\u001b[34m#metrics {\"Metrics\": {\"update.time\": {\"count\": 1, \"max\": 755.1639080047607, \"sum\": 755.1639080047607, \"min\": 755.1639080047607}}, \"EndTime\": 1600897053.955462, \"Dimensions\": {\"Host\": \"algo-1\", \"Operation\": \"training\", \"Algorithm\": \"AWS/DeepAR\"}, \"StartTime\": 1600897053.19979}\n",
      "\u001b[0m\n",
      "\u001b[34m[09/23/2020 21:37:33 INFO 139722915780416] #throughput_metric: host=algo-1, train throughput=1666.92248439 records/second\u001b[0m\n",
      "\u001b[34m[09/23/2020 21:37:33 INFO 139722915780416] #progress_metric: host=algo-1, completed 31 % of epochs\u001b[0m\n",
      "\u001b[34m[09/23/2020 21:37:33 INFO 139722915780416] #quality_metric: host=algo-1, epoch=8, train loss <loss>=-1.00844812989\u001b[0m\n",
      "\u001b[34m[09/23/2020 21:37:33 INFO 139722915780416] best epoch loss so far\u001b[0m\n",
      "\u001b[34m[09/23/2020 21:37:33 INFO 139722915780416] Saved checkpoint to \"/opt/ml/model/state_f8f9d721-bc21-4bc1-8177-c65bbcee7491-0000.params\"\u001b[0m\n",
      "\u001b[34m#metrics {\"Metrics\": {\"state.serialize.time\": {\"count\": 1, \"max\": 9.181976318359375, \"sum\": 9.181976318359375, \"min\": 9.181976318359375}}, \"EndTime\": 1600897053.965312, \"Dimensions\": {\"Host\": \"algo-1\", \"Operation\": \"training\", \"Algorithm\": \"AWS/DeepAR\"}, \"StartTime\": 1600897053.955542}\n",
      "\u001b[0m\n",
      "\u001b[34m[09/23/2020 21:37:34 INFO 139722915780416] Epoch[9] Batch[0] avg_epoch_loss=-0.286655\u001b[0m\n",
      "\u001b[34m[09/23/2020 21:37:34 INFO 139722915780416] #quality_metric: host=algo-1, epoch=9, batch=0 train loss <loss>=-0.286654651165\u001b[0m\n",
      "\u001b[34m[09/23/2020 21:37:34 INFO 139722915780416] Epoch[9] Batch[5] avg_epoch_loss=-0.706963\u001b[0m\n",
      "\u001b[34m[09/23/2020 21:37:34 INFO 139722915780416] #quality_metric: host=algo-1, epoch=9, batch=5 train loss <loss>=-0.706962915758\u001b[0m\n",
      "\u001b[34m[09/23/2020 21:37:34 INFO 139722915780416] Epoch[9] Batch [5]#011Speed: 3959.37 samples/sec#011loss=-0.706963\u001b[0m\n",
      "\u001b[34m[09/23/2020 21:37:34 INFO 139722915780416] processed a total of 1221 examples\u001b[0m\n",
      "\u001b[34m#metrics {\"Metrics\": {\"update.time\": {\"count\": 1, \"max\": 705.1541805267334, \"sum\": 705.1541805267334, \"min\": 705.1541805267334}}, \"EndTime\": 1600897054.670585, \"Dimensions\": {\"Host\": \"algo-1\", \"Operation\": \"training\", \"Algorithm\": \"AWS/DeepAR\"}, \"StartTime\": 1600897053.965363}\n",
      "\u001b[0m\n",
      "\u001b[34m[09/23/2020 21:37:34 INFO 139722915780416] #throughput_metric: host=algo-1, train throughput=1731.21720411 records/second\u001b[0m\n",
      "\u001b[34m[09/23/2020 21:37:34 INFO 139722915780416] #progress_metric: host=algo-1, completed 34 % of epochs\u001b[0m\n",
      "\u001b[34m[09/23/2020 21:37:34 INFO 139722915780416] #quality_metric: host=algo-1, epoch=9, train loss <loss>=-0.773504669964\u001b[0m\n",
      "\u001b[34m[09/23/2020 21:37:34 INFO 139722915780416] loss did not improve\u001b[0m\n",
      "\u001b[34m[09/23/2020 21:37:35 INFO 139722915780416] Epoch[10] Batch[0] avg_epoch_loss=-0.910566\u001b[0m\n",
      "\u001b[34m[09/23/2020 21:37:35 INFO 139722915780416] #quality_metric: host=algo-1, epoch=10, batch=0 train loss <loss>=-0.9105656147\u001b[0m\n",
      "\u001b[34m[09/23/2020 21:37:35 INFO 139722915780416] Epoch[10] Batch[5] avg_epoch_loss=-0.964923\u001b[0m\n",
      "\u001b[34m[09/23/2020 21:37:35 INFO 139722915780416] #quality_metric: host=algo-1, epoch=10, batch=5 train loss <loss>=-0.964923252662\u001b[0m\n",
      "\u001b[34m[09/23/2020 21:37:35 INFO 139722915780416] Epoch[10] Batch [5]#011Speed: 3655.95 samples/sec#011loss=-0.964923\u001b[0m\n",
      "\u001b[34m[09/23/2020 21:37:35 INFO 139722915780416] Epoch[10] Batch[10] avg_epoch_loss=-1.038799\u001b[0m\n",
      "\u001b[34m[09/23/2020 21:37:35 INFO 139722915780416] #quality_metric: host=algo-1, epoch=10, batch=10 train loss <loss>=-1.12745029926\u001b[0m\n",
      "\u001b[34m[09/23/2020 21:37:35 INFO 139722915780416] Epoch[10] Batch [10]#011Speed: 3667.07 samples/sec#011loss=-1.127450\u001b[0m\n",
      "\u001b[34m[09/23/2020 21:37:35 INFO 139722915780416] processed a total of 1295 examples\u001b[0m\n",
      "\u001b[34m#metrics {\"Metrics\": {\"update.time\": {\"count\": 1, \"max\": 791.5849685668945, \"sum\": 791.5849685668945, \"min\": 791.5849685668945}}, \"EndTime\": 1600897055.462742, \"Dimensions\": {\"Host\": \"algo-1\", \"Operation\": \"training\", \"Algorithm\": \"AWS/DeepAR\"}, \"StartTime\": 1600897054.670674}\n",
      "\u001b[0m\n",
      "\u001b[34m[09/23/2020 21:37:35 INFO 139722915780416] #throughput_metric: host=algo-1, train throughput=1635.69374391 records/second\u001b[0m\n",
      "\u001b[34m[09/23/2020 21:37:35 INFO 139722915780416] #progress_metric: host=algo-1, completed 37 % of epochs\u001b[0m\n",
      "\u001b[34m[09/23/2020 21:37:35 INFO 139722915780416] #quality_metric: host=algo-1, epoch=10, train loss <loss>=-1.03879918294\u001b[0m\n",
      "\u001b[34m[09/23/2020 21:37:35 INFO 139722915780416] best epoch loss so far\u001b[0m\n",
      "\u001b[34m[09/23/2020 21:37:35 INFO 139722915780416] Saved checkpoint to \"/opt/ml/model/state_a60638bf-aa1e-4c41-93bb-888d36e4458e-0000.params\"\u001b[0m\n",
      "\u001b[34m#metrics {\"Metrics\": {\"state.serialize.time\": {\"count\": 1, \"max\": 11.277914047241211, \"sum\": 11.277914047241211, \"min\": 11.277914047241211}}, \"EndTime\": 1600897055.474619, \"Dimensions\": {\"Host\": \"algo-1\", \"Operation\": \"training\", \"Algorithm\": \"AWS/DeepAR\"}, \"StartTime\": 1600897055.462826}\n",
      "\u001b[0m\n",
      "\u001b[34m[09/23/2020 21:37:35 INFO 139722915780416] Epoch[11] Batch[0] avg_epoch_loss=0.044189\u001b[0m\n",
      "\u001b[34m[09/23/2020 21:37:35 INFO 139722915780416] #quality_metric: host=algo-1, epoch=11, batch=0 train loss <loss>=0.044188670814\u001b[0m\n",
      "\u001b[34m[09/23/2020 21:37:36 INFO 139722915780416] Epoch[11] Batch[5] avg_epoch_loss=-0.525263\u001b[0m\n",
      "\u001b[34m[09/23/2020 21:37:36 INFO 139722915780416] #quality_metric: host=algo-1, epoch=11, batch=5 train loss <loss>=-0.525262751927\u001b[0m\n",
      "\u001b[34m[09/23/2020 21:37:36 INFO 139722915780416] Epoch[11] Batch [5]#011Speed: 3890.13 samples/sec#011loss=-0.525263\u001b[0m\n",
      "\u001b[34m[09/23/2020 21:37:36 INFO 139722915780416] Epoch[11] Batch[10] avg_epoch_loss=-0.542266\u001b[0m\n",
      "\u001b[34m[09/23/2020 21:37:36 INFO 139722915780416] #quality_metric: host=algo-1, epoch=11, batch=10 train loss <loss>=-0.562669962645\u001b[0m\n",
      "\u001b[34m[09/23/2020 21:37:36 INFO 139722915780416] Epoch[11] Batch [10]#011Speed: 4097.34 samples/sec#011loss=-0.562670\u001b[0m\n",
      "\u001b[34m[09/23/2020 21:37:36 INFO 139722915780416] processed a total of 1289 examples\u001b[0m\n",
      "\u001b[34m#metrics {\"Metrics\": {\"update.time\": {\"count\": 1, \"max\": 760.6170177459717, \"sum\": 760.6170177459717, \"min\": 760.6170177459717}}, \"EndTime\": 1600897056.235352, \"Dimensions\": {\"Host\": \"algo-1\", \"Operation\": \"training\", \"Algorithm\": \"AWS/DeepAR\"}, \"StartTime\": 1600897055.474674}\n",
      "\u001b[0m\n",
      "\u001b[34m[09/23/2020 21:37:36 INFO 139722915780416] #throughput_metric: host=algo-1, train throughput=1694.40538052 records/second\u001b[0m\n",
      "\u001b[34m[09/23/2020 21:37:36 INFO 139722915780416] #progress_metric: host=algo-1, completed 41 % of epochs\u001b[0m\n",
      "\u001b[34m[09/23/2020 21:37:36 INFO 139722915780416] #quality_metric: host=algo-1, epoch=11, train loss <loss>=-0.542266029526\u001b[0m\n",
      "\u001b[34m[09/23/2020 21:37:36 INFO 139722915780416] loss did not improve\u001b[0m\n",
      "\u001b[34m[09/23/2020 21:37:36 INFO 139722915780416] Epoch[12] Batch[0] avg_epoch_loss=-0.508601\u001b[0m\n",
      "\u001b[34m[09/23/2020 21:37:36 INFO 139722915780416] #quality_metric: host=algo-1, epoch=12, batch=0 train loss <loss>=-0.508601009846\u001b[0m\n",
      "\u001b[34m[09/23/2020 21:37:36 INFO 139722915780416] Epoch[12] Batch[5] avg_epoch_loss=-0.603844\u001b[0m\n",
      "\u001b[34m[09/23/2020 21:37:36 INFO 139722915780416] #quality_metric: host=algo-1, epoch=12, batch=5 train loss <loss>=-0.603844091296\u001b[0m\n",
      "\u001b[34m[09/23/2020 21:37:36 INFO 139722915780416] Epoch[12] Batch [5]#011Speed: 3940.64 samples/sec#011loss=-0.603844\u001b[0m\n",
      "\u001b[34m[09/23/2020 21:37:36 INFO 139722915780416] processed a total of 1221 examples\u001b[0m\n",
      "\u001b[34m#metrics {\"Metrics\": {\"update.time\": {\"count\": 1, \"max\": 722.182035446167, \"sum\": 722.182035446167, \"min\": 722.182035446167}}, \"EndTime\": 1600897056.958039, \"Dimensions\": {\"Host\": \"algo-1\", \"Operation\": \"training\", \"Algorithm\": \"AWS/DeepAR\"}, \"StartTime\": 1600897056.235435}\n",
      "\u001b[0m\n",
      "\u001b[34m[09/23/2020 21:37:36 INFO 139722915780416] #throughput_metric: host=algo-1, train throughput=1690.41480153 records/second\u001b[0m\n",
      "\u001b[34m[09/23/2020 21:37:36 INFO 139722915780416] #progress_metric: host=algo-1, completed 44 % of epochs\u001b[0m\n",
      "\u001b[34m[09/23/2020 21:37:36 INFO 139722915780416] #quality_metric: host=algo-1, epoch=12, train loss <loss>=-0.680036905408\u001b[0m\n",
      "\u001b[34m[09/23/2020 21:37:36 INFO 139722915780416] loss did not improve\u001b[0m\n",
      "\u001b[34m[09/23/2020 21:37:37 INFO 139722915780416] Epoch[13] Batch[0] avg_epoch_loss=-0.842238\u001b[0m\n",
      "\u001b[34m[09/23/2020 21:37:37 INFO 139722915780416] #quality_metric: host=algo-1, epoch=13, batch=0 train loss <loss>=-0.842238366604\u001b[0m\n",
      "\u001b[34m[09/23/2020 21:37:37 INFO 139722915780416] Epoch[13] Batch[5] avg_epoch_loss=-1.001154\u001b[0m\n",
      "\u001b[34m[09/23/2020 21:37:37 INFO 139722915780416] #quality_metric: host=algo-1, epoch=13, batch=5 train loss <loss>=-1.00115435322\u001b[0m\n",
      "\u001b[34m[09/23/2020 21:37:37 INFO 139722915780416] Epoch[13] Batch [5]#011Speed: 3865.43 samples/sec#011loss=-1.001154\u001b[0m\n",
      "\u001b[34m[09/23/2020 21:37:37 INFO 139722915780416] Epoch[13] Batch[10] avg_epoch_loss=-1.043203\u001b[0m\n",
      "\u001b[34m[09/23/2020 21:37:37 INFO 139722915780416] #quality_metric: host=algo-1, epoch=13, batch=10 train loss <loss>=-1.09366186857\u001b[0m\n",
      "\u001b[34m[09/23/2020 21:37:37 INFO 139722915780416] Epoch[13] Batch [10]#011Speed: 3965.72 samples/sec#011loss=-1.093662\u001b[0m\n",
      "\u001b[34m[09/23/2020 21:37:37 INFO 139722915780416] processed a total of 1320 examples\u001b[0m\n",
      "\u001b[34m#metrics {\"Metrics\": {\"update.time\": {\"count\": 1, \"max\": 772.5720405578613, \"sum\": 772.5720405578613, \"min\": 772.5720405578613}}, \"EndTime\": 1600897057.731174, \"Dimensions\": {\"Host\": \"algo-1\", \"Operation\": \"training\", \"Algorithm\": \"AWS/DeepAR\"}, \"StartTime\": 1600897056.958123}\n",
      "\u001b[0m\n",
      "\u001b[34m[09/23/2020 21:37:37 INFO 139722915780416] #throughput_metric: host=algo-1, train throughput=1708.24219386 records/second\u001b[0m\n",
      "\u001b[34m[09/23/2020 21:37:37 INFO 139722915780416] #progress_metric: host=algo-1, completed 48 % of epochs\u001b[0m\n",
      "\u001b[34m[09/23/2020 21:37:37 INFO 139722915780416] #quality_metric: host=algo-1, epoch=13, train loss <loss>=-1.04320322384\u001b[0m\n",
      "\u001b[34m[09/23/2020 21:37:37 INFO 139722915780416] best epoch loss so far\u001b[0m\n",
      "\u001b[34m[09/23/2020 21:37:37 INFO 139722915780416] Saved checkpoint to \"/opt/ml/model/state_8a1b2953-2774-4707-b97e-da5227d17114-0000.params\"\u001b[0m\n",
      "\u001b[34m#metrics {\"Metrics\": {\"state.serialize.time\": {\"count\": 1, \"max\": 11.35706901550293, \"sum\": 11.35706901550293, \"min\": 11.35706901550293}}, \"EndTime\": 1600897057.743113, \"Dimensions\": {\"Host\": \"algo-1\", \"Operation\": \"training\", \"Algorithm\": \"AWS/DeepAR\"}, \"StartTime\": 1600897057.731283}\n",
      "\u001b[0m\n",
      "\u001b[34m[09/23/2020 21:37:38 INFO 139722915780416] Epoch[14] Batch[0] avg_epoch_loss=-0.822363\u001b[0m\n",
      "\u001b[34m[09/23/2020 21:37:38 INFO 139722915780416] #quality_metric: host=algo-1, epoch=14, batch=0 train loss <loss>=-0.822362840176\u001b[0m\n",
      "\u001b[34m[09/23/2020 21:37:38 INFO 139722915780416] Epoch[14] Batch[5] avg_epoch_loss=-0.956908\u001b[0m\n",
      "\u001b[34m[09/23/2020 21:37:38 INFO 139722915780416] #quality_metric: host=algo-1, epoch=14, batch=5 train loss <loss>=-0.956908156474\u001b[0m\n",
      "\u001b[34m[09/23/2020 21:37:38 INFO 139722915780416] Epoch[14] Batch [5]#011Speed: 3948.84 samples/sec#011loss=-0.956908\u001b[0m\n",
      "\u001b[34m[09/23/2020 21:37:38 INFO 139722915780416] Epoch[14] Batch[10] avg_epoch_loss=-1.031538\u001b[0m\n",
      "\u001b[34m[09/23/2020 21:37:38 INFO 139722915780416] #quality_metric: host=algo-1, epoch=14, batch=10 train loss <loss>=-1.1210930109\u001b[0m\n",
      "\u001b[34m[09/23/2020 21:37:38 INFO 139722915780416] Epoch[14] Batch [10]#011Speed: 4097.83 samples/sec#011loss=-1.121093\u001b[0m\n",
      "\u001b[34m[09/23/2020 21:37:38 INFO 139722915780416] processed a total of 1297 examples\u001b[0m\n",
      "\u001b[34m#metrics {\"Metrics\": {\"update.time\": {\"count\": 1, \"max\": 760.6520652770996, \"sum\": 760.6520652770996, \"min\": 760.6520652770996}}, \"EndTime\": 1600897058.503885, \"Dimensions\": {\"Host\": \"algo-1\", \"Operation\": \"training\", \"Algorithm\": \"AWS/DeepAR\"}, \"StartTime\": 1600897057.74317}\n",
      "\u001b[0m\n",
      "\u001b[34m[09/23/2020 21:37:38 INFO 139722915780416] #throughput_metric: host=algo-1, train throughput=1704.84025871 records/second\u001b[0m\n",
      "\u001b[34m[09/23/2020 21:37:38 INFO 139722915780416] #progress_metric: host=algo-1, completed 51 % of epochs\u001b[0m\n",
      "\u001b[34m[09/23/2020 21:37:38 INFO 139722915780416] #quality_metric: host=algo-1, epoch=14, train loss <loss>=-1.03153763576\u001b[0m\n",
      "\u001b[34m[09/23/2020 21:37:38 INFO 139722915780416] loss did not improve\u001b[0m\n",
      "\u001b[34m[09/23/2020 21:37:38 INFO 139722915780416] Epoch[15] Batch[0] avg_epoch_loss=-1.007120\u001b[0m\n",
      "\u001b[34m[09/23/2020 21:37:38 INFO 139722915780416] #quality_metric: host=algo-1, epoch=15, batch=0 train loss <loss>=-1.00711965561\u001b[0m\n",
      "\u001b[34m[09/23/2020 21:37:39 INFO 139722915780416] Epoch[15] Batch[5] avg_epoch_loss=-1.089629\u001b[0m\n",
      "\u001b[34m[09/23/2020 21:37:39 INFO 139722915780416] #quality_metric: host=algo-1, epoch=15, batch=5 train loss <loss>=-1.08962939183\u001b[0m\n",
      "\u001b[34m[09/23/2020 21:37:39 INFO 139722915780416] Epoch[15] Batch [5]#011Speed: 3790.88 samples/sec#011loss=-1.089629\u001b[0m\n",
      "\u001b[34m[09/23/2020 21:37:39 INFO 139722915780416] Epoch[15] Batch[10] avg_epoch_loss=-1.112938\u001b[0m\n",
      "\u001b[34m[09/23/2020 21:37:39 INFO 139722915780416] #quality_metric: host=algo-1, epoch=15, batch=10 train loss <loss>=-1.14090756178\u001b[0m\n",
      "\u001b[34m[09/23/2020 21:37:39 INFO 139722915780416] Epoch[15] Batch [10]#011Speed: 4093.93 samples/sec#011loss=-1.140908\u001b[0m\n",
      "\u001b[34m[09/23/2020 21:37:39 INFO 139722915780416] processed a total of 1305 examples\u001b[0m\n",
      "\u001b[34m#metrics {\"Metrics\": {\"update.time\": {\"count\": 1, \"max\": 781.944990158081, \"sum\": 781.944990158081, \"min\": 781.944990158081}}, \"EndTime\": 1600897059.286376, \"Dimensions\": {\"Host\": \"algo-1\", \"Operation\": \"training\", \"Algorithm\": \"AWS/DeepAR\"}, \"StartTime\": 1600897058.503966}\n",
      "\u001b[0m\n",
      "\u001b[34m[09/23/2020 21:37:39 INFO 139722915780416] #throughput_metric: host=algo-1, train throughput=1668.65485834 records/second\u001b[0m\n",
      "\u001b[34m[09/23/2020 21:37:39 INFO 139722915780416] #progress_metric: host=algo-1, completed 55 % of epochs\u001b[0m\n",
      "\u001b[34m[09/23/2020 21:37:39 INFO 139722915780416] #quality_metric: host=algo-1, epoch=15, train loss <loss>=-1.1129376509\u001b[0m\n",
      "\u001b[34m[09/23/2020 21:37:39 INFO 139722915780416] best epoch loss so far\u001b[0m\n",
      "\u001b[34m[09/23/2020 21:37:39 INFO 139722915780416] Saved checkpoint to \"/opt/ml/model/state_33a65f93-e8d5-40af-b29b-2309e5938944-0000.params\"\u001b[0m\n",
      "\u001b[34m#metrics {\"Metrics\": {\"state.serialize.time\": {\"count\": 1, \"max\": 9.21010971069336, \"sum\": 9.21010971069336, \"min\": 9.21010971069336}}, \"EndTime\": 1600897059.29626, \"Dimensions\": {\"Host\": \"algo-1\", \"Operation\": \"training\", \"Algorithm\": \"AWS/DeepAR\"}, \"StartTime\": 1600897059.286458}\n",
      "\u001b[0m\n",
      "\u001b[34m[09/23/2020 21:37:39 INFO 139722915780416] Epoch[16] Batch[0] avg_epoch_loss=-0.128870\u001b[0m\n",
      "\u001b[34m[09/23/2020 21:37:39 INFO 139722915780416] #quality_metric: host=algo-1, epoch=16, batch=0 train loss <loss>=-0.128870368004\u001b[0m\n",
      "\u001b[34m[09/23/2020 21:37:39 INFO 139722915780416] Epoch[16] Batch[5] avg_epoch_loss=-0.314845\u001b[0m\n",
      "\u001b[34m[09/23/2020 21:37:39 INFO 139722915780416] #quality_metric: host=algo-1, epoch=16, batch=5 train loss <loss>=-0.314844892671\u001b[0m\n",
      "\u001b[34m[09/23/2020 21:37:39 INFO 139722915780416] Epoch[16] Batch [5]#011Speed: 4017.78 samples/sec#011loss=-0.314845\u001b[0m\n",
      "\u001b[34m[09/23/2020 21:37:39 INFO 139722915780416] processed a total of 1270 examples\u001b[0m\n",
      "\u001b[34m#metrics {\"Metrics\": {\"update.time\": {\"count\": 1, \"max\": 677.8981685638428, \"sum\": 677.8981685638428, \"min\": 677.8981685638428}}, \"EndTime\": 1600897059.974272, \"Dimensions\": {\"Host\": \"algo-1\", \"Operation\": \"training\", \"Algorithm\": \"AWS/DeepAR\"}, \"StartTime\": 1600897059.296309}\n",
      "\u001b[0m\n",
      "\u001b[34m[09/23/2020 21:37:39 INFO 139722915780416] #throughput_metric: host=algo-1, train throughput=1873.11755375 records/second\u001b[0m\n",
      "\u001b[34m[09/23/2020 21:37:39 INFO 139722915780416] #progress_metric: host=algo-1, completed 58 % of epochs\u001b[0m\n",
      "\u001b[34m[09/23/2020 21:37:39 INFO 139722915780416] #quality_metric: host=algo-1, epoch=16, train loss <loss>=-0.417203942686\u001b[0m\n",
      "\u001b[34m[09/23/2020 21:37:39 INFO 139722915780416] loss did not improve\u001b[0m\n",
      "\u001b[34m[09/23/2020 21:37:40 INFO 139722915780416] Epoch[17] Batch[0] avg_epoch_loss=-0.612307\u001b[0m\n",
      "\u001b[34m[09/23/2020 21:37:40 INFO 139722915780416] #quality_metric: host=algo-1, epoch=17, batch=0 train loss <loss>=-0.612306892872\u001b[0m\n",
      "\u001b[34m[09/23/2020 21:37:40 INFO 139722915780416] Epoch[17] Batch[5] avg_epoch_loss=-0.486381\u001b[0m\n",
      "\u001b[34m[09/23/2020 21:37:40 INFO 139722915780416] #quality_metric: host=algo-1, epoch=17, batch=5 train loss <loss>=-0.48638121287\u001b[0m\n",
      "\u001b[34m[09/23/2020 21:37:40 INFO 139722915780416] Epoch[17] Batch [5]#011Speed: 4009.19 samples/sec#011loss=-0.486381\u001b[0m\n",
      "\u001b[34m[09/23/2020 21:37:40 INFO 139722915780416] Epoch[17] Batch[10] avg_epoch_loss=-0.593742\u001b[0m\n",
      "\u001b[34m[09/23/2020 21:37:40 INFO 139722915780416] #quality_metric: host=algo-1, epoch=17, batch=10 train loss <loss>=-0.722575867176\u001b[0m\n",
      "\u001b[34m[09/23/2020 21:37:40 INFO 139722915780416] Epoch[17] Batch [10]#011Speed: 3856.33 samples/sec#011loss=-0.722576\u001b[0m\n",
      "\u001b[34m[09/23/2020 21:37:40 INFO 139722915780416] processed a total of 1318 examples\u001b[0m\n",
      "\u001b[34m#metrics {\"Metrics\": {\"update.time\": {\"count\": 1, \"max\": 784.247875213623, \"sum\": 784.247875213623, \"min\": 784.247875213623}}, \"EndTime\": 1600897060.759062, \"Dimensions\": {\"Host\": \"algo-1\", \"Operation\": \"training\", \"Algorithm\": \"AWS/DeepAR\"}, \"StartTime\": 1600897059.974348}\n",
      "\u001b[0m\n",
      "\u001b[34m[09/23/2020 21:37:40 INFO 139722915780416] #throughput_metric: host=algo-1, train throughput=1680.3377252 records/second\u001b[0m\n",
      "\u001b[34m[09/23/2020 21:37:40 INFO 139722915780416] #progress_metric: host=algo-1, completed 62 % of epochs\u001b[0m\n",
      "\u001b[34m[09/23/2020 21:37:40 INFO 139722915780416] #quality_metric: host=algo-1, epoch=17, train loss <loss>=-0.593742419373\u001b[0m\n",
      "\u001b[34m[09/23/2020 21:37:40 INFO 139722915780416] loss did not improve\u001b[0m\n",
      "\u001b[34m[09/23/2020 21:37:41 INFO 139722915780416] Epoch[18] Batch[0] avg_epoch_loss=-0.531690\u001b[0m\n",
      "\u001b[34m[09/23/2020 21:37:41 INFO 139722915780416] #quality_metric: host=algo-1, epoch=18, batch=0 train loss <loss>=-0.531690120697\u001b[0m\n",
      "\u001b[34m[09/23/2020 21:37:41 INFO 139722915780416] Epoch[18] Batch[5] avg_epoch_loss=-0.661240\u001b[0m\n",
      "\u001b[34m[09/23/2020 21:37:41 INFO 139722915780416] #quality_metric: host=algo-1, epoch=18, batch=5 train loss <loss>=-0.661239961783\u001b[0m\n",
      "\u001b[34m[09/23/2020 21:37:41 INFO 139722915780416] Epoch[18] Batch [5]#011Speed: 3668.48 samples/sec#011loss=-0.661240\u001b[0m\n",
      "\u001b[34m[09/23/2020 21:37:41 INFO 139722915780416] Epoch[18] Batch[10] avg_epoch_loss=-0.711705\u001b[0m\n",
      "\u001b[34m[09/23/2020 21:37:41 INFO 139722915780416] #quality_metric: host=algo-1, epoch=18, batch=10 train loss <loss>=-0.772262859344\u001b[0m\n",
      "\u001b[34m[09/23/2020 21:37:41 INFO 139722915780416] Epoch[18] Batch [10]#011Speed: 4001.83 samples/sec#011loss=-0.772263\u001b[0m\n",
      "\u001b[34m[09/23/2020 21:37:41 INFO 139722915780416] processed a total of 1319 examples\u001b[0m\n",
      "\u001b[34m#metrics {\"Metrics\": {\"update.time\": {\"count\": 1, \"max\": 738.3601665496826, \"sum\": 738.3601665496826, \"min\": 738.3601665496826}}, \"EndTime\": 1600897061.497937, \"Dimensions\": {\"Host\": \"algo-1\", \"Operation\": \"training\", \"Algorithm\": \"AWS/DeepAR\"}, \"StartTime\": 1600897060.759138}\n",
      "\u001b[0m\n",
      "\u001b[34m[09/23/2020 21:37:41 INFO 139722915780416] #throughput_metric: host=algo-1, train throughput=1786.05252375 records/second\u001b[0m\n",
      "\u001b[34m[09/23/2020 21:37:41 INFO 139722915780416] #progress_metric: host=algo-1, completed 65 % of epochs\u001b[0m\n",
      "\u001b[34m[09/23/2020 21:37:41 INFO 139722915780416] #quality_metric: host=algo-1, epoch=18, train loss <loss>=-0.71170491522\u001b[0m\n",
      "\u001b[34m[09/23/2020 21:37:41 INFO 139722915780416] loss did not improve\u001b[0m\n",
      "\u001b[34m[09/23/2020 21:37:41 INFO 139722915780416] Epoch[19] Batch[0] avg_epoch_loss=-1.103469\u001b[0m\n",
      "\u001b[34m[09/23/2020 21:37:41 INFO 139722915780416] #quality_metric: host=algo-1, epoch=19, batch=0 train loss <loss>=-1.10346925259\u001b[0m\n",
      "\u001b[34m[09/23/2020 21:37:42 INFO 139722915780416] Epoch[19] Batch[5] avg_epoch_loss=-0.847564\u001b[0m\n",
      "\u001b[34m[09/23/2020 21:37:42 INFO 139722915780416] #quality_metric: host=algo-1, epoch=19, batch=5 train loss <loss>=-0.847563574711\u001b[0m\n",
      "\u001b[34m[09/23/2020 21:37:42 INFO 139722915780416] Epoch[19] Batch [5]#011Speed: 3769.60 samples/sec#011loss=-0.847564\u001b[0m\n",
      "\u001b[34m[09/23/2020 21:37:42 INFO 139722915780416] processed a total of 1239 examples\u001b[0m\n",
      "\u001b[34m#metrics {\"Metrics\": {\"update.time\": {\"count\": 1, \"max\": 696.9740390777588, \"sum\": 696.9740390777588, \"min\": 696.9740390777588}}, \"EndTime\": 1600897062.195549, \"Dimensions\": {\"Host\": \"algo-1\", \"Operation\": \"training\", \"Algorithm\": \"AWS/DeepAR\"}, \"StartTime\": 1600897061.498032}\n",
      "\u001b[0m\n",
      "\u001b[34m[09/23/2020 21:37:42 INFO 139722915780416] #throughput_metric: host=algo-1, train throughput=1777.32769157 records/second\u001b[0m\n",
      "\u001b[34m[09/23/2020 21:37:42 INFO 139722915780416] #progress_metric: host=algo-1, completed 68 % of epochs\u001b[0m\n",
      "\u001b[34m[09/23/2020 21:37:42 INFO 139722915780416] #quality_metric: host=algo-1, epoch=19, train loss <loss>=-0.903946918249\u001b[0m\n",
      "\u001b[34m[09/23/2020 21:37:42 INFO 139722915780416] loss did not improve\u001b[0m\n",
      "\u001b[34m[09/23/2020 21:37:42 INFO 139722915780416] Epoch[20] Batch[0] avg_epoch_loss=-0.905020\u001b[0m\n",
      "\u001b[34m[09/23/2020 21:37:42 INFO 139722915780416] #quality_metric: host=algo-1, epoch=20, batch=0 train loss <loss>=-0.905019819736\u001b[0m\n",
      "\u001b[34m[09/23/2020 21:37:42 INFO 139722915780416] Epoch[20] Batch[5] avg_epoch_loss=-0.958685\u001b[0m\n",
      "\u001b[34m[09/23/2020 21:37:42 INFO 139722915780416] #quality_metric: host=algo-1, epoch=20, batch=5 train loss <loss>=-0.958685050408\u001b[0m\n",
      "\u001b[34m[09/23/2020 21:37:42 INFO 139722915780416] Epoch[20] Batch [5]#011Speed: 4030.81 samples/sec#011loss=-0.958685\u001b[0m\n",
      "\u001b[34m[09/23/2020 21:37:42 INFO 139722915780416] Epoch[20] Batch[10] avg_epoch_loss=-1.012523\u001b[0m\n",
      "\u001b[34m[09/23/2020 21:37:42 INFO 139722915780416] #quality_metric: host=algo-1, epoch=20, batch=10 train loss <loss>=-1.07712762356\u001b[0m\n",
      "\u001b[34m[09/23/2020 21:37:42 INFO 139722915780416] Epoch[20] Batch [10]#011Speed: 3907.08 samples/sec#011loss=-1.077128\u001b[0m\n",
      "\u001b[34m[09/23/2020 21:37:42 INFO 139722915780416] processed a total of 1292 examples\u001b[0m\n",
      "\u001b[34m#metrics {\"Metrics\": {\"update.time\": {\"count\": 1, \"max\": 733.8910102844238, \"sum\": 733.8910102844238, \"min\": 733.8910102844238}}, \"EndTime\": 1600897062.930004, \"Dimensions\": {\"Host\": \"algo-1\", \"Operation\": \"training\", \"Algorithm\": \"AWS/DeepAR\"}, \"StartTime\": 1600897062.195646}\n",
      "\u001b[0m\n",
      "\u001b[34m[09/23/2020 21:37:42 INFO 139722915780416] #throughput_metric: host=algo-1, train throughput=1760.17975461 records/second\u001b[0m\n",
      "\u001b[34m[09/23/2020 21:37:42 INFO 139722915780416] #progress_metric: host=algo-1, completed 72 % of epochs\u001b[0m\n",
      "\u001b[34m[09/23/2020 21:37:42 INFO 139722915780416] #quality_metric: host=algo-1, epoch=20, train loss <loss>=-1.01252258366\u001b[0m\n",
      "\u001b[34m[09/23/2020 21:37:42 INFO 139722915780416] loss did not improve\u001b[0m\n",
      "\u001b[34m[09/23/2020 21:37:43 INFO 139722915780416] Epoch[21] Batch[0] avg_epoch_loss=-1.164110\u001b[0m\n",
      "\u001b[34m[09/23/2020 21:37:43 INFO 139722915780416] #quality_metric: host=algo-1, epoch=21, batch=0 train loss <loss>=-1.16411006451\u001b[0m\n",
      "\u001b[34m[09/23/2020 21:37:43 INFO 139722915780416] Epoch[21] Batch[5] avg_epoch_loss=-0.850784\u001b[0m\n",
      "\u001b[34m[09/23/2020 21:37:43 INFO 139722915780416] #quality_metric: host=algo-1, epoch=21, batch=5 train loss <loss>=-0.850784033537\u001b[0m\n",
      "\u001b[34m[09/23/2020 21:37:43 INFO 139722915780416] Epoch[21] Batch [5]#011Speed: 4132.47 samples/sec#011loss=-0.850784\u001b[0m\n",
      "\u001b[34m[09/23/2020 21:37:43 INFO 139722915780416] Epoch[21] Batch[10] avg_epoch_loss=-0.969274\u001b[0m\n",
      "\u001b[34m[09/23/2020 21:37:43 INFO 139722915780416] #quality_metric: host=algo-1, epoch=21, batch=10 train loss <loss>=-1.11146256924\u001b[0m\n",
      "\u001b[34m[09/23/2020 21:37:43 INFO 139722915780416] Epoch[21] Batch [10]#011Speed: 4013.53 samples/sec#011loss=-1.111463\u001b[0m\n",
      "\u001b[34m[09/23/2020 21:37:43 INFO 139722915780416] processed a total of 1297 examples\u001b[0m\n",
      "\u001b[34m#metrics {\"Metrics\": {\"update.time\": {\"count\": 1, \"max\": 781.9781303405762, \"sum\": 781.9781303405762, \"min\": 781.9781303405762}}, \"EndTime\": 1600897063.712503, \"Dimensions\": {\"Host\": \"algo-1\", \"Operation\": \"training\", \"Algorithm\": \"AWS/DeepAR\"}, \"StartTime\": 1600897062.930087}\n",
      "\u001b[0m\n",
      "\u001b[34m[09/23/2020 21:37:43 INFO 139722915780416] #throughput_metric: host=algo-1, train throughput=1658.34719493 records/second\u001b[0m\n",
      "\u001b[34m[09/23/2020 21:37:43 INFO 139722915780416] #progress_metric: host=algo-1, completed 75 % of epochs\u001b[0m\n",
      "\u001b[34m[09/23/2020 21:37:43 INFO 139722915780416] #quality_metric: host=algo-1, epoch=21, train loss <loss>=-0.969274277037\u001b[0m\n",
      "\u001b[34m[09/23/2020 21:37:43 INFO 139722915780416] loss did not improve\u001b[0m\n",
      "\u001b[34m[09/23/2020 21:37:44 INFO 139722915780416] Epoch[22] Batch[0] avg_epoch_loss=-1.012732\u001b[0m\n",
      "\u001b[34m[09/23/2020 21:37:44 INFO 139722915780416] #quality_metric: host=algo-1, epoch=22, batch=0 train loss <loss>=-1.01273214817\u001b[0m\n",
      "\u001b[34m[09/23/2020 21:37:44 INFO 139722915780416] Epoch[22] Batch[5] avg_epoch_loss=-0.997861\u001b[0m\n",
      "\u001b[34m[09/23/2020 21:37:44 INFO 139722915780416] #quality_metric: host=algo-1, epoch=22, batch=5 train loss <loss>=-0.997861027718\u001b[0m\n",
      "\u001b[34m[09/23/2020 21:37:44 INFO 139722915780416] Epoch[22] Batch [5]#011Speed: 4125.57 samples/sec#011loss=-0.997861\u001b[0m\n",
      "\u001b[34m[09/23/2020 21:37:44 INFO 139722915780416] Epoch[22] Batch[10] avg_epoch_loss=-1.008809\u001b[0m\n",
      "\u001b[34m[09/23/2020 21:37:44 INFO 139722915780416] #quality_metric: host=algo-1, epoch=22, batch=10 train loss <loss>=-1.02194607258\u001b[0m\n",
      "\u001b[34m[09/23/2020 21:37:44 INFO 139722915780416] Epoch[22] Batch [10]#011Speed: 3856.98 samples/sec#011loss=-1.021946\u001b[0m\n",
      "\u001b[34m[09/23/2020 21:37:44 INFO 139722915780416] processed a total of 1291 examples\u001b[0m\n",
      "\u001b[34m#metrics {\"Metrics\": {\"update.time\": {\"count\": 1, \"max\": 747.8728294372559, \"sum\": 747.8728294372559, \"min\": 747.8728294372559}}, \"EndTime\": 1600897064.460909, \"Dimensions\": {\"Host\": \"algo-1\", \"Operation\": \"training\", \"Algorithm\": \"AWS/DeepAR\"}, \"StartTime\": 1600897063.712587}\n",
      "\u001b[0m\n",
      "\u001b[34m[09/23/2020 21:37:44 INFO 139722915780416] #throughput_metric: host=algo-1, train throughput=1725.91238937 records/second\u001b[0m\n",
      "\u001b[34m[09/23/2020 21:37:44 INFO 139722915780416] #progress_metric: host=algo-1, completed 79 % of epochs\u001b[0m\n",
      "\u001b[34m[09/23/2020 21:37:44 INFO 139722915780416] #quality_metric: host=algo-1, epoch=22, train loss <loss>=-1.00880877538\u001b[0m\n",
      "\u001b[34m[09/23/2020 21:37:44 INFO 139722915780416] loss did not improve\u001b[0m\n",
      "\u001b[34m[09/23/2020 21:37:44 INFO 139722915780416] Epoch[23] Batch[0] avg_epoch_loss=-1.036214\u001b[0m\n",
      "\u001b[34m[09/23/2020 21:37:44 INFO 139722915780416] #quality_metric: host=algo-1, epoch=23, batch=0 train loss <loss>=-1.03621423244\u001b[0m\n",
      "\u001b[34m[09/23/2020 21:37:45 INFO 139722915780416] Epoch[23] Batch[5] avg_epoch_loss=-1.004812\u001b[0m\n",
      "\u001b[34m[09/23/2020 21:37:45 INFO 139722915780416] #quality_metric: host=algo-1, epoch=23, batch=5 train loss <loss>=-1.00481229027\u001b[0m\n",
      "\u001b[34m[09/23/2020 21:37:45 INFO 139722915780416] Epoch[23] Batch [5]#011Speed: 3062.96 samples/sec#011loss=-1.004812\u001b[0m\n",
      "\u001b[34m[09/23/2020 21:37:45 INFO 139722915780416] processed a total of 1255 examples\u001b[0m\n",
      "\u001b[34m#metrics {\"Metrics\": {\"update.time\": {\"count\": 1, \"max\": 762.6729011535645, \"sum\": 762.6729011535645, \"min\": 762.6729011535645}}, \"EndTime\": 1600897065.22425, \"Dimensions\": {\"Host\": \"algo-1\", \"Operation\": \"training\", \"Algorithm\": \"AWS/DeepAR\"}, \"StartTime\": 1600897064.461}\n",
      "\u001b[0m\n",
      "\u001b[34m[09/23/2020 21:37:45 INFO 139722915780416] #throughput_metric: host=algo-1, train throughput=1645.25025919 records/second\u001b[0m\n",
      "\u001b[34m[09/23/2020 21:37:45 INFO 139722915780416] #progress_metric: host=algo-1, completed 82 % of epochs\u001b[0m\n",
      "\u001b[34m[09/23/2020 21:37:45 INFO 139722915780416] #quality_metric: host=algo-1, epoch=23, train loss <loss>=-1.03575058579\u001b[0m\n",
      "\u001b[34m[09/23/2020 21:37:45 INFO 139722915780416] loss did not improve\u001b[0m\n",
      "\u001b[34m[09/23/2020 21:37:45 INFO 139722915780416] Epoch[24] Batch[0] avg_epoch_loss=-1.207388\u001b[0m\n",
      "\u001b[34m[09/23/2020 21:37:45 INFO 139722915780416] #quality_metric: host=algo-1, epoch=24, batch=0 train loss <loss>=-1.20738768578\u001b[0m\n",
      "\u001b[34m[09/23/2020 21:37:45 INFO 139722915780416] Epoch[24] Batch[5] avg_epoch_loss=-0.972012\u001b[0m\n",
      "\u001b[34m[09/23/2020 21:37:45 INFO 139722915780416] #quality_metric: host=algo-1, epoch=24, batch=5 train loss <loss>=-0.972012112538\u001b[0m\n",
      "\u001b[34m[09/23/2020 21:37:45 INFO 139722915780416] Epoch[24] Batch [5]#011Speed: 3808.55 samples/sec#011loss=-0.972012\u001b[0m\n",
      "\u001b[34m[09/23/2020 21:37:45 INFO 139722915780416] Epoch[24] Batch[10] avg_epoch_loss=-0.986581\u001b[0m\n",
      "\u001b[34m[09/23/2020 21:37:45 INFO 139722915780416] #quality_metric: host=algo-1, epoch=24, batch=10 train loss <loss>=-1.00406287909\u001b[0m\n",
      "\u001b[34m[09/23/2020 21:37:45 INFO 139722915780416] Epoch[24] Batch [10]#011Speed: 4049.89 samples/sec#011loss=-1.004063\u001b[0m\n",
      "\u001b[34m[09/23/2020 21:37:45 INFO 139722915780416] processed a total of 1321 examples\u001b[0m\n",
      "\u001b[34m#metrics {\"Metrics\": {\"update.time\": {\"count\": 1, \"max\": 764.4569873809814, \"sum\": 764.4569873809814, \"min\": 764.4569873809814}}, \"EndTime\": 1600897065.989359, \"Dimensions\": {\"Host\": \"algo-1\", \"Operation\": \"training\", \"Algorithm\": \"AWS/DeepAR\"}, \"StartTime\": 1600897065.224328}\n",
      "\u001b[0m\n",
      "\u001b[34m[09/23/2020 21:37:45 INFO 139722915780416] #throughput_metric: host=algo-1, train throughput=1727.74862015 records/second\u001b[0m\n",
      "\u001b[34m[09/23/2020 21:37:45 INFO 139722915780416] #progress_metric: host=algo-1, completed 86 % of epochs\u001b[0m\n",
      "\u001b[34m[09/23/2020 21:37:45 INFO 139722915780416] #quality_metric: host=algo-1, epoch=24, train loss <loss>=-0.986580642787\u001b[0m\n",
      "\u001b[34m[09/23/2020 21:37:45 INFO 139722915780416] loss did not improve\u001b[0m\n",
      "\u001b[34m[09/23/2020 21:37:46 INFO 139722915780416] Epoch[25] Batch[0] avg_epoch_loss=-1.126529\u001b[0m\n",
      "\u001b[34m[09/23/2020 21:37:46 INFO 139722915780416] #quality_metric: host=algo-1, epoch=25, batch=0 train loss <loss>=-1.12652862072\u001b[0m\n",
      "\u001b[34m[09/23/2020 21:37:46 INFO 139722915780416] Epoch[25] Batch[5] avg_epoch_loss=-1.085309\u001b[0m\n",
      "\u001b[34m[09/23/2020 21:37:46 INFO 139722915780416] #quality_metric: host=algo-1, epoch=25, batch=5 train loss <loss>=-1.08530869087\u001b[0m\n",
      "\u001b[34m[09/23/2020 21:37:46 INFO 139722915780416] Epoch[25] Batch [5]#011Speed: 4169.14 samples/sec#011loss=-1.085309\u001b[0m\n",
      "\u001b[34m[09/23/2020 21:37:46 INFO 139722915780416] processed a total of 1267 examples\u001b[0m\n",
      "\u001b[34m#metrics {\"Metrics\": {\"update.time\": {\"count\": 1, \"max\": 681.891918182373, \"sum\": 681.891918182373, \"min\": 681.891918182373}}, \"EndTime\": 1600897066.671834, \"Dimensions\": {\"Host\": \"algo-1\", \"Operation\": \"training\", \"Algorithm\": \"AWS/DeepAR\"}, \"StartTime\": 1600897065.989439}\n",
      "\u001b[0m\n",
      "\u001b[34m[09/23/2020 21:37:46 INFO 139722915780416] #throughput_metric: host=algo-1, train throughput=1857.71692153 records/second\u001b[0m\n",
      "\u001b[34m[09/23/2020 21:37:46 INFO 139722915780416] #progress_metric: host=algo-1, completed 89 % of epochs\u001b[0m\n",
      "\u001b[34m[09/23/2020 21:37:46 INFO 139722915780416] #quality_metric: host=algo-1, epoch=25, train loss <loss>=-1.04472359419\u001b[0m\n",
      "\u001b[34m[09/23/2020 21:37:46 INFO 139722915780416] loss did not improve\u001b[0m\n",
      "\u001b[34m[09/23/2020 21:37:46 INFO 139722915780416] Loading parameters from best epoch (15)\u001b[0m\n",
      "\u001b[34m#metrics {\"Metrics\": {\"state.deserialize.time\": {\"count\": 1, \"max\": 3.673076629638672, \"sum\": 3.673076629638672, \"min\": 3.673076629638672}}, \"EndTime\": 1600897066.676255, \"Dimensions\": {\"Host\": \"algo-1\", \"Operation\": \"training\", \"Algorithm\": \"AWS/DeepAR\"}, \"StartTime\": 1600897066.671915}\n",
      "\u001b[0m\n",
      "\u001b[34m[09/23/2020 21:37:46 INFO 139722915780416] stopping training now\u001b[0m\n",
      "\u001b[34m[09/23/2020 21:37:46 INFO 139722915780416] #progress_metric: host=algo-1, completed 100 % of epochs\u001b[0m\n",
      "\u001b[34m[09/23/2020 21:37:46 INFO 139722915780416] Final loss: -1.1129376509 (occurred at epoch 15)\u001b[0m\n",
      "\u001b[34m[09/23/2020 21:37:46 INFO 139722915780416] #quality_metric: host=algo-1, train final_loss <loss>=-1.1129376509\u001b[0m\n",
      "\u001b[34m[09/23/2020 21:37:46 INFO 139722915780416] Worker algo-1 finished training.\u001b[0m\n",
      "\u001b[34m[09/23/2020 21:37:46 WARNING 139722915780416] wait_for_all_workers will not sync workers since the kv store is not running distributed\u001b[0m\n",
      "\u001b[34m[09/23/2020 21:37:46 INFO 139722915780416] All workers finished. Serializing model for prediction.\u001b[0m\n",
      "\u001b[34m#metrics {\"Metrics\": {\"get_graph.time\": {\"count\": 1, \"max\": 35.749197006225586, \"sum\": 35.749197006225586, \"min\": 35.749197006225586}}, \"EndTime\": 1600897066.712814, \"Dimensions\": {\"Host\": \"algo-1\", \"Operation\": \"training\", \"Algorithm\": \"AWS/DeepAR\"}, \"StartTime\": 1600897066.676304}\n",
      "\u001b[0m\n",
      "\u001b[34m[09/23/2020 21:37:46 INFO 139722915780416] Number of GPUs being used: 0\u001b[0m\n",
      "\u001b[34m#metrics {\"Metrics\": {\"finalize.time\": {\"count\": 1, \"max\": 51.55611038208008, \"sum\": 51.55611038208008, \"min\": 51.55611038208008}}, \"EndTime\": 1600897066.728582, \"Dimensions\": {\"Host\": \"algo-1\", \"Operation\": \"training\", \"Algorithm\": \"AWS/DeepAR\"}, \"StartTime\": 1600897066.712863}\n",
      "\u001b[0m\n",
      "\u001b[34m[09/23/2020 21:37:46 INFO 139722915780416] Serializing to /opt/ml/model/model_algo-1\u001b[0m\n",
      "\u001b[34m[09/23/2020 21:37:46 INFO 139722915780416] Saved checkpoint to \"/opt/ml/model/model_algo-1-0000.params\"\u001b[0m\n",
      "\u001b[34m#metrics {\"Metrics\": {\"model.serialize.time\": {\"count\": 1, \"max\": 2.938985824584961, \"sum\": 2.938985824584961, \"min\": 2.938985824584961}}, \"EndTime\": 1600897066.731629, \"Dimensions\": {\"Host\": \"algo-1\", \"Operation\": \"training\", \"Algorithm\": \"AWS/DeepAR\"}, \"StartTime\": 1600897066.728648}\n",
      "\u001b[0m\n",
      "\u001b[34m[09/23/2020 21:37:46 INFO 139722915780416] Successfully serialized the model for prediction.\u001b[0m\n",
      "\u001b[34m[09/23/2020 21:37:46 INFO 139722915780416] Evaluating model accuracy on testset using 100 samples\u001b[0m\n",
      "\u001b[34m#metrics {\"Metrics\": {\"model.bind.time\": {\"count\": 1, \"max\": 0.04291534423828125, \"sum\": 0.04291534423828125, \"min\": 0.04291534423828125}}, \"EndTime\": 1600897066.732427, \"Dimensions\": {\"Host\": \"algo-1\", \"Operation\": \"training\", \"Algorithm\": \"AWS/DeepAR\"}, \"StartTime\": 1600897066.731673}\n",
      "\u001b[0m\n",
      "\u001b[34m#metrics {\"Metrics\": {\"model.score.time\": {\"count\": 1, \"max\": 790.0969982147217, \"sum\": 790.0969982147217, \"min\": 790.0969982147217}}, \"EndTime\": 1600897067.52248, \"Dimensions\": {\"Host\": \"algo-1\", \"Operation\": \"training\", \"Algorithm\": \"AWS/DeepAR\"}, \"StartTime\": 1600897066.732465}\n",
      "\u001b[0m\n",
      "\u001b[34m[09/23/2020 21:37:47 INFO 139722915780416] #test_score (algo-1, RMSE): 0.196283479551\u001b[0m\n",
      "\u001b[34m[09/23/2020 21:37:47 INFO 139722915780416] #test_score (algo-1, mean_absolute_QuantileLoss): 2.2172214137183293\u001b[0m\n",
      "\u001b[34m[09/23/2020 21:37:47 INFO 139722915780416] #test_score (algo-1, mean_wQuantileLoss): 0.03511110630866328\u001b[0m\n",
      "\u001b[34m[09/23/2020 21:37:47 INFO 139722915780416] #test_score (algo-1, wQuantileLoss[0.1]): 0.013823185378473362\u001b[0m\n",
      "\u001b[34m[09/23/2020 21:37:47 INFO 139722915780416] #test_score (algo-1, wQuantileLoss[0.2]): 0.023978496692472626\u001b[0m\n",
      "\u001b[34m[09/23/2020 21:37:47 INFO 139722915780416] #test_score (algo-1, wQuantileLoss[0.3]): 0.032077272986478604\u001b[0m\n",
      "\u001b[34m[09/23/2020 21:37:47 INFO 139722915780416] #test_score (algo-1, wQuantileLoss[0.4]): 0.03843260969606365\u001b[0m\n",
      "\u001b[34m[09/23/2020 21:37:47 INFO 139722915780416] #test_score (algo-1, wQuantileLoss[0.5]): 0.042920439054883096\u001b[0m\n",
      "\u001b[34m[09/23/2020 21:37:47 INFO 139722915780416] #test_score (algo-1, wQuantileLoss[0.6]): 0.045972632511013314\u001b[0m\n",
      "\u001b[34m[09/23/2020 21:37:47 INFO 139722915780416] #test_score (algo-1, wQuantileLoss[0.7]): 0.046050876165831964\u001b[0m\n",
      "\u001b[34m[09/23/2020 21:37:47 INFO 139722915780416] #test_score (algo-1, wQuantileLoss[0.8]): 0.04330649922816508\u001b[0m\n",
      "\u001b[34m[09/23/2020 21:37:47 INFO 139722915780416] #test_score (algo-1, wQuantileLoss[0.9]): 0.02943794506458779\u001b[0m\n",
      "\u001b[34m[09/23/2020 21:37:47 INFO 139722915780416] #quality_metric: host=algo-1, test mean_wQuantileLoss <loss>=0.0351111063087\u001b[0m\n",
      "\u001b[34m[09/23/2020 21:37:47 INFO 139722915780416] #quality_metric: host=algo-1, test RMSE <loss>=0.196283479551\u001b[0m\n",
      "\u001b[34m#metrics {\"Metrics\": {\"totaltime\": {\"count\": 1, \"max\": 21244.248867034912, \"sum\": 21244.248867034912, \"min\": 21244.248867034912}, \"setuptime\": {\"count\": 1, \"max\": 14.522075653076172, \"sum\": 14.522075653076172, \"min\": 14.522075653076172}}, \"EndTime\": 1600897067.530967, \"Dimensions\": {\"Host\": \"algo-1\", \"Operation\": \"training\", \"Algorithm\": \"AWS/DeepAR\"}, \"StartTime\": 1600897067.522554}\n",
      "\u001b[0m\n",
      "\n",
      "2020-09-23 21:37:55 Uploading - Uploading generated training model\n",
      "2020-09-23 21:37:55 Completed - Training job completed\n",
      "Training seconds: 92\n",
      "Billable seconds: 92\n",
      "CPU times: user 550 ms, sys: 30.1 ms, total: 580 ms\n",
      "Wall time: 4min 12s\n"
     ]
    }
   ],
   "source": [
    "%%time\n",
    "# train and test channels\n",
    "data_channels = {\n",
    "    \"train\": train_path,\n",
    "    \"test\": test_path\n",
    "}\n",
    "\n",
    "# fit the estimator\n",
    "estimator.fit(inputs=data_channels)\n",
    "\n",
    "# # establish new estimator from best_training_job (commented out previous estimator)\n",
    "# estimator_best = sagemaker.estimator.Estimator.attach(hyperparameter_tuner.best_training_job())"
   ]
  },
  {
   "cell_type": "markdown",
   "metadata": {},
   "source": [
    "## Deploy and Create a Predictor"
   ]
  },
  {
   "cell_type": "code",
   "execution_count": 21,
   "metadata": {},
   "outputs": [
    {
     "name": "stderr",
     "output_type": "stream",
     "text": [
      "Parameter image will be renamed to image_uri in SageMaker Python SDK v2.\n"
     ]
    },
    {
     "name": "stdout",
     "output_type": "stream",
     "text": [
      "-------------------!CPU times: user 317 ms, sys: 18.7 ms, total: 336 ms\n",
      "Wall time: 9min 32s\n"
     ]
    }
   ],
   "source": [
    "%%time\n",
    "\n",
    "# create a predictor\n",
    "predictor = estimator.deploy(\n",
    "    initial_instance_count=1,\n",
    "    instance_type='ml.t2.medium',\n",
    "    content_type=\"application/json\" # specify that it will accept/produce JSON\n",
    ")"
   ]
  },
  {
   "cell_type": "markdown",
   "metadata": {},
   "source": [
    "# Generating Predictions\n",
    "\n",
    "According to the DeepAR documentation, the DeepAR predictor expects to see inputa data in JSON format. We need to convert our time series into a JSON instance in order to obtain predicted prices."
   ]
  },
  {
   "cell_type": "code",
   "execution_count": 22,
   "metadata": {},
   "outputs": [],
   "source": [
    "# get all input and target (test) time series\n",
    "input_ts = time_series_training\n",
    "target_ts = time_series\n",
    "\n",
    "# get formatted input time series\n",
    "json_input_ts = sts.json_predictor_input(input_ts)\n",
    "\n",
    "# get the prediction from the predictor\n",
    "json_prediction = predictor.predict(json_input_ts)"
   ]
  },
  {
   "cell_type": "markdown",
   "metadata": {},
   "source": [
    "## Decoding Predictions\n",
    "\n",
    "The predictor also returns a JSON formatted perdiction. Thus, we need to pull out the predictions from the JSON instance.\n",
    "\n",
    "We have written a function in stock_time_series.py that takes in the predictor output and returns a list of predictions in each quantile of interest (0.1, 0.5, 0.9)."
   ]
  },
  {
   "cell_type": "code",
   "execution_count": 23,
   "metadata": {},
   "outputs": [
    {
     "name": "stdout",
     "output_type": "stream",
     "text": [
      "        0.1       0.9       0.5\n",
      "0  3.390850  3.609806  3.498614\n",
      "1  3.416059  3.581325  3.503850\n",
      "2  3.410849  3.581326  3.501991\n",
      "3  3.409974  3.638195  3.512483\n",
      "4  3.411875  3.561234  3.499542\n"
     ]
    }
   ],
   "source": [
    "# get quantiles/predictions\n",
    "prediction_list = sts.decode_prediction(json_prediction)\n",
    "\n",
    "# should get a list of predictions (of length prediction_length)\n",
    "# with corresponding quantile values\n",
    "print(prediction_list[0])"
   ]
  },
  {
   "cell_type": "markdown",
   "metadata": {},
   "source": [
    "## Display the Results\n",
    "\n",
    "The quantile data will give us all we need to see the results of our prediction.\n",
    "* Quantiles 0.1 and 0.9 represent higher and lower bounds for the predicted values.\n",
    "* Quantile 0.5 represents the median of all sample predictions.\n"
   ]
  },
  {
   "cell_type": "code",
   "execution_count": 24,
   "metadata": {},
   "outputs": [
    {
     "data": {
      "image/png": "[encoded data removed]",
      "text/plain": [
       "<Figure size 864x432 with 1 Axes>"
      ]
     },
     "metadata": {
      "needs_background": "light"
     },
     "output_type": "display_data"
    },
    {
     "data": {
      "image/png": "[encoded data removed]",
      "text/plain": [
       "<Figure size 864x432 with 1 Axes>"
      ]
     },
     "metadata": {
      "needs_background": "light"
     },
     "output_type": "display_data"
    },
    {
     "data": {
      "image/png": "[encoded data removed]",
      "text/plain": [
       "<Figure size 864x432 with 1 Axes>"
      ]
     },
     "metadata": {
      "needs_background": "light"
     },
     "output_type": "display_data"
    }
   ],
   "source": [
    "# display predictions (0.1, 0.9, 0.5)\n",
    "sts.display_quantiles(prediction_list, prediction_length, target_ts)"
   ]
  },
  {
   "cell_type": "markdown",
   "metadata": {},
   "source": [
    "## Test Prediction of \"Future\" Data\n",
    "\n",
    "Now let's test our model on data it hasn't actually seen -- thus, no target to compare against."
   ]
  },
  {
   "cell_type": "code",
   "execution_count": 25,
   "metadata": {},
   "outputs": [
    {
     "name": "stdout",
     "output_type": "stream",
     "text": [
      "Requesting prediction for 1995-01-03 00:00:00\n"
     ]
    }
   ],
   "source": [
    "# Starting my prediction on first trading day of 1995\n",
    "start_date = '1995-01-03'\n",
    "timestamp = '00:00:00'\n",
    "\n",
    "# formatting start_date\n",
    "start_time = start_date +' '+ timestamp\n",
    "\n",
    "# formatting request_data\n",
    "# this instance has an empty target!\n",
    "request_data = {\"instances\": [{\"start\": start_time, \"target\": []}],\n",
    "                \"configuration\": {\"num_samples\": 50,\n",
    "                                  \"output_types\": [\"quantiles\"],\n",
    "                                  \"quantiles\": ['0.1', '0.5', '0.9']}\n",
    "                }\n",
    "\n",
    "json_input = json.dumps(request_data).encode('utf-8')\n",
    "\n",
    "print('Requesting prediction for '+start_time)"
   ]
  },
  {
   "cell_type": "markdown",
   "metadata": {},
   "source": [
    "Then get and decode the prediction response, as usual."
   ]
  },
  {
   "cell_type": "code",
   "execution_count": 26,
   "metadata": {},
   "outputs": [
    {
     "name": "stdout",
     "output_type": "stream",
     "text": [
      "[        0.1       0.9       0.5\n",
      "0  3.503049  3.781165  3.620130\n",
      "1  3.374957  3.635433  3.520679\n",
      "2  3.533666  3.810222  3.646947\n",
      "3  3.575835  3.768323  3.655910\n",
      "4  3.545608  3.758368  3.655867]\n"
     ]
    }
   ],
   "source": [
    "# get prediction response\n",
    "json_prediction = predictor.predict(json_input)\n",
    "\n",
    "prediction_future = sts.decode_prediction(json_prediction)\n",
    "\n",
    "print(prediction_future)"
   ]
  },
  {
   "cell_type": "markdown",
   "metadata": {},
   "source": [
    "We need to compare these predictions to the actual values from the \"future\"."
   ]
  },
  {
   "cell_type": "code",
   "execution_count": 27,
   "metadata": {},
   "outputs": [
    {
     "data": {
      "text/plain": [
       "[Date\n",
       " 1995-01-03    4.497406\n",
       " 1995-01-04    4.497406\n",
       " 1995-01-05    4.508870\n",
       " 1995-01-06    4.486824\n",
       " 1995-01-09    4.442732\n",
       "                 ...   \n",
       " 1995-12-22    6.451270\n",
       " 1995-12-26    6.496308\n",
       " 1995-12-27    6.504415\n",
       " 1995-12-28    6.447303\n",
       " 1995-12-29    6.527079\n",
       " Length: 252, dtype: float64]"
      ]
     },
     "execution_count": 27,
     "metadata": {},
     "output_type": "execute_result"
    }
   ],
   "source": [
    "# create \"future\" time series\n",
    "ts_future = []\n",
    "\n",
    "# get \"future\" data\n",
    "data_future = data[start_date[:-6]]['Adj. Close']\n",
    "\n",
    "ts_future.append(pd.Series(data=data_future.values, index=data_future.index))\n",
    "ts_future"
   ]
  },
  {
   "cell_type": "code",
   "execution_count": 28,
   "metadata": {},
   "outputs": [
    {
     "data": {
      "image/png": "[encoded data removed]",
      "text/plain": [
       "<Figure size 864x432 with 1 Axes>"
      ]
     },
     "metadata": {
      "needs_background": "light"
     },
     "output_type": "display_data"
    }
   ],
   "source": [
    "# range of actual data to compare\n",
    "start_idx=0 # days since Jan 4th 1995\n",
    "end_idx=start_idx+prediction_length\n",
    "\n",
    "# get target data\n",
    "target_future_ts = [ts_future[0][start_idx:end_idx]]\n",
    "\n",
    "# display predictions\n",
    "sts.display_quantiles(prediction_future, prediction_length, target_future_ts)"
   ]
  },
  {
   "cell_type": "markdown",
   "metadata": {},
   "source": [
    "# Naive Model\n",
    "The Naive model can be used as a benchmark to determine how well our model compares at forecasting a predicted value to a near random walk. The Naive model states that the predicted value will be equal to the most recent observable past data point.\n",
    "\n",
    "$Ŷ(t+h|t) = Y(t)$"
   ]
  },
  {
   "cell_type": "code",
   "execution_count": 29,
   "metadata": {},
   "outputs": [
    {
     "data": {
      "text/html": [
       "<div>\n",
       "<style scoped>\n",
       "    .dataframe tbody tr th:only-of-type {\n",
       "        vertical-align: middle;\n",
       "    }\n",
       "\n",
       "    .dataframe tbody tr th {\n",
       "        vertical-align: top;\n",
       "    }\n",
       "\n",
       "    .dataframe thead th {\n",
       "        text-align: right;\n",
       "    }\n",
       "</style>\n",
       "<table border=\"1\" class=\"dataframe\">\n",
       "  <thead>\n",
       "    <tr style=\"text-align: right;\">\n",
       "      <th></th>\n",
       "      <th>0</th>\n",
       "    </tr>\n",
       "  </thead>\n",
       "  <tbody>\n",
       "    <tr>\n",
       "      <th>0</th>\n",
       "      <td>4.497406</td>\n",
       "    </tr>\n",
       "    <tr>\n",
       "      <th>1</th>\n",
       "      <td>4.497406</td>\n",
       "    </tr>\n",
       "    <tr>\n",
       "      <th>2</th>\n",
       "      <td>4.508870</td>\n",
       "    </tr>\n",
       "    <tr>\n",
       "      <th>3</th>\n",
       "      <td>4.486824</td>\n",
       "    </tr>\n",
       "    <tr>\n",
       "      <th>4</th>\n",
       "      <td>4.442732</td>\n",
       "    </tr>\n",
       "  </tbody>\n",
       "</table>\n",
       "</div>"
      ],
      "text/plain": [
       "          0\n",
       "0  4.497406\n",
       "1  4.497406\n",
       "2  4.508870\n",
       "3  4.486824\n",
       "4  4.442732"
      ]
     },
     "execution_count": 29,
     "metadata": {},
     "output_type": "execute_result"
    }
   ],
   "source": [
    "target = pd.DataFrame(target_future_ts[0]).reset_index()\n",
    "target = target.drop(columns='Date')\n",
    "target"
   ]
  },
  {
   "cell_type": "code",
   "execution_count": 35,
   "metadata": {},
   "outputs": [
    {
     "data": {
      "text/plain": [
       "<matplotlib.legend.Legend at 0x7f943a1f09b0>"
      ]
     },
     "execution_count": 35,
     "metadata": {},
     "output_type": "execute_result"
    },
    {
     "data": {
      "image/png": "[encoded data removed]",
      "text/plain": [
       "<Figure size 432x288 with 1 Axes>"
      ]
     },
     "metadata": {
      "needs_background": "light"
     },
     "output_type": "display_data"
    }
   ],
   "source": [
    "naive_data = data['1994-12-30':'1995-01-06']['Adj. Close']\n",
    "naive_data = naive_data.reset_index()\n",
    "naive_data = naive_data.drop(columns='Date')\n",
    "naive_data\n",
    "plt.plot(naive_data, label='Naive')\n",
    "plt.plot(prediction_future[0]['0.5'], label='Predicted median')\n",
    "plt.plot(target, label='Target')\n",
    "plt.legend()"
   ]
  },
  {
   "cell_type": "markdown",
   "metadata": {},
   "source": [
    "# Accuracy\n",
    "\n",
    "We'll define the accuracy of our model using a percentage difference calculation, or mean average percentage error (MAPE). MAPE provides us with a unitary stastical measure for the accuracy of an entire time series over a given period. We'll calculate per the provided formula.\n",
    "\n",
    "${\\mbox{M}}={\\frac  {1}{n}}\\sum _{{t=1}}^{n}\\left|{\\frac  {A_{t}-F_{t}}{A_{t}}}\\right|$\n",
    "\n",
    "where $n$ is the number of fitted periods, $A_t$ is the actual value and $F_t$ is the forecast value."
   ]
  },
  {
   "cell_type": "code",
   "execution_count": 36,
   "metadata": {},
   "outputs": [
    {
     "data": {
      "text/plain": [
       "19.31404895890471"
      ]
     },
     "execution_count": 36,
     "metadata": {},
     "output_type": "execute_result"
    }
   ],
   "source": [
    "def mape(benchmark, target_future_ts):\n",
    "    mape_ts = [100 * abs(benchmark[i] - target_future_ts[0][i])/target_future_ts[0][i] for i in range(len(target_future_ts[0]))]\n",
    "    return sum(mape_ts)/prediction_length\n",
    "\n",
    "# Calculate MAPE (in PERCENTAGE) for our DeepAR model\n",
    "mape(prediction_future[0]['0.5'], target_future_ts)"
   ]
  },
  {
   "cell_type": "code",
   "execution_count": 37,
   "metadata": {
    "scrolled": true
   },
   "outputs": [],
   "source": [
    "naive_data = pd.Series(naive_data['Adj. Close'].values)"
   ]
  },
  {
   "cell_type": "code",
   "execution_count": 38,
   "metadata": {},
   "outputs": [
    {
     "data": {
      "text/plain": [
       "0.34761267765961146"
      ]
     },
     "execution_count": 38,
     "metadata": {},
     "output_type": "execute_result"
    }
   ],
   "source": [
    "# Calculate MAPE for Naive\n",
    "mape(naive_data, target_future_ts)"
   ]
  },
  {
   "cell_type": "markdown",
   "metadata": {},
   "source": [
    "## Delete the Endpoint"
   ]
  },
  {
   "cell_type": "code",
   "execution_count": 34,
   "metadata": {},
   "outputs": [],
   "source": [
    "## TODO: delete the endpoint\n",
    "predictor.delete_endpoint()"
   ]
  },
  {
   "cell_type": "code",
   "execution_count": null,
   "metadata": {},
   "outputs": [],
   "source": []
  }
 ],
 "metadata": {
  "kernelspec": {
   "display_name": "conda_python3",
   "language": "python",
   "name": "conda_python3"
  },
  "language_info": {
   "codemirror_mode": {
    "name": "ipython",
    "version": 3
   },
   "file_extension": ".py",
   "mimetype": "text/x-python",
   "name": "python",
   "nbconvert_exporter": "python",
   "pygments_lexer": "ipython3",
   "version": "3.6.10"
  }
 },
 "nbformat": 4,
 "nbformat_minor": 4
}
